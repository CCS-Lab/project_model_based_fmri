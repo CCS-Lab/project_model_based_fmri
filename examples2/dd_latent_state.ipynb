{
 "cells": [
  {
   "cell_type": "code",
   "execution_count": 12,
   "metadata": {},
   "outputs": [],
   "source": [
    "# -*- coding: utf-8 -*- \n",
    "import os\n",
    "import numpy as np\n",
    "import pandas as pd\n",
    "\n",
    "from pathlib import Path\n",
    "\n",
    "from hbayesdm.models import dd_hyperbolic\n",
    "\n",
    "import nibabel as nib\n",
    "# import nipype as nip\n",
    "# import nilearn as nil\n",
    "\n",
    "from bids import BIDSLayout, BIDSValidator\n",
    "from tqdm import tqdm"
   ]
  },
  {
   "cell_type": "code",
   "execution_count": 13,
   "metadata": {},
   "outputs": [],
   "source": [
    "data_root = Path('piva_dd')\n",
    "fmriprep_root = Path('output/fmriprep')"
   ]
  },
  {
   "cell_type": "code",
   "execution_count": 14,
   "metadata": {},
   "outputs": [
    {
     "name": "stderr",
     "output_type": "stream",
     "text": [
      "/home/cheoljun/anaconda3/lib/python3.7/site-packages/bids/layout/models.py:102: FutureWarning: The 'extension' entity currently excludes the leading dot ('.'). As of version 0.14.0, it will include the leading dot. To suppress this warning and include the leading dot, use `bids.config.set_option('extension_initial_dot', True)`.\n",
      "  FutureWarning)\n",
      "/home/cheoljun/anaconda3/lib/python3.7/site-packages/bids/layout/layout.py:591: UserWarning: Derivative indexing was requested, but no valid datasets were found in the specified locations (['piva_dd/derivatives']). Note that all BIDS-Derivatives datasets must meet all the requirements for BIDS-Raw datasets (a common problem is to fail to include a 'dataset_description.json' file in derivatives datasets).\n",
      "Example contents of 'dataset_description.json':\n",
      "{\"Name\": \"Example dataset\", \"BIDSVersion\": \"1.0.2\", \"PipelineDescription\": {\"Name\": \"Example pipeline\"}}\n",
      "  json.dumps(EXAMPLE_DERIVATIVES_DESCRIPTION))\n"
     ]
    }
   ],
   "source": [
    "layout = BIDSLayout(data_root, derivatives=True)\n",
    "#layout.add_derivatives(fmriprep_root)"
   ]
  },
  {
   "cell_type": "code",
   "execution_count": 15,
   "metadata": {},
   "outputs": [],
   "source": [
    "subjN = len(layout.get(target='subject', return_type='id'))"
   ]
  },
  {
   "cell_type": "code",
   "execution_count": 16,
   "metadata": {},
   "outputs": [
    {
     "name": "stderr",
     "output_type": "stream",
     "text": [
      "100%|██████████| 20/20 [00:00<00:00, 159.65it/s]\n"
     ]
    }
   ],
   "source": [
    "frmi_subject_run = {}\n",
    "# simple structure for fmri_subject_run\n",
    "# fmri_subject_run: {\n",
    "#     subj: {\n",
    "#         niis: [run1, run2, run3],\n",
    "#         events: [run1, run2, run3]\n",
    "#     }\n",
    "# }\n",
    "\n",
    "for subject_id in tqdm(layout.get(target='subject', return_type='id')):\n",
    "    if subject_id not in frmi_subject_run.keys():\n",
    "        frmi_subject_run[subject_id] = {\n",
    "            #'niis': layout.derivatives['fMRIPrep'].get(subject=subject_id, return_type='file', suffix='bold', extension='nii.gz'),\n",
    "            'events': layout.get(subject=subject_id, return_type='file', suffix='events', extension='tsv')\n",
    "        }\n",
    "    else: # subjID is already exists..\n",
    "        print(f'error! {subject_id}')\n",
    "        break"
   ]
  },
  {
   "cell_type": "code",
   "execution_count": 17,
   "metadata": {},
   "outputs": [],
   "source": [
    "    \n",
    "def function_0(df):    \n",
    "    \n",
    "    new_df = {}\n",
    "    new_df['onset'] = []\n",
    "    new_df['duration'] = []\n",
    "    new_df['delay_later'] = []\n",
    "    new_df['delay_sooner'] = []\n",
    "    new_df['amount_later'] = [] \n",
    "    new_df['amount_sooner'] = []\n",
    "    new_df['choice'] = []\n",
    "    \n",
    "    for _,row in df[df['agent']==0].iterrows():\n",
    "        new_df['onset'].append(row['onset'])\n",
    "        new_df['duration'].append(row['duration'])\n",
    "        if row['delay_left'] >= [row['delay_right']]:\n",
    "            new_df['delay_later'].append(row['delay_left'])\n",
    "            new_df['delay_sooner'].append(row['delay_right'])\n",
    "            new_df['amount_later'].append(row['money_left'])\n",
    "            new_df['amount_sooner'].append(row['money_right'])\n",
    "            new_df['choice'].append(1 if row['choice'] == 1 else 0)\n",
    "        else:\n",
    "            new_df['delay_later'].append(row['delay_right'])\n",
    "            new_df['delay_sooner'].append(row['delay_left'])\n",
    "            new_df['amount_later'].append(row['money_right'])\n",
    "            new_df['amount_sooner'].append(row['money_left'])\n",
    "            new_df['choice'].append(1 if row['choice'] == 2 else 0)\n",
    "    \n",
    "    return pd.DataFrame(new_df)\n",
    "        \n",
    "    "
   ]
  },
  {
   "cell_type": "code",
   "execution_count": 18,
   "metadata": {},
   "outputs": [],
   "source": [
    "df_all = []\n",
    "\n",
    "for subject_id in layout.get(target='subject', return_type='id'):\n",
    "    for i, df_path in enumerate(frmi_subject_run[subject_id]['events']):\n",
    "        df = pd.read_table(df_path)\n",
    "        df = function_0(df)\n",
    "        df['subjID'] = int(subject_id)\n",
    "        df['run'] = i + 1\n",
    "        df_all.append(df)\n",
    "    \n",
    "df_all = pd.concat(df_all)"
   ]
  },
  {
   "cell_type": "code",
   "execution_count": 38,
   "metadata": {},
   "outputs": [],
   "source": [
    "'''\n",
    "model = dd_hyperbolic(data=df_all, ncore=4)\n",
    "print(model.all_ind_pars)\n",
    "params = pd.DataFrame({'k_mu': [model.fit[f'k[{i}]'].mean() for i in range(1,subjN+1)],\n",
    "        'k_sigma' : [model.fit[f'k[{i}]'].std() for i in range(1,subjN+1)],\n",
    "        'beta_mu' : [model.fit[f'beta[{i}]'].mean() for i in range(1,subjN+1)],\n",
    "        'beta_sigma' : [model.fit[f'beta[{i}]'].mean() for i in range(1,subjN+1)]\n",
    "            })\n",
    "                     \n",
    "params.to_csv('dd_hyperbolic_params.tsv', sep='\\t', index=False)\n",
    "'''"
   ]
  },
  {
   "cell_type": "code",
   "execution_count": 39,
   "metadata": {},
   "outputs": [],
   "source": [
    "params = pd.read_csv('dd_hyperbolic_params.tsv', sep='\\t')\n",
    "params['subjID'] = params.index + 1"
   ]
  },
  {
   "cell_type": "code",
   "execution_count": 40,
   "metadata": {},
   "outputs": [],
   "source": [
    "def get_utility(k_mu,k_sigma, beta_mu, beta_sigma,\n",
    "                delay_later,delay_sooner,amount_later,amount_sooner):\n",
    "    k = k_mu \n",
    "    ev_later   = amount_later / (1 + k * delay_later)\n",
    "    ev_sooner  = amount_sooner/ (1 + k * delay_sooner)\n",
    "    utility = ev_later - ev_sooner\n",
    "    \n",
    "    return utility"
   ]
  },
  {
   "cell_type": "code",
   "execution_count": 41,
   "metadata": {},
   "outputs": [],
   "source": [
    "save_root = Path('output/latent')\n"
   ]
  },
  {
   "cell_type": "code",
   "execution_count": 53,
   "metadata": {},
   "outputs": [],
   "source": [
    "utilities = [get_utility(float(params[params['subjID'] == row['subjID']]['k_mu']),\n",
    "                         float(params[params['subjID'] == row['subjID']]['k_sigma']),\n",
    "                         float(params[params['subjID'] == row['subjID']]['beta_mu']),\n",
    "                         float(params[params['subjID'] == row['subjID']]['beta_sigma']),\n",
    "                         float(row['delay_later']),\n",
    "                         float(row['delay_sooner']),\n",
    "                         float(row['amount_later']),\n",
    "                         float(row['amount_sooner']))\n",
    "             for _, row in df_all.iterrows()]\n"
   ]
  },
  {
   "cell_type": "code",
   "execution_count": 56,
   "metadata": {},
   "outputs": [],
   "source": [
    "df_all['utilities'] = utilities\n",
    "params.to_csv(save_root / 'dd_hyperbolic_latent.tsv', sep='\\t', index=False)"
   ]
  },
  {
   "cell_type": "code",
   "execution_count": 58,
   "metadata": {},
   "outputs": [
    {
     "data": {
      "text/html": [
       "<div>\n",
       "<style scoped>\n",
       "    .dataframe tbody tr th:only-of-type {\n",
       "        vertical-align: middle;\n",
       "    }\n",
       "\n",
       "    .dataframe tbody tr th {\n",
       "        vertical-align: top;\n",
       "    }\n",
       "\n",
       "    .dataframe thead th {\n",
       "        text-align: right;\n",
       "    }\n",
       "</style>\n",
       "<table border=\"1\" class=\"dataframe\">\n",
       "  <thead>\n",
       "    <tr style=\"text-align: right;\">\n",
       "      <th></th>\n",
       "      <th>onset</th>\n",
       "      <th>duration</th>\n",
       "      <th>delay_later</th>\n",
       "      <th>delay_sooner</th>\n",
       "      <th>amount_later</th>\n",
       "      <th>amount_sooner</th>\n",
       "      <th>choice</th>\n",
       "      <th>subjID</th>\n",
       "      <th>run</th>\n",
       "      <th>utilities</th>\n",
       "    </tr>\n",
       "  </thead>\n",
       "  <tbody>\n",
       "    <tr>\n",
       "      <th>0</th>\n",
       "      <td>218.071854</td>\n",
       "      <td>5.0</td>\n",
       "      <td>132.0</td>\n",
       "      <td>21.0</td>\n",
       "      <td>16.31</td>\n",
       "      <td>12.65</td>\n",
       "      <td>0</td>\n",
       "      <td>1</td>\n",
       "      <td>1</td>\n",
       "      <td>-2.600491</td>\n",
       "    </tr>\n",
       "    <tr>\n",
       "      <th>1</th>\n",
       "      <td>231.077068</td>\n",
       "      <td>5.0</td>\n",
       "      <td>154.0</td>\n",
       "      <td>16.0</td>\n",
       "      <td>27.53</td>\n",
       "      <td>21.56</td>\n",
       "      <td>0</td>\n",
       "      <td>1</td>\n",
       "      <td>1</td>\n",
       "      <td>-6.230580</td>\n",
       "    </tr>\n",
       "    <tr>\n",
       "      <th>2</th>\n",
       "      <td>242.080367</td>\n",
       "      <td>5.0</td>\n",
       "      <td>108.0</td>\n",
       "      <td>96.0</td>\n",
       "      <td>15.77</td>\n",
       "      <td>5.87</td>\n",
       "      <td>1</td>\n",
       "      <td>1</td>\n",
       "      <td>1</td>\n",
       "      <td>5.424555</td>\n",
       "    </tr>\n",
       "    <tr>\n",
       "      <th>3</th>\n",
       "      <td>255.083959</td>\n",
       "      <td>5.0</td>\n",
       "      <td>90.0</td>\n",
       "      <td>84.0</td>\n",
       "      <td>12.06</td>\n",
       "      <td>9.17</td>\n",
       "      <td>1</td>\n",
       "      <td>1</td>\n",
       "      <td>1</td>\n",
       "      <td>1.610895</td>\n",
       "    </tr>\n",
       "    <tr>\n",
       "      <th>4</th>\n",
       "      <td>270.088602</td>\n",
       "      <td>5.0</td>\n",
       "      <td>115.0</td>\n",
       "      <td>31.0</td>\n",
       "      <td>28.26</td>\n",
       "      <td>4.01</td>\n",
       "      <td>1</td>\n",
       "      <td>1</td>\n",
       "      <td>1</td>\n",
       "      <td>12.243544</td>\n",
       "    </tr>\n",
       "  </tbody>\n",
       "</table>\n",
       "</div>"
      ],
      "text/plain": [
       "        onset  duration  delay_later  delay_sooner  amount_later  \\\n",
       "0  218.071854       5.0        132.0          21.0         16.31   \n",
       "1  231.077068       5.0        154.0          16.0         27.53   \n",
       "2  242.080367       5.0        108.0          96.0         15.77   \n",
       "3  255.083959       5.0         90.0          84.0         12.06   \n",
       "4  270.088602       5.0        115.0          31.0         28.26   \n",
       "\n",
       "   amount_sooner  choice  subjID  run  utilities  \n",
       "0          12.65       0       1    1  -2.600491  \n",
       "1          21.56       0       1    1  -6.230580  \n",
       "2           5.87       1       1    1   5.424555  \n",
       "3           9.17       1       1    1   1.610895  \n",
       "4           4.01       1       1    1  12.243544  "
      ]
     },
     "execution_count": 58,
     "metadata": {},
     "output_type": "execute_result"
    }
   ],
   "source": [
    "df_all.head()"
   ]
  },
  {
   "cell_type": "code",
   "execution_count": null,
   "metadata": {},
   "outputs": [],
   "source": []
  }
 ],
 "metadata": {
  "kernelspec": {
   "display_name": "Python 3",
   "language": "python",
   "name": "python3"
  },
  "language_info": {
   "codemirror_mode": {
    "name": "ipython",
    "version": 3
   },
   "file_extension": ".py",
   "mimetype": "text/x-python",
   "name": "python",
   "nbconvert_exporter": "python",
   "pygments_lexer": "ipython3",
   "version": "3.7.4"
  }
 },
 "nbformat": 4,
 "nbformat_minor": 4
}
