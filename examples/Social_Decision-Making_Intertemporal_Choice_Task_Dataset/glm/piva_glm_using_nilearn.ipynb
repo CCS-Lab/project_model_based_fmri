{
 "cells": [
  {
   "cell_type": "code",
   "execution_count": null,
   "metadata": {},
   "outputs": [],
   "source": [
    "# -*- coding: utf-8 -*- \n",
    "\n",
    "import numpy as np\n",
    "import pandas as pd\n",
    "\n",
    "from pathlib import Path\n",
    "\n",
    "import nibabel as nib\n",
    "\n",
    "import bids\n",
    "from bids import BIDSLayout\n",
    "from tqdm import tqdm\n",
    "\n",
    "import nilearn as nil\n",
    "from nilearn.plotting import plot_stat_map, show\n",
    "\n",
    "import matplotlib.pyplot as plt"
   ]
  },
  {
   "cell_type": "code",
   "execution_count": null,
   "metadata": {},
   "outputs": [],
   "source": [
    "# information for path, hyperparams..\n",
    "data_dir = '/data2/project_model_based_fmri/ds000005' # custom directory"
   ]
  },
  {
   "cell_type": "code",
   "execution_count": null,
   "metadata": {},
   "outputs": [],
   "source": [
    "bids.config.set_option('extension_initial_dot', True)\n",
    "layout = BIDSLayout(data_dir, derivatives=True)"
   ]
  },
  {
   "cell_type": "code",
   "execution_count": null,
   "metadata": {},
   "outputs": [],
   "source": [
    "def make_contrasts(design_matrix):\n",
    "    \"\"\" returns a dictionary of four contrasts, given the design matrix\"\"\"\n",
    "\n",
    "    # first generate canonical contrasts\n",
    "    contrast_matrix = np.eye(design_matrix.shape[1])\n",
    "    contrasts = dict([(column, contrast_matrix[i])\n",
    "                      for i, column in enumerate(design_matrix.columns)])\n",
    "\n",
    "    # Short dictionary of more relevant contrasts\n",
    "    contrasts = {\n",
    "        'risky': contrasts['risky'],\n",
    "        'safe': contrasts['safe'],\n",
    "        'risky-safe': contrasts['risky'] - contrasts['safe']\n",
    "    }\n",
    "    return contrasts"
   ]
  },
  {
   "cell_type": "code",
   "execution_count": null,
   "metadata": {},
   "outputs": [],
   "source": [
    "from nilearn import plotting\n",
    "\n",
    "def plot_contrast(first_level_model, display_mode='ortho', threshold=2.5):\n",
    "    \"\"\" Given a first model, specify, estimate and plot the main contrasts\"\"\"\n",
    "    \n",
    "    design_matrix = first_level_model.design_matrices_[0]\n",
    "    # Call the contrast specification within the function\n",
    "    contrasts = make_contrasts(design_matrix)\n",
    "    fig = plt.figure(figsize=(11, 3))\n",
    "    \n",
    "    z_maps = []\n",
    "    # compute the per-contrast z-map\n",
    "    for index, (contrast_id, contrast_val) in enumerate(contrasts.items()):\n",
    "        ax = plt.subplot(1, len(contrasts), 1 + index)\n",
    "        z_map = first_level_model.compute_contrast([contrast_val * len(first_level_model.design_matrices_)], output_type='z_score')\n",
    "\n",
    "        plotting.plot_stat_map(\n",
    "            z_map, display_mode=display_mode, threshold=threshold, title=contrast_id, axes=ax)\n",
    "        z_maps.append(z_map)\n",
    "    return z_maps"
   ]
  },
  {
   "cell_type": "code",
   "execution_count": 1,
   "metadata": {},
   "outputs": [],
   "source": [
    "# First level analysis using GLM"
   ]
  },
  {
   "cell_type": "code",
   "execution_count": null,
   "metadata": {},
   "outputs": [],
   "source": [
    "# Single subject, single run"
   ]
  },
  {
   "cell_type": "code",
   "execution_count": null,
   "metadata": {},
   "outputs": [],
   "source": [
    "subject_id = layout.get_subject()[0]\n",
    "run_num = 1\n",
    "\n",
    "image_sample = layout.derivatives['fMRIPrep'].get(\n",
    "    subject=subject_id,\n",
    "    return_type='file',\n",
    "    suffix='smoothed',\n",
    "    run=run_num,\n",
    "    extension='nii.gz')\n",
    "\n",
    "event_sample = layout.get(\n",
    "    subject=subject_id,\n",
    "    return_type='file',\n",
    "    suffix='events',\n",
    "    run=run_num,\n",
    "    extension='tsv')"
   ]
  },
  {
   "cell_type": "code",
   "execution_count": null,
   "metadata": {},
   "outputs": [],
   "source": []
  }
 ],
 "metadata": {
  "kernelspec": {
   "display_name": "Python 3.7 (MVPA)",
   "language": "python",
   "name": "mvpa"
  },
  "language_info": {
   "codemirror_mode": {
    "name": "ipython",
    "version": 3
   },
   "file_extension": ".py",
   "mimetype": "text/x-python",
   "name": "python",
   "nbconvert_exporter": "python",
   "pygments_lexer": "ipython3",
   "version": "3.7.7"
  }
 },
 "nbformat": 4,
 "nbformat_minor": 4
}
