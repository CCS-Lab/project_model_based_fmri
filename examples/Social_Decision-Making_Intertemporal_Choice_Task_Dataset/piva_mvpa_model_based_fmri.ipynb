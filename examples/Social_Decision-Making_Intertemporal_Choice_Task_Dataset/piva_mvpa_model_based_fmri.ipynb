{
 "cells": [
  {
   "cell_type": "code",
   "execution_count": null,
   "metadata": {},
   "outputs": [],
   "source": [
    "import model_based_mvpa as mbmvpa\n",
    "from model_based_mvpa.preprocessing.bids import *\n",
    "from model_based_mvpa.preprocessing.events import *\n",
    "from model_based_mvpa.data.loader import *\n",
    "from model_based_mvpa.models.model import *"
   ]
  },
  {
   "cell_type": "code",
   "execution_count": null,
   "metadata": {},
   "outputs": [],
   "source": [
    "root = '/data2/project_model_based_fmri/ds001882/'"
   ]
  },
  {
   "cell_type": "code",
   "execution_count": null,
   "metadata": {},
   "outputs": [],
   "source": [
    "layout = BIDSLayout(root, derivatives=True)"
   ]
  },
  {
   "cell_type": "markdown",
   "metadata": {},
   "source": [
    "## PREPROCESS FMRI IMAGE"
   ]
  },
  {
   "cell_type": "code",
   "execution_count": null,
   "metadata": {},
   "outputs": [],
   "source": [
    "X, voxel_mask, layout = bids_preprocess(layout=layout, smoothing_fwhm=None, zoom=(2, 2, 2), ncore=2, nthread=3)"
   ]
  },
  {
   "cell_type": "code",
   "execution_count": null,
   "metadata": {},
   "outputs": [],
   "source": [
    "#todo: maskdata visualization"
   ]
  },
  {
   "cell_type": "markdown",
   "metadata": {},
   "source": [
    "## PREPRROCESS EVENT DATA"
   ]
  },
  {
   "cell_type": "code",
   "execution_count": null,
   "metadata": {},
   "outputs": [],
   "source": [
    "def example_piva_adjust_columns(row):\n",
    "    ## rename data in a row to the name which can match hbayesdm.dd_hyperbolic requirements ##\n",
    "    if row[\"delay_left\"] >= row[\"delay_right\"]:\n",
    "        row[\"delay_later\"] = row[\"delay_left\"]\n",
    "        row[\"delay_sooner\"] = row[\"delay_right\"]\n",
    "        row[\"amount_later\"] = row[\"money_left\"]\n",
    "        row[\"amount_sooner\"] = row[\"money_right\"]\n",
    "        row[\"choice\"] = 1 if row[\"choice\"] == 1 else 0\n",
    "    else:\n",
    "        row[\"delay_later\"] = row[\"delay_right\"]\n",
    "        row[\"delay_sooner\"] = row[\"delay_left\"]\n",
    "        row[\"amount_later\"] = row[\"money_right\"]\n",
    "        row[\"amount_sooner\"] = row[\"money_left\"]\n",
    "        row[\"choice\"] = 1 if row[\"choice\"] == 2 else 0\n",
    "    return row"
   ]
  },
  {
   "cell_type": "code",
   "execution_count": null,
   "metadata": {},
   "outputs": [],
   "source": [
    "def example_piva_condition(row):\n",
    "    # in the paper, the condition for trial varies in a single run,\n",
    "    # agent == 0 for making a choice for him or herself\n",
    "    # agent == 1 for making a choice for other\n",
    "    # to consider only non-social choice behavior, select only the cases with agent == 0\n",
    "    return row[\"agent\"] == 0"
   ]
  },
  {
   "cell_type": "code",
   "execution_count": null,
   "metadata": {},
   "outputs": [],
   "source": [
    "def example_piva_modulation(row, param_dict):\n",
    "    # calculate subjective utility for choosing later option over sooner option\n",
    "    # hyperbolic discount function is adopted\n",
    "    ev_later = row[\"amount_later\"] / (1 + param_dict[\"k\"] * row[\"delay_later\"])\n",
    "    ev_sooner  = row[\"amount_sooner\"] / (1 + param_dict[\"k\"] * row[\"delay_sooner\"])\n",
    "    modulation = ev_later - ev_sooner\n",
    "    row[\"modulation\"] = modulation\n",
    "    return row"
   ]
  },
  {
   "cell_type": "code",
   "execution_count": null,
   "metadata": {},
   "outputs": [],
   "source": [
    "dm_model, df_events, signals, time_masks, _ = \\\n",
    "    events_preprocess(layout=layout,\n",
    "                      all_individual_params_path=\"/data2/project_model_based_fmri/ds001882/derivatives/fmriprep/mvpa/all_individual_params.tsv\",\n",
    "                      preprocess=example_piva_adjust_columns,\n",
    "                      condition=example_piva_condition,\n",
    "                      modulation=example_piva_modulation,\n",
    "                      dm_model=\"dd_hyperbolic\")"
   ]
  },
  {
   "cell_type": "markdown",
   "metadata": {},
   "source": [
    "## LOAD DATA"
   ]
  },
  {
   "cell_type": "code",
   "execution_count": null,
   "metadata": {},
   "outputs": [],
   "source": [
    "import nibabel as nib\n",
    "from pathlib import Path\n",
    "\n",
    "X, y = prepare_dataset(root=layout.derivatives[\"fMRIPrep\"].root)\n",
    "voxel_mask = nib.load(Path(layout.derivatives[\"fMRIPrep\"].root) / 'mvpa' / 'voxel_mask.nii.gz')"
   ]
  },
  {
   "cell_type": "code",
   "execution_count": null,
   "metadata": {},
   "outputs": [],
   "source": [
    "X.shape, y.shape"
   ]
  },
  {
   "cell_type": "markdown",
   "metadata": {},
   "source": [
    "## FIT MVPA MODEL"
   ]
  },
  {
   "cell_type": "code",
   "execution_count": null,
   "metadata": {},
   "outputs": [],
   "source": [
    "from model_based_mvpa.models.regressor import *\n",
    "from model_based_mvpa.utils.coef2map import *\n",
    "import time"
   ]
  },
  {
   "cell_type": "code",
   "execution_count": null,
   "metadata": {},
   "outputs": [],
   "source": [
    "print(time.strftime('%c', time.localtime(time.time())))\n",
    "n = 30\n",
    "coefs = mlp_regression(X, y,\n",
    "                       layout=layout,\n",
    "                       layer_dims=[1024, 1024],\n",
    "                       N=n,\n",
    "                       verbose=1)\n",
    "\n",
    "task_name = f'piva2019_mlp_{n}'\n",
    "result = get_map(coefs, voxel_mask, task_name=task_name, map_type='z', save=True, save_path='./results', sigma=1)\n",
    "print(time.strftime('%c', time.localtime(time.time())))"
   ]
  },
  {
   "cell_type": "code",
   "execution_count": null,
   "metadata": {},
   "outputs": [],
   "source": [
    "print(time.strftime('%c', time.localtime(time.time())))\n",
    "alpha = 0.005\n",
    "coefs = elasticnet(X, y,\n",
    "                   alpha=alpha,\n",
    "                   n_jobs=16,\n",
    "                   verbose=1,\n",
    "                   max_lambda=1,\n",
    "                   n_samples=5000)\n",
    "\n",
    "task_name = f'piva2019_elasticnet_{n}_{alpha:.4f}'\n",
    "result = get_map(coefs, voxel_mask, task_name=task_name, map_type='z', save=True, save_path='./results', sigma=1)\n",
    "print(time.strftime('%c', time.localtime(time.time())))"
   ]
  },
  {
   "cell_type": "code",
   "execution_count": null,
   "metadata": {},
   "outputs": [],
   "source": []
  }
 ],
 "metadata": {
  "kernelspec": {
   "display_name": "Python 3.7 (MVPA)",
   "language": "python",
   "name": "mvpa"
  },
  "language_info": {
   "codemirror_mode": {
    "name": "ipython",
    "version": 3
   },
   "file_extension": ".py",
   "mimetype": "text/x-python",
   "name": "python",
   "nbconvert_exporter": "python",
   "pygments_lexer": "ipython3",
   "version": "3.7.7"
  }
 },
 "nbformat": 4,
 "nbformat_minor": 4
}
