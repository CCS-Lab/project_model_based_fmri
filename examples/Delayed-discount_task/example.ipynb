{
 "cells": [
  {
   "cell_type": "code",
   "execution_count": 1,
   "metadata": {},
   "outputs": [],
   "source": [
    "import model_based_mvpa as mbmvpa\n",
    "from model_based_mvpa.preprocessing.bids import *\n",
    "from model_based_mvpa.preprocessing.events import *\n",
    "from model_based_mvpa.utils.func import *\n",
    "from model_based_mvpa.models.model import *"
   ]
  },
  {
   "cell_type": "code",
   "execution_count": 2,
   "metadata": {},
   "outputs": [],
   "source": [
    "root = '/data2/project_model_based_fmri/ds001882/'"
   ]
  },
  {
   "cell_type": "code",
   "execution_count": 3,
   "metadata": {},
   "outputs": [],
   "source": [
    "def prep_func(row,info):\n",
    "\n",
    "    new_df = row.copy()\n",
    "    new_df['subjID'] = info['subject']\n",
    "    new_df['run'] = info['run']\n",
    "    if row['delay_left'] >= row['delay_right']:\n",
    "        new_df['delay_later'] = row['delay_left']\n",
    "        new_df['delay_sooner'] = row['delay_right']\n",
    "        new_df['amount_later'] = row['money_left']\n",
    "        new_df['amount_sooner'] = row['money_right']\n",
    "        new_df['choice'] = 1 if row['choice'] == 1 else 0\n",
    "    else:\n",
    "        new_df['delay_later'] = row['delay_right']\n",
    "        new_df['delay_sooner'] = row['delay_left']\n",
    "        new_df['amount_later'] = row['money_right']\n",
    "        new_df['amount_sooner'] = row['money_left']\n",
    "        new_df['choice'] = 1 if row['choice'] == 2 else 0\n",
    "        \n",
    "    return new_df"
   ]
  },
  {
   "cell_type": "code",
   "execution_count": 4,
   "metadata": {},
   "outputs": [],
   "source": [
    "def cond_func(df_row):\n",
    "    return df_row['agent']==0"
   ]
  },
  {
   "cell_type": "code",
   "execution_count": 5,
   "metadata": {},
   "outputs": [],
   "source": [
    "def latent_func(row,info,k,beta):\n",
    "    \n",
    "    new_df = row.copy()\n",
    "    new_df['subjID'] = info['subject']\n",
    "    new_df['run'] = info['run']\n",
    "    \n",
    "    if row['delay_left'] >= row['delay_right']:\n",
    "        ev_later   = row['money_left'] / (1 + k * row['delay_left'])\n",
    "        ev_sooner  = row['money_right'] / (1 + k * row['delay_right'])\n",
    "        utility = ev_later - ev_sooner\n",
    "    else:\n",
    "        ev_sooner   = row['money_left'] / (1 + k * row['delay_left'])\n",
    "        ev_later  = row['money_right'] / (1 + k * row['delay_right'])\n",
    "        utility = ev_later - ev_sooner\n",
    "    new_df['modulation'] = utility\n",
    "    \n",
    "    return new_df"
   ]
  },
  {
   "cell_type": "code",
   "execution_count": 6,
   "metadata": {},
   "outputs": [],
   "source": [
    "par_names = ['k','beta']"
   ]
  },
  {
   "cell_type": "code",
   "execution_count": 7,
   "metadata": {},
   "outputs": [],
   "source": [
    "dm_model = 'dd_hyperbolic'"
   ]
  },
  {
   "cell_type": "code",
   "execution_count": 9,
   "metadata": {},
   "outputs": [
    {
     "name": "stderr",
     "output_type": "stream",
     "text": [
      "      hbayesdm doing (model: dd_hyperbolic)..      :  50%|█████     | 3/6 [00:29<00:36, 12.32s/it]INFO:numexpr.utils:Note: detected 88 virtual cores but NumExpr set to maximum of 64, check \"NUMEXPR_MAX_THREADS\" environment variable.\n",
      "INFO:numexpr.utils:Note: NumExpr detected 88 cores but \"NUMEXPR_MAX_THREADS\" not set, so enforcing safe limit of 8.\n",
      "INFO:numexpr.utils:NumExpr defaulting to 8 threads.\n"
     ]
    },
    {
     "name": "stdout",
     "output_type": "stream",
     "text": [
      "Using cached StanModel: cached-dd_hyperbolic-pystan_2.19.1.1.pkl\n"
     ]
    },
    {
     "name": "stderr",
     "output_type": "stream",
     "text": [
      "WARNING:pystan:Automatic Differentiation Variational Inference (ADVI) is an EXPERIMENTAL ALGORITHM.\n",
      "WARNING:pystan:ADVI samples may be found on the filesystem in the file `/tmp/tmpc13rn435/output.csv`\n"
     ]
    },
    {
     "name": "stdout",
     "output_type": "stream",
     "text": [
      "\n",
      "Model  = dd_hyperbolic\n",
      "Data   = <pandas.DataFrame object>\n",
      "\n",
      "Details:\n",
      " # of chains                    = 4\n",
      " # of cores used                = 88\n",
      " # of MCMC samples (per chain)  = 4000\n",
      " # of burn-in samples           = 1000\n",
      " # of subjects                  = 20\n",
      " # of (max) trials per subject  = 120\n",
      "\n",
      "Using cached StanModel: cached-dd_hyperbolic-pystan_2.19.1.1.pkl\n"
     ]
    },
    {
     "name": "stderr",
     "output_type": "stream",
     "text": [
      "        calculating modulation..        :  67%|██████▋   | 4/6 [02:41<01:36, 48.27s/it]           "
     ]
    },
    {
     "name": "stdout",
     "output_type": "stream",
     "text": [
      "Index(['onset', 'duration', 'choice', 'agent', 'moneyleft', 'delayleft',\n",
      "       'moneyright', 'delayright', 'subjid', 'run', 'delaylater',\n",
      "       'delaysooner', 'amountlater', 'amountsooner'],\n",
      "      dtype='object')\n",
      "['onset', 'duration', 'choice', 'agent', 'money_left', 'delay_left', 'money_right', 'delay_right', 'subjID', 'run', 'delay_later', 'delay_sooner', 'amount_later', 'amount_sooner']\n",
      "************************************\n",
      "**** Model fitting is complete! ****\n",
      "************************************\n"
     ]
    },
    {
     "name": "stderr",
     "output_type": "stream",
     "text": [
      "       modulation signal making..       :  83%|████████▎ | 5/6 [02:43<00:34, 34.35s/it]/home/cheoljun/anaconda3/envs/model_based_fmri/lib/python3.7/site-packages/model_based_mvpa-0.0.1-py3.7.egg/model_based_mvpa/preprocessing/events.py:195: VisibleDeprecationWarning: Creating an ndarray from ragged nested sequences (which is a list-or-tuple of lists-or-tuples-or ndarrays with different lengths or shapes) is deprecated. If you meant to do this, you must specify 'dtype=object' when creating the ndarray\n",
      "  signals = np.array(signals)\n",
      "       events preproecssing done!       : 100%|██████████| 6/6 [02:44<00:00, 24.19s/it]INFO:root:time elapsed: 2.73 minutes\n",
      "       events preproecssing done!       : 100%|██████████| 6/6 [02:44<00:00, 27.35s/it]\n"
     ]
    }
   ],
   "source": [
    "dm_model, df_events, signals, time_masks = preprocess_events(root, dm_model,   \n",
    "                                                              latent_func,par_names,\n",
    "                                                              prep_func,\n",
    "                                                              cond_func,\n",
    "                                                              df_events=None,\n",
    "                                                              all_ind_pars=None,\n",
    "                                                              use_duration=False,\n",
    "                                                              layout=None,\n",
    "                                                              hrf_model='glover',\n",
    "                                                              save_path='.',\n",
    "                                                              save=True,\n",
    "                                                              ncore=os.cpu_count(),\n",
    "                                                              time_check=True)"
   ]
  },
  {
   "cell_type": "code",
   "execution_count": null,
   "metadata": {},
   "outputs": [],
   "source": []
  }
 ],
 "metadata": {
  "kernelspec": {
   "display_name": "Python 3.7 (model_based_fmri)",
   "language": "python",
   "name": "model_based_fmri"
  },
  "language_info": {
   "codemirror_mode": {
    "name": "ipython",
    "version": 3
   },
   "file_extension": ".py",
   "mimetype": "text/x-python",
   "name": "python",
   "nbconvert_exporter": "python",
   "pygments_lexer": "ipython3",
   "version": "3.7.7"
  }
 },
 "nbformat": 4,
 "nbformat_minor": 4
}
