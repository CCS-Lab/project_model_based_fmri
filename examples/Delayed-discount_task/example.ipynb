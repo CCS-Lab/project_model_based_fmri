{
 "cells": [
  {
   "cell_type": "code",
   "execution_count": null,
   "metadata": {},
   "outputs": [],
   "source": [
    "import model_based_mvpa as mbmvpa\n",
    "from model_based_mvpa.preprocessing.bids import *\n",
    "from model_based_mvpa.preprocessing.events import *\n",
    "from model_based_mvpa.utils.func import *\n",
    "from model_based_mvpa.models.model import *\n",
    "from pathlib import Path\n",
    "import numpy as np"
   ]
  },
  {
   "cell_type": "code",
   "execution_count": null,
   "metadata": {},
   "outputs": [],
   "source": [
    "root = Path('/data2/project_model_based_fmri/ds001882/')\n",
    "save_path = Path('.')"
   ]
  },
  {
   "cell_type": "markdown",
   "metadata": {},
   "source": [
    "## PREPROCESS FMRI IMAGE"
   ]
  },
  {
   "cell_type": "code",
   "execution_count": null,
   "metadata": {},
   "outputs": [],
   "source": [
    "X, masked_data, layout = bids_preprocess(root,save_path=save_path,smoothing_fwhm=None, zoom=(2, 2, 2))"
   ]
  },
  {
   "cell_type": "markdown",
   "metadata": {},
   "source": [
    "## PREPRROCESS EVENT DATA"
   ]
  },
  {
   "cell_type": "code",
   "execution_count": null,
   "metadata": {},
   "outputs": [],
   "source": [
    "def prep_func(row,info):\n",
    "\n",
    "    new_df = row.copy()\n",
    "    new_df['subjID'] = info['subject']\n",
    "    new_df['run'] = info['run']\n",
    "    if row['delay_left'] >= row['delay_right']:\n",
    "        new_df['delay_later'] = row['delay_left']\n",
    "        new_df['delay_sooner'] = row['delay_right']\n",
    "        new_df['amount_later'] = row['money_left']\n",
    "        new_df['amount_sooner'] = row['money_right']\n",
    "        new_df['choice'] = 1 if row['choice'] == 1 else 0\n",
    "    else:\n",
    "        new_df['delay_later'] = row['delay_right']\n",
    "        new_df['delay_sooner'] = row['delay_left']\n",
    "        new_df['amount_later'] = row['money_right']\n",
    "        new_df['amount_sooner'] = row['money_left']\n",
    "        new_df['choice'] = 1 if row['choice'] == 2 else 0\n",
    "        \n",
    "    return new_df"
   ]
  },
  {
   "cell_type": "code",
   "execution_count": null,
   "metadata": {},
   "outputs": [],
   "source": [
    "def cond_func(df_row):\n",
    "    return df_row['agent']==0"
   ]
  },
  {
   "cell_type": "code",
   "execution_count": null,
   "metadata": {},
   "outputs": [],
   "source": [
    "def latent_func(row,info,k,beta):\n",
    "    \n",
    "    new_df = row.copy()\n",
    "    new_df['subjID'] = info['subject']\n",
    "    new_df['run'] = info['run']\n",
    "    \n",
    "    if row['delay_left'] >= row['delay_right']:\n",
    "        ev_later   = row['money_left'] / (1 + k * row['delay_left'])\n",
    "        ev_sooner  = row['money_right'] / (1 + k * row['delay_right'])\n",
    "        utility = ev_later - ev_sooner\n",
    "    else:\n",
    "        ev_sooner   = row['money_left'] / (1 + k * row['delay_left'])\n",
    "        ev_later  = row['money_right'] / (1 + k * row['delay_right'])\n",
    "        utility = ev_later - ev_sooner\n",
    "    new_df['modulation'] = utility\n",
    "    \n",
    "    return new_df"
   ]
  },
  {
   "cell_type": "code",
   "execution_count": null,
   "metadata": {},
   "outputs": [],
   "source": [
    "par_names = ['k','beta']"
   ]
  },
  {
   "cell_type": "code",
   "execution_count": null,
   "metadata": {},
   "outputs": [],
   "source": [
    "dm_model = 'dd_hyperbolic'"
   ]
  },
  {
   "cell_type": "code",
   "execution_count": null,
   "metadata": {},
   "outputs": [],
   "source": [
    "df_events = None #pd.read_csv(save_path / 'df_events.tsv',sep = '\\t',index_col='Unnamed: 0')"
   ]
  },
  {
   "cell_type": "code",
   "execution_count": null,
   "metadata": {},
   "outputs": [],
   "source": [
    "all_ind_pars = None #pd.read_csv(save_path / 'all_ind_pars.tsv',sep = '\\t',index_col='Unnamed: 0')"
   ]
  },
  {
   "cell_type": "code",
   "execution_count": null,
   "metadata": {},
   "outputs": [],
   "source": [
    "dm_model, df_events, signals, time_masks = preprocess_events(root, dm_model,   \n",
    "                                                              latent_func,par_names,\n",
    "                                                              prep_func,\n",
    "                                                              cond_func,\n",
    "                                                              df_events=None,\n",
    "                                                              all_ind_pars=all_ind_pars,\n",
    "                                                              use_duration=False,\n",
    "                                                              layout=None,\n",
    "                                                              hrf_model='glover',\n",
    "                                                              save_path=save_path,\n",
    "                                                              save=True,\n",
    "                                                              ncore=4,\n",
    "                                                              time_check=True)\n"
   ]
  },
  {
   "cell_type": "markdown",
   "metadata": {},
   "source": [
    "## LOAD DATA"
   ]
  },
  {
   "cell_type": "code",
   "execution_count": null,
   "metadata": {},
   "outputs": [],
   "source": [
    "prep_path = Path('/home/cheoljun/project_model_based_fmri/examples/Delayed-discount_task')\n",
    "data_path_list = [prep_path / f'X_{i:02d}.npy' for i in range(1,21)]\n",
    "X = np.concatenate([np.load(data_path) for data_path in data_path_list],0)\n",
    "X = X.reshape(-1,X.shape[-1])"
   ]
  },
  {
   "cell_type": "code",
   "execution_count": null,
   "metadata": {},
   "outputs": [],
   "source": [
    "y = np.load(prep_path / 'y.npy' , allow_pickle=True)\n",
    "y = np.concatenate(y,0)\n",
    "X = X.reshape(-1,X.shape[-1])\n",
    "y = y.flatten()\n"
   ]
  },
  {
   "cell_type": "code",
   "execution_count": null,
   "metadata": {},
   "outputs": [],
   "source": [
    "time_mask = np.load(prep_path / 'y_mask.npy', allow_pickle=True)\n",
    "time_mask = np.concatenate(time_mask,0)\n",
    "time_mask = time_mask.flatten()\n"
   ]
  },
  {
   "cell_type": "code",
   "execution_count": null,
   "metadata": {},
   "outputs": [],
   "source": [
    "X = X[time_mask>0]\n",
    "y = y[time_mask>0]\n",
    "\n",
    "masked_data = nib.load(prep_path / 'masked_data.nii.gz')"
   ]
  },
  {
   "cell_type": "markdown",
   "metadata": {},
   "source": [
    "## FIT MVPA MODEL"
   ]
  },
  {
   "cell_type": "code",
   "execution_count": null,
   "metadata": {},
   "outputs": [],
   "source": [
    "from model_based_mvpa.models.regressor import *\n",
    "from model_based_mvpa.utils.coef2map import *\n",
    "import time"
   ]
  },
  {
   "cell_type": "code",
   "execution_count": null,
   "metadata": {},
   "outputs": [],
   "source": [
    "print(time.strftime('%c', time.localtime(time.time())))\n",
    "N = 30\n",
    "coefs = mlp_regression(X, y,\n",
    "                       layer_dims=[1024, 1024],\n",
    "                       activation_func='linear',\n",
    "                       dropout_rate=0.5,\n",
    "                       epochs=100,\n",
    "                       patience=10,\n",
    "                       batch_size=64,\n",
    "                       N=30,\n",
    "                       verbose=1)\n",
    "\n",
    "task_name = f'piva2019_mlp_{N}'\n",
    "result = get_map(coefs, masked_data, task_name=task_name, map_type='z', save_path='.', smoothing_sigma=1)\n",
    "print(time.strftime('%c', time.localtime(time.time())))"
   ]
  },
  {
   "cell_type": "code",
   "execution_count": null,
   "metadata": {},
   "outputs": [],
   "source": [
    "print(time.strftime('%c', time.localtime(time.time())))\n",
    "N=3\n",
    "alpha  = 0.0001\n",
    "coefs = elasticnet(X, y,\n",
    "               alpha=alpha,\n",
    "               n_jobs=16,\n",
    "               N=N,\n",
    "               verbose=0)\n",
    "\n",
    "task_name = f'piva2019_elasticnet_{N}_{alpha:.4f}'\n",
    "result = get_map(coefs, masked_data, task_name=task_name, map_type='z', save_path='.', smoothing_sigma=1)\n",
    "print(time.strftime('%c', time.localtime(time.time())))"
   ]
  },
  {
   "cell_type": "code",
   "execution_count": null,
   "metadata": {},
   "outputs": [],
   "source": []
  }
 ],
 "metadata": {
  "kernelspec": {
   "display_name": "Python 3.7 (model_based_fmri)",
   "language": "python",
   "name": "model_based_fmri"
  },
  "language_info": {
   "codemirror_mode": {
    "name": "ipython",
    "version": 3
   },
   "file_extension": ".py",
   "mimetype": "text/x-python",
   "name": "python",
   "nbconvert_exporter": "python",
   "pygments_lexer": "ipython3",
   "version": "3.7.7"
  }
 },
 "nbformat": 4,
 "nbformat_minor": 4
}
