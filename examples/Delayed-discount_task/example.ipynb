{
 "cells": [
  {
   "cell_type": "code",
   "execution_count": 1,
   "metadata": {},
   "outputs": [],
   "source": [
    "import model_based_mvpa as mbmvpa\n",
    "from model_based_mvpa.preprocessing.bids import *\n",
    "from model_based_mvpa.preprocessing.events import *\n",
    "from model_based_mvpa.utils.func import *\n",
    "from model_based_mvpa.models.model import *"
   ]
  },
  {
   "cell_type": "code",
   "execution_count": 2,
   "metadata": {},
   "outputs": [],
   "source": [
    "root = '/data2/project_model_based_fmri/ds001882/'"
   ]
  },
  {
   "cell_type": "code",
   "execution_count": 3,
   "metadata": {},
   "outputs": [],
   "source": [
    "def prep_func(row,info):\n",
    "\n",
    "    new_df = row.copy()\n",
    "    new_df['subjID'] = info['subject']\n",
    "    new_df['run'] = info['run']\n",
    "    if row['delay_left'] >= row['delay_right']:\n",
    "        new_df['delay_later'] = row['delay_left']\n",
    "        new_df['delay_sooner'] = row['delay_right']\n",
    "        new_df['amount_later'] = row['money_left']\n",
    "        new_df['amount_sooner'] = row['money_right']\n",
    "        new_df['choice'] = 1 if row['choice'] == 1 else 0\n",
    "    else:\n",
    "        new_df['delay_later'] = row['delay_right']\n",
    "        new_df['delay_sooner'] = row['delay_left']\n",
    "        new_df['amount_later'] = row['money_right']\n",
    "        new_df['amount_sooner'] = row['money_left']\n",
    "        new_df['choice'] = 1 if row['choice'] == 2 else 0\n",
    "        \n",
    "    return new_df"
   ]
  },
  {
   "cell_type": "code",
   "execution_count": 4,
   "metadata": {},
   "outputs": [],
   "source": [
    "def cond_func(df_row):\n",
    "    return df_row['agent']==0"
   ]
  },
  {
   "cell_type": "code",
   "execution_count": 5,
   "metadata": {},
   "outputs": [],
   "source": [
    "def latent_func(row,info,k,beta):\n",
    "    \n",
    "    new_df = row.copy()\n",
    "    new_df['subjID'] = info['subject']\n",
    "    new_df['run'] = info['run']\n",
    "    \n",
    "    if row['delay_left'] >= row['delay_right']:\n",
    "        ev_later   = row['money_left'] / (1 + k * row['delay_left'])\n",
    "        ev_sooner  = row['money_right'] / (1 + k * row['delay_right'])\n",
    "        utility = ev_later - ev_sooner\n",
    "    else:\n",
    "        ev_sooner   = row['money_left'] / (1 + k * row['delay_left'])\n",
    "        ev_later  = row['money_right'] / (1 + k * row['delay_right'])\n",
    "        utility = ev_later - ev_sooner\n",
    "    new_df['modulation'] = utility\n",
    "    \n",
    "    return new_df"
   ]
  },
  {
   "cell_type": "code",
   "execution_count": 6,
   "metadata": {},
   "outputs": [],
   "source": [
    "par_names = ['k','beta']"
   ]
  },
  {
   "cell_type": "code",
   "execution_count": 7,
   "metadata": {},
   "outputs": [],
   "source": [
    "dm_model = 'dd_hyperbolic'"
   ]
  },
  {
   "cell_type": "code",
   "execution_count": 8,
   "metadata": {},
   "outputs": [],
   "source": [
    "save_path = '.'"
   ]
  },
  {
   "cell_type": "code",
   "execution_count": 9,
   "metadata": {},
   "outputs": [
    {
     "data": {
      "text/plain": [
       "'\\ndm_model, df_events, signals, time_masks = preprocess_events(root, dm_model,   \\n                                                              latent_func,par_names,\\n                                                              prep_func,\\n                                                              cond_func,\\n                                                              df_events=None,\\n                                                              all_ind_pars=None,\\n                                                              use_duration=False,\\n                                                              layout=None,\\n                                                              hrf_model=\\'glover\\',\\n                                                              save_path=save_path,\\n                                                              save=True,\\n                                                              ncore=os.cpu_count(),\\n                                                              time_check=True)\\ndf_events.to_csv(\\'df_events.tsv\\', sep=\"\\t\")\\n'"
      ]
     },
     "execution_count": 9,
     "metadata": {},
     "output_type": "execute_result"
    }
   ],
   "source": [
    "dm_model, df_events, signals, time_masks = preprocess_events(root, dm_model,   \n",
    "                                                              latent_func,par_names,\n",
    "                                                              prep_func,\n",
    "                                                              cond_func,\n",
    "                                                              df_events=None,\n",
    "                                                              all_ind_pars=None,\n",
    "                                                              use_duration=False,\n",
    "                                                              layout=None,\n",
    "                                                              hrf_model='glover',\n",
    "                                                              save_path=save_path,\n",
    "                                                              save=True,\n",
    "                                                              ncore=4,\n",
    "                                                              time_check=True)\n"
   ]
  },
  {
   "cell_type": "code",
   "execution_count": null,
   "metadata": {},
   "outputs": [],
   "source": []
  }
 ],
 "metadata": {
  "kernelspec": {
   "display_name": "Python 3.7 (model_based_fmri)",
   "language": "python",
   "name": "model_based_fmri"
  },
  "language_info": {
   "codemirror_mode": {
    "name": "ipython",
    "version": 3
   },
   "file_extension": ".py",
   "mimetype": "text/x-python",
   "name": "python",
   "nbconvert_exporter": "python",
   "pygments_lexer": "ipython3",
   "version": "3.7.7"
  }
 },
 "nbformat": 4,
 "nbformat_minor": 4
}
