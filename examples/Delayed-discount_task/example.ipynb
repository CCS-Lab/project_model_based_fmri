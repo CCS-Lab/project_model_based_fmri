{
 "cells": [
  {
   "cell_type": "code",
   "execution_count": 1,
   "metadata": {},
   "outputs": [],
   "source": [
    "import model_based_mvpa as mbmvpa\n",
    "from model_based_mvpa.preprocessing.bids import *\n",
    "from model_based_mvpa.preprocessing.events import *\n",
    "from model_based_mvpa.utils.func import *\n",
    "from model_based_mvpa.models.model import *"
   ]
  },
  {
   "cell_type": "code",
   "execution_count": 2,
   "metadata": {},
   "outputs": [],
   "source": [
    "root = '/data2/project_model_based_fmri/ds001882/'"
   ]
  },
  {
   "cell_type": "markdown",
   "metadata": {},
   "source": [
    "## PREPROCESS FMRI IMAGE"
   ]
  },
  {
   "cell_type": "code",
   "execution_count": 4,
   "metadata": {
    "collapsed": true,
    "jupyter": {
     "outputs_hidden": true
    }
   },
   "outputs": [
    {
     "name": "stderr",
     "output_type": "stream",
     "text": [
      "image preprocessing - fMRI data..                 :  67%|██████▋   | 4/6 [00:33<00:29, 14.80s/it]/home/cheoljun/anaconda3/envs/model_based_fmri/lib/python3.7/site-packages/scipy/ndimage/interpolation.py:519: UserWarning: The behavior of affine_transform with a 1-D array supplied for the matrix parameter has changed in SciPy 0.18.0.\n",
      "  \"The behavior of affine_transform with a 1-D \"\n",
      "image preprocessing - fMRI data 2 / 7..           :  67%|██████▋   | 4/6 [07:39<00:29, 14.80s/it]/home/cheoljun/anaconda3/envs/model_based_fmri/lib/python3.7/site-packages/scipy/ndimage/interpolation.py:519: UserWarning: The behavior of affine_transform with a 1-D array supplied for the matrix parameter has changed in SciPy 0.18.0.\n",
      "  \"The behavior of affine_transform with a 1-D \"\n",
      "/home/cheoljun/anaconda3/envs/model_based_fmri/lib/python3.7/site-packages/scipy/ndimage/interpolation.py:519: UserWarning: The behavior of affine_transform with a 1-D array supplied for the matrix parameter has changed in SciPy 0.18.0.\n",
      "  \"The behavior of affine_transform with a 1-D \"\n",
      "/home/cheoljun/anaconda3/envs/model_based_fmri/lib/python3.7/site-packages/scipy/ndimage/interpolation.py:519: UserWarning: The behavior of affine_transform with a 1-D array supplied for the matrix parameter has changed in SciPy 0.18.0.\n",
      "  \"The behavior of affine_transform with a 1-D \"\n",
      "image preprocessing - fMRI data 3 / 7..           :  67%|██████▋   | 4/6 [10:54<00:29, 14.80s/it]/home/cheoljun/anaconda3/envs/model_based_fmri/lib/python3.7/site-packages/scipy/ndimage/interpolation.py:519: UserWarning: The behavior of affine_transform with a 1-D array supplied for the matrix parameter has changed in SciPy 0.18.0.\n",
      "  \"The behavior of affine_transform with a 1-D \"\n",
      "/home/cheoljun/anaconda3/envs/model_based_fmri/lib/python3.7/site-packages/scipy/ndimage/interpolation.py:519: UserWarning: The behavior of affine_transform with a 1-D array supplied for the matrix parameter has changed in SciPy 0.18.0.\n",
      "  \"The behavior of affine_transform with a 1-D \"\n",
      "/home/cheoljun/anaconda3/envs/model_based_fmri/lib/python3.7/site-packages/scipy/ndimage/interpolation.py:519: UserWarning: The behavior of affine_transform with a 1-D array supplied for the matrix parameter has changed in SciPy 0.18.0.\n",
      "  \"The behavior of affine_transform with a 1-D \"\n",
      "/home/cheoljun/anaconda3/envs/model_based_fmri/lib/python3.7/site-packages/scipy/ndimage/interpolation.py:519: UserWarning: The behavior of affine_transform with a 1-D array supplied for the matrix parameter has changed in SciPy 0.18.0.\n",
      "  \"The behavior of affine_transform with a 1-D \"\n",
      "/home/cheoljun/anaconda3/envs/model_based_fmri/lib/python3.7/site-packages/scipy/ndimage/interpolation.py:519: UserWarning: The behavior of affine_transform with a 1-D array supplied for the matrix parameter has changed in SciPy 0.18.0.\n",
      "  \"The behavior of affine_transform with a 1-D \"\n",
      "/home/cheoljun/anaconda3/envs/model_based_fmri/lib/python3.7/site-packages/scipy/ndimage/interpolation.py:519: UserWarning: The behavior of affine_transform with a 1-D array supplied for the matrix parameter has changed in SciPy 0.18.0.\n",
      "  \"The behavior of affine_transform with a 1-D \"\n",
      "/home/cheoljun/anaconda3/envs/model_based_fmri/lib/python3.7/site-packages/scipy/ndimage/interpolation.py:519: UserWarning: The behavior of affine_transform with a 1-D array supplied for the matrix parameter has changed in SciPy 0.18.0.\n",
      "  \"The behavior of affine_transform with a 1-D \"\n",
      "/home/cheoljun/anaconda3/envs/model_based_fmri/lib/python3.7/site-packages/scipy/ndimage/interpolation.py:519: UserWarning: The behavior of affine_transform with a 1-D array supplied for the matrix parameter has changed in SciPy 0.18.0.\n",
      "  \"The behavior of affine_transform with a 1-D \"\n",
      "/home/cheoljun/anaconda3/envs/model_based_fmri/lib/python3.7/site-packages/scipy/ndimage/interpolation.py:519: UserWarning: The behavior of affine_transform with a 1-D array supplied for the matrix parameter has changed in SciPy 0.18.0.\n",
      "  \"The behavior of affine_transform with a 1-D \"\n",
      "/home/cheoljun/anaconda3/envs/model_based_fmri/lib/python3.7/site-packages/scipy/ndimage/interpolation.py:519: UserWarning: The behavior of affine_transform with a 1-D array supplied for the matrix parameter has changed in SciPy 0.18.0.\n",
      "  \"The behavior of affine_transform with a 1-D \"\n",
      "/home/cheoljun/anaconda3/envs/model_based_fmri/lib/python3.7/site-packages/scipy/ndimage/interpolation.py:519: UserWarning: The behavior of affine_transform with a 1-D array supplied for the matrix parameter has changed in SciPy 0.18.0.\n",
      "  \"The behavior of affine_transform with a 1-D \"\n"
     ]
    },
    {
     "ename": "KeyboardInterrupt",
     "evalue": "",
     "output_type": "error",
     "traceback": [
      "\u001b[0;31m---------------------------------------------------------------------------\u001b[0m",
      "\u001b[0;31mKeyboardInterrupt\u001b[0m                         Traceback (most recent call last)",
      "\u001b[0;32m~/anaconda3/envs/model_based_fmri/lib/python3.7/site-packages/model_based_mvpa-0.0.1-py3.7.egg/model_based_mvpa/preprocessing/bids.py\u001b[0m in \u001b[0;36mbids_preprocess\u001b[0;34m(root, save_path, save, zoom, smoothing_fwhm, interpolation_func, motion_confounds, p_value, task_name, standardize)\u001b[0m\n\u001b[1;32m    124\u001b[0m \u001b[0;34m\u001b[0m\u001b[0m\n\u001b[0;32m--> 125\u001b[0;31m             \u001b[0;32mfor\u001b[0m \u001b[0mfuture\u001b[0m \u001b[0;32min\u001b[0m \u001b[0mas_completed\u001b[0m\u001b[0;34m(\u001b[0m\u001b[0mfuture_result\u001b[0m\u001b[0;34m)\u001b[0m\u001b[0;34m:\u001b[0m\u001b[0;34m\u001b[0m\u001b[0;34m\u001b[0m\u001b[0m\n\u001b[0m\u001b[1;32m    126\u001b[0m                 \u001b[0mdata\u001b[0m\u001b[0;34m,\u001b[0m \u001b[0msubject\u001b[0m \u001b[0;34m=\u001b[0m \u001b[0mfuture\u001b[0m\u001b[0;34m.\u001b[0m\u001b[0mresult\u001b[0m\u001b[0;34m(\u001b[0m\u001b[0;34m)\u001b[0m\u001b[0;34m\u001b[0m\u001b[0;34m\u001b[0m\u001b[0m\n",
      "\u001b[0;32m~/anaconda3/envs/model_based_fmri/lib/python3.7/concurrent/futures/_base.py\u001b[0m in \u001b[0;36mas_completed\u001b[0;34m(fs, timeout)\u001b[0m\n\u001b[1;32m    239\u001b[0m \u001b[0;34m\u001b[0m\u001b[0m\n\u001b[0;32m--> 240\u001b[0;31m             \u001b[0mwaiter\u001b[0m\u001b[0;34m.\u001b[0m\u001b[0mevent\u001b[0m\u001b[0;34m.\u001b[0m\u001b[0mwait\u001b[0m\u001b[0;34m(\u001b[0m\u001b[0mwait_timeout\u001b[0m\u001b[0;34m)\u001b[0m\u001b[0;34m\u001b[0m\u001b[0;34m\u001b[0m\u001b[0m\n\u001b[0m\u001b[1;32m    241\u001b[0m \u001b[0;34m\u001b[0m\u001b[0m\n",
      "\u001b[0;32m~/anaconda3/envs/model_based_fmri/lib/python3.7/threading.py\u001b[0m in \u001b[0;36mwait\u001b[0;34m(self, timeout)\u001b[0m\n\u001b[1;32m    551\u001b[0m             \u001b[0;32mif\u001b[0m \u001b[0;32mnot\u001b[0m \u001b[0msignaled\u001b[0m\u001b[0;34m:\u001b[0m\u001b[0;34m\u001b[0m\u001b[0;34m\u001b[0m\u001b[0m\n\u001b[0;32m--> 552\u001b[0;31m                 \u001b[0msignaled\u001b[0m \u001b[0;34m=\u001b[0m \u001b[0mself\u001b[0m\u001b[0;34m.\u001b[0m\u001b[0m_cond\u001b[0m\u001b[0;34m.\u001b[0m\u001b[0mwait\u001b[0m\u001b[0;34m(\u001b[0m\u001b[0mtimeout\u001b[0m\u001b[0;34m)\u001b[0m\u001b[0;34m\u001b[0m\u001b[0;34m\u001b[0m\u001b[0m\n\u001b[0m\u001b[1;32m    553\u001b[0m             \u001b[0;32mreturn\u001b[0m \u001b[0msignaled\u001b[0m\u001b[0;34m\u001b[0m\u001b[0;34m\u001b[0m\u001b[0m\n",
      "\u001b[0;32m~/anaconda3/envs/model_based_fmri/lib/python3.7/threading.py\u001b[0m in \u001b[0;36mwait\u001b[0;34m(self, timeout)\u001b[0m\n\u001b[1;32m    295\u001b[0m             \u001b[0;32mif\u001b[0m \u001b[0mtimeout\u001b[0m \u001b[0;32mis\u001b[0m \u001b[0;32mNone\u001b[0m\u001b[0;34m:\u001b[0m\u001b[0;34m\u001b[0m\u001b[0;34m\u001b[0m\u001b[0m\n\u001b[0;32m--> 296\u001b[0;31m                 \u001b[0mwaiter\u001b[0m\u001b[0;34m.\u001b[0m\u001b[0macquire\u001b[0m\u001b[0;34m(\u001b[0m\u001b[0;34m)\u001b[0m\u001b[0;34m\u001b[0m\u001b[0;34m\u001b[0m\u001b[0m\n\u001b[0m\u001b[1;32m    297\u001b[0m                 \u001b[0mgotit\u001b[0m \u001b[0;34m=\u001b[0m \u001b[0;32mTrue\u001b[0m\u001b[0;34m\u001b[0m\u001b[0;34m\u001b[0m\u001b[0m\n",
      "\u001b[0;31mKeyboardInterrupt\u001b[0m: ",
      "\nDuring handling of the above exception, another exception occurred:\n",
      "\u001b[0;31mKeyboardInterrupt\u001b[0m                         Traceback (most recent call last)",
      "\u001b[0;32m<ipython-input-4-108a597c0af3>\u001b[0m in \u001b[0;36m<module>\u001b[0;34m\u001b[0m\n\u001b[0;32m----> 1\u001b[0;31m \u001b[0mX\u001b[0m\u001b[0;34m,\u001b[0m \u001b[0mmasked_data\u001b[0m\u001b[0;34m,\u001b[0m \u001b[0mlayout\u001b[0m \u001b[0;34m=\u001b[0m \u001b[0mbids_preprocess\u001b[0m\u001b[0;34m(\u001b[0m\u001b[0mroot\u001b[0m\u001b[0;34m,\u001b[0m\u001b[0msave_path\u001b[0m\u001b[0;34m=\u001b[0m\u001b[0;34m'.'\u001b[0m\u001b[0;34m,\u001b[0m\u001b[0msmoothing_fwhm\u001b[0m\u001b[0;34m=\u001b[0m\u001b[0;32mNone\u001b[0m\u001b[0;34m,\u001b[0m \u001b[0mzoom\u001b[0m\u001b[0;34m=\u001b[0m\u001b[0;34m(\u001b[0m\u001b[0;36m2\u001b[0m\u001b[0;34m,\u001b[0m \u001b[0;36m2\u001b[0m\u001b[0;34m,\u001b[0m \u001b[0;36m2\u001b[0m\u001b[0;34m)\u001b[0m\u001b[0;34m)\u001b[0m\u001b[0;34m\u001b[0m\u001b[0;34m\u001b[0m\u001b[0m\n\u001b[0m",
      "\u001b[0;32m~/anaconda3/envs/model_based_fmri/lib/python3.7/site-packages/model_based_mvpa-0.0.1-py3.7.egg/model_based_mvpa/preprocessing/bids.py\u001b[0m in \u001b[0;36mbids_preprocess\u001b[0;34m(root, save_path, save, zoom, smoothing_fwhm, interpolation_func, motion_confounds, p_value, task_name, standardize)\u001b[0m\n\u001b[1;32m    128\u001b[0m                 \u001b[0mX\u001b[0m\u001b[0;34m.\u001b[0m\u001b[0mappend\u001b[0m\u001b[0;34m(\u001b[0m\u001b[0mdata\u001b[0m\u001b[0;34m)\u001b[0m\u001b[0;34m\u001b[0m\u001b[0;34m\u001b[0m\u001b[0m\n\u001b[1;32m    129\u001b[0m             pbar.set_description(\n\u001b[0;32m--> 130\u001b[0;31m                 f'image preprocessing - fMRI data {i+1} / {len(params_chunks)}..'.ljust(50))\n\u001b[0m\u001b[1;32m    131\u001b[0m \u001b[0;34m\u001b[0m\u001b[0m\n\u001b[1;32m    132\u001b[0m     \u001b[0mX\u001b[0m \u001b[0;34m=\u001b[0m \u001b[0mnp\u001b[0m\u001b[0;34m.\u001b[0m\u001b[0marray\u001b[0m\u001b[0;34m(\u001b[0m\u001b[0mX\u001b[0m\u001b[0;34m)\u001b[0m\u001b[0;34m\u001b[0m\u001b[0;34m\u001b[0m\u001b[0m\n",
      "\u001b[0;32m~/anaconda3/envs/model_based_fmri/lib/python3.7/concurrent/futures/_base.py\u001b[0m in \u001b[0;36m__exit__\u001b[0;34m(self, exc_type, exc_val, exc_tb)\u001b[0m\n\u001b[1;32m    621\u001b[0m \u001b[0;34m\u001b[0m\u001b[0m\n\u001b[1;32m    622\u001b[0m     \u001b[0;32mdef\u001b[0m \u001b[0m__exit__\u001b[0m\u001b[0;34m(\u001b[0m\u001b[0mself\u001b[0m\u001b[0;34m,\u001b[0m \u001b[0mexc_type\u001b[0m\u001b[0;34m,\u001b[0m \u001b[0mexc_val\u001b[0m\u001b[0;34m,\u001b[0m \u001b[0mexc_tb\u001b[0m\u001b[0;34m)\u001b[0m\u001b[0;34m:\u001b[0m\u001b[0;34m\u001b[0m\u001b[0;34m\u001b[0m\u001b[0m\n\u001b[0;32m--> 623\u001b[0;31m         \u001b[0mself\u001b[0m\u001b[0;34m.\u001b[0m\u001b[0mshutdown\u001b[0m\u001b[0;34m(\u001b[0m\u001b[0mwait\u001b[0m\u001b[0;34m=\u001b[0m\u001b[0;32mTrue\u001b[0m\u001b[0;34m)\u001b[0m\u001b[0;34m\u001b[0m\u001b[0;34m\u001b[0m\u001b[0m\n\u001b[0m\u001b[1;32m    624\u001b[0m         \u001b[0;32mreturn\u001b[0m \u001b[0;32mFalse\u001b[0m\u001b[0;34m\u001b[0m\u001b[0;34m\u001b[0m\u001b[0m\n\u001b[1;32m    625\u001b[0m \u001b[0;34m\u001b[0m\u001b[0m\n",
      "\u001b[0;32m~/anaconda3/envs/model_based_fmri/lib/python3.7/concurrent/futures/process.py\u001b[0m in \u001b[0;36mshutdown\u001b[0;34m(self, wait)\u001b[0m\n\u001b[1;32m    679\u001b[0m             \u001b[0mself\u001b[0m\u001b[0;34m.\u001b[0m\u001b[0m_queue_management_thread_wakeup\u001b[0m\u001b[0;34m.\u001b[0m\u001b[0mwakeup\u001b[0m\u001b[0;34m(\u001b[0m\u001b[0;34m)\u001b[0m\u001b[0;34m\u001b[0m\u001b[0;34m\u001b[0m\u001b[0m\n\u001b[1;32m    680\u001b[0m             \u001b[0;32mif\u001b[0m \u001b[0mwait\u001b[0m\u001b[0;34m:\u001b[0m\u001b[0;34m\u001b[0m\u001b[0;34m\u001b[0m\u001b[0m\n\u001b[0;32m--> 681\u001b[0;31m                 \u001b[0mself\u001b[0m\u001b[0;34m.\u001b[0m\u001b[0m_queue_management_thread\u001b[0m\u001b[0;34m.\u001b[0m\u001b[0mjoin\u001b[0m\u001b[0;34m(\u001b[0m\u001b[0;34m)\u001b[0m\u001b[0;34m\u001b[0m\u001b[0;34m\u001b[0m\u001b[0m\n\u001b[0m\u001b[1;32m    682\u001b[0m         \u001b[0;31m# To reduce the risk of opening too many files, remove references to\u001b[0m\u001b[0;34m\u001b[0m\u001b[0;34m\u001b[0m\u001b[0;34m\u001b[0m\u001b[0m\n\u001b[1;32m    683\u001b[0m         \u001b[0;31m# objects that use file descriptors.\u001b[0m\u001b[0;34m\u001b[0m\u001b[0;34m\u001b[0m\u001b[0;34m\u001b[0m\u001b[0m\n",
      "\u001b[0;32m~/anaconda3/envs/model_based_fmri/lib/python3.7/threading.py\u001b[0m in \u001b[0;36mjoin\u001b[0;34m(self, timeout)\u001b[0m\n\u001b[1;32m   1042\u001b[0m \u001b[0;34m\u001b[0m\u001b[0m\n\u001b[1;32m   1043\u001b[0m         \u001b[0;32mif\u001b[0m \u001b[0mtimeout\u001b[0m \u001b[0;32mis\u001b[0m \u001b[0;32mNone\u001b[0m\u001b[0;34m:\u001b[0m\u001b[0;34m\u001b[0m\u001b[0;34m\u001b[0m\u001b[0m\n\u001b[0;32m-> 1044\u001b[0;31m             \u001b[0mself\u001b[0m\u001b[0;34m.\u001b[0m\u001b[0m_wait_for_tstate_lock\u001b[0m\u001b[0;34m(\u001b[0m\u001b[0;34m)\u001b[0m\u001b[0;34m\u001b[0m\u001b[0;34m\u001b[0m\u001b[0m\n\u001b[0m\u001b[1;32m   1045\u001b[0m         \u001b[0;32melse\u001b[0m\u001b[0;34m:\u001b[0m\u001b[0;34m\u001b[0m\u001b[0;34m\u001b[0m\u001b[0m\n\u001b[1;32m   1046\u001b[0m             \u001b[0;31m# the behavior of a negative timeout isn't documented, but\u001b[0m\u001b[0;34m\u001b[0m\u001b[0;34m\u001b[0m\u001b[0;34m\u001b[0m\u001b[0m\n",
      "\u001b[0;32m~/anaconda3/envs/model_based_fmri/lib/python3.7/threading.py\u001b[0m in \u001b[0;36m_wait_for_tstate_lock\u001b[0;34m(self, block, timeout)\u001b[0m\n\u001b[1;32m   1058\u001b[0m         \u001b[0;32mif\u001b[0m \u001b[0mlock\u001b[0m \u001b[0;32mis\u001b[0m \u001b[0;32mNone\u001b[0m\u001b[0;34m:\u001b[0m  \u001b[0;31m# already determined that the C code is done\u001b[0m\u001b[0;34m\u001b[0m\u001b[0;34m\u001b[0m\u001b[0m\n\u001b[1;32m   1059\u001b[0m             \u001b[0;32massert\u001b[0m \u001b[0mself\u001b[0m\u001b[0;34m.\u001b[0m\u001b[0m_is_stopped\u001b[0m\u001b[0;34m\u001b[0m\u001b[0;34m\u001b[0m\u001b[0m\n\u001b[0;32m-> 1060\u001b[0;31m         \u001b[0;32melif\u001b[0m \u001b[0mlock\u001b[0m\u001b[0;34m.\u001b[0m\u001b[0macquire\u001b[0m\u001b[0;34m(\u001b[0m\u001b[0mblock\u001b[0m\u001b[0;34m,\u001b[0m \u001b[0mtimeout\u001b[0m\u001b[0;34m)\u001b[0m\u001b[0;34m:\u001b[0m\u001b[0;34m\u001b[0m\u001b[0;34m\u001b[0m\u001b[0m\n\u001b[0m\u001b[1;32m   1061\u001b[0m             \u001b[0mlock\u001b[0m\u001b[0;34m.\u001b[0m\u001b[0mrelease\u001b[0m\u001b[0;34m(\u001b[0m\u001b[0;34m)\u001b[0m\u001b[0;34m\u001b[0m\u001b[0;34m\u001b[0m\u001b[0m\n\u001b[1;32m   1062\u001b[0m             \u001b[0mself\u001b[0m\u001b[0;34m.\u001b[0m\u001b[0m_stop\u001b[0m\u001b[0;34m(\u001b[0m\u001b[0;34m)\u001b[0m\u001b[0;34m\u001b[0m\u001b[0;34m\u001b[0m\u001b[0m\n",
      "\u001b[0;31mKeyboardInterrupt\u001b[0m: "
     ]
    }
   ],
   "source": [
    "X, masked_data, layout = bids_preprocess(root,save_path='.',smoothing_fwhm=None, zoom=(2, 2, 2))"
   ]
  },
  {
   "cell_type": "markdown",
   "metadata": {},
   "source": [
    "## PREPRROCESS EVENT DATA"
   ]
  },
  {
   "cell_type": "code",
   "execution_count": null,
   "metadata": {},
   "outputs": [],
   "source": [
    "def prep_func(row,info):\n",
    "\n",
    "    new_df = row.copy()\n",
    "    new_df['subjID'] = info['subject']\n",
    "    new_df['run'] = info['run']\n",
    "    if row['delay_left'] >= row['delay_right']:\n",
    "        new_df['delay_later'] = row['delay_left']\n",
    "        new_df['delay_sooner'] = row['delay_right']\n",
    "        new_df['amount_later'] = row['money_left']\n",
    "        new_df['amount_sooner'] = row['money_right']\n",
    "        new_df['choice'] = 1 if row['choice'] == 1 else 0\n",
    "    else:\n",
    "        new_df['delay_later'] = row['delay_right']\n",
    "        new_df['delay_sooner'] = row['delay_left']\n",
    "        new_df['amount_later'] = row['money_right']\n",
    "        new_df['amount_sooner'] = row['money_left']\n",
    "        new_df['choice'] = 1 if row['choice'] == 2 else 0\n",
    "        \n",
    "    return new_df"
   ]
  },
  {
   "cell_type": "code",
   "execution_count": null,
   "metadata": {},
   "outputs": [],
   "source": [
    "def cond_func(df_row):\n",
    "    return df_row['agent']==0"
   ]
  },
  {
   "cell_type": "code",
   "execution_count": null,
   "metadata": {},
   "outputs": [],
   "source": [
    "def latent_func(row,info,k,beta):\n",
    "    \n",
    "    new_df = row.copy()\n",
    "    new_df['subjID'] = info['subject']\n",
    "    new_df['run'] = info['run']\n",
    "    \n",
    "    if row['delay_left'] >= row['delay_right']:\n",
    "        ev_later   = row['money_left'] / (1 + k * row['delay_left'])\n",
    "        ev_sooner  = row['money_right'] / (1 + k * row['delay_right'])\n",
    "        utility = ev_later - ev_sooner\n",
    "    else:\n",
    "        ev_sooner   = row['money_left'] / (1 + k * row['delay_left'])\n",
    "        ev_later  = row['money_right'] / (1 + k * row['delay_right'])\n",
    "        utility = ev_later - ev_sooner\n",
    "    new_df['modulation'] = utility\n",
    "    \n",
    "    return new_df"
   ]
  },
  {
   "cell_type": "code",
   "execution_count": null,
   "metadata": {},
   "outputs": [],
   "source": [
    "par_names = ['k','beta']"
   ]
  },
  {
   "cell_type": "code",
   "execution_count": null,
   "metadata": {},
   "outputs": [],
   "source": [
    "dm_model = 'dd_hyperbolic'"
   ]
  },
  {
   "cell_type": "code",
   "execution_count": null,
   "metadata": {},
   "outputs": [],
   "source": [
    "save_path = '.'"
   ]
  },
  {
   "cell_type": "code",
   "execution_count": null,
   "metadata": {},
   "outputs": [],
   "source": [
    "all_ind_pars = None #pd.read_csv('all_ind_pars.tsv',sep = '\\t',index_col='Unnamed: 0')"
   ]
  },
  {
   "cell_type": "code",
   "execution_count": null,
   "metadata": {},
   "outputs": [],
   "source": [
    "dm_model, df_events, signals, time_masks = preprocess_events(root, dm_model,   \n",
    "                                                              latent_func,par_names,\n",
    "                                                              prep_func,\n",
    "                                                              cond_func,\n",
    "                                                              df_events=None,\n",
    "                                                              all_ind_pars=all_ind_pars,\n",
    "                                                              use_duration=False,\n",
    "                                                              layout=None,\n",
    "                                                              hrf_model='glover',\n",
    "                                                              save_path=save_path,\n",
    "                                                              save=True,\n",
    "                                                              ncore=4,\n",
    "                                                              time_check=True)\n"
   ]
  },
  {
   "cell_type": "markdown",
   "metadata": {},
   "source": [
    "## LOAD DATA"
   ]
  },
  {
   "cell_type": "code",
   "execution_count": null,
   "metadata": {},
   "outputs": [],
   "source": [
    "prep_path = Path('/home/cheoljun/project_model_based_fmri/examples/Delayed-discount_task')\n",
    "data_path_list = [prep_path / f'X_{i:02d}.npy' for i in range(1,21)]\n",
    "X = np.concatenate([np.load(data_path) for data_path in data_path_list],0)\n",
    "X = X.reshape(-1,X.shape[-1])"
   ]
  },
  {
   "cell_type": "code",
   "execution_count": null,
   "metadata": {},
   "outputs": [],
   "source": [
    "y = np.load(prep_path / 'y.npy' , allow_pickle=True)\n",
    "y = np.concatenate(y,0)\n",
    "X = X.reshape(-1,X.shape[-1])\n",
    "y = y.flatten()\n"
   ]
  },
  {
   "cell_type": "code",
   "execution_count": null,
   "metadata": {},
   "outputs": [],
   "source": [
    "time_mask = np.load(prep_path / 'y_mask.npy', allow_pickle=True)\n",
    "time_mask = np.concatenate(time_mask,0)\n",
    "time_mask = time_mask.flatten()\n"
   ]
  },
  {
   "cell_type": "code",
   "execution_count": null,
   "metadata": {},
   "outputs": [],
   "source": [
    "X = X[time_mask>0]\n",
    "y = y[time_mask>0]\n",
    "\n",
    "masked_data = nib.load(prep_path / 'masked_data.nii.gz')"
   ]
  },
  {
   "cell_type": "code",
   "execution_count": null,
   "metadata": {},
   "outputs": [],
   "source": [
    "from model_based_mvpa.models.regressor import *\n",
    "from model_based_mvpa.utils.coef2map import *\n",
    "import time"
   ]
  },
  {
   "cell_type": "code",
   "execution_count": null,
   "metadata": {},
   "outputs": [],
   "source": [
    "print(time.strftime('%c', time.localtime(time.time())))\n",
    "N = 30\n",
    "coefs = mlp_regression(X, y,\n",
    "                       layer_dims=[1024, 1024],\n",
    "                       activation_func='linear',\n",
    "                       dropout_rate=0.5,\n",
    "                       epochs=100,\n",
    "                       patience=10,\n",
    "                       batch_size=64,\n",
    "                       N=30,\n",
    "                       verbose=1)\n",
    "\n",
    "task_name = f'piva2019_mlp_{N}'\n",
    "result = get_map(coefs, masked_data, task_name=task_name, map_type='z', save_path='.', smoothing_sigma=1)\n",
    "print(time.strftime('%c', time.localtime(time.time())))"
   ]
  },
  {
   "cell_type": "code",
   "execution_count": null,
   "metadata": {},
   "outputs": [],
   "source": [
    "print(time.strftime('%c', time.localtime(time.time())))\n",
    "N=3\n",
    "coefs = elasticnet(X, y,\n",
    "               alpha=0.001,\n",
    "               n_jobs=16,\n",
    "               N=N,\n",
    "               verbose=0)\n",
    "\n",
    "task_name = f'piva2019_elasticnet_{N}'\n",
    "result = get_map(coefs, masked_data, task_name=task_name, map_type='z', save_path='.', smoothing_sigma=1)\n",
    "print(time.strftime('%c', time.localtime(time.time())))"
   ]
  },
  {
   "cell_type": "code",
   "execution_count": null,
   "metadata": {},
   "outputs": [],
   "source": []
  }
 ],
 "metadata": {
  "kernelspec": {
   "display_name": "Python 3.7 (model_based_fmri)",
   "language": "python",
   "name": "model_based_fmri"
  },
  "language_info": {
   "codemirror_mode": {
    "name": "ipython",
    "version": 3
   },
   "file_extension": ".py",
   "mimetype": "text/x-python",
   "name": "python",
   "nbconvert_exporter": "python",
   "pygments_lexer": "ipython3",
   "version": "3.7.7"
  }
 },
 "nbformat": 4,
 "nbformat_minor": 4
}
