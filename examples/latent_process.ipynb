{
 "cells": [
  {
   "cell_type": "code",
   "execution_count": 4,
   "metadata": {},
   "outputs": [],
   "source": [
    "# -*- coding: utf-8 -*- \n",
    "\n",
    "import config\n",
    "\n",
    "import os\n",
    "import numpy as np\n",
    "import pandas as pd\n",
    "\n",
    "from pathlib import Path\n",
    "\n",
    "from hbayesdm.models import ra_prospect\n",
    "\n",
    "import nibabel as nib\n",
    "# import nipype as nip\n",
    "# import nilearn as nil\n",
    "\n",
    "from bids import BIDSLayout, BIDSValidator\n",
    "from tqdm import tqdm\n",
    "\n",
    "import pickle\n",
    "from sklearn import linear_model\n",
    "from scipy.stats import zscore\n",
    "\n",
    "import matplotlib.pyplot as plt"
   ]
  },
  {
   "cell_type": "code",
   "execution_count": 5,
   "metadata": {},
   "outputs": [],
   "source": [
    "layout = BIDSLayout(config.RAW_DATA_DIR, derivatives=True)\n",
    "layout.add_derivatives(config.PREP_DIR)"
   ]
  },
  {
   "cell_type": "code",
   "execution_count": 7,
   "metadata": {},
   "outputs": [
    {
     "name": "stderr",
     "output_type": "stream",
     "text": [
      "100%|██████████| 16/16 [00:04<00:00,  3.91it/s]\n"
     ]
    }
   ],
   "source": [
    "frmi_subject_run = {}\n",
    "# simple structure for fmri_subject_run\n",
    "# fmri_subject_run: {\n",
    "#     subj: {\n",
    "#         niis: [run1, run2, run3],\n",
    "#         events: [run1, run2, run3]\n",
    "#     }\n",
    "# }\n",
    "\n",
    "for subject_id in tqdm(layout.get(target='subject', return_type='id')):\n",
    "    if subject_id not in frmi_subject_run.keys():\n",
    "        frmi_subject_run[subject_id] = {\n",
    "            'niis': layout.derivatives['fMRIPrep'].get(subject=subject_id, return_type='file', suffix='bold', extension='nii.gz'),\n",
    "            'events': layout.get(subject=subject_id, return_type='file', suffix='events', extension='tsv')\n",
    "        }\n",
    "    else: # subjID is already exists..\n",
    "        print(f'error! {subject_id}')\n",
    "        break"
   ]
  },
  {
   "cell_type": "code",
   "execution_count": 8,
   "metadata": {},
   "outputs": [],
   "source": [
    "df_all = []\n",
    "\n",
    "for subject_id in layout.get(target='subject', return_type='id'):\n",
    "    for i, df_path in enumerate(frmi_subject_run[subject_id]['events']):\n",
    "        df = pd.read_table(df_path)\n",
    "        df['subjID'] = int(subject_id)\n",
    "        df['run'] = i + 1\n",
    "        df_all.append(df)\n",
    "    \n",
    "df_all = pd.concat(df_all)"
   ]
  },
  {
   "cell_type": "code",
   "execution_count": 9,
   "metadata": {},
   "outputs": [],
   "source": [
    "columns = df_all.columns.copy()"
   ]
  },
  {
   "cell_type": "code",
   "execution_count": 10,
   "metadata": {},
   "outputs": [
    {
     "name": "stderr",
     "output_type": "stream",
     "text": [
      "INFO:numexpr.utils:Note: detected 88 virtual cores but NumExpr set to maximum of 64, check \"NUMEXPR_MAX_THREADS\" environment variable.\n",
      "INFO:numexpr.utils:Note: NumExpr detected 88 cores but \"NUMEXPR_MAX_THREADS\" not set, so enforcing safe limit of 8.\n",
      "INFO:numexpr.utils:NumExpr defaulting to 8 threads.\n"
     ]
    },
    {
     "data": {
      "text/html": [
       "<div>\n",
       "<style scoped>\n",
       "    .dataframe tbody tr th:only-of-type {\n",
       "        vertical-align: middle;\n",
       "    }\n",
       "\n",
       "    .dataframe tbody tr th {\n",
       "        vertical-align: top;\n",
       "    }\n",
       "\n",
       "    .dataframe thead th {\n",
       "        text-align: right;\n",
       "    }\n",
       "</style>\n",
       "<table border=\"1\" class=\"dataframe\">\n",
       "  <thead>\n",
       "    <tr style=\"text-align: right;\">\n",
       "      <th></th>\n",
       "      <th>onset</th>\n",
       "      <th>duration</th>\n",
       "      <th>parametric loss</th>\n",
       "      <th>distance from indifference</th>\n",
       "      <th>parametric gain</th>\n",
       "      <th>gain</th>\n",
       "      <th>loss</th>\n",
       "      <th>PTval</th>\n",
       "      <th>respnum</th>\n",
       "      <th>respcat</th>\n",
       "      <th>response_time</th>\n",
       "      <th>subjID</th>\n",
       "      <th>run</th>\n",
       "      <th>cert</th>\n",
       "      <th>gamble</th>\n",
       "    </tr>\n",
       "  </thead>\n",
       "  <tbody>\n",
       "    <tr>\n",
       "      <th>1</th>\n",
       "      <td>4</td>\n",
       "      <td>3</td>\n",
       "      <td>-0.0227</td>\n",
       "      <td>-0.4147</td>\n",
       "      <td>-0.189</td>\n",
       "      <td>18</td>\n",
       "      <td>12</td>\n",
       "      <td>6.12</td>\n",
       "      <td>2</td>\n",
       "      <td>1</td>\n",
       "      <td>1.793</td>\n",
       "      <td>1</td>\n",
       "      <td>1</td>\n",
       "      <td>0</td>\n",
       "      <td>1</td>\n",
       "    </tr>\n",
       "    <tr>\n",
       "      <th>2</th>\n",
       "      <td>8</td>\n",
       "      <td>3</td>\n",
       "      <td>0.1273</td>\n",
       "      <td>0.2519</td>\n",
       "      <td>-0.389</td>\n",
       "      <td>10</td>\n",
       "      <td>15</td>\n",
       "      <td>-4.85</td>\n",
       "      <td>3</td>\n",
       "      <td>0</td>\n",
       "      <td>1.637</td>\n",
       "      <td>1</td>\n",
       "      <td>1</td>\n",
       "      <td>0</td>\n",
       "      <td>0</td>\n",
       "    </tr>\n",
       "    <tr>\n",
       "      <th>3</th>\n",
       "      <td>18</td>\n",
       "      <td>3</td>\n",
       "      <td>0.1773</td>\n",
       "      <td>-0.0814</td>\n",
       "      <td>0.211</td>\n",
       "      <td>34</td>\n",
       "      <td>16</td>\n",
       "      <td>18.16</td>\n",
       "      <td>1</td>\n",
       "      <td>1</td>\n",
       "      <td>1.316</td>\n",
       "      <td>1</td>\n",
       "      <td>1</td>\n",
       "      <td>0</td>\n",
       "      <td>1</td>\n",
       "    </tr>\n",
       "    <tr>\n",
       "      <th>4</th>\n",
       "      <td>24</td>\n",
       "      <td>3</td>\n",
       "      <td>-0.3727</td>\n",
       "      <td>-0.0814</td>\n",
       "      <td>-0.189</td>\n",
       "      <td>18</td>\n",
       "      <td>5</td>\n",
       "      <td>13.05</td>\n",
       "      <td>1</td>\n",
       "      <td>1</td>\n",
       "      <td>1.670</td>\n",
       "      <td>1</td>\n",
       "      <td>1</td>\n",
       "      <td>0</td>\n",
       "      <td>1</td>\n",
       "    </tr>\n",
       "    <tr>\n",
       "      <th>5</th>\n",
       "      <td>28</td>\n",
       "      <td>3</td>\n",
       "      <td>0.0273</td>\n",
       "      <td>-0.4147</td>\n",
       "      <td>0.011</td>\n",
       "      <td>26</td>\n",
       "      <td>13</td>\n",
       "      <td>13.13</td>\n",
       "      <td>2</td>\n",
       "      <td>1</td>\n",
       "      <td>1.232</td>\n",
       "      <td>1</td>\n",
       "      <td>1</td>\n",
       "      <td>0</td>\n",
       "      <td>1</td>\n",
       "    </tr>\n",
       "  </tbody>\n",
       "</table>\n",
       "</div>"
      ],
      "text/plain": [
       "   onset  duration  parametric loss  distance from indifference  \\\n",
       "1      4         3          -0.0227                     -0.4147   \n",
       "2      8         3           0.1273                      0.2519   \n",
       "3     18         3           0.1773                     -0.0814   \n",
       "4     24         3          -0.3727                     -0.0814   \n",
       "5     28         3           0.0273                     -0.4147   \n",
       "\n",
       "   parametric gain  gain  loss  PTval  respnum  respcat  response_time  \\\n",
       "1           -0.189    18    12   6.12        2        1          1.793   \n",
       "2           -0.389    10    15  -4.85        3        0          1.637   \n",
       "3            0.211    34    16  18.16        1        1          1.316   \n",
       "4           -0.189    18     5  13.05        1        1          1.670   \n",
       "5            0.011    26    13  13.13        2        1          1.232   \n",
       "\n",
       "   subjID  run  cert  gamble  \n",
       "1       1    1     0       1  \n",
       "2       1    1     0       0  \n",
       "3       1    1     0       1  \n",
       "4       1    1     0       1  \n",
       "5       1    1     0       1  "
      ]
     },
     "execution_count": 10,
     "metadata": {},
     "output_type": "execute_result"
    }
   ],
   "source": [
    "df_all = df_all[df_all['respcat'] != -1]\n",
    "df_all['onset'] = df_all['onset'].astype(np.int)\n",
    "df_all['cert'] = 0 # certain..?\n",
    "df_all['gamble'] = df_all['respcat']\n",
    "df_all.head()"
   ]
  },
  {
   "cell_type": "code",
   "execution_count": null,
   "metadata": {},
   "outputs": [],
   "source": [
    "model = ra_prospect(data=df_all, ncore=4)\n",
    "print(model.all_ind_pars)\n",
    "params = model.all_ind_pars\n",
    "params.to_csv('models/ra_prospect_params.tsv', sep='\\t', index=False)"
   ]
  },
  {
   "cell_type": "code",
   "execution_count": 11,
   "metadata": {},
   "outputs": [],
   "source": [
    "params = pd.read_csv('models/ra_prospect_params.tsv', sep='\\t')\n",
    "params['subjID'] = params.index + 1"
   ]
  },
  {
   "cell_type": "code",
   "execution_count": 62,
   "metadata": {},
   "outputs": [
    {
     "name": "stderr",
     "output_type": "stream",
     "text": [
      "100%|██████████| 16/16 [00:22<00:00,  1.41s/it]\n"
     ]
    }
   ],
   "source": [
    "task_name = config.TASK\n",
    "if not config.BEHAV_RESULT_DIR.exists():\n",
    "    config.BEHAV_RESULT_DIR.mkdir()\n",
    "\n",
    "for subject_id in tqdm(layout.get(target='subject', return_type='id')):\n",
    "    iparams = params[params['subjID']==int(subject_id)]\n",
    "    irho = float(iparams['rho'])\n",
    "    ilambda = float(iparams['lambda'])\n",
    "    result_subj_dir = config.BEHAV_RESULT_DIR / f'sub-{subject_id}' \n",
    "    if not result_subj_dir.exists():\n",
    "        result_subj_dir.mkdir()\n",
    "    result_subj_dir = result_subj_dir / 'func'\n",
    "    if not result_subj_dir.exists():\n",
    "        result_subj_dir.mkdir()\n",
    "    for run_id in layout.get(target='run', return_type='id'):\n",
    "        events = layout.get(subject=subject_id,run=run_id, return_type='file', suffix='events', extension='tsv')\n",
    "        assert(len(events) == 1)\n",
    "        event_df = pd.read_csv(events[0],sep='\\t')\n",
    "        event_df['utility'] = (event_df['gain'] ** irho) - (ilambda * (event_df['loss'] ** irho))\n",
    "        result_path = result_subj_dir / '_'.join([f'sub-{subject_id}',\n",
    "                                           task_name,\n",
    "                                           f'run-{run_id}',\n",
    "                                           'events.tsv'])\n",
    "        event_df.to_csv(result_path,sep='\\t',index=False)"
   ]
  }
 ],
 "metadata": {
  "kernelspec": {
   "display_name": "Python 3.7 (model_based_fmri)",
   "language": "python",
   "name": "model_based_fmri"
  },
  "language_info": {
   "codemirror_mode": {
    "name": "ipython",
    "version": 3
   },
   "file_extension": ".py",
   "mimetype": "text/x-python",
   "name": "python",
   "nbconvert_exporter": "python",
   "pygments_lexer": "ipython3",
   "version": "3.7.7"
  }
 },
 "nbformat": 4,
 "nbformat_minor": 4
}
