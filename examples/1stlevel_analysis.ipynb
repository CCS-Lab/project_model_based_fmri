{
 "cells": [
  {
   "cell_type": "code",
   "execution_count": 2,
   "metadata": {},
   "outputs": [
    {
     "ename": "ModuleNotFoundError",
     "evalue": "No module named 'hbayesdm'",
     "output_type": "error",
     "traceback": [
      "\u001b[0;31m---------------------------------------------------------------------------\u001b[0m",
      "\u001b[0;31mModuleNotFoundError\u001b[0m                       Traceback (most recent call last)",
      "\u001b[0;32m<ipython-input-2-228d61645f20>\u001b[0m in \u001b[0;36m<module>\u001b[0;34m\u001b[0m\n\u001b[1;32m      9\u001b[0m \u001b[0;32mfrom\u001b[0m \u001b[0mpathlib\u001b[0m \u001b[0;32mimport\u001b[0m \u001b[0mPath\u001b[0m\u001b[0;34m\u001b[0m\u001b[0;34m\u001b[0m\u001b[0m\n\u001b[1;32m     10\u001b[0m \u001b[0;34m\u001b[0m\u001b[0m\n\u001b[0;32m---> 11\u001b[0;31m \u001b[0;32mfrom\u001b[0m \u001b[0mhbayesdm\u001b[0m\u001b[0;34m.\u001b[0m\u001b[0mmodels\u001b[0m \u001b[0;32mimport\u001b[0m \u001b[0mra_prospect\u001b[0m\u001b[0;34m\u001b[0m\u001b[0;34m\u001b[0m\u001b[0m\n\u001b[0m\u001b[1;32m     12\u001b[0m \u001b[0;34m\u001b[0m\u001b[0m\n\u001b[1;32m     13\u001b[0m \u001b[0;32mimport\u001b[0m \u001b[0mnibabel\u001b[0m \u001b[0;32mas\u001b[0m \u001b[0mnib\u001b[0m\u001b[0;34m\u001b[0m\u001b[0;34m\u001b[0m\u001b[0m\n",
      "\u001b[0;31mModuleNotFoundError\u001b[0m: No module named 'hbayesdm'"
     ]
    }
   ],
   "source": [
    "# -*- coding: utf-8 -*- \n",
    "\n",
    "import config\n",
    "\n",
    "import os\n",
    "import numpy as np\n",
    "import pandas as pd\n",
    "\n",
    "from pathlib import Path\n",
    "\n",
    "from hbayesdm.models import ra_prospect\n",
    "\n",
    "import nibabel as nib\n",
    "# import nipype as nip\n",
    "# import nilearn as nil\n",
    "\n",
    "from bids import BIDSLayout, BIDSValidator\n",
    "from tqdm import tqdm\n",
    "\n",
    "import pickle"
   ]
  },
  {
   "cell_type": "code",
   "execution_count": 2,
   "metadata": {},
   "outputs": [
    {
     "name": "stderr",
     "output_type": "stream",
     "text": [
      "/home/cheoljun/anaconda3/lib/python3.7/site-packages/bids/layout/layout.py:774: UserWarning: Derivative indexing was requested, but no valid datasets were found in the specified locations (['data/tom_2007/ds000005/derivatives']). Note that all BIDS-Derivatives datasets must meet all the requirements for BIDS-Raw datasets (a common problem is to fail to include a dataset_description.json file in derivatives datasets).\n",
      "  \"datasets).\".format(paths))\n"
     ]
    }
   ],
   "source": [
    "layout = BIDSLayout(config.DATA_DIR, derivatives=True)"
   ]
  },
  {
   "cell_type": "code",
   "execution_count": 8,
   "metadata": {},
   "outputs": [],
   "source": [
    "# make config\n",
    "x, y, z, t = nib.load(\n",
    "    layout.get(\n",
    "        subject=layout.get(target='subject', return_type='id')[0],\n",
    "        return_type='file',\n",
    "        suffix='bold',\n",
    "        extension='nii.gz'\n",
    "    )[0]).shape\n",
    "\n",
    "cfg = {\n",
    "    'slicing_time': layout.get_tr(),\n",
    "    'time_dim': t\n",
    "}\n",
    "cfg['time_indices'] = [int(cfg['slicing_time'] * _t / config.RESPONSE_TR) for _t in range(cfg['time_dim'])]"
   ]
  },
  {
   "cell_type": "code",
   "execution_count": 9,
   "metadata": {},
   "outputs": [
    {
     "name": "stderr",
     "output_type": "stream",
     "text": [
      "100%|██████████| 16/16 [00:00<00:00, 45.30it/s]\n"
     ]
    }
   ],
   "source": [
    "frmi_subject_run = {}\n",
    "# simple structure for fmri_subject_run\n",
    "# fmri_subject_run: {\n",
    "#     subj: {\n",
    "#         niis: [run1, run2, run3],\n",
    "#         events: [run1, run2, run3]\n",
    "#     }\n",
    "# }\n",
    "\n",
    "for subject_id in tqdm(layout.get(target='subject', return_type='id')):\n",
    "    if subject_id not in frmi_subject_run.keys():\n",
    "        frmi_subject_run[subject_id] = {\n",
    "            'niis': layout.get(subject=subject_id, return_type='file', suffix='bold', extension='nii.gz'),\n",
    "            'events': layout.get(subject=subject_id, return_type='file', suffix='events', extension='tsv')\n",
    "        }\n",
    "    else: # subjID is already exists..\n",
    "        print(f'error! {subject_id}')\n",
    "        break"
   ]
  },
  {
   "cell_type": "code",
   "execution_count": 10,
   "metadata": {},
   "outputs": [],
   "source": [
    "df_all = []\n",
    "\n",
    "for subject_id in layout.get(target='subject', return_type='id'):\n",
    "    for i, df_path in enumerate(frmi_subject_run[subject_id]['events']):\n",
    "        df = pd.read_table(df_path)\n",
    "        df['subjID'] = int(subject_id)\n",
    "        df['run'] = i + 1\n",
    "        df_all.append(df)\n",
    "    \n",
    "df_all = pd.concat(df_all)"
   ]
  },
  {
   "cell_type": "code",
   "execution_count": 11,
   "metadata": {},
   "outputs": [],
   "source": [
    "columns = df_all.columns.copy()"
   ]
  },
  {
   "cell_type": "code",
   "execution_count": 12,
   "metadata": {},
   "outputs": [
    {
     "data": {
      "text/html": [
       "<div>\n",
       "<style scoped>\n",
       "    .dataframe tbody tr th:only-of-type {\n",
       "        vertical-align: middle;\n",
       "    }\n",
       "\n",
       "    .dataframe tbody tr th {\n",
       "        vertical-align: top;\n",
       "    }\n",
       "\n",
       "    .dataframe thead th {\n",
       "        text-align: right;\n",
       "    }\n",
       "</style>\n",
       "<table border=\"1\" class=\"dataframe\">\n",
       "  <thead>\n",
       "    <tr style=\"text-align: right;\">\n",
       "      <th></th>\n",
       "      <th>onset</th>\n",
       "      <th>duration</th>\n",
       "      <th>parametric loss</th>\n",
       "      <th>distance from indifference</th>\n",
       "      <th>parametric gain</th>\n",
       "      <th>gain</th>\n",
       "      <th>loss</th>\n",
       "      <th>PTval</th>\n",
       "      <th>respnum</th>\n",
       "      <th>respcat</th>\n",
       "      <th>response_time</th>\n",
       "      <th>subjID</th>\n",
       "      <th>run</th>\n",
       "      <th>cert</th>\n",
       "      <th>gamble</th>\n",
       "    </tr>\n",
       "  </thead>\n",
       "  <tbody>\n",
       "    <tr>\n",
       "      <td>1</td>\n",
       "      <td>4</td>\n",
       "      <td>3</td>\n",
       "      <td>-0.0227</td>\n",
       "      <td>-0.4147</td>\n",
       "      <td>-0.189</td>\n",
       "      <td>18</td>\n",
       "      <td>12</td>\n",
       "      <td>6.12</td>\n",
       "      <td>2</td>\n",
       "      <td>1</td>\n",
       "      <td>1.793</td>\n",
       "      <td>1</td>\n",
       "      <td>1</td>\n",
       "      <td>0</td>\n",
       "      <td>1</td>\n",
       "    </tr>\n",
       "    <tr>\n",
       "      <td>2</td>\n",
       "      <td>8</td>\n",
       "      <td>3</td>\n",
       "      <td>0.1273</td>\n",
       "      <td>0.2519</td>\n",
       "      <td>-0.389</td>\n",
       "      <td>10</td>\n",
       "      <td>15</td>\n",
       "      <td>-4.85</td>\n",
       "      <td>3</td>\n",
       "      <td>0</td>\n",
       "      <td>1.637</td>\n",
       "      <td>1</td>\n",
       "      <td>1</td>\n",
       "      <td>0</td>\n",
       "      <td>0</td>\n",
       "    </tr>\n",
       "    <tr>\n",
       "      <td>3</td>\n",
       "      <td>18</td>\n",
       "      <td>3</td>\n",
       "      <td>0.1773</td>\n",
       "      <td>-0.0814</td>\n",
       "      <td>0.211</td>\n",
       "      <td>34</td>\n",
       "      <td>16</td>\n",
       "      <td>18.16</td>\n",
       "      <td>1</td>\n",
       "      <td>1</td>\n",
       "      <td>1.316</td>\n",
       "      <td>1</td>\n",
       "      <td>1</td>\n",
       "      <td>0</td>\n",
       "      <td>1</td>\n",
       "    </tr>\n",
       "    <tr>\n",
       "      <td>4</td>\n",
       "      <td>24</td>\n",
       "      <td>3</td>\n",
       "      <td>-0.3727</td>\n",
       "      <td>-0.0814</td>\n",
       "      <td>-0.189</td>\n",
       "      <td>18</td>\n",
       "      <td>5</td>\n",
       "      <td>13.05</td>\n",
       "      <td>1</td>\n",
       "      <td>1</td>\n",
       "      <td>1.670</td>\n",
       "      <td>1</td>\n",
       "      <td>1</td>\n",
       "      <td>0</td>\n",
       "      <td>1</td>\n",
       "    </tr>\n",
       "    <tr>\n",
       "      <td>5</td>\n",
       "      <td>28</td>\n",
       "      <td>3</td>\n",
       "      <td>0.0273</td>\n",
       "      <td>-0.4147</td>\n",
       "      <td>0.011</td>\n",
       "      <td>26</td>\n",
       "      <td>13</td>\n",
       "      <td>13.13</td>\n",
       "      <td>2</td>\n",
       "      <td>1</td>\n",
       "      <td>1.232</td>\n",
       "      <td>1</td>\n",
       "      <td>1</td>\n",
       "      <td>0</td>\n",
       "      <td>1</td>\n",
       "    </tr>\n",
       "  </tbody>\n",
       "</table>\n",
       "</div>"
      ],
      "text/plain": [
       "   onset  duration  parametric loss  distance from indifference  \\\n",
       "1      4         3          -0.0227                     -0.4147   \n",
       "2      8         3           0.1273                      0.2519   \n",
       "3     18         3           0.1773                     -0.0814   \n",
       "4     24         3          -0.3727                     -0.0814   \n",
       "5     28         3           0.0273                     -0.4147   \n",
       "\n",
       "   parametric gain  gain  loss  PTval  respnum  respcat  response_time  \\\n",
       "1           -0.189    18    12   6.12        2        1          1.793   \n",
       "2           -0.389    10    15  -4.85        3        0          1.637   \n",
       "3            0.211    34    16  18.16        1        1          1.316   \n",
       "4           -0.189    18     5  13.05        1        1          1.670   \n",
       "5            0.011    26    13  13.13        2        1          1.232   \n",
       "\n",
       "   subjID  run  cert  gamble  \n",
       "1       1    1     0       1  \n",
       "2       1    1     0       0  \n",
       "3       1    1     0       1  \n",
       "4       1    1     0       1  \n",
       "5       1    1     0       1  "
      ]
     },
     "execution_count": 12,
     "metadata": {},
     "output_type": "execute_result"
    }
   ],
   "source": [
    "df_all = df_all[df_all['respcat'] != -1]\n",
    "df_all['onset'] = df_all['onset'].astype(np.int)\n",
    "df_all['cert'] = 0 # certain..?\n",
    "df_all['gamble'] = df_all['respcat']\n",
    "df_all.head()"
   ]
  },
  {
   "cell_type": "code",
   "execution_count": null,
   "metadata": {},
   "outputs": [
    {
     "name": "stderr",
     "output_type": "stream",
     "text": [
      "INFO:pystan:COMPILING THE C++ CODE FOR MODEL ra_prospect_39661c43d0c77275c6781f36a16d9609 NOW.\n"
     ]
    },
    {
     "name": "stdout",
     "output_type": "stream",
     "text": [
      "\n",
      "Model  = ra_prospect\n",
      "Data   = <pandas.DataFrame object>\n",
      "\n",
      "Details:\n",
      " # of chains                    = 4\n",
      " # of cores used                = 4\n",
      " # of MCMC samples (per chain)  = 4000\n",
      " # of burn-in samples           = 1000\n",
      " # of subjects                  = 16\n",
      " # of (max) trials per subject  = 256\n",
      "\n",
      "Using cached StanModel: cached-ra_prospect-pystan_2.19.1.1.pkl\n"
     ]
    },
    {
     "name": "stderr",
     "output_type": "stream",
     "text": [
      "/home/cheoljun/anaconda3/lib/python3.7/site-packages/hbayesdm-1.0.1-py3.7.egg/hbayesdm/base.py:447: RuntimeWarning: Failed to get VB estimates for initial values. Use random values for initial values.\n",
      "  RuntimeWarning, stacklevel=1)\n"
     ]
    }
   ],
   "source": [
    "model = ra_prospect(data=df_all, ncore=4)\n",
    "print(model.all_ind_pars)\n",
    "params = model.all_ind_pars\n",
    "params.to_csv('models/ra_prospect_params.tsv', sep='\\t', index=False)"
   ]
  },
  {
   "cell_type": "code",
   "execution_count": null,
   "metadata": {},
   "outputs": [],
   "source": [
    "params = pd.read_csv('models/ra_prospect_params.tsv', sep='\\t')\n",
    "params['subjID'] = params.index + 1"
   ]
  },
  {
   "cell_type": "code",
   "execution_count": null,
   "metadata": {},
   "outputs": [],
   "source": [
    "params.head()"
   ]
  },
  {
   "cell_type": "code",
   "execution_count": null,
   "metadata": {},
   "outputs": [],
   "source": [
    "try: \n",
    "    df_X = pd.merge(df_all, params, how='left', on=['subjID'])\n",
    "except:\n",
    "    df_all.columns = columns\n",
    "    df_X = pd.merge(df_all, params, how='left', on=['subjID'])\n",
    "\n",
    "df_X['utility_risky'] = (df_X['gain'] ** df_X['rho']) - (df_X['lambda'] * (df_X['loss'] ** df_X['rho']))"
   ]
  },
  {
   "cell_type": "code",
   "execution_count": null,
   "metadata": {},
   "outputs": [],
   "source": [
    "df_X.head()"
   ]
  },
  {
   "cell_type": "code",
   "execution_count": null,
   "metadata": {},
   "outputs": [],
   "source": [
    "from nltools.external import glover_hrf\n",
    "\n",
    "def data2bold(utilities, time_stamp, time_resolution=0.01, hrf=glover_hrf(0.01, oversampling=1)):\n",
    "    assert len(utilities) == len(time_stamp)\n",
    "    \n",
    "    output = np.zeros(int((time_stamp.max()+30) / time_resolution))\n",
    "    \n",
    "    # make data impulse\n",
    "    for time, value in zip(time_stamp, utilities):\n",
    "        output[int(time/time_resolution)] = value\n",
    "        \n",
    "    # hrf convolution\n",
    "    return np.convolve(output,hrf,mode='same')"
   ]
  },
  {
   "cell_type": "code",
   "execution_count": null,
   "metadata": {},
   "outputs": [],
   "source": [
    "df_utility_risky_bold = pd.DataFrame(columns=['subjID', 'run', 'onset', 'duration', 'utility_risky_bold'])\n",
    "\n",
    "for name, group in tqdm(df_X.groupby(['subjID', 'run'])):\n",
    "    subject_id, run = name[0], name[1]\n",
    "    \n",
    "    utility_risky_bold = data2bold(\n",
    "        group['utility_risky'].to_numpy(),\n",
    "        group['onset'].to_numpy(),\n",
    "        config.RESPONSE_TR\n",
    "    )\n",
    "    \n",
    "    utility_risky_bold_for_time = [\n",
    "        np.mean(utility_risky_bold[int(row['onset']) * 100: int(row['onset'] + row['duration']) * 100])\n",
    "            for i, row in group.iterrows()\n",
    "    ]\n",
    "    \n",
    "    data = np.array([\n",
    "        [subject_id] * len(utility_risky_bold_for_time),\n",
    "        [run] * len(utility_risky_bold_for_time),\n",
    "        group['onset'].to_numpy(),\n",
    "        group['duration'].to_numpy(),\n",
    "        utility_risky_bold_for_time]\n",
    "    )\n",
    "    data = pd.DataFrame(data).T\n",
    "    data.columns=['subjID', 'run', 'onset', 'duration', 'utility_risky_bold']\n",
    "    df_utility_risky_bold = df_utility_risky_bold.append(data)\n",
    "    \n",
    "df_utility_risky_bold['subjID'] = df_utility_risky_bold['subjID'].astype(int)\n",
    "df_utility_risky_bold['run'] = df_utility_risky_bold['run'].astype(int)"
   ]
  },
  {
   "cell_type": "code",
   "execution_count": null,
   "metadata": {},
   "outputs": [],
   "source": [
    "df_utility_risky_bold.head()"
   ]
  },
  {
   "cell_type": "code",
   "execution_count": null,
   "metadata": {},
   "outputs": [],
   "source": [
    "train = {}\n",
    "\n",
    "for name0, group0 in tqdm(df_utility_risky_bold.groupby(['subjID'])):\n",
    "    X, y = [], []\n",
    "    \n",
    "    for name1, group1 in group0.groupby(['run']):\n",
    "        subject_id, run = name0, name1\n",
    "        img =  nib.load(frmi_subject_run[f'{subject_id:02d}']['niis'][run-1]).get_fdata()\n",
    "\n",
    "        for i, row in group1.iterrows():\n",
    "            i = int(row['onset'] / 2)\n",
    "            j = int(i + row['duration'] / 2 + 1) # slicing\n",
    "            X.append(row['utility_risky_bold'])\n",
    "            y.append(np.mean(img[:,:,:,i:j], axis=3))\n",
    "\n",
    "    if f'{subject_id:02d}' not in train.keys():\n",
    "        train[f'{subject_id:02d}'] = {'X': np.array(X), 'y': np.array(y)}"
   ]
  },
  {
   "cell_type": "code",
   "execution_count": null,
   "metadata": {},
   "outputs": [],
   "source": [
    "from sklearn import linear_model\n",
    "\n",
    "dict_coefs = {}\n",
    "\n",
    "for key, value in tqdm(train.items()):\n",
    "    X = value['X']\n",
    "    y = value['y']\n",
    "    coefs = []\n",
    "    \n",
    "    for i in range(y.shape[1]):\n",
    "        i_v = []\n",
    "        for j in range(y.shape[2]):\n",
    "            j_v = []\n",
    "            for k in range(y.shape[3]):\n",
    "                reg = linear_model.LinearRegression().fit(X.reshape(-1,1), y[:, i, j, k])\n",
    "                j_v.append(np.array([float(reg.coef_), float(reg.intercept_)]))\n",
    "            i_v.append(np.array(j_v))\n",
    "        coefs.append(np.array(i_v))\n",
    "    dict_coefs[key] = np.array(coefs)"
   ]
  },
  {
   "cell_type": "code",
   "execution_count": null,
   "metadata": {},
   "outputs": [],
   "source": [
    "with open('dict_coefs.pkl', 'wb') as fp:\n",
    "    pickle.dump(dict_coefs, fp, protocol=pickle.HIGHEST_PROTOCOL)"
   ]
  },
  {
   "cell_type": "code",
   "execution_count": null,
   "metadata": {},
   "outputs": [],
   "source": [
    "with open('dict_coefs.pkl', 'rb') as f:\n",
    "    dict_coefs = pickle.load(f)"
   ]
  },
  {
   "cell_type": "code",
   "execution_count": null,
   "metadata": {},
   "outputs": [],
   "source": [
    "anat = layout.get(\n",
    "        subject=layout.get(target='subject', return_type='id')[0],\n",
    "        return_type='file',\n",
    "        suffix='T1w',\n",
    "        extension='nii.gz')\n",
    "print(anat)"
   ]
  },
  {
   "cell_type": "code",
   "execution_count": null,
   "metadata": {},
   "outputs": [],
   "source": [
    "img = nib.Nifti1Image(np.array(dict_coefs['01'])[...,0], np.eye(4))"
   ]
  },
  {
   "cell_type": "code",
   "execution_count": null,
   "metadata": {},
   "outputs": [],
   "source": [
    "from nilearn.plotting import plot_stat_map, show\n",
    "\n",
    "plot_stat_map(img, bg_img=anat[0],\n",
    "              title=\"LR weights\", display_mode=\"yx\")\n",
    "\n",
    "show()"
   ]
  },
  {
   "cell_type": "code",
   "execution_count": null,
   "metadata": {},
   "outputs": [],
   "source": []
  }
 ],
 "metadata": {
  "kernelspec": {
   "display_name": "Python 3",
   "language": "python",
   "name": "python3"
  },
  "language_info": {
   "codemirror_mode": {
    "name": "ipython",
    "version": 3
   },
   "file_extension": ".py",
   "mimetype": "text/x-python",
   "name": "python",
   "nbconvert_exporter": "python",
   "pygments_lexer": "ipython3",
   "version": "3.7.4"
  }
 },
 "nbformat": 4,
 "nbformat_minor": 4
}
