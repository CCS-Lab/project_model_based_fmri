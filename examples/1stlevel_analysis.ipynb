{
 "cells": [
  {
   "cell_type": "code",
   "execution_count": 1,
   "metadata": {},
   "outputs": [],
   "source": [
    "# -*- coding: utf-8 -*- \n",
    "\n",
    "import config\n",
    "\n",
    "import os\n",
    "import numpy as np\n",
    "import pandas as pd\n",
    "\n",
    "from pathlib import Path\n",
    "\n",
    "from hbayesdm.models import ra_prospect\n",
    "\n",
    "import nibabel as nib\n",
    "# import nipype as nip\n",
    "# import nilearn as nil\n",
    "\n",
    "from bids import BIDSLayout\n",
    "from tqdm import tqdm\n",
    "\n",
    "import pickle\n",
    "from sklearn import linear_model\n",
    "from scipy.stats import zscore\n",
    "\n",
    "from nltools.external import glover_hrf"
   ]
  },
  {
   "cell_type": "code",
   "execution_count": 2,
   "metadata": {},
   "outputs": [
    {
     "name": "stderr",
     "output_type": "stream",
     "text": [
      "/home/mybirth0407/anaconda3/envs/mva/lib/python3.7/site-packages/bids/layout/models.py:102: FutureWarning: The 'extension' entity currently excludes the leading dot ('.'). As of version 0.14.0, it will include the leading dot. To suppress this warning and include the leading dot, use `bids.config.set_option('extension_initial_dot', True)`.\n",
      "  FutureWarning)\n",
      "/home/mybirth0407/anaconda3/envs/mva/lib/python3.7/site-packages/bids/layout/layout.py:591: UserWarning: Derivative indexing was requested, but no valid datasets were found in the specified locations (['/home/mybirth0407/datasets/ds000005/derivatives']). Note that all BIDS-Derivatives datasets must meet all the requirements for BIDS-Raw datasets (a common problem is to fail to include a 'dataset_description.json' file in derivatives datasets).\n",
      "Example contents of 'dataset_description.json':\n",
      "{\"Name\": \"Example dataset\", \"BIDSVersion\": \"1.0.2\", \"PipelineDescription\": {\"Name\": \"Example pipeline\"}}\n",
      "  json.dumps(EXAMPLE_DERIVATIVES_DESCRIPTION))\n"
     ]
    }
   ],
   "source": [
    "layout = BIDSLayout(config.DATA_DIR, derivatives=True)\n",
    "layout.add_derivatives(config.PREP_DIR)"
   ]
  },
  {
   "cell_type": "code",
   "execution_count": 3,
   "metadata": {},
   "outputs": [
    {
     "data": {
      "text/plain": [
       "BIDS Layout: .../mybirth0407/datasets/ds000005 | Subjects: 16 | Sessions: 0 | Runs: 48"
      ]
     },
     "execution_count": 3,
     "metadata": {},
     "output_type": "execute_result"
    }
   ],
   "source": [
    "layout"
   ]
  },
  {
   "cell_type": "code",
   "execution_count": 4,
   "metadata": {},
   "outputs": [],
   "source": [
    "# make config\n",
    "image_sample = nib.load(\n",
    "    layout.derivatives['fMRIPrep'].get(\n",
    "        subject=layout.get(target='subject', return_type='id')[0],\n",
    "        return_type='file',\n",
    "        suffix='bold',\n",
    "        extension='nii.gz'\n",
    "        )[0])\n",
    "cfg = {\n",
    "    'slicing_time': layout.get_tr(),\n",
    "    'time_dim': image_sample.shape[3]\n",
    "}\n",
    "cfg['time_indices'] = [int(cfg['slicing_time'] * _t / config.RESPONSE_TR) for _t in range(cfg['time_dim'])]\n",
    "cfg['affine'] = image_sample.affine"
   ]
  },
  {
   "cell_type": "code",
   "execution_count": 5,
   "metadata": {},
   "outputs": [
    {
     "name": "stderr",
     "output_type": "stream",
     "text": [
      "100%|██████████| 16/16 [00:03<00:00,  4.82it/s]\n"
     ]
    }
   ],
   "source": [
    "frmi_subject_run = {}\n",
    "# simple structure for fmri_subject_run\n",
    "# fmri_subject_run: {\n",
    "#     subj: {\n",
    "#         niis: [run1, run2, run3],\n",
    "#         events: [run1, run2, run3]\n",
    "#     }\n",
    "# }\n",
    "\n",
    "for subject_id in tqdm(layout.get(target='subject', return_type='id')):\n",
    "    if subject_id not in frmi_subject_run.keys():\n",
    "        frmi_subject_run[subject_id] = {\n",
    "            'niis': layout.derivatives['fMRIPrep'].get(subject=subject_id, return_type='file', suffix='bold', extension='nii.gz'),\n",
    "            'events': layout.get(subject=subject_id, return_type='file', suffix='events', extension='tsv')\n",
    "        }\n",
    "    else: # subjID is already exists..\n",
    "        print(f'error! {subject_id}')\n",
    "        break"
   ]
  },
  {
   "cell_type": "code",
   "execution_count": 6,
   "metadata": {},
   "outputs": [],
   "source": [
    "df_all = []\n",
    "\n",
    "for subject_id in layout.get(target='subject', return_type='id'):\n",
    "    for i, df_path in enumerate(frmi_subject_run[subject_id]['events']):\n",
    "        df = pd.read_table(df_path)\n",
    "        df['subjID'] = int(subject_id)\n",
    "        df['run'] = i + 1\n",
    "        df_all.append(df)\n",
    "    \n",
    "df_all = pd.concat(df_all)"
   ]
  },
  {
   "cell_type": "code",
   "execution_count": 7,
   "metadata": {},
   "outputs": [],
   "source": [
    "columns = df_all.columns.copy()"
   ]
  },
  {
   "cell_type": "code",
   "execution_count": 8,
   "metadata": {},
   "outputs": [
    {
     "name": "stderr",
     "output_type": "stream",
     "text": [
      "INFO:numexpr.utils:Note: detected 72 virtual cores but NumExpr set to maximum of 64, check \"NUMEXPR_MAX_THREADS\" environment variable.\n",
      "INFO:numexpr.utils:Note: NumExpr detected 72 cores but \"NUMEXPR_MAX_THREADS\" not set, so enforcing safe limit of 8.\n",
      "INFO:numexpr.utils:NumExpr defaulting to 8 threads.\n"
     ]
    },
    {
     "data": {
      "text/html": [
       "<div>\n",
       "<style scoped>\n",
       "    .dataframe tbody tr th:only-of-type {\n",
       "        vertical-align: middle;\n",
       "    }\n",
       "\n",
       "    .dataframe tbody tr th {\n",
       "        vertical-align: top;\n",
       "    }\n",
       "\n",
       "    .dataframe thead th {\n",
       "        text-align: right;\n",
       "    }\n",
       "</style>\n",
       "<table border=\"1\" class=\"dataframe\">\n",
       "  <thead>\n",
       "    <tr style=\"text-align: right;\">\n",
       "      <th></th>\n",
       "      <th>onset</th>\n",
       "      <th>duration</th>\n",
       "      <th>parametric loss</th>\n",
       "      <th>distance from indifference</th>\n",
       "      <th>parametric gain</th>\n",
       "      <th>gain</th>\n",
       "      <th>loss</th>\n",
       "      <th>PTval</th>\n",
       "      <th>respnum</th>\n",
       "      <th>respcat</th>\n",
       "      <th>response_time</th>\n",
       "      <th>subjID</th>\n",
       "      <th>run</th>\n",
       "      <th>cert</th>\n",
       "      <th>gamble</th>\n",
       "    </tr>\n",
       "  </thead>\n",
       "  <tbody>\n",
       "    <tr>\n",
       "      <th>1</th>\n",
       "      <td>4</td>\n",
       "      <td>3</td>\n",
       "      <td>-0.0227</td>\n",
       "      <td>-0.4147</td>\n",
       "      <td>-0.189</td>\n",
       "      <td>18</td>\n",
       "      <td>12</td>\n",
       "      <td>6.12</td>\n",
       "      <td>2</td>\n",
       "      <td>1</td>\n",
       "      <td>1.793</td>\n",
       "      <td>1</td>\n",
       "      <td>1</td>\n",
       "      <td>0</td>\n",
       "      <td>1</td>\n",
       "    </tr>\n",
       "    <tr>\n",
       "      <th>2</th>\n",
       "      <td>8</td>\n",
       "      <td>3</td>\n",
       "      <td>0.1273</td>\n",
       "      <td>0.2519</td>\n",
       "      <td>-0.389</td>\n",
       "      <td>10</td>\n",
       "      <td>15</td>\n",
       "      <td>-4.85</td>\n",
       "      <td>3</td>\n",
       "      <td>0</td>\n",
       "      <td>1.637</td>\n",
       "      <td>1</td>\n",
       "      <td>1</td>\n",
       "      <td>0</td>\n",
       "      <td>0</td>\n",
       "    </tr>\n",
       "    <tr>\n",
       "      <th>3</th>\n",
       "      <td>18</td>\n",
       "      <td>3</td>\n",
       "      <td>0.1773</td>\n",
       "      <td>-0.0814</td>\n",
       "      <td>0.211</td>\n",
       "      <td>34</td>\n",
       "      <td>16</td>\n",
       "      <td>18.16</td>\n",
       "      <td>1</td>\n",
       "      <td>1</td>\n",
       "      <td>1.316</td>\n",
       "      <td>1</td>\n",
       "      <td>1</td>\n",
       "      <td>0</td>\n",
       "      <td>1</td>\n",
       "    </tr>\n",
       "    <tr>\n",
       "      <th>4</th>\n",
       "      <td>24</td>\n",
       "      <td>3</td>\n",
       "      <td>-0.3727</td>\n",
       "      <td>-0.0814</td>\n",
       "      <td>-0.189</td>\n",
       "      <td>18</td>\n",
       "      <td>5</td>\n",
       "      <td>13.05</td>\n",
       "      <td>1</td>\n",
       "      <td>1</td>\n",
       "      <td>1.670</td>\n",
       "      <td>1</td>\n",
       "      <td>1</td>\n",
       "      <td>0</td>\n",
       "      <td>1</td>\n",
       "    </tr>\n",
       "    <tr>\n",
       "      <th>5</th>\n",
       "      <td>28</td>\n",
       "      <td>3</td>\n",
       "      <td>0.0273</td>\n",
       "      <td>-0.4147</td>\n",
       "      <td>0.011</td>\n",
       "      <td>26</td>\n",
       "      <td>13</td>\n",
       "      <td>13.13</td>\n",
       "      <td>2</td>\n",
       "      <td>1</td>\n",
       "      <td>1.232</td>\n",
       "      <td>1</td>\n",
       "      <td>1</td>\n",
       "      <td>0</td>\n",
       "      <td>1</td>\n",
       "    </tr>\n",
       "  </tbody>\n",
       "</table>\n",
       "</div>"
      ],
      "text/plain": [
       "   onset  duration  parametric loss  distance from indifference  \\\n",
       "1      4         3          -0.0227                     -0.4147   \n",
       "2      8         3           0.1273                      0.2519   \n",
       "3     18         3           0.1773                     -0.0814   \n",
       "4     24         3          -0.3727                     -0.0814   \n",
       "5     28         3           0.0273                     -0.4147   \n",
       "\n",
       "   parametric gain  gain  loss  PTval  respnum  respcat  response_time  \\\n",
       "1           -0.189    18    12   6.12        2        1          1.793   \n",
       "2           -0.389    10    15  -4.85        3        0          1.637   \n",
       "3            0.211    34    16  18.16        1        1          1.316   \n",
       "4           -0.189    18     5  13.05        1        1          1.670   \n",
       "5            0.011    26    13  13.13        2        1          1.232   \n",
       "\n",
       "   subjID  run  cert  gamble  \n",
       "1       1    1     0       1  \n",
       "2       1    1     0       0  \n",
       "3       1    1     0       1  \n",
       "4       1    1     0       1  \n",
       "5       1    1     0       1  "
      ]
     },
     "execution_count": 8,
     "metadata": {},
     "output_type": "execute_result"
    }
   ],
   "source": [
    "df_all = df_all[df_all['respcat'] != -1]\n",
    "df_all['onset'] = df_all['onset'].astype(np.int)\n",
    "df_all['cert'] = 0 # certain..?\n",
    "df_all['gamble'] = df_all['respcat']\n",
    "df_all.head()"
   ]
  },
  {
   "cell_type": "code",
   "execution_count": 9,
   "metadata": {},
   "outputs": [
    {
     "name": "stdout",
     "output_type": "stream",
     "text": [
      "Using cached StanModel: cached-ra_prospect-pystan_2.19.1.1.pkl\n"
     ]
    },
    {
     "name": "stderr",
     "output_type": "stream",
     "text": [
      "WARNING:pystan:Automatic Differentiation Variational Inference (ADVI) is an EXPERIMENTAL ALGORITHM.\n",
      "WARNING:pystan:ADVI samples may be found on the filesystem in the file `/tmp/tmp167v_qi8/output.csv`\n"
     ]
    },
    {
     "name": "stdout",
     "output_type": "stream",
     "text": [
      "\n",
      "Model  = ra_prospect\n",
      "Data   = <pandas.DataFrame object>\n",
      "\n",
      "Details:\n",
      " # of chains                    = 4\n",
      " # of cores used                = 4\n",
      " # of MCMC samples (per chain)  = 4000\n",
      " # of burn-in samples           = 1000\n",
      " # of subjects                  = 16\n",
      " # of (max) trials per subject  = 256\n",
      "\n",
      "Using cached StanModel: cached-ra_prospect-pystan_2.19.1.1.pkl\n",
      "Index(['onset', 'duration', 'parametric loss', 'distance from indifference',\n",
      "       'parametric gain', 'gain', 'loss', 'ptval', 'respnum', 'respcat',\n",
      "       'responsetime', 'subjid', 'run', 'cert', 'gamble'],\n",
      "      dtype='object')\n",
      "['onset', 'duration', 'parametric loss', 'distance from indifference', 'parametric gain', 'gain', 'loss', 'PTval', 'respnum', 'respcat', 'response_time', 'subjID', 'run', 'cert', 'gamble']\n",
      "************************************\n",
      "**** Model fitting is complete! ****\n",
      "************************************\n",
      "         rho    lambda        tau\n",
      "1   0.450843  1.020849  17.716767\n",
      "2   0.355433  1.446935  17.809101\n",
      "3   0.294903  1.420133  17.338361\n",
      "4   0.291512  1.397379  17.448340\n",
      "5   0.233100  1.234434  16.921564\n",
      "6   0.315432  1.241251  17.276030\n",
      "7   0.313573  1.076095  17.314149\n",
      "8   0.401144  1.148164  17.573356\n",
      "9   0.280508  1.324994  17.258757\n",
      "10  0.443624  1.106159  17.666250\n",
      "11  0.493707  1.015896  17.882920\n",
      "12  0.346973  1.208994  17.466234\n",
      "13  0.295438  1.357986  17.508056\n",
      "14  0.275817  1.235127  17.069196\n",
      "15  0.244074  1.271990  16.981864\n",
      "16  0.365657  1.265351  17.480926\n"
     ]
    }
   ],
   "source": [
    "model = ra_prospect(data=df_all, ncore=4)\n",
    "print(model.all_ind_pars)\n",
    "params = model.all_ind_pars\n",
    "params.to_csv('models/ra_prospect_params.tsv', sep='\\t', index=False)"
   ]
  },
  {
   "cell_type": "code",
   "execution_count": 11,
   "metadata": {},
   "outputs": [],
   "source": [
    "params = pd.read_csv('models/ra_prospect_params.tsv', sep='\\t')\n",
    "params['subjID'] = params.index + 1"
   ]
  },
  {
   "cell_type": "code",
   "execution_count": 12,
   "metadata": {},
   "outputs": [
    {
     "data": {
      "text/html": [
       "<div>\n",
       "<style scoped>\n",
       "    .dataframe tbody tr th:only-of-type {\n",
       "        vertical-align: middle;\n",
       "    }\n",
       "\n",
       "    .dataframe tbody tr th {\n",
       "        vertical-align: top;\n",
       "    }\n",
       "\n",
       "    .dataframe thead th {\n",
       "        text-align: right;\n",
       "    }\n",
       "</style>\n",
       "<table border=\"1\" class=\"dataframe\">\n",
       "  <thead>\n",
       "    <tr style=\"text-align: right;\">\n",
       "      <th></th>\n",
       "      <th>rho</th>\n",
       "      <th>lambda</th>\n",
       "      <th>tau</th>\n",
       "      <th>subjID</th>\n",
       "    </tr>\n",
       "  </thead>\n",
       "  <tbody>\n",
       "    <tr>\n",
       "      <th>0</th>\n",
       "      <td>0.450843</td>\n",
       "      <td>1.020849</td>\n",
       "      <td>17.716767</td>\n",
       "      <td>1</td>\n",
       "    </tr>\n",
       "    <tr>\n",
       "      <th>1</th>\n",
       "      <td>0.355433</td>\n",
       "      <td>1.446935</td>\n",
       "      <td>17.809101</td>\n",
       "      <td>2</td>\n",
       "    </tr>\n",
       "    <tr>\n",
       "      <th>2</th>\n",
       "      <td>0.294903</td>\n",
       "      <td>1.420133</td>\n",
       "      <td>17.338361</td>\n",
       "      <td>3</td>\n",
       "    </tr>\n",
       "    <tr>\n",
       "      <th>3</th>\n",
       "      <td>0.291512</td>\n",
       "      <td>1.397379</td>\n",
       "      <td>17.448340</td>\n",
       "      <td>4</td>\n",
       "    </tr>\n",
       "    <tr>\n",
       "      <th>4</th>\n",
       "      <td>0.233100</td>\n",
       "      <td>1.234434</td>\n",
       "      <td>16.921564</td>\n",
       "      <td>5</td>\n",
       "    </tr>\n",
       "  </tbody>\n",
       "</table>\n",
       "</div>"
      ],
      "text/plain": [
       "        rho    lambda        tau  subjID\n",
       "0  0.450843  1.020849  17.716767       1\n",
       "1  0.355433  1.446935  17.809101       2\n",
       "2  0.294903  1.420133  17.338361       3\n",
       "3  0.291512  1.397379  17.448340       4\n",
       "4  0.233100  1.234434  16.921564       5"
      ]
     },
     "execution_count": 12,
     "metadata": {},
     "output_type": "execute_result"
    }
   ],
   "source": [
    "params.head()"
   ]
  },
  {
   "cell_type": "code",
   "execution_count": 19,
   "metadata": {},
   "outputs": [],
   "source": [
    "try: \n",
    "    df_X = pd.merge(df_all, params, how='left', on=['subjID'])\n",
    "except:\n",
    "    df_all.columns = columns\n",
    "    df_X = pd.merge(df_all, params, how='left', on=['subjID'])\n",
    "\n",
    "df_X['U_risky'] = (df_X['gain'] ** df_X['rho']) - (df_X['lambda'] * (df_X['loss'] ** df_X['rho']))"
   ]
  },
  {
   "cell_type": "code",
   "execution_count": 14,
   "metadata": {},
   "outputs": [],
   "source": [
    "def data2bold(utilities, time_stamp, time_resolution=0.01, hrf=glover_hrf(0.01, oversampling=1)):\n",
    "    assert len(utilities) == len(time_stamp)\n",
    "    \n",
    "    output = np.zeros(int((time_stamp.max()+30) / time_resolution))\n",
    "    \n",
    "    # make data impulse\n",
    "    for time, value in zip(time_stamp, utilities):\n",
    "        output[int(time/time_resolution)] = value\n",
    "        \n",
    "    # hrf convolution\n",
    "    return output, np.convolve(output, hrf, mode='same')"
   ]
  },
  {
   "cell_type": "code",
   "execution_count": null,
   "metadata": {},
   "outputs": [],
   "source": []
  },
  {
   "cell_type": "code",
   "execution_count": 20,
   "metadata": {},
   "outputs": [
    {
     "name": "stderr",
     "output_type": "stream",
     "text": [
      "100%|██████████| 48/48 [00:01<00:00, 26.12it/s]\n"
     ]
    }
   ],
   "source": [
    "latent_process = {}\n",
    "latent_process_name = 'U_risky'\n",
    "\n",
    "for name, group in tqdm(df_X.groupby(['subjID', 'run'])):\n",
    "    subject_id, run = name[0], name[1]\n",
    "    \n",
    "    impulse, bold = data2bold(\n",
    "        group[latent_process_name ].to_numpy(),\n",
    "        group['onset'].to_numpy(),\n",
    "        config.RESPONSE_TR\n",
    "    )\n",
    "    name = f'{subject_id:02d}-{run}'\n",
    "    latent_process[name] = {}\n",
    "    latent_process[name][f'{latent_process_name}_impluse'] = impulse\n",
    "    latent_process[name][f'{latent_process_name}_bold'] = bold"
   ]
  },
  {
   "cell_type": "code",
   "execution_count": 22,
   "metadata": {},
   "outputs": [],
   "source": [
    "run_list = layout.get(target='run', return_type='id')\n",
    "subj_list = layout.get(target='subject', return_type='id')"
   ]
  },
  {
   "cell_type": "code",
   "execution_count": 24,
   "metadata": {},
   "outputs": [
    {
     "name": "stderr",
     "output_type": "stream",
     "text": [
      "100%|██████████| 16/16 [01:26<00:00,  5.43s/it]\n"
     ]
    }
   ],
   "source": [
    "train = {}\n",
    "unit_time_length = int(layout.get_tr() / config.RESPONSE_TR)\n",
    "for subjID in tqdm(frmi_subject_run):\n",
    "    X, y = [] ,[]\n",
    "    for runID in (run_list):\n",
    "        _file_name = layout.derivatives['fMRIPrep'].get(subject=subjID,run=runID, return_type='file', suffix='bold', extension='nii.gz')[0]\n",
    "        _img = nib.load(_file_name).get_fdata()\n",
    "        time_length = _img.shape[-1]\n",
    "        _name = f'{subjID}-{runID}'\n",
    "        _x = latent_process[_name][f'{latent_process_name}_bold']\n",
    "        _x_desired_length = len(_x)//unit_time_length\n",
    "        _x = _x[:_x_desired_length*unit_time_length]\n",
    "        final_length = min(time_length,_x_desired_length)\n",
    "        _x = _x.reshape(-1,unit_time_length).mean(-1)[:final_length] \n",
    "        _img = _img[...,:final_length]\n",
    "        X.append(np.array(_x))\n",
    "        y.append(_img)\n",
    "    train[subjID] = {'X':np.concatenate(X,-1),\n",
    "                     'y':np.concatenate(y,-1)}"
   ]
  },
  {
   "cell_type": "code",
   "execution_count": 14,
   "metadata": {},
   "outputs": [
    {
     "name": "stderr",
     "output_type": "stream",
     "text": [
      "100%|██████████| 48/48 [00:02<00:00, 19.20it/s]\n"
     ]
    }
   ],
   "source": [
    "# no used\n",
    "\n",
    "# df_utility_risky_bold = pd.DataFrame(columns=['subjID', 'run', 'onset', 'duration', 'U_risky'])\n",
    "\n",
    "# for name, group in tqdm(df_X.groupby(['subjID', 'run'])):\n",
    "#     subject_id, run = name[0], name[1]\n",
    "    \n",
    "#     utility_risky_bold = data2bold(\n",
    "#         group['utility_risky'].to_numpy(),\n",
    "#         group['onset'].to_numpy(),\n",
    "#         config.RESPONSE_TR\n",
    "#     )\n",
    "    \n",
    "#     utility_risky_bold_for_time = [\n",
    "#         np.mean(utility_risky_bold[int(row['onset']) * 100: int(row['onset'] + row['duration']) * 100])\n",
    "#             for i, row in group.iterrows()\n",
    "#     ]\n",
    "    \n",
    "#     data = np.array([\n",
    "#         [subject_id] * len(utility_risky_bold_for_time),\n",
    "#         [run] * len(utility_risky_bold_for_time),\n",
    "#         group['onset'].to_numpy(),\n",
    "#         group['duration'].to_numpy(),\n",
    "#         utility_risky_bold_for_time]\n",
    "#     )\n",
    "#     data = pd.DataFrame(data).T\n",
    "#     data.columns=['subjID', 'run', 'onset', 'duration', 'utility_risky_bold']\n",
    "#     df_utility_risky_bold = df_utility_risky_bold.append(data)\n",
    "    \n",
    "# df_utility_risky_bold['subjID'] = df_utility_risky_bold['subjID'].astype(int)\n",
    "# df_utility_risky_bold['run'] = df_utility_risky_bold['run'].astype(int)"
   ]
  },
  {
   "cell_type": "code",
   "execution_count": 16,
   "metadata": {},
   "outputs": [
    {
     "name": "stderr",
     "output_type": "stream",
     "text": [
      "100%|██████████| 16/16 [00:42<00:00,  2.64s/it]\n"
     ]
    }
   ],
   "source": [
    "# no use\n",
    "\n",
    "# train = {}\n",
    "\n",
    "# for name0, group0 in tqdm(df_utility_risky_bold.groupby(['subjID'])):\n",
    "#     X, y = [], []\n",
    "    \n",
    "#     for name1, group1 in group0.groupby(['run']):\n",
    "#         subject_id, run = name0, name1\n",
    "#         img =  nib.load(frmi_subject_run[f'{subject_id:02d}']['niis'][run-1]).get_fdata()\n",
    "\n",
    "#         for i, row in group1.iterrows():\n",
    "#             i = int(row['onset'] / 2)\n",
    "#             j = int(i + row['duration'] / 2 + 1) # slicing\n",
    "#             X.append(row['utility_risky_bold'])\n",
    "#             y.append(np.mean(img[:,:,:,i:j], axis=3))\n",
    "\n",
    "#     if f'{subject_id:02d}' not in train.keys():\n",
    "#         train[f'{subject_id:02d}'] = {'X': np.array(X), 'y': np.array(y)}"
   ]
  },
  {
   "cell_type": "code",
   "execution_count": 26,
   "metadata": {},
   "outputs": [
    {
     "name": "stderr",
     "output_type": "stream",
     "text": [
      "100%|██████████| 16/16 [29:26<00:00, 110.40s/it]\n"
     ]
    }
   ],
   "source": [
    "from sklearn import linear_model\n",
    "\n",
    "dict_coefs = {}\n",
    "\n",
    "for key, value in tqdm(train.items()):\n",
    "    X = value['X']\n",
    "    y = value['y']\n",
    "    coefs = []\n",
    "    \n",
    "    for i in range(y.shape[0]):\n",
    "        i_v = []\n",
    "        for j in range(y.shape[1]):\n",
    "            j_v = []\n",
    "            for k in range(y.shape[2]):\n",
    "                reg = linear_model.LinearRegression().fit(X.reshape(-1, 1), y[i, j, k, :])\n",
    "                j_v.append(np.array([float(reg.coef_), float(reg.intercept_)]))\n",
    "            i_v.append(np.array(j_v))\n",
    "        coefs.append(np.array(i_v))\n",
    "    dict_coefs[key] = np.array(coefs)"
   ]
  },
  {
   "cell_type": "code",
   "execution_count": 27,
   "metadata": {},
   "outputs": [],
   "source": [
    "with open('dict_coefs.pkl', 'wb') as fp:\n",
    "    pickle.dump(dict_coefs, fp, protocol=pickle.HIGHEST_PROTOCOL)"
   ]
  },
  {
   "cell_type": "code",
   "execution_count": 29,
   "metadata": {},
   "outputs": [],
   "source": [
    "with open('dict_coefs.pkl', 'rb') as fp:\n",
    "    dict_coefs = pickle.load(fp)"
   ]
  },
  {
   "cell_type": "code",
   "execution_count": 38,
   "metadata": {},
   "outputs": [
    {
     "data": {
      "text/plain": [
       "(63, 74, 49)"
      ]
     },
     "execution_count": 38,
     "metadata": {},
     "output_type": "execute_result"
    }
   ],
   "source": [
    "np.array(dict_coefs['01'][...,0]).shape"
   ]
  },
  {
   "cell_type": "code",
   "execution_count": 31,
   "metadata": {},
   "outputs": [
    {
     "name": "stdout",
     "output_type": "stream",
     "text": [
      "['/home/mybirth0407/datasets/ds000005/sub-01/anat/sub-01_T1w.nii.gz', '/home/mybirth0407/datasets/ds000005_derivatives/fmriprep/sub-01/anat/sub-01_desc-preproc_T1w.nii.gz', '/home/mybirth0407/datasets/ds000005_derivatives/fmriprep/sub-01/anat/sub-01_space-MNI152NLin2009cAsym_desc-preproc_T1w.nii.gz']\n"
     ]
    }
   ],
   "source": [
    "anat = layout.get(\n",
    "        subject=layout.get(target='subject', return_type='id')[0],\n",
    "        return_type='file',\n",
    "        suffix='T1w',\n",
    "        extension='nii.gz')\n",
    "print(anat)"
   ]
  },
  {
   "cell_type": "code",
   "execution_count": 74,
   "metadata": {},
   "outputs": [],
   "source": [
    "img = np.array(dict_coefs['01'])[...,0]\n",
    "img = zscore(img)"
   ]
  },
  {
   "cell_type": "code",
   "execution_count": 75,
   "metadata": {},
   "outputs": [],
   "source": [
    "img[img < 2] = np.nan"
   ]
  },
  {
   "cell_type": "code",
   "execution_count": 76,
   "metadata": {},
   "outputs": [],
   "source": [
    "num_sample   = img.shape[0] # 3 (3개 샘플 데이터)\n",
    "num_sequence = img.shape[1] # 4 (4개 시계열 데이터)\n",
    "num_feature  = img.shape[2] # 2 (2개 Feature(미세먼지, 초미세먼지 증감))"
   ]
  },
  {
   "cell_type": "code",
   "execution_count": 77,
   "metadata": {},
   "outputs": [],
   "source": [
    "from sklearn.preprocessing import MinMaxScaler\n",
    "scaler = MinMaxScaler((-4, 4))"
   ]
  },
  {
   "cell_type": "code",
   "execution_count": 78,
   "metadata": {
    "collapsed": true,
    "jupyter": {
     "outputs_hidden": true
    }
   },
   "outputs": [
    {
     "name": "stderr",
     "output_type": "stream",
     "text": [
      "/home/mybirth0407/anaconda3/envs/mva/lib/python3.7/site-packages/sklearn/preprocessing/_data.py:373: RuntimeWarning: All-NaN slice encountered\n",
      "  data_min = np.nanmin(X, axis=0)\n",
      "/home/mybirth0407/anaconda3/envs/mva/lib/python3.7/site-packages/sklearn/preprocessing/_data.py:374: RuntimeWarning: All-NaN slice encountered\n",
      "  data_max = np.nanmax(X, axis=0)\n",
      "/home/mybirth0407/anaconda3/envs/mva/lib/python3.7/site-packages/sklearn/preprocessing/_data.py:373: RuntimeWarning: All-NaN slice encountered\n",
      "  data_min = np.nanmin(X, axis=0)\n",
      "/home/mybirth0407/anaconda3/envs/mva/lib/python3.7/site-packages/sklearn/preprocessing/_data.py:374: RuntimeWarning: All-NaN slice encountered\n",
      "  data_max = np.nanmax(X, axis=0)\n",
      "/home/mybirth0407/anaconda3/envs/mva/lib/python3.7/site-packages/sklearn/preprocessing/_data.py:373: RuntimeWarning: All-NaN slice encountered\n",
      "  data_min = np.nanmin(X, axis=0)\n",
      "/home/mybirth0407/anaconda3/envs/mva/lib/python3.7/site-packages/sklearn/preprocessing/_data.py:374: RuntimeWarning: All-NaN slice encountered\n",
      "  data_max = np.nanmax(X, axis=0)\n",
      "/home/mybirth0407/anaconda3/envs/mva/lib/python3.7/site-packages/sklearn/preprocessing/_data.py:373: RuntimeWarning: All-NaN slice encountered\n",
      "  data_min = np.nanmin(X, axis=0)\n",
      "/home/mybirth0407/anaconda3/envs/mva/lib/python3.7/site-packages/sklearn/preprocessing/_data.py:374: RuntimeWarning: All-NaN slice encountered\n",
      "  data_max = np.nanmax(X, axis=0)\n",
      "/home/mybirth0407/anaconda3/envs/mva/lib/python3.7/site-packages/sklearn/preprocessing/_data.py:373: RuntimeWarning: All-NaN slice encountered\n",
      "  data_min = np.nanmin(X, axis=0)\n",
      "/home/mybirth0407/anaconda3/envs/mva/lib/python3.7/site-packages/sklearn/preprocessing/_data.py:374: RuntimeWarning: All-NaN slice encountered\n",
      "  data_max = np.nanmax(X, axis=0)\n",
      "/home/mybirth0407/anaconda3/envs/mva/lib/python3.7/site-packages/sklearn/preprocessing/_data.py:373: RuntimeWarning: All-NaN slice encountered\n",
      "  data_min = np.nanmin(X, axis=0)\n",
      "/home/mybirth0407/anaconda3/envs/mva/lib/python3.7/site-packages/sklearn/preprocessing/_data.py:374: RuntimeWarning: All-NaN slice encountered\n",
      "  data_max = np.nanmax(X, axis=0)\n",
      "/home/mybirth0407/anaconda3/envs/mva/lib/python3.7/site-packages/sklearn/preprocessing/_data.py:373: RuntimeWarning: All-NaN slice encountered\n",
      "  data_min = np.nanmin(X, axis=0)\n",
      "/home/mybirth0407/anaconda3/envs/mva/lib/python3.7/site-packages/sklearn/preprocessing/_data.py:374: RuntimeWarning: All-NaN slice encountered\n",
      "  data_max = np.nanmax(X, axis=0)\n",
      "/home/mybirth0407/anaconda3/envs/mva/lib/python3.7/site-packages/sklearn/preprocessing/_data.py:373: RuntimeWarning: All-NaN slice encountered\n",
      "  data_min = np.nanmin(X, axis=0)\n",
      "/home/mybirth0407/anaconda3/envs/mva/lib/python3.7/site-packages/sklearn/preprocessing/_data.py:374: RuntimeWarning: All-NaN slice encountered\n",
      "  data_max = np.nanmax(X, axis=0)\n",
      "/home/mybirth0407/anaconda3/envs/mva/lib/python3.7/site-packages/sklearn/preprocessing/_data.py:373: RuntimeWarning: All-NaN slice encountered\n",
      "  data_min = np.nanmin(X, axis=0)\n",
      "/home/mybirth0407/anaconda3/envs/mva/lib/python3.7/site-packages/sklearn/preprocessing/_data.py:374: RuntimeWarning: All-NaN slice encountered\n",
      "  data_max = np.nanmax(X, axis=0)\n",
      "/home/mybirth0407/anaconda3/envs/mva/lib/python3.7/site-packages/sklearn/preprocessing/_data.py:373: RuntimeWarning: All-NaN slice encountered\n",
      "  data_min = np.nanmin(X, axis=0)\n",
      "/home/mybirth0407/anaconda3/envs/mva/lib/python3.7/site-packages/sklearn/preprocessing/_data.py:374: RuntimeWarning: All-NaN slice encountered\n",
      "  data_max = np.nanmax(X, axis=0)\n",
      "/home/mybirth0407/anaconda3/envs/mva/lib/python3.7/site-packages/sklearn/preprocessing/_data.py:373: RuntimeWarning: All-NaN slice encountered\n",
      "  data_min = np.nanmin(X, axis=0)\n",
      "/home/mybirth0407/anaconda3/envs/mva/lib/python3.7/site-packages/sklearn/preprocessing/_data.py:374: RuntimeWarning: All-NaN slice encountered\n",
      "  data_max = np.nanmax(X, axis=0)\n",
      "/home/mybirth0407/anaconda3/envs/mva/lib/python3.7/site-packages/sklearn/preprocessing/_data.py:373: RuntimeWarning: All-NaN slice encountered\n",
      "  data_min = np.nanmin(X, axis=0)\n",
      "/home/mybirth0407/anaconda3/envs/mva/lib/python3.7/site-packages/sklearn/preprocessing/_data.py:374: RuntimeWarning: All-NaN slice encountered\n",
      "  data_max = np.nanmax(X, axis=0)\n",
      "/home/mybirth0407/anaconda3/envs/mva/lib/python3.7/site-packages/sklearn/preprocessing/_data.py:373: RuntimeWarning: All-NaN slice encountered\n",
      "  data_min = np.nanmin(X, axis=0)\n",
      "/home/mybirth0407/anaconda3/envs/mva/lib/python3.7/site-packages/sklearn/preprocessing/_data.py:374: RuntimeWarning: All-NaN slice encountered\n",
      "  data_max = np.nanmax(X, axis=0)\n",
      "/home/mybirth0407/anaconda3/envs/mva/lib/python3.7/site-packages/sklearn/preprocessing/_data.py:373: RuntimeWarning: All-NaN slice encountered\n",
      "  data_min = np.nanmin(X, axis=0)\n",
      "/home/mybirth0407/anaconda3/envs/mva/lib/python3.7/site-packages/sklearn/preprocessing/_data.py:374: RuntimeWarning: All-NaN slice encountered\n",
      "  data_max = np.nanmax(X, axis=0)\n",
      "/home/mybirth0407/anaconda3/envs/mva/lib/python3.7/site-packages/sklearn/preprocessing/_data.py:373: RuntimeWarning: All-NaN slice encountered\n",
      "  data_min = np.nanmin(X, axis=0)\n",
      "/home/mybirth0407/anaconda3/envs/mva/lib/python3.7/site-packages/sklearn/preprocessing/_data.py:374: RuntimeWarning: All-NaN slice encountered\n",
      "  data_max = np.nanmax(X, axis=0)\n",
      "/home/mybirth0407/anaconda3/envs/mva/lib/python3.7/site-packages/sklearn/preprocessing/_data.py:373: RuntimeWarning: All-NaN slice encountered\n",
      "  data_min = np.nanmin(X, axis=0)\n",
      "/home/mybirth0407/anaconda3/envs/mva/lib/python3.7/site-packages/sklearn/preprocessing/_data.py:374: RuntimeWarning: All-NaN slice encountered\n",
      "  data_max = np.nanmax(X, axis=0)\n",
      "/home/mybirth0407/anaconda3/envs/mva/lib/python3.7/site-packages/sklearn/preprocessing/_data.py:373: RuntimeWarning: All-NaN slice encountered\n",
      "  data_min = np.nanmin(X, axis=0)\n",
      "/home/mybirth0407/anaconda3/envs/mva/lib/python3.7/site-packages/sklearn/preprocessing/_data.py:374: RuntimeWarning: All-NaN slice encountered\n",
      "  data_max = np.nanmax(X, axis=0)\n",
      "/home/mybirth0407/anaconda3/envs/mva/lib/python3.7/site-packages/sklearn/preprocessing/_data.py:373: RuntimeWarning: All-NaN slice encountered\n",
      "  data_min = np.nanmin(X, axis=0)\n",
      "/home/mybirth0407/anaconda3/envs/mva/lib/python3.7/site-packages/sklearn/preprocessing/_data.py:374: RuntimeWarning: All-NaN slice encountered\n",
      "  data_max = np.nanmax(X, axis=0)\n",
      "/home/mybirth0407/anaconda3/envs/mva/lib/python3.7/site-packages/sklearn/preprocessing/_data.py:373: RuntimeWarning: All-NaN slice encountered\n",
      "  data_min = np.nanmin(X, axis=0)\n",
      "/home/mybirth0407/anaconda3/envs/mva/lib/python3.7/site-packages/sklearn/preprocessing/_data.py:374: RuntimeWarning: All-NaN slice encountered\n",
      "  data_max = np.nanmax(X, axis=0)\n",
      "/home/mybirth0407/anaconda3/envs/mva/lib/python3.7/site-packages/sklearn/preprocessing/_data.py:373: RuntimeWarning: All-NaN slice encountered\n",
      "  data_min = np.nanmin(X, axis=0)\n",
      "/home/mybirth0407/anaconda3/envs/mva/lib/python3.7/site-packages/sklearn/preprocessing/_data.py:374: RuntimeWarning: All-NaN slice encountered\n",
      "  data_max = np.nanmax(X, axis=0)\n",
      "/home/mybirth0407/anaconda3/envs/mva/lib/python3.7/site-packages/sklearn/preprocessing/_data.py:373: RuntimeWarning: All-NaN slice encountered\n",
      "  data_min = np.nanmin(X, axis=0)\n",
      "/home/mybirth0407/anaconda3/envs/mva/lib/python3.7/site-packages/sklearn/preprocessing/_data.py:374: RuntimeWarning: All-NaN slice encountered\n",
      "  data_max = np.nanmax(X, axis=0)\n",
      "/home/mybirth0407/anaconda3/envs/mva/lib/python3.7/site-packages/sklearn/preprocessing/_data.py:373: RuntimeWarning: All-NaN slice encountered\n",
      "  data_min = np.nanmin(X, axis=0)\n",
      "/home/mybirth0407/anaconda3/envs/mva/lib/python3.7/site-packages/sklearn/preprocessing/_data.py:374: RuntimeWarning: All-NaN slice encountered\n",
      "  data_max = np.nanmax(X, axis=0)\n",
      "/home/mybirth0407/anaconda3/envs/mva/lib/python3.7/site-packages/sklearn/preprocessing/_data.py:373: RuntimeWarning: All-NaN slice encountered\n",
      "  data_min = np.nanmin(X, axis=0)\n",
      "/home/mybirth0407/anaconda3/envs/mva/lib/python3.7/site-packages/sklearn/preprocessing/_data.py:374: RuntimeWarning: All-NaN slice encountered\n",
      "  data_max = np.nanmax(X, axis=0)\n",
      "/home/mybirth0407/anaconda3/envs/mva/lib/python3.7/site-packages/sklearn/preprocessing/_data.py:373: RuntimeWarning: All-NaN slice encountered\n",
      "  data_min = np.nanmin(X, axis=0)\n",
      "/home/mybirth0407/anaconda3/envs/mva/lib/python3.7/site-packages/sklearn/preprocessing/_data.py:374: RuntimeWarning: All-NaN slice encountered\n",
      "  data_max = np.nanmax(X, axis=0)\n",
      "/home/mybirth0407/anaconda3/envs/mva/lib/python3.7/site-packages/sklearn/preprocessing/_data.py:373: RuntimeWarning: All-NaN slice encountered\n",
      "  data_min = np.nanmin(X, axis=0)\n",
      "/home/mybirth0407/anaconda3/envs/mva/lib/python3.7/site-packages/sklearn/preprocessing/_data.py:374: RuntimeWarning: All-NaN slice encountered\n",
      "  data_max = np.nanmax(X, axis=0)\n",
      "/home/mybirth0407/anaconda3/envs/mva/lib/python3.7/site-packages/sklearn/preprocessing/_data.py:373: RuntimeWarning: All-NaN slice encountered\n",
      "  data_min = np.nanmin(X, axis=0)\n",
      "/home/mybirth0407/anaconda3/envs/mva/lib/python3.7/site-packages/sklearn/preprocessing/_data.py:374: RuntimeWarning: All-NaN slice encountered\n",
      "  data_max = np.nanmax(X, axis=0)\n",
      "/home/mybirth0407/anaconda3/envs/mva/lib/python3.7/site-packages/sklearn/preprocessing/_data.py:373: RuntimeWarning: All-NaN slice encountered\n",
      "  data_min = np.nanmin(X, axis=0)\n",
      "/home/mybirth0407/anaconda3/envs/mva/lib/python3.7/site-packages/sklearn/preprocessing/_data.py:374: RuntimeWarning: All-NaN slice encountered\n",
      "  data_max = np.nanmax(X, axis=0)\n",
      "/home/mybirth0407/anaconda3/envs/mva/lib/python3.7/site-packages/sklearn/preprocessing/_data.py:373: RuntimeWarning: All-NaN slice encountered\n",
      "  data_min = np.nanmin(X, axis=0)\n",
      "/home/mybirth0407/anaconda3/envs/mva/lib/python3.7/site-packages/sklearn/preprocessing/_data.py:374: RuntimeWarning: All-NaN slice encountered\n",
      "  data_max = np.nanmax(X, axis=0)\n",
      "/home/mybirth0407/anaconda3/envs/mva/lib/python3.7/site-packages/sklearn/preprocessing/_data.py:373: RuntimeWarning: All-NaN slice encountered\n",
      "  data_min = np.nanmin(X, axis=0)\n",
      "/home/mybirth0407/anaconda3/envs/mva/lib/python3.7/site-packages/sklearn/preprocessing/_data.py:374: RuntimeWarning: All-NaN slice encountered\n",
      "  data_max = np.nanmax(X, axis=0)\n",
      "/home/mybirth0407/anaconda3/envs/mva/lib/python3.7/site-packages/sklearn/preprocessing/_data.py:373: RuntimeWarning: All-NaN slice encountered\n",
      "  data_min = np.nanmin(X, axis=0)\n",
      "/home/mybirth0407/anaconda3/envs/mva/lib/python3.7/site-packages/sklearn/preprocessing/_data.py:374: RuntimeWarning: All-NaN slice encountered\n",
      "  data_max = np.nanmax(X, axis=0)\n",
      "/home/mybirth0407/anaconda3/envs/mva/lib/python3.7/site-packages/sklearn/preprocessing/_data.py:373: RuntimeWarning: All-NaN slice encountered\n",
      "  data_min = np.nanmin(X, axis=0)\n",
      "/home/mybirth0407/anaconda3/envs/mva/lib/python3.7/site-packages/sklearn/preprocessing/_data.py:374: RuntimeWarning: All-NaN slice encountered\n",
      "  data_max = np.nanmax(X, axis=0)\n",
      "/home/mybirth0407/anaconda3/envs/mva/lib/python3.7/site-packages/sklearn/preprocessing/_data.py:373: RuntimeWarning: All-NaN slice encountered\n",
      "  data_min = np.nanmin(X, axis=0)\n",
      "/home/mybirth0407/anaconda3/envs/mva/lib/python3.7/site-packages/sklearn/preprocessing/_data.py:374: RuntimeWarning: All-NaN slice encountered\n",
      "  data_max = np.nanmax(X, axis=0)\n",
      "/home/mybirth0407/anaconda3/envs/mva/lib/python3.7/site-packages/sklearn/preprocessing/_data.py:373: RuntimeWarning: All-NaN slice encountered\n",
      "  data_min = np.nanmin(X, axis=0)\n",
      "/home/mybirth0407/anaconda3/envs/mva/lib/python3.7/site-packages/sklearn/preprocessing/_data.py:374: RuntimeWarning: All-NaN slice encountered\n",
      "  data_max = np.nanmax(X, axis=0)\n",
      "/home/mybirth0407/anaconda3/envs/mva/lib/python3.7/site-packages/sklearn/preprocessing/_data.py:373: RuntimeWarning: All-NaN slice encountered\n",
      "  data_min = np.nanmin(X, axis=0)\n",
      "/home/mybirth0407/anaconda3/envs/mva/lib/python3.7/site-packages/sklearn/preprocessing/_data.py:374: RuntimeWarning: All-NaN slice encountered\n",
      "  data_max = np.nanmax(X, axis=0)\n",
      "/home/mybirth0407/anaconda3/envs/mva/lib/python3.7/site-packages/sklearn/preprocessing/_data.py:373: RuntimeWarning: All-NaN slice encountered\n",
      "  data_min = np.nanmin(X, axis=0)\n",
      "/home/mybirth0407/anaconda3/envs/mva/lib/python3.7/site-packages/sklearn/preprocessing/_data.py:374: RuntimeWarning: All-NaN slice encountered\n",
      "  data_max = np.nanmax(X, axis=0)\n",
      "/home/mybirth0407/anaconda3/envs/mva/lib/python3.7/site-packages/sklearn/preprocessing/_data.py:373: RuntimeWarning: All-NaN slice encountered\n",
      "  data_min = np.nanmin(X, axis=0)\n",
      "/home/mybirth0407/anaconda3/envs/mva/lib/python3.7/site-packages/sklearn/preprocessing/_data.py:374: RuntimeWarning: All-NaN slice encountered\n",
      "  data_max = np.nanmax(X, axis=0)\n",
      "/home/mybirth0407/anaconda3/envs/mva/lib/python3.7/site-packages/sklearn/preprocessing/_data.py:373: RuntimeWarning: All-NaN slice encountered\n",
      "  data_min = np.nanmin(X, axis=0)\n",
      "/home/mybirth0407/anaconda3/envs/mva/lib/python3.7/site-packages/sklearn/preprocessing/_data.py:374: RuntimeWarning: All-NaN slice encountered\n",
      "  data_max = np.nanmax(X, axis=0)\n",
      "/home/mybirth0407/anaconda3/envs/mva/lib/python3.7/site-packages/sklearn/preprocessing/_data.py:373: RuntimeWarning: All-NaN slice encountered\n",
      "  data_min = np.nanmin(X, axis=0)\n",
      "/home/mybirth0407/anaconda3/envs/mva/lib/python3.7/site-packages/sklearn/preprocessing/_data.py:374: RuntimeWarning: All-NaN slice encountered\n",
      "  data_max = np.nanmax(X, axis=0)\n",
      "/home/mybirth0407/anaconda3/envs/mva/lib/python3.7/site-packages/sklearn/preprocessing/_data.py:373: RuntimeWarning: All-NaN slice encountered\n",
      "  data_min = np.nanmin(X, axis=0)\n",
      "/home/mybirth0407/anaconda3/envs/mva/lib/python3.7/site-packages/sklearn/preprocessing/_data.py:374: RuntimeWarning: All-NaN slice encountered\n",
      "  data_max = np.nanmax(X, axis=0)\n",
      "/home/mybirth0407/anaconda3/envs/mva/lib/python3.7/site-packages/sklearn/preprocessing/_data.py:373: RuntimeWarning: All-NaN slice encountered\n",
      "  data_min = np.nanmin(X, axis=0)\n",
      "/home/mybirth0407/anaconda3/envs/mva/lib/python3.7/site-packages/sklearn/preprocessing/_data.py:374: RuntimeWarning: All-NaN slice encountered\n",
      "  data_max = np.nanmax(X, axis=0)\n",
      "/home/mybirth0407/anaconda3/envs/mva/lib/python3.7/site-packages/sklearn/preprocessing/_data.py:373: RuntimeWarning: All-NaN slice encountered\n",
      "  data_min = np.nanmin(X, axis=0)\n",
      "/home/mybirth0407/anaconda3/envs/mva/lib/python3.7/site-packages/sklearn/preprocessing/_data.py:374: RuntimeWarning: All-NaN slice encountered\n",
      "  data_max = np.nanmax(X, axis=0)\n",
      "/home/mybirth0407/anaconda3/envs/mva/lib/python3.7/site-packages/sklearn/preprocessing/_data.py:373: RuntimeWarning: All-NaN slice encountered\n",
      "  data_min = np.nanmin(X, axis=0)\n",
      "/home/mybirth0407/anaconda3/envs/mva/lib/python3.7/site-packages/sklearn/preprocessing/_data.py:374: RuntimeWarning: All-NaN slice encountered\n",
      "  data_max = np.nanmax(X, axis=0)\n",
      "/home/mybirth0407/anaconda3/envs/mva/lib/python3.7/site-packages/sklearn/preprocessing/_data.py:373: RuntimeWarning: All-NaN slice encountered\n",
      "  data_min = np.nanmin(X, axis=0)\n",
      "/home/mybirth0407/anaconda3/envs/mva/lib/python3.7/site-packages/sklearn/preprocessing/_data.py:374: RuntimeWarning: All-NaN slice encountered\n",
      "  data_max = np.nanmax(X, axis=0)\n",
      "/home/mybirth0407/anaconda3/envs/mva/lib/python3.7/site-packages/sklearn/preprocessing/_data.py:373: RuntimeWarning: All-NaN slice encountered\n",
      "  data_min = np.nanmin(X, axis=0)\n",
      "/home/mybirth0407/anaconda3/envs/mva/lib/python3.7/site-packages/sklearn/preprocessing/_data.py:374: RuntimeWarning: All-NaN slice encountered\n",
      "  data_max = np.nanmax(X, axis=0)\n",
      "/home/mybirth0407/anaconda3/envs/mva/lib/python3.7/site-packages/sklearn/preprocessing/_data.py:373: RuntimeWarning: All-NaN slice encountered\n",
      "  data_min = np.nanmin(X, axis=0)\n",
      "/home/mybirth0407/anaconda3/envs/mva/lib/python3.7/site-packages/sklearn/preprocessing/_data.py:374: RuntimeWarning: All-NaN slice encountered\n",
      "  data_max = np.nanmax(X, axis=0)\n",
      "/home/mybirth0407/anaconda3/envs/mva/lib/python3.7/site-packages/sklearn/preprocessing/_data.py:373: RuntimeWarning: All-NaN slice encountered\n",
      "  data_min = np.nanmin(X, axis=0)\n",
      "/home/mybirth0407/anaconda3/envs/mva/lib/python3.7/site-packages/sklearn/preprocessing/_data.py:374: RuntimeWarning: All-NaN slice encountered\n",
      "  data_max = np.nanmax(X, axis=0)\n",
      "/home/mybirth0407/anaconda3/envs/mva/lib/python3.7/site-packages/sklearn/preprocessing/_data.py:373: RuntimeWarning: All-NaN slice encountered\n",
      "  data_min = np.nanmin(X, axis=0)\n",
      "/home/mybirth0407/anaconda3/envs/mva/lib/python3.7/site-packages/sklearn/preprocessing/_data.py:374: RuntimeWarning: All-NaN slice encountered\n",
      "  data_max = np.nanmax(X, axis=0)\n",
      "/home/mybirth0407/anaconda3/envs/mva/lib/python3.7/site-packages/sklearn/preprocessing/_data.py:373: RuntimeWarning: All-NaN slice encountered\n",
      "  data_min = np.nanmin(X, axis=0)\n",
      "/home/mybirth0407/anaconda3/envs/mva/lib/python3.7/site-packages/sklearn/preprocessing/_data.py:374: RuntimeWarning: All-NaN slice encountered\n",
      "  data_max = np.nanmax(X, axis=0)\n",
      "/home/mybirth0407/anaconda3/envs/mva/lib/python3.7/site-packages/sklearn/preprocessing/_data.py:373: RuntimeWarning: All-NaN slice encountered\n",
      "  data_min = np.nanmin(X, axis=0)\n",
      "/home/mybirth0407/anaconda3/envs/mva/lib/python3.7/site-packages/sklearn/preprocessing/_data.py:374: RuntimeWarning: All-NaN slice encountered\n",
      "  data_max = np.nanmax(X, axis=0)\n",
      "/home/mybirth0407/anaconda3/envs/mva/lib/python3.7/site-packages/sklearn/preprocessing/_data.py:373: RuntimeWarning: All-NaN slice encountered\n",
      "  data_min = np.nanmin(X, axis=0)\n",
      "/home/mybirth0407/anaconda3/envs/mva/lib/python3.7/site-packages/sklearn/preprocessing/_data.py:374: RuntimeWarning: All-NaN slice encountered\n",
      "  data_max = np.nanmax(X, axis=0)\n",
      "/home/mybirth0407/anaconda3/envs/mva/lib/python3.7/site-packages/sklearn/preprocessing/_data.py:373: RuntimeWarning: All-NaN slice encountered\n",
      "  data_min = np.nanmin(X, axis=0)\n",
      "/home/mybirth0407/anaconda3/envs/mva/lib/python3.7/site-packages/sklearn/preprocessing/_data.py:374: RuntimeWarning: All-NaN slice encountered\n",
      "  data_max = np.nanmax(X, axis=0)\n",
      "/home/mybirth0407/anaconda3/envs/mva/lib/python3.7/site-packages/sklearn/preprocessing/_data.py:373: RuntimeWarning: All-NaN slice encountered\n",
      "  data_min = np.nanmin(X, axis=0)\n",
      "/home/mybirth0407/anaconda3/envs/mva/lib/python3.7/site-packages/sklearn/preprocessing/_data.py:374: RuntimeWarning: All-NaN slice encountered\n",
      "  data_max = np.nanmax(X, axis=0)\n",
      "/home/mybirth0407/anaconda3/envs/mva/lib/python3.7/site-packages/sklearn/preprocessing/_data.py:373: RuntimeWarning: All-NaN slice encountered\n",
      "  data_min = np.nanmin(X, axis=0)\n",
      "/home/mybirth0407/anaconda3/envs/mva/lib/python3.7/site-packages/sklearn/preprocessing/_data.py:374: RuntimeWarning: All-NaN slice encountered\n",
      "  data_max = np.nanmax(X, axis=0)\n",
      "/home/mybirth0407/anaconda3/envs/mva/lib/python3.7/site-packages/sklearn/preprocessing/_data.py:373: RuntimeWarning: All-NaN slice encountered\n",
      "  data_min = np.nanmin(X, axis=0)\n",
      "/home/mybirth0407/anaconda3/envs/mva/lib/python3.7/site-packages/sklearn/preprocessing/_data.py:374: RuntimeWarning: All-NaN slice encountered\n",
      "  data_max = np.nanmax(X, axis=0)\n",
      "/home/mybirth0407/anaconda3/envs/mva/lib/python3.7/site-packages/sklearn/preprocessing/_data.py:373: RuntimeWarning: All-NaN slice encountered\n",
      "  data_min = np.nanmin(X, axis=0)\n",
      "/home/mybirth0407/anaconda3/envs/mva/lib/python3.7/site-packages/sklearn/preprocessing/_data.py:374: RuntimeWarning: All-NaN slice encountered\n",
      "  data_max = np.nanmax(X, axis=0)\n",
      "/home/mybirth0407/anaconda3/envs/mva/lib/python3.7/site-packages/sklearn/preprocessing/_data.py:373: RuntimeWarning: All-NaN slice encountered\n",
      "  data_min = np.nanmin(X, axis=0)\n",
      "/home/mybirth0407/anaconda3/envs/mva/lib/python3.7/site-packages/sklearn/preprocessing/_data.py:374: RuntimeWarning: All-NaN slice encountered\n",
      "  data_max = np.nanmax(X, axis=0)\n",
      "/home/mybirth0407/anaconda3/envs/mva/lib/python3.7/site-packages/sklearn/preprocessing/_data.py:373: RuntimeWarning: All-NaN slice encountered\n",
      "  data_min = np.nanmin(X, axis=0)\n",
      "/home/mybirth0407/anaconda3/envs/mva/lib/python3.7/site-packages/sklearn/preprocessing/_data.py:374: RuntimeWarning: All-NaN slice encountered\n",
      "  data_max = np.nanmax(X, axis=0)\n",
      "/home/mybirth0407/anaconda3/envs/mva/lib/python3.7/site-packages/sklearn/preprocessing/_data.py:373: RuntimeWarning: All-NaN slice encountered\n",
      "  data_min = np.nanmin(X, axis=0)\n",
      "/home/mybirth0407/anaconda3/envs/mva/lib/python3.7/site-packages/sklearn/preprocessing/_data.py:374: RuntimeWarning: All-NaN slice encountered\n",
      "  data_max = np.nanmax(X, axis=0)\n",
      "/home/mybirth0407/anaconda3/envs/mva/lib/python3.7/site-packages/sklearn/preprocessing/_data.py:373: RuntimeWarning: All-NaN slice encountered\n",
      "  data_min = np.nanmin(X, axis=0)\n",
      "/home/mybirth0407/anaconda3/envs/mva/lib/python3.7/site-packages/sklearn/preprocessing/_data.py:374: RuntimeWarning: All-NaN slice encountered\n",
      "  data_max = np.nanmax(X, axis=0)\n",
      "/home/mybirth0407/anaconda3/envs/mva/lib/python3.7/site-packages/sklearn/preprocessing/_data.py:373: RuntimeWarning: All-NaN slice encountered\n",
      "  data_min = np.nanmin(X, axis=0)\n",
      "/home/mybirth0407/anaconda3/envs/mva/lib/python3.7/site-packages/sklearn/preprocessing/_data.py:374: RuntimeWarning: All-NaN slice encountered\n",
      "  data_max = np.nanmax(X, axis=0)\n",
      "/home/mybirth0407/anaconda3/envs/mva/lib/python3.7/site-packages/sklearn/preprocessing/_data.py:373: RuntimeWarning: All-NaN slice encountered\n",
      "  data_min = np.nanmin(X, axis=0)\n",
      "/home/mybirth0407/anaconda3/envs/mva/lib/python3.7/site-packages/sklearn/preprocessing/_data.py:374: RuntimeWarning: All-NaN slice encountered\n",
      "  data_max = np.nanmax(X, axis=0)\n",
      "/home/mybirth0407/anaconda3/envs/mva/lib/python3.7/site-packages/sklearn/preprocessing/_data.py:373: RuntimeWarning: All-NaN slice encountered\n",
      "  data_min = np.nanmin(X, axis=0)\n",
      "/home/mybirth0407/anaconda3/envs/mva/lib/python3.7/site-packages/sklearn/preprocessing/_data.py:374: RuntimeWarning: All-NaN slice encountered\n",
      "  data_max = np.nanmax(X, axis=0)\n",
      "/home/mybirth0407/anaconda3/envs/mva/lib/python3.7/site-packages/sklearn/preprocessing/_data.py:373: RuntimeWarning: All-NaN slice encountered\n",
      "  data_min = np.nanmin(X, axis=0)\n",
      "/home/mybirth0407/anaconda3/envs/mva/lib/python3.7/site-packages/sklearn/preprocessing/_data.py:374: RuntimeWarning: All-NaN slice encountered\n",
      "  data_max = np.nanmax(X, axis=0)\n",
      "/home/mybirth0407/anaconda3/envs/mva/lib/python3.7/site-packages/sklearn/preprocessing/_data.py:373: RuntimeWarning: All-NaN slice encountered\n",
      "  data_min = np.nanmin(X, axis=0)\n",
      "/home/mybirth0407/anaconda3/envs/mva/lib/python3.7/site-packages/sklearn/preprocessing/_data.py:374: RuntimeWarning: All-NaN slice encountered\n",
      "  data_max = np.nanmax(X, axis=0)\n",
      "/home/mybirth0407/anaconda3/envs/mva/lib/python3.7/site-packages/sklearn/preprocessing/_data.py:373: RuntimeWarning: All-NaN slice encountered\n",
      "  data_min = np.nanmin(X, axis=0)\n",
      "/home/mybirth0407/anaconda3/envs/mva/lib/python3.7/site-packages/sklearn/preprocessing/_data.py:374: RuntimeWarning: All-NaN slice encountered\n",
      "  data_max = np.nanmax(X, axis=0)\n",
      "/home/mybirth0407/anaconda3/envs/mva/lib/python3.7/site-packages/sklearn/preprocessing/_data.py:373: RuntimeWarning: All-NaN slice encountered\n",
      "  data_min = np.nanmin(X, axis=0)\n",
      "/home/mybirth0407/anaconda3/envs/mva/lib/python3.7/site-packages/sklearn/preprocessing/_data.py:374: RuntimeWarning: All-NaN slice encountered\n",
      "  data_max = np.nanmax(X, axis=0)\n",
      "/home/mybirth0407/anaconda3/envs/mva/lib/python3.7/site-packages/sklearn/preprocessing/_data.py:373: RuntimeWarning: All-NaN slice encountered\n",
      "  data_min = np.nanmin(X, axis=0)\n",
      "/home/mybirth0407/anaconda3/envs/mva/lib/python3.7/site-packages/sklearn/preprocessing/_data.py:374: RuntimeWarning: All-NaN slice encountered\n",
      "  data_max = np.nanmax(X, axis=0)\n",
      "/home/mybirth0407/anaconda3/envs/mva/lib/python3.7/site-packages/sklearn/preprocessing/_data.py:373: RuntimeWarning: All-NaN slice encountered\n",
      "  data_min = np.nanmin(X, axis=0)\n",
      "/home/mybirth0407/anaconda3/envs/mva/lib/python3.7/site-packages/sklearn/preprocessing/_data.py:374: RuntimeWarning: All-NaN slice encountered\n",
      "  data_max = np.nanmax(X, axis=0)\n",
      "/home/mybirth0407/anaconda3/envs/mva/lib/python3.7/site-packages/sklearn/preprocessing/_data.py:373: RuntimeWarning: All-NaN slice encountered\n",
      "  data_min = np.nanmin(X, axis=0)\n",
      "/home/mybirth0407/anaconda3/envs/mva/lib/python3.7/site-packages/sklearn/preprocessing/_data.py:374: RuntimeWarning: All-NaN slice encountered\n",
      "  data_max = np.nanmax(X, axis=0)\n",
      "/home/mybirth0407/anaconda3/envs/mva/lib/python3.7/site-packages/sklearn/preprocessing/_data.py:373: RuntimeWarning: All-NaN slice encountered\n",
      "  data_min = np.nanmin(X, axis=0)\n",
      "/home/mybirth0407/anaconda3/envs/mva/lib/python3.7/site-packages/sklearn/preprocessing/_data.py:374: RuntimeWarning: All-NaN slice encountered\n",
      "  data_max = np.nanmax(X, axis=0)\n",
      "/home/mybirth0407/anaconda3/envs/mva/lib/python3.7/site-packages/sklearn/preprocessing/_data.py:373: RuntimeWarning: All-NaN slice encountered\n",
      "  data_min = np.nanmin(X, axis=0)\n",
      "/home/mybirth0407/anaconda3/envs/mva/lib/python3.7/site-packages/sklearn/preprocessing/_data.py:374: RuntimeWarning: All-NaN slice encountered\n",
      "  data_max = np.nanmax(X, axis=0)\n",
      "/home/mybirth0407/anaconda3/envs/mva/lib/python3.7/site-packages/sklearn/preprocessing/_data.py:373: RuntimeWarning: All-NaN slice encountered\n",
      "  data_min = np.nanmin(X, axis=0)\n",
      "/home/mybirth0407/anaconda3/envs/mva/lib/python3.7/site-packages/sklearn/preprocessing/_data.py:374: RuntimeWarning: All-NaN slice encountered\n",
      "  data_max = np.nanmax(X, axis=0)\n",
      "/home/mybirth0407/anaconda3/envs/mva/lib/python3.7/site-packages/sklearn/preprocessing/_data.py:373: RuntimeWarning: All-NaN slice encountered\n",
      "  data_min = np.nanmin(X, axis=0)\n",
      "/home/mybirth0407/anaconda3/envs/mva/lib/python3.7/site-packages/sklearn/preprocessing/_data.py:374: RuntimeWarning: All-NaN slice encountered\n",
      "  data_max = np.nanmax(X, axis=0)\n",
      "/home/mybirth0407/anaconda3/envs/mva/lib/python3.7/site-packages/sklearn/preprocessing/_data.py:373: RuntimeWarning: All-NaN slice encountered\n",
      "  data_min = np.nanmin(X, axis=0)\n",
      "/home/mybirth0407/anaconda3/envs/mva/lib/python3.7/site-packages/sklearn/preprocessing/_data.py:374: RuntimeWarning: All-NaN slice encountered\n",
      "  data_max = np.nanmax(X, axis=0)\n"
     ]
    }
   ],
   "source": [
    "for ss in range(num_sequence):\n",
    "    scaler.partial_fit(img[:, ss, :])\n",
    "\n",
    "results = []\n",
    "for ss in range(num_sequence):\n",
    "    results.append(scaler.transform(img[:, ss, :]).reshape(num_sample, 1, num_feature))\n",
    "img_scaled = np.concatenate(results, axis=1)"
   ]
  },
  {
   "cell_type": "code",
   "execution_count": 79,
   "metadata": {},
   "outputs": [
    {
     "data": {
      "text/plain": [
       "(63, 74, 49)"
      ]
     },
     "execution_count": 79,
     "metadata": {},
     "output_type": "execute_result"
    }
   ],
   "source": [
    "img_scaled.shape"
   ]
  },
  {
   "cell_type": "code",
   "execution_count": 80,
   "metadata": {},
   "outputs": [],
   "source": [
    "img = nib.Nifti1Image(img, cfg['affine'])"
   ]
  },
  {
   "cell_type": "code",
   "execution_count": 81,
   "metadata": {},
   "outputs": [
    {
     "name": "stderr",
     "output_type": "stream",
     "text": [
      "/home/mybirth0407/anaconda3/envs/mva/lib/python3.7/site-packages/nilearn/image/resampling.py:583: RuntimeWarning: NaNs or infinite values are present in the data passed to resample. This is a bad thing as they make resampling ill-defined and much slower.\n",
      "  fill_value=fill_value)\n"
     ]
    }
   ],
   "source": [
    "from nilearn.image import resample_to_img\n",
    "from nilearn.image import load_img\n",
    "\n",
    "template = load_img(anat[2])\n",
    "resampled_stat_img = resample_to_img(img, template)"
   ]
  },
  {
   "cell_type": "code",
   "execution_count": 82,
   "metadata": {},
   "outputs": [
    {
     "data": {
      "image/png": "[encoded data removed]",
      "text/plain": [
       "<Figure size 367.2x187.2 with 4 Axes>"
      ]
     },
     "metadata": {},
     "output_type": "display_data"
    }
   ],
   "source": [
    "from nilearn.plotting import plot_stat_map, show\n",
    "\n",
    "plot_stat_map(resampled_stat_img, bg_img=template,\n",
    "              title=\"Z score\", display_mode=\"yx\")\n",
    "\n",
    "show()"
   ]
  },
  {
   "cell_type": "code",
   "execution_count": null,
   "metadata": {},
   "outputs": [],
   "source": []
  }
 ],
 "metadata": {
  "kernelspec": {
   "display_name": "Python 3.7 (MVA)",
   "language": "python",
   "name": "mva"
  },
  "language_info": {
   "codemirror_mode": {
    "name": "ipython",
    "version": 3
   },
   "file_extension": ".py",
   "mimetype": "text/x-python",
   "name": "python",
   "nbconvert_exporter": "python",
   "pygments_lexer": "ipython3",
   "version": "3.7.7"
  }
 },
 "nbformat": 4,
 "nbformat_minor": 4
}
