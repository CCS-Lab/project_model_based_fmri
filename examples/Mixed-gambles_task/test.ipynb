{
 "cells": [
  {
   "cell_type": "code",
   "execution_count": null,
   "metadata": {},
   "outputs": [],
   "source": [
    "import model_based_mvpa as mbmvpa\n",
    "from model_based_mvpa.preprocessing.bids import *\n",
    "from model_based_mvpa.preprocessing.events import *\n",
    "from model_based_mvpa.utils.functions import *"
   ]
  },
  {
   "cell_type": "code",
   "execution_count": null,
   "metadata": {},
   "outputs": [],
   "source": [
    "root = '/data2/project_model_based_fmri/ds000005/'"
   ]
  },
  {
   "cell_type": "code",
   "execution_count": null,
   "metadata": {},
   "outputs": [],
   "source": [
    "from model_based_mvpa.models.regressor import *\n",
    "from model_based_mvpa.utils.coef2map import *\n",
    "import time"
   ]
  },
  {
   "cell_type": "code",
   "execution_count": null,
   "metadata": {},
   "outputs": [],
   "source": [
    "X, y = prepare_data(X=root + 'derivatives/fmriprep/data/X.npy',\n",
    "                    y=root + 'derivatives/fmriprep/data/y.npy')\n",
    "masked_data = nib.load(root + 'derivatives/fmriprep/data/masked_data.nii.gz')"
   ]
  },
  {
   "cell_type": "code",
   "execution_count": null,
   "metadata": {},
   "outputs": [],
   "source": [
    "y.shape"
   ]
  },
  {
   "cell_type": "code",
   "execution_count": 19,
   "metadata": {},
   "outputs": [
    {
     "name": "stdout",
     "output_type": "stream",
     "text": [
      "Tue Nov 10 14:07:01 2020\n"
     ]
    }
   ],
   "source": [
    "print(time.strftime('%c', time.localtime(time.time())))"
   ]
  },
  {
   "cell_type": "code",
   "execution_count": 20,
   "metadata": {},
   "outputs": [
    {
     "name": "stderr",
     "output_type": "stream",
     "text": [
      "INFO:root:start running\n",
      "INFO:root:[1/60] - mse: 0.0306\n",
      "INFO:root:[2/60] - mse: 0.0315\n",
      "INFO:root:[3/60] - mse: 0.0323\n",
      "INFO:root:[4/60] - mse: 0.0329\n",
      "INFO:root:[5/60] - mse: 0.0313\n",
      "INFO:root:[6/60] - mse: 0.0322\n",
      "INFO:root:[7/60] - mse: 0.0303\n",
      "INFO:root:[8/60] - mse: 0.0313\n",
      "INFO:root:[9/60] - mse: 0.0311\n",
      "INFO:root:[10/60] - mse: 0.0318\n",
      "INFO:root:[11/60] - mse: 0.0327\n",
      "INFO:root:[12/60] - mse: 0.0319\n",
      "INFO:root:[13/60] - mse: 0.0327\n",
      "INFO:root:[14/60] - mse: 0.0306\n",
      "INFO:root:[15/60] - mse: 0.0309\n",
      "INFO:root:[16/60] - mse: 0.0327\n",
      "INFO:root:[17/60] - mse: 0.0327\n",
      "INFO:root:[18/60] - mse: 0.0313\n",
      "INFO:root:[19/60] - mse: 0.0310\n",
      "INFO:root:[20/60] - mse: 0.0327\n",
      "INFO:root:[21/60] - mse: 0.0302\n",
      "INFO:root:[22/60] - mse: 0.0309\n",
      "INFO:root:[23/60] - mse: 0.0304\n",
      "INFO:root:[24/60] - mse: 0.0304\n",
      "INFO:root:[25/60] - mse: 0.0318\n",
      "INFO:root:[26/60] - mse: 0.0325\n",
      "INFO:root:[27/60] - mse: 0.0313\n",
      "INFO:root:[28/60] - mse: 0.0306\n",
      "INFO:root:[29/60] - mse: 0.0317\n",
      "INFO:root:[30/60] - mse: 0.0323\n",
      "INFO:root:[31/60] - mse: 0.0328\n",
      "INFO:root:[32/60] - mse: 0.0341\n",
      "INFO:root:[33/60] - mse: 0.0327\n",
      "INFO:root:[34/60] - mse: 0.0319\n",
      "INFO:root:[35/60] - mse: 0.0318\n",
      "INFO:root:[36/60] - mse: 0.0319\n",
      "INFO:root:[37/60] - mse: 0.0322\n",
      "INFO:root:[38/60] - mse: 0.0305\n",
      "INFO:root:[39/60] - mse: 0.0314\n",
      "INFO:root:[40/60] - mse: 0.0333\n",
      "INFO:root:[41/60] - mse: 0.0314\n",
      "INFO:root:[42/60] - mse: 0.0313\n",
      "INFO:root:[43/60] - mse: 0.0316\n",
      "INFO:root:[44/60] - mse: 0.0324\n",
      "INFO:root:[45/60] - mse: 0.0325\n",
      "INFO:root:[46/60] - mse: 0.0306\n",
      "INFO:root:[47/60] - mse: 0.0305\n",
      "INFO:root:[48/60] - mse: 0.0300\n",
      "INFO:root:[49/60] - mse: 0.0327\n",
      "INFO:root:[50/60] - mse: 0.0338\n",
      "INFO:root:[51/60] - mse: 0.0304\n",
      "INFO:root:[52/60] - mse: 0.0309\n",
      "INFO:root:[53/60] - mse: 0.0305\n",
      "INFO:root:[54/60] - mse: 0.0313\n",
      "INFO:root:[55/60] - mse: 0.0312\n",
      "INFO:root:[56/60] - mse: 0.0317\n",
      "INFO:root:[57/60] - mse: 0.0324\n",
      "INFO:root:[58/60] - mse: 0.0320\n",
      "INFO:root:[59/60] - mse: 0.0312\n",
      "INFO:root:[60/60] - mse: 0.0306\n"
     ]
    },
    {
     "name": "stdout",
     "output_type": "stream",
     "text": [
      "Tue Nov 10 14:50:44 2020\n"
     ]
    }
   ],
   "source": [
    "coefs = mlp_regression(X, y,\n",
    "                       layer_dims=[1024, 1024],\n",
    "                       activation_func='linear',\n",
    "                       dropout_rate=0.5,\n",
    "                       epochs=100,\n",
    "                       patience=10,\n",
    "                       batch_size=64,\n",
    "                       N=60,\n",
    "                       verbose=1)\n",
    "\n",
    "task_name = 'tom2007_mlp_60'\n",
    "\n",
    "result = get_map(coefs, masked_data, task_name, map_type='z', save_path=None, smoothing_sigma=1)\n",
    "\n",
    "print(time.strftime('%c', time.localtime(time.time())))"
   ]
  },
  {
   "cell_type": "code",
   "execution_count": null,
   "metadata": {},
   "outputs": [],
   "source": [
    "print(time.strftime('%c', time.localtime(time.time())))"
   ]
  },
  {
   "cell_type": "code",
   "execution_count": 11,
   "metadata": {},
   "outputs": [
    {
     "name": "stderr",
     "output_type": "stream",
     "text": [
      "INFO:root:start running\n",
      "INFO:root:[1/1] - mse: 0.0332\n"
     ]
    },
    {
     "name": "stdout",
     "output_type": "stream",
     "text": [
      "Tue Nov 10 11:03:43 2020\n"
     ]
    }
   ],
   "source": [
    "coefs = mlp_regression(X, y,\n",
    "                       layer_dims=[2048, 2048],\n",
    "                       activation_func='linear',\n",
    "                       dropout_rate=0.5,\n",
    "                       epochs=100,\n",
    "                       patience=10,\n",
    "                       batch_size=64,\n",
    "                       N=1,\n",
    "                       verbose=1)\n",
    "\n",
    "task_name = 'tom2007_mlp_2048'\n",
    "\n",
    "result = get_map(coefs, masked_data, task_name, map_type='z', save_path=None, smoothing_sigma=1)\n",
    "\n",
    "print(time.strftime('%c', time.localtime(time.time())))"
   ]
  },
  {
   "cell_type": "code",
   "execution_count": 12,
   "metadata": {},
   "outputs": [
    {
     "name": "stdout",
     "output_type": "stream",
     "text": [
      "Tue Nov 10 11:03:43 2020\n"
     ]
    }
   ],
   "source": [
    "print(time.strftime('%c', time.localtime(time.time())))"
   ]
  },
  {
   "cell_type": "code",
   "execution_count": 13,
   "metadata": {},
   "outputs": [
    {
     "name": "stderr",
     "output_type": "stream",
     "text": [
      "INFO:root:start running\n",
      "INFO:root:[1/1] - mse: 0.0301\n"
     ]
    },
    {
     "name": "stdout",
     "output_type": "stream",
     "text": [
      "Tue Nov 10 11:04:37 2020\n"
     ]
    }
   ],
   "source": [
    "coefs = mlp_regression(X, y,\n",
    "                       layer_dims=[1024, 1024,1024],\n",
    "                       activation_func='linear',\n",
    "                       dropout_rate=0.5,\n",
    "                       epochs=100,\n",
    "                       patience=10,\n",
    "                       batch_size=64,\n",
    "                       N=1,\n",
    "                       verbose=1)\n",
    "\n",
    "task_name = 'tom2007_mlp_3l'\n",
    "\n",
    "result = get_map(coefs, masked_data, task_name, map_type='z', save_path=None, smoothing_sigma=1)\n",
    "\n",
    "print(time.strftime('%c', time.localtime(time.time())))"
   ]
  },
  {
   "cell_type": "code",
   "execution_count": 14,
   "metadata": {},
   "outputs": [
    {
     "name": "stderr",
     "output_type": "stream",
     "text": [
      "INFO:root:start running\n"
     ]
    },
    {
     "name": "stdout",
     "output_type": "stream",
     "text": [
      "Tue Nov 10 11:17:26 2020\n"
     ]
    },
    {
     "name": "stderr",
     "output_type": "stream",
     "text": [
      "INFO:root:[1/1] - mse: 0.0423\n"
     ]
    },
    {
     "name": "stdout",
     "output_type": "stream",
     "text": [
      "Tue Nov 10 11:19:13 2020\n"
     ]
    }
   ],
   "source": [
    "print(time.strftime('%c', time.localtime(time.time())))\n",
    "coefs = mlp_regression(X, y,\n",
    "                       layer_dims=[2048, 2048],\n",
    "                       activation_func='linear',\n",
    "                       dropout_rate=0.8,\n",
    "                       epochs=100,\n",
    "                       patience=10,\n",
    "                       batch_size=64,\n",
    "                       N=1,\n",
    "                       verbose=1)\n",
    "\n",
    "task_name = 'tom2007_mlp_2048_dr8'\n",
    "\n",
    "result = get_map(coefs, masked_data, task_name, map_type='z', save_path=None, smoothing_sigma=1)\n",
    "\n",
    "print(time.strftime('%c', time.localtime(time.time())))"
   ]
  },
  {
   "cell_type": "code",
   "execution_count": 1,
   "metadata": {},
   "outputs": [],
   "source": [
    "root = '/data2/project_model_based_fmri/piva_dd/'"
   ]
  },
  {
   "cell_type": "code",
   "execution_count": 2,
   "metadata": {},
   "outputs": [],
   "source": [
    "import bids\n",
    "from bids import BIDSLayout, BIDSValidator"
   ]
  },
  {
   "cell_type": "code",
   "execution_count": 3,
   "metadata": {},
   "outputs": [
    {
     "name": "stderr",
     "output_type": "stream",
     "text": [
      "/home/cheoljun/anaconda3/envs/model_based_fmri/lib/python3.7/site-packages/bids/layout/models.py:102: FutureWarning: The 'extension' entity currently excludes the leading dot ('.'). As of version 0.14.0, it will include the leading dot. To suppress this warning and include the leading dot, use `bids.config.set_option('extension_initial_dot', True)`.\n",
      "  FutureWarning)\n"
     ]
    }
   ],
   "source": [
    "layout = BIDSLayout(root, derivatives=True)"
   ]
  },
  {
   "cell_type": "code",
   "execution_count": 4,
   "metadata": {},
   "outputs": [],
   "source": [
    "nii_layout = {subject_id:layout.derivatives['fMRIPrep'].get(subject=subject_id, \n",
    "                                                                 return_type='file', \n",
    "                                                                 suffix='bold', \n",
    "                                                                 extension='nii.gz') for subject_id in layout.get_subjects()}"
   ]
  },
  {
   "cell_type": "code",
   "execution_count": null,
   "metadata": {},
   "outputs": [],
   "source": []
  }
 ],
 "metadata": {
  "kernelspec": {
   "display_name": "Python 3.7 (model_based_fmri)",
   "language": "python",
   "name": "model_based_fmri"
  },
  "language_info": {
   "codemirror_mode": {
    "name": "ipython",
    "version": 3
   },
   "file_extension": ".py",
   "mimetype": "text/x-python",
   "name": "python",
   "nbconvert_exporter": "python",
   "pygments_lexer": "ipython3",
   "version": "3.7.7"
  }
 },
 "nbformat": 4,
 "nbformat_minor": 4
}
