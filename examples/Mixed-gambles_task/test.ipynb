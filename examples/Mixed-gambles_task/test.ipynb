{
 "cells": [
  {
   "cell_type": "code",
   "execution_count": 1,
   "metadata": {},
   "outputs": [],
   "source": [
    "import model_based_mvpa as mbmvpa\n",
    "from model_based_mvpa.preprocessing.bids import *\n",
    "from model_based_mvpa.preprocessing.events import *\n",
    "from model_based_mvpa.utils.functions import *"
   ]
  },
  {
   "cell_type": "code",
   "execution_count": 2,
   "metadata": {},
   "outputs": [],
   "source": [
    "root = '/data2/project_model_based_fmri/ds000005/'"
   ]
  },
  {
   "cell_type": "code",
   "execution_count": 3,
   "metadata": {},
   "outputs": [],
   "source": [
    "from model_based_mvpa.models.regressor import *\n",
    "from model_based_mvpa.utils.coef2map import *\n",
    "import time"
   ]
  },
  {
   "cell_type": "code",
   "execution_count": 4,
   "metadata": {},
   "outputs": [],
   "source": [
    "X, y = prepare_data(X=root + 'derivatives/fmriprep/data/X.npy',\n",
    "                    y=root + 'derivatives/fmriprep/data/y.npy')\n",
    "masked_data = nib.load(root + 'derivatives/fmriprep/data/masked_data.nii.gz')"
   ]
  },
  {
   "cell_type": "code",
   "execution_count": 17,
   "metadata": {},
   "outputs": [
    {
     "name": "stdout",
     "output_type": "stream",
     "text": [
      "Tue Nov 10 11:30:13 2020\n"
     ]
    }
   ],
   "source": [
    "print(time.strftime('%c', time.localtime(time.time())))"
   ]
  },
  {
   "cell_type": "code",
   "execution_count": null,
   "metadata": {},
   "outputs": [
    {
     "name": "stderr",
     "output_type": "stream",
     "text": [
      "INFO:root:start running\n",
      "INFO:root:[1/30] - mse: 0.0310\n",
      "INFO:root:[2/30] - mse: 0.0312\n",
      "INFO:root:[3/30] - mse: 0.0322\n",
      "INFO:root:[4/30] - mse: 0.0331\n",
      "INFO:root:[5/30] - mse: 0.0316\n",
      "INFO:root:[6/30] - mse: 0.0333\n",
      "INFO:root:[7/30] - mse: 0.0311\n",
      "INFO:root:[8/30] - mse: 0.0303\n",
      "INFO:root:[9/30] - mse: 0.0309\n",
      "INFO:root:[10/30] - mse: 0.0316\n",
      "INFO:root:[11/30] - mse: 0.0324\n",
      "INFO:root:[12/30] - mse: 0.0329\n",
      "INFO:root:[13/30] - mse: 0.0328\n",
      "INFO:root:[14/30] - mse: 0.0301\n",
      "INFO:root:[15/30] - mse: 0.0321\n"
     ]
    }
   ],
   "source": [
    "coefs = mlp_regression(X, y,\n",
    "                       layer_dims=[1024, 1024],\n",
    "                       activation_func='linear',\n",
    "                       dropout_rate=0.5,\n",
    "                       epochs=100,\n",
    "                       patience=10,\n",
    "                       batch_size=64,\n",
    "                       N=30,\n",
    "                       verbose=1)\n",
    "\n",
    "task_name = 'tom2007_mlp'\n",
    "\n",
    "result = get_map(coefs, masked_data, task_name, map_type='z', save_path=None, smoothing_sigma=1)\n",
    "\n",
    "print(time.strftime('%c', time.localtime(time.time())))"
   ]
  },
  {
   "cell_type": "code",
   "execution_count": null,
   "metadata": {},
   "outputs": [],
   "source": [
    "print(time.strftime('%c', time.localtime(time.time())))"
   ]
  },
  {
   "cell_type": "code",
   "execution_count": 11,
   "metadata": {},
   "outputs": [
    {
     "name": "stderr",
     "output_type": "stream",
     "text": [
      "INFO:root:start running\n",
      "INFO:root:[1/1] - mse: 0.0332\n"
     ]
    },
    {
     "name": "stdout",
     "output_type": "stream",
     "text": [
      "Tue Nov 10 11:03:43 2020\n"
     ]
    }
   ],
   "source": [
    "coefs = mlp_regression(X, y,\n",
    "                       layer_dims=[2048, 2048],\n",
    "                       activation_func='linear',\n",
    "                       dropout_rate=0.5,\n",
    "                       epochs=100,\n",
    "                       patience=10,\n",
    "                       batch_size=64,\n",
    "                       N=1,\n",
    "                       verbose=1)\n",
    "\n",
    "task_name = 'tom2007_mlp_2048'\n",
    "\n",
    "result = get_map(coefs, masked_data, task_name, map_type='z', save_path=None, smoothing_sigma=1)\n",
    "\n",
    "print(time.strftime('%c', time.localtime(time.time())))"
   ]
  },
  {
   "cell_type": "code",
   "execution_count": 12,
   "metadata": {},
   "outputs": [
    {
     "name": "stdout",
     "output_type": "stream",
     "text": [
      "Tue Nov 10 11:03:43 2020\n"
     ]
    }
   ],
   "source": [
    "print(time.strftime('%c', time.localtime(time.time())))"
   ]
  },
  {
   "cell_type": "code",
   "execution_count": 13,
   "metadata": {},
   "outputs": [
    {
     "name": "stderr",
     "output_type": "stream",
     "text": [
      "INFO:root:start running\n",
      "INFO:root:[1/1] - mse: 0.0301\n"
     ]
    },
    {
     "name": "stdout",
     "output_type": "stream",
     "text": [
      "Tue Nov 10 11:04:37 2020\n"
     ]
    }
   ],
   "source": [
    "coefs = mlp_regression(X, y,\n",
    "                       layer_dims=[1024, 1024,1024],\n",
    "                       activation_func='linear',\n",
    "                       dropout_rate=0.5,\n",
    "                       epochs=100,\n",
    "                       patience=10,\n",
    "                       batch_size=64,\n",
    "                       N=1,\n",
    "                       verbose=1)\n",
    "\n",
    "task_name = 'tom2007_mlp_3l'\n",
    "\n",
    "result = get_map(coefs, masked_data, task_name, map_type='z', save_path=None, smoothing_sigma=1)\n",
    "\n",
    "print(time.strftime('%c', time.localtime(time.time())))"
   ]
  },
  {
   "cell_type": "code",
   "execution_count": 14,
   "metadata": {},
   "outputs": [
    {
     "name": "stderr",
     "output_type": "stream",
     "text": [
      "INFO:root:start running\n"
     ]
    },
    {
     "name": "stdout",
     "output_type": "stream",
     "text": [
      "Tue Nov 10 11:17:26 2020\n"
     ]
    },
    {
     "name": "stderr",
     "output_type": "stream",
     "text": [
      "INFO:root:[1/1] - mse: 0.0423\n"
     ]
    },
    {
     "name": "stdout",
     "output_type": "stream",
     "text": [
      "Tue Nov 10 11:19:13 2020\n"
     ]
    }
   ],
   "source": [
    "print(time.strftime('%c', time.localtime(time.time())))\n",
    "coefs = mlp_regression(X, y,\n",
    "                       layer_dims=[2048, 2048],\n",
    "                       activation_func='linear',\n",
    "                       dropout_rate=0.8,\n",
    "                       epochs=100,\n",
    "                       patience=10,\n",
    "                       batch_size=64,\n",
    "                       N=1,\n",
    "                       verbose=1)\n",
    "\n",
    "task_name = 'tom2007_mlp_2048_dr8'\n",
    "\n",
    "result = get_map(coefs, masked_data, task_name, map_type='z', save_path=None, smoothing_sigma=1)\n",
    "\n",
    "print(time.strftime('%c', time.localtime(time.time())))"
   ]
  },
  {
   "cell_type": "code",
   "execution_count": null,
   "metadata": {},
   "outputs": [],
   "source": []
  }
 ],
 "metadata": {
  "kernelspec": {
   "display_name": "Python 3.7 (model_based_fmri)",
   "language": "python",
   "name": "model_based_fmri"
  },
  "language_info": {
   "codemirror_mode": {
    "name": "ipython",
    "version": 3
   },
   "file_extension": ".py",
   "mimetype": "text/x-python",
   "name": "python",
   "nbconvert_exporter": "python",
   "pygments_lexer": "ipython3",
   "version": "3.7.7"
  }
 },
 "nbformat": 4,
 "nbformat_minor": 4
}
