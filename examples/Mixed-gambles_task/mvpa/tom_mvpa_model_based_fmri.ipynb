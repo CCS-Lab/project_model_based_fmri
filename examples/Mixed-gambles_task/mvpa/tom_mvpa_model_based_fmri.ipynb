{
 "cells": [
  {
   "cell_type": "markdown",
   "metadata": {},
   "source": [
    "## Import the libraries you need.\n",
    "Other internal functions(nilean, keras, etc..) dosen't need to be imported.\n",
    "Because mb-mvpa is wrapping."
   ]
  },
  {
   "cell_type": "code",
   "execution_count": 1,
   "metadata": {},
   "outputs": [],
   "source": [
    "from mbmvpa.preprocessing.bids import bids_preprocess\n",
    "from mbmvpa.preprocessing.events import events_preprocess\n",
    "from mbmvpa.data.loader import prepare_dataset\n",
    "from mbmvpa.utils.example_utils import load_example_data"
   ]
  },
  {
   "cell_type": "code",
   "execution_count": 2,
   "metadata": {},
   "outputs": [
    {
     "name": "stdout",
     "output_type": "stream",
     "text": [
      "data load success! (tom)\n"
     ]
    }
   ],
   "source": [
    "root = load_example_data(\"tom\")"
   ]
  },
  {
   "cell_type": "markdown",
   "metadata": {},
   "source": [
    "## Preprocessing bids data including fMRI images"
   ]
  },
  {
   "cell_type": "code",
   "execution_count": 3,
   "metadata": {},
   "outputs": [
    {
     "name": "stderr",
     "output_type": "stream",
     "text": [
      "image preprocessing - fMRI data..                 :  67%|██████▋   | 4/6 [00:02<00:01,  1.02it/s]/home/mybirth0407/anaconda3/envs/mvpa/lib/python3.7/site-packages/scipy/ndimage/interpolation.py:478: UserWarning: The behaviour of affine_transform with a one-dimensional array supplied for the matrix parameter has changed in scipy 0.18.0.\n",
      "  \"The behaviour of affine_transform with a one-dimensional \"\n",
      "bids preprocessing done!                          :  83%|████████▎ | 5/6 [00:20<00:03,  3.47s/it]INFO:root:time elapsed: 0.35 minutes\n",
      "INFO:root:masking data shape: (46, 55, 46)\n",
      "bids preprocessing done!                          : 100%|██████████| 6/6 [00:20<00:00,  3.46s/it]\n"
     ]
    }
   ],
   "source": [
    "X, voxel_mask, layout = bids_preprocess(root, smoothing_fwhm=None, zoom=(2, 2, 2), ncore=2, nthread=4)"
   ]
  },
  {
   "cell_type": "code",
   "execution_count": 4,
   "metadata": {},
   "outputs": [],
   "source": [
    "def example_tom_adjust_columns(row):\n",
    "    ## rename data in a row to the name which can match hbayesdm.ra_prospect requirements ##\n",
    "    row[\"gamble\"] = 1 if row[\"respcat\"] == 1 else 0\n",
    "    row[\"cert\"] = 0\n",
    "    return row"
   ]
  },
  {
   "cell_type": "code",
   "execution_count": 5,
   "metadata": {},
   "outputs": [],
   "source": [
    "def example_tom_condition(row):\n",
    "    # include all trial data\n",
    "    return True"
   ]
  },
  {
   "cell_type": "code",
   "execution_count": 6,
   "metadata": {},
   "outputs": [],
   "source": [
    "def example_tom_modulation(row, param_dict):\n",
    "    ## calculate subjectives utility for choosing Gamble over Safe option\n",
    "    ## prospect theory with loss aversion and risk aversion is adopted\n",
    "    modulation = (row[\"gain\"] ** param_dict[\"rho\"]) - (param_dict[\"lambda\"] * (row[\"loss\"] ** param_dict[\"rho\"]))\n",
    "    row[\"modulation\"] = modulation\n",
    "    return row"
   ]
  },
  {
   "cell_type": "code",
   "execution_count": null,
   "metadata": {},
   "outputs": [
    {
     "name": "stderr",
     "output_type": "stream",
     "text": [
      "hbayesdm doing (model: ra_prospect)..                      :  50%|█████     | 3/6 [00:03<00:05,  1.88s/it]INFO:numexpr.utils:Note: detected 88 virtual cores but NumExpr set to maximum of 64, check \"NUMEXPR_MAX_THREADS\" environment variable.\n",
      "INFO:numexpr.utils:Note: NumExpr detected 88 cores but \"NUMEXPR_MAX_THREADS\" not set, so enforcing safe limit of 8.\n",
      "INFO:numexpr.utils:NumExpr defaulting to 8 threads.\n"
     ]
    },
    {
     "name": "stdout",
     "output_type": "stream",
     "text": [
      "Using cached StanModel: cached-ra_prospect-pystan_2.19.1.1.pkl\n"
     ]
    },
    {
     "name": "stderr",
     "output_type": "stream",
     "text": [
      "WARNING:pystan:Automatic Differentiation Variational Inference (ADVI) is an EXPERIMENTAL ALGORITHM.\n",
      "WARNING:pystan:ADVI samples may be found on the filesystem in the file `/tmp/tmpiob6tvs7/output.csv`\n"
     ]
    }
   ],
   "source": [
    "dm_model, df_events, signals, time_masks, _ = \\\n",
    "    events_preprocess(root,\n",
    "                      preprocess=example_tom_adjust_columns,\n",
    "                      condition=example_tom_condition,\n",
    "                      modulation=example_tom_modulation,\n",
    "                      dm_model=\"ra_prospect\")"
   ]
  },
  {
   "cell_type": "markdown",
   "metadata": {},
   "source": [
    "### Load data and shape check## model"
   ]
  },
  {
   "cell_type": "code",
   "execution_count": null,
   "metadata": {},
   "outputs": [],
   "source": [
    "X, y, voxel_mask = prepare_dataset(root=layout.derivatives[\"fMRIPrep\"].root)"
   ]
  },
  {
   "cell_type": "code",
   "execution_count": null,
   "metadata": {},
   "outputs": [],
   "source": [
    "X.shape, y.shape"
   ]
  },
  {
   "cell_type": "code",
   "execution_count": 1,
   "metadata": {},
   "outputs": [],
   "source": [
    "from mbmvpa.utils.coef2map import get_map\n",
    "import time"
   ]
  },
  {
   "cell_type": "code",
   "execution_count": null,
   "metadata": {},
   "outputs": [],
   "source": [
    "from mbmvpa.models.regressor import mlp_regression\n",
    "\n",
    "s = time.time()\n",
    "n = 30\n",
    "coefs = mlp_regression_v2(X, y,\n",
    "                       layer_dims=[1024, 1024],\n",
    "                       activation_func=\"linear\",\n",
    "                       dropout_rate=0.5,\n",
    "                       epochs=100,\n",
    "                       patience=10,\n",
    "                       batch_size=64,\n",
    "                       N=3,\n",
    "                       verbose=1)\n",
    "\n",
    "task_name = \"tom2007_mlp_v2\"\n",
    "result = get_map(coefs, voxel_mask, task_name, map_type='z', save=True, save_path='./results' sigma=1)\n",
    "e = time.time()\n",
    "print(f\"elapsed time{(e-s) / 60:.2f} minutes\")"
   ]
  },
  {
   "cell_type": "code",
   "execution_count": null,
   "metadata": {},
   "outputs": [],
   "source": [
    "s = time.time()\n",
    "coefs = penalized_linear_regression(X, y,\n",
    "                             alpha=0.001,\n",
    "                             lambda_par=2.0,\n",
    "                             epochs=100,\n",
    "                             patience=30,\n",
    "                             batch_size=256,\n",
    "                             N=30,\n",
    "                             verbose=1)\n",
    "\n",
    "task_name = \"tom2007_penalized_linear\"\n",
    "\n",
    "result = get_map(coefs, voxel_mask, task_name, map_type='z', save=True, save_path='./results' sigma=1)\n",
    "e = time.time()\n",
    "print(f\"elapsed time{(e-s) / 60:.2f} minutes\")"
   ]
  },
  {
   "cell_type": "code",
   "execution_count": null,
   "metadata": {},
   "outputs": [],
   "source": [
    "coefs = elasticnet(X, y,max_use_sample_N=10000,\n",
    "             alpha=0.001,\n",
    "             n_jobs=16,\n",
    "             N=3,\n",
    "             verbose=3)\n",
    "\n",
    "task_name = \"tom2007_elasticnet\"\n",
    "\n",
    "result = get_map(coefs, voxel_mask, task_name, map_type='z', save=True, save_path='./results' sigma=1)\n",
    "print(time.strftime('%c', time.localtime(time.time())))"
   ]
  },
  {
   "cell_type": "code",
   "execution_count": null,
   "metadata": {},
   "outputs": [],
   "source": []
  }
 ],
 "metadata": {
  "kernelspec": {
   "display_name": "Python 3.7 (MVPA)",
   "language": "python",
   "name": "mvpa"
  },
  "language_info": {
   "codemirror_mode": {
    "name": "ipython",
    "version": 3
   },
   "file_extension": ".py",
   "mimetype": "text/x-python",
   "name": "python",
   "nbconvert_exporter": "python",
   "pygments_lexer": "ipython3",
   "version": "3.7.7"
  }
 },
 "nbformat": 4,
 "nbformat_minor": 4
}
