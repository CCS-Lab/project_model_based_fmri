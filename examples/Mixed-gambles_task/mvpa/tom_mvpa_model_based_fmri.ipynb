{
 "cells": [
  {
   "cell_type": "code",
   "execution_count": null,
   "metadata": {},
   "outputs": [],
   "source": [
    "from model_based_mvpa.preprocessing.bids import bids_preprocess, \n",
    "from model_based_mvpa.preprocessing.events import events_preprocess\n",
    "from model_based_mvpa.data.loader import prepare_dataset\n",
    "\n",
    "from piva_utils import example_download_data"
   ]
  },
  {
   "cell_type": "code",
   "execution_count": null,
   "metadata": {},
   "outputs": [],
   "source": [
    "import boto3\n",
    "import botocore\n",
    "\n",
    "BUCKET_NAME = 'example-mbmvpa' # replace with your bucket name\n",
    "KEY = 'tom_example.zip' # replace with your object key\n",
    "\n",
    "s3 = boto3.resource('s3')\n",
    "s3.Bucket(BUCKET_NAME).download_file(KEY, KEY)"
   ]
  },
  {
   "cell_type": "code",
   "execution_count": null,
   "metadata": {},
   "outputs": [],
   "source": [
    "X, voxel_mask, layout = bids_preprocess(root, smoothing_fwhm=None, zoom=(2, 2, 2), ncore=4, nthread=4)"
   ]
  },
  {
   "cell_type": "code",
   "execution_count": null,
   "metadata": {},
   "outputs": [],
   "source": [
    "def example_tom_adjust_columns(row):\n",
    "    ## rename data in a row to the name which can match hbayesdm.ra_prospect requirements ##\n",
    "    row[\"gamble\"] = 1 if row[\"respcat\"] == 1 else 0\n",
    "    row[\"cert\"] = 0\n",
    "    return row"
   ]
  },
  {
   "cell_type": "code",
   "execution_count": null,
   "metadata": {},
   "outputs": [],
   "source": [
    "def example_tom_condition(row):\n",
    "    # include all trial data\n",
    "    return True"
   ]
  },
  {
   "cell_type": "code",
   "execution_count": null,
   "metadata": {},
   "outputs": [],
   "source": [
    "def example_tom_modulation(row, param_dict):\n",
    "    ## calculate subjectives utility for choosing Gamble over Safe option\n",
    "    ## prospect theory with loss aversion and risk aversion is adopted\n",
    "    \n",
    "    modulation = (row[\"gain\"] ** param_dict[\"rho\"]) - (param_dict[\"lambda\"] * (row[\"loss\"] ** param_dict[\"rho\"]))\n",
    "    row[\"modulation\"] = modulation\n",
    "    return row"
   ]
  },
  {
   "cell_type": "code",
   "execution_count": null,
   "metadata": {},
   "outputs": [],
   "source": [
    "dm_model, df_events, sig  nals, time_masks, _ = \\\n",
    "    events_preprocess(root, layout=layout,\n",
    "                      preprocess=example_tom_adjust_columns,\n",
    "                      condition=example_tom_condition,\n",
    "                      modulation=example_tom_modulation,\n",
    "                      dm_model='ra_prospect')"
   ]
  },
  {
   "cell_type": "markdown",
   "metadata": {},
   "source": [
    "## model"
   ]
  },
  {
   "cell_type": "code",
   "execution_count": null,
   "metadata": {},
   "outputs": [],
   "source": [
    "from model_based_mvpa.models.regressor import *\n",
    "from model_based_mvpa.utils.coef2map import *\n",
    "import time"
   ]
  },
  {
   "cell_type": "code",
   "execution_count": null,
   "metadata": {},
   "outputs": [],
   "source": [
    "X, y, voxel_mask = prepare_dataset(root=layout.derivatives[\"fMRIPrep\"].root)"
   ]
  },
  {
   "cell_type": "code",
   "execution_count": null,
   "metadata": {},
   "outputs": [],
   "source": [
    "print(time.strftime('%c', time.localtime(time.time())))"
   ]
  },
  {
   "cell_type": "code",
   "execution_count": null,
   "metadata": {},
   "outputs": [],
   "source": [
    "coefs = mlp_regression_v2(X, y,\n",
    "                       layer_dims=[1024, 1024],\n",
    "                       activation_func='linear',\n",
    "                       dropout_rate=0.5,\n",
    "                       epochs=100,\n",
    "                       patience=10,\n",
    "                       batch_size=64,\n",
    "                       N=3,\n",
    "                       verbose=1)\n",
    "\n",
    "task_name = 'tom2007_mlp_v2'\n",
    "\n",
    "result = get_map(coefs, voxel_mask, task_name, map_type='z', save=True, save_path='./results' sigma=1)\n",
    "print(time.strftime('%c', time.localtime(time.time())))"
   ]
  },
  {
   "cell_type": "code",
   "execution_count": null,
   "metadata": {},
   "outputs": [],
   "source": [
    "coefs = penalized_linear_regression(X, y,\n",
    "                             alpha=0.001,\n",
    "                             lambda_par=2.0,\n",
    "                             epochs=100,\n",
    "                             patience=30,\n",
    "                             batch_size=256,\n",
    "                             N=30,\n",
    "                             verbose=1)\n",
    "\n",
    "task_name = 'tom2007_penalized_linear'\n",
    "\n",
    "result = get_map(coefs, voxel_mask, task_name, map_type='z', save=True, save_path='./results' sigma=1)\n",
    "print(time.strftime('%c', time.localtime(time.time())))"
   ]
  },
  {
   "cell_type": "code",
   "execution_count": null,
   "metadata": {},
   "outputs": [],
   "source": [
    "coefs = penalized_linear_regression(X, y,\n",
    "                             alpha=0.001,\n",
    "                             lambda_par=2.0,\n",
    "                             epochs=100,\n",
    "                             patience=30,\n",
    "                             batch_size=256,\n",
    "                             N=30,\n",
    "                             verbose=1)\n",
    "\n",
    "task_name = 'tom2007_penalized_linear'\n",
    "\n",
    "result = get_map(coefs, voxel_mask, task_name, map_type='z', save=True, save_path='./results' sigma=1)\n",
    "print(time.strftime('%c', time.localtime(time.time())))"
   ]
  },
  {
   "cell_type": "code",
   "execution_count": null,
   "metadata": {},
   "outputs": [],
   "source": [
    "coefs = elasticnet(X, y,max_use_sample_N=10000,\n",
    "             alpha=0.001,\n",
    "             n_jobs=16,\n",
    "             N=3,\n",
    "             verbose=3)\n",
    "\n",
    "task_name = 'tom2007_elasticnet'\n",
    "\n",
    "result = get_map(coefs, voxel_mask, task_name, map_type='z', save=True, save_path='./results' sigma=1)\n",
    "print(time.strftime('%c', time.localtime(time.time())))"
   ]
  },
  {
   "cell_type": "code",
   "execution_count": null,
   "metadata": {},
   "outputs": [],
   "source": []
  }
 ],
 "metadata": {
  "kernelspec": {
   "display_name": "Python 3.7 (MVPA)",
   "language": "python",
   "name": "mvpa"
  },
  "language_info": {
   "codemirror_mode": {
    "name": "ipython",
    "version": 3
   },
   "file_extension": ".py",
   "mimetype": "text/x-python",
   "name": "python",
   "nbconvert_exporter": "python",
   "pygments_lexer": "ipython3",
   "version": "3.7.7"
  }
 },
 "nbformat": 4,
 "nbformat_minor": 4
}
