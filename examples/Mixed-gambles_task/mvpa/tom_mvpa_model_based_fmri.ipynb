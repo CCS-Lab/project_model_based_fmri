{
 "cells": [
  {
   "cell_type": "code",
   "execution_count": 1,
   "metadata": {},
   "outputs": [],
   "source": [
    "from mbmvpa.preprocessing.bids import bids_preprocess\n",
    "from mbmvpa.preprocessing.events import events_preprocess\n",
    "from mbmvpa.data.loader import prepare_dataset"
   ]
  },
  {
   "cell_type": "code",
   "execution_count": 2,
   "metadata": {},
   "outputs": [],
   "source": [
    "root = '/data2/project_model_based_fmri/ds000005'"
   ]
  },
  {
   "cell_type": "code",
   "execution_count": 4,
   "metadata": {},
   "outputs": [
    {
     "name": "stderr",
     "output_type": "stream",
     "text": [
      "\n",
      "  0%|          | 0/6 [00:00<?, ?it/s]\u001b[A\n",
      "loading bids dataset..                            :   0%|          | 0/6 [00:00<?, ?it/s]\u001b[A\n",
      "loading bids dataset..                            :  17%|█▋        | 1/6 [00:09<00:46,  9.28s/it]\u001b[A\n",
      "making custom voxel mask..                        :  17%|█▋        | 1/6 [00:09<00:46,  9.28s/it]\u001b[A\n",
      "making custom voxel mask..                        :  33%|███▎      | 2/6 [00:09<00:26,  6.54s/it]\u001b[A\n",
      "image preprocessing - parameter setting..         :  33%|███▎      | 2/6 [00:09<00:26,  6.54s/it]\u001b[A\n",
      "image preprocessing - parameter setting..         :  50%|█████     | 3/6 [00:12<00:16,  5.49s/it]\u001b[A\n",
      "image preprocessing - making path..               :  50%|█████     | 3/6 [00:12<00:16,  5.49s/it]\u001b[A\n",
      "image preprocessing - fMRI data..                 :  67%|██████▋   | 4/6 [00:12<00:10,  5.49s/it]\u001b[A/home/mybirth0407/anaconda3/envs/mvpa/lib/python3.7/site-packages/scipy/ndimage/interpolation.py:478: UserWarning: The behaviour of affine_transform with a one-dimensional array supplied for the matrix parameter has changed in scipy 0.18.0.\n",
      "  \"The behaviour of affine_transform with a one-dimensional \"\n",
      "/home/mybirth0407/anaconda3/envs/mvpa/lib/python3.7/site-packages/scipy/ndimage/interpolation.py:478: UserWarning: The behaviour of affine_transform with a one-dimensional array supplied for the matrix parameter has changed in scipy 0.18.0.\n",
      "  \"The behaviour of affine_transform with a one-dimensional \"\n",
      "\n",
      "image preprocessing - fMRI data.. 1 / 6 done..    :  67%|██████▋   | 4/6 [00:29<00:10,  5.49s/it]\u001b[A/home/mybirth0407/anaconda3/envs/mvpa/lib/python3.7/site-packages/scipy/ndimage/interpolation.py:478: UserWarning: The behaviour of affine_transform with a one-dimensional array supplied for the matrix parameter has changed in scipy 0.18.0.\n",
      "  \"The behaviour of affine_transform with a one-dimensional \"\n",
      "\n",
      "image preprocessing - fMRI data.. 2 / 6 done..    :  67%|██████▋   | 4/6 [00:45<00:10,  5.49s/it]\u001b[A/home/mybirth0407/anaconda3/envs/mvpa/lib/python3.7/site-packages/scipy/ndimage/interpolation.py:478: UserWarning: The behaviour of affine_transform with a one-dimensional array supplied for the matrix parameter has changed in scipy 0.18.0.\n",
      "  \"The behaviour of affine_transform with a one-dimensional \"\n",
      "/home/mybirth0407/anaconda3/envs/mvpa/lib/python3.7/site-packages/scipy/ndimage/interpolation.py:478: UserWarning: The behaviour of affine_transform with a one-dimensional array supplied for the matrix parameter has changed in scipy 0.18.0.\n",
      "  \"The behaviour of affine_transform with a one-dimensional \"\n",
      "/home/mybirth0407/anaconda3/envs/mvpa/lib/python3.7/site-packages/scipy/ndimage/interpolation.py:478: UserWarning: The behaviour of affine_transform with a one-dimensional array supplied for the matrix parameter has changed in scipy 0.18.0.\n",
      "  \"The behaviour of affine_transform with a one-dimensional \"\n",
      "/home/mybirth0407/anaconda3/envs/mvpa/lib/python3.7/site-packages/scipy/ndimage/interpolation.py:478: UserWarning: The behaviour of affine_transform with a one-dimensional array supplied for the matrix parameter has changed in scipy 0.18.0.\n",
      "  \"The behaviour of affine_transform with a one-dimensional \"\n",
      "\n",
      "image preprocessing - fMRI data.. 3 / 6 done..    :  67%|██████▋   | 4/6 [01:02<00:10,  5.49s/it]\u001b[A/home/mybirth0407/anaconda3/envs/mvpa/lib/python3.7/site-packages/scipy/ndimage/interpolation.py:478: UserWarning: The behaviour of affine_transform with a one-dimensional array supplied for the matrix parameter has changed in scipy 0.18.0.\n",
      "  \"The behaviour of affine_transform with a one-dimensional \"\n",
      "/home/mybirth0407/anaconda3/envs/mvpa/lib/python3.7/site-packages/scipy/ndimage/interpolation.py:478: UserWarning: The behaviour of affine_transform with a one-dimensional array supplied for the matrix parameter has changed in scipy 0.18.0.\n",
      "  \"The behaviour of affine_transform with a one-dimensional \"\n",
      "/home/mybirth0407/anaconda3/envs/mvpa/lib/python3.7/site-packages/scipy/ndimage/interpolation.py:478: UserWarning: The behaviour of affine_transform with a one-dimensional array supplied for the matrix parameter has changed in scipy 0.18.0.\n",
      "  \"The behaviour of affine_transform with a one-dimensional \"\n",
      "\n",
      "image preprocessing - fMRI data.. 4 / 6 done..    :  67%|██████▋   | 4/6 [01:20<00:10,  5.49s/it]\u001b[A\n",
      "image preprocessing - fMRI data.. 5 / 6 done..    :  67%|██████▋   | 4/6 [01:38<00:10,  5.49s/it]\u001b[A\n",
      "image preprocessing - fMRI data.. 6 / 6 done..    :  67%|██████▋   | 4/6 [01:54<00:10,  5.49s/it]\u001b[A\n",
      "image preprocessing - fMRI data.. 6 / 6 done..    :  83%|████████▎ | 5/6 [01:54<00:19, 19.22s/it]\u001b[A\n",
      "bids preprocessing done!                          :  83%|████████▎ | 5/6 [01:54<00:19, 19.22s/it]\u001b[AINFO:root:time elapsed: 1.92 minutes\n",
      "INFO:root:result\n",
      "masking data shape: (46, 55, 46)\n",
      "\n",
      "bids preprocessing done!                          : 100%|██████████| 6/6 [01:55<00:00, 19.17s/it]\n"
     ]
    }
   ],
   "source": [
    "X, voxel_mask, layout = bids_preprocess(root, smoothing_fwhm=None, zoom=(2, 2, 2), ncore=3, nthread=4)"
   ]
  },
  {
   "cell_type": "code",
   "execution_count": 5,
   "metadata": {},
   "outputs": [],
   "source": [
    "def example_tom_adjust_columns(row):\n",
    "    ## rename data in a row to the name which can match hbayesdm.ra_prospect requirements ##\n",
    "    row[\"gamble\"] = 1 if row[\"respcat\"] == 1 else 0\n",
    "    row[\"cert\"] = 0\n",
    "    return row"
   ]
  },
  {
   "cell_type": "code",
   "execution_count": 6,
   "metadata": {},
   "outputs": [],
   "source": [
    "def example_tom_condition(row):\n",
    "    # include all trial data\n",
    "    return True"
   ]
  },
  {
   "cell_type": "code",
   "execution_count": 7,
   "metadata": {},
   "outputs": [],
   "source": [
    "def example_tom_modulation(row, param_dict):\n",
    "    ## calculate subjectives utility for choosing Gamble over Safe option\n",
    "    ## prospect theory with loss aversion and risk aversion is adopted\n",
    "    modulation = (row[\"gain\"] ** param_dict[\"rho\"]) - (param_dict[\"lambda\"] * (row[\"loss\"] ** param_dict[\"rho\"]))\n",
    "    row[\"modulation\"] = modulation\n",
    "    return row"
   ]
  },
  {
   "cell_type": "code",
   "execution_count": 8,
   "metadata": {},
   "outputs": [
    {
     "name": "stderr",
     "output_type": "stream",
     "text": [
      "\n",
      "  0%|          | 0/6 [00:00<?, ?it/s]\u001b[A\n",
      "loading bids dataset..                            :   0%|          | 0/6 [00:00<?, ?it/s]\u001b[A\n",
      "loading bids dataset..                            :  17%|█▋        | 1/6 [00:18<01:30, 18.15s/it]\u001b[A\n",
      "processing event file columns..                   :  17%|█▋        | 1/6 [00:18<01:30, 18.15s/it]\u001b[A\n",
      "processing event file columns..                   :  33%|███▎      | 2/6 [00:27<01:02, 15.54s/it]\u001b[A\n",
      "calculating time masks..                          :  33%|███▎      | 2/6 [00:27<01:02, 15.54s/it]\u001b[A"
     ]
    },
    {
     "ename": "NameError",
     "evalue": "name 'time_length' is not defined",
     "output_type": "error",
     "traceback": [
      "\u001b[0;31m---------------------------------------------------------------------------\u001b[0m",
      "\u001b[0;31mNameError\u001b[0m                                 Traceback (most recent call last)",
      "\u001b[0;32m<ipython-input-8-167c3440e340>\u001b[0m in \u001b[0;36m<module>\u001b[0;34m\u001b[0m\n\u001b[1;32m      4\u001b[0m                       \u001b[0mcondition\u001b[0m\u001b[0;34m=\u001b[0m\u001b[0mexample_tom_condition\u001b[0m\u001b[0;34m,\u001b[0m\u001b[0;34m\u001b[0m\u001b[0;34m\u001b[0m\u001b[0m\n\u001b[1;32m      5\u001b[0m                       \u001b[0mmodulation\u001b[0m\u001b[0;34m=\u001b[0m\u001b[0mexample_tom_modulation\u001b[0m\u001b[0;34m,\u001b[0m\u001b[0;34m\u001b[0m\u001b[0;34m\u001b[0m\u001b[0m\n\u001b[0;32m----> 6\u001b[0;31m                       dm_model='ra_prospect')\n\u001b[0m",
      "\u001b[0;32m~/anaconda3/envs/mvpa/lib/python3.7/site-packages/model_based_fMRI_and_multi_variate_pattern_analysis-0.1.0-py3.7.egg/mbmvpa/preprocessing/events.py\u001b[0m in \u001b[0;36mevents_preprocess\u001b[0;34m(root, layout, save_path, preprocess, condition, modulation, condition_for_modeling, dm_model, individual_params, hrf_model, normalizer, df_events_custom, use_duration, save, scale, **kwargs)\u001b[0m\n\u001b[1;32m    173\u001b[0m \u001b[0;34m\u001b[0m\u001b[0m\n\u001b[1;32m    174\u001b[0m     time_mask = _make_total_time_mask(\n\u001b[0;32m--> 175\u001b[0;31m         condition, df_events_list, time_length, t_r, use_duration)\n\u001b[0m\u001b[1;32m    176\u001b[0m \u001b[0;34m\u001b[0m\u001b[0m\n\u001b[1;32m    177\u001b[0m     \u001b[0;32mif\u001b[0m \u001b[0msave\u001b[0m\u001b[0;34m:\u001b[0m\u001b[0;34m\u001b[0m\u001b[0;34m\u001b[0m\u001b[0m\n",
      "\u001b[0;31mNameError\u001b[0m: name 'time_length' is not defined"
     ]
    }
   ],
   "source": [
    "dm_model, df_events, signals, time_masks, _ = \\\n",
    "    events_preprocess(root,\n",
    "                      preprocess=example_tom_adjust_columns,\n",
    "                      condition=example_tom_condition,\n",
    "                      modulation=example_tom_modulation,\n",
    "                      dm_model='ra_prospect')"
   ]
  },
  {
   "cell_type": "markdown",
   "metadata": {},
   "source": [
    "## model"
   ]
  },
  {
   "cell_type": "code",
   "execution_count": null,
   "metadata": {},
   "outputs": [],
   "source": [
    "from model_based_mvpa.models.regressor import *\n",
    "from model_based_mvpa.utils.coef2map import *\n",
    "import time"
   ]
  },
  {
   "cell_type": "code",
   "execution_count": null,
   "metadata": {},
   "outputs": [],
   "source": [
    "X, y, voxel_mask = prepare_dataset(root=layout.derivatives[\"fMRIPrep\"].root)"
   ]
  },
  {
   "cell_type": "code",
   "execution_count": null,
   "metadata": {},
   "outputs": [],
   "source": [
    "print(time.strftime('%c', time.localtime(time.time())))"
   ]
  },
  {
   "cell_type": "code",
   "execution_count": null,
   "metadata": {},
   "outputs": [],
   "source": [
    "coefs = mlp_regression_v2(X, y,\n",
    "                       layer_dims=[1024, 1024],\n",
    "                       activation_func='linear',\n",
    "                       dropout_rate=0.5,\n",
    "                       epochs=100,\n",
    "                       patience=10,\n",
    "                       batch_size=64,\n",
    "                       N=3,\n",
    "                       verbose=1)\n",
    "\n",
    "task_name = 'tom2007_mlp_v2'\n",
    "\n",
    "result = get_map(coefs, voxel_mask, task_name, map_type='z', save=True, save_path='./results' sigma=1)\n",
    "print(time.strftime('%c', time.localtime(time.time())))"
   ]
  },
  {
   "cell_type": "code",
   "execution_count": null,
   "metadata": {},
   "outputs": [],
   "source": [
    "coefs = penalized_linear_regression(X, y,\n",
    "                             alpha=0.001,\n",
    "                             lambda_par=2.0,\n",
    "                             epochs=100,\n",
    "                             patience=30,\n",
    "                             batch_size=256,\n",
    "                             N=30,\n",
    "                             verbose=1)\n",
    "\n",
    "task_name = 'tom2007_penalized_linear'\n",
    "\n",
    "result = get_map(coefs, voxel_mask, task_name, map_type='z', save=True, save_path='./results' sigma=1)\n",
    "print(time.strftime('%c', time.localtime(time.time())))"
   ]
  },
  {
   "cell_type": "code",
   "execution_count": null,
   "metadata": {},
   "outputs": [],
   "source": [
    "coefs = penalized_linear_regression(X, y,\n",
    "                             alpha=0.001,\n",
    "                             lambda_par=2.0,\n",
    "                             epochs=100,\n",
    "                             patience=30,\n",
    "                             batch_size=256,\n",
    "                             N=30,\n",
    "                             verbose=1)\n",
    "\n",
    "task_name = 'tom2007_penalized_linear'\n",
    "\n",
    "result = get_map(coefs, voxel_mask, task_name, map_type='z', save=True, save_path='./results' sigma=1)\n",
    "print(time.strftime('%c', time.localtime(time.time())))"
   ]
  },
  {
   "cell_type": "code",
   "execution_count": null,
   "metadata": {},
   "outputs": [],
   "source": [
    "coefs = elasticnet(X, y,max_use_sample_N=10000,\n",
    "             alpha=0.001,\n",
    "             n_jobs=16,\n",
    "             N=3,\n",
    "             verbose=3)\n",
    "\n",
    "task_name = 'tom2007_elasticnet'\n",
    "\n",
    "result = get_map(coefs, voxel_mask, task_name, map_type='z', save=True, save_path='./results' sigma=1)\n",
    "print(time.strftime('%c', time.localtime(time.time())))"
   ]
  },
  {
   "cell_type": "code",
   "execution_count": null,
   "metadata": {},
   "outputs": [],
   "source": []
  }
 ],
 "metadata": {
  "kernelspec": {
   "display_name": "Python 3.7 (MVPA)",
   "language": "python",
   "name": "mvpa"
  },
  "language_info": {
   "codemirror_mode": {
    "name": "ipython",
    "version": 3
   },
   "file_extension": ".py",
   "mimetype": "text/x-python",
   "name": "python",
   "nbconvert_exporter": "python",
   "pygments_lexer": "ipython3",
   "version": "3.7.7"
  }
 },
 "nbformat": 4,
 "nbformat_minor": 4
}
