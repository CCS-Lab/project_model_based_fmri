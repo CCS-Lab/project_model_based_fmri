{
 "cells": [
  {
   "cell_type": "code",
   "execution_count": 1,
   "metadata": {},
   "outputs": [],
   "source": [
    "import model_based_mvpa as mbmvpa\n",
    "from model_based_mvpa.preprocessing.bids import *\n",
    "from model_based_mvpa.preprocessing.events import *\n",
    "from model_based_mvpa.utils.functions import *"
   ]
  },
  {
   "cell_type": "code",
   "execution_count": 2,
   "metadata": {},
   "outputs": [],
   "source": [
    "root = '/data2/project_model_based_fmri/ds000005/'"
   ]
  },
  {
   "cell_type": "code",
   "execution_count": 3,
   "metadata": {},
   "outputs": [
    {
     "name": "stderr",
     "output_type": "stream",
     "text": [
      "         loading bids dataset..         : : 0it [00:00, ?it/s]\n",
      "         loading bids dataset..         : : 0it [00:14, ?it/s]\n",
      "\n",
      "         make custom masking..          : : 1it [00:00, 658.03it/s]\u001b[A\n",
      "         make custom masking..          : : 2it [00:00,  3.01it/s] \u001b[A\n",
      "  image preprocessing using 32 cores..  : : 2it [00:00,  3.01it/s]\u001b[A"
     ]
    },
    {
     "name": "stdout",
     "output_type": "stream",
     "text": [
      "2 8\n",
      "0 / 8\n"
     ]
    },
    {
     "name": "stderr",
     "output_type": "stream",
     "text": [
      "\n",
      "  image preprocessing using 32 cores..  : : 3it [00:20,  6.31s/it]\u001b[A\n",
      "  image preprocessing using 32 cores..  : : 4it [00:21,  4.67s/it]\u001b[A"
     ]
    },
    {
     "name": "stdout",
     "output_type": "stream",
     "text": [
      "1 / 8\n"
     ]
    },
    {
     "name": "stderr",
     "output_type": "stream",
     "text": [
      "/home/mybirth0407/anaconda3/envs/mvpa/lib/python3.7/site-packages/scipy/ndimage/interpolation.py:478: UserWarning: The behaviour of affine_transform with a one-dimensional array supplied for the matrix parameter has changed in scipy 0.18.0.\n",
      "  \"The behaviour of affine_transform with a one-dimensional \"\n",
      "/home/mybirth0407/anaconda3/envs/mvpa/lib/python3.7/site-packages/scipy/ndimage/interpolation.py:478: UserWarning: The behaviour of affine_transform with a one-dimensional array supplied for the matrix parameter has changed in scipy 0.18.0.\n",
      "  \"The behaviour of affine_transform with a one-dimensional \"\n",
      "\n",
      "  image preprocessing using 32 cores..  : : 5it [00:37,  8.11s/it]\u001b[A\n",
      "  image preprocessing using 32 cores..  : : 6it [00:38,  5.74s/it]\u001b[A"
     ]
    },
    {
     "name": "stdout",
     "output_type": "stream",
     "text": [
      "2 / 8\n"
     ]
    },
    {
     "name": "stderr",
     "output_type": "stream",
     "text": [
      "/home/mybirth0407/anaconda3/envs/mvpa/lib/python3.7/site-packages/scipy/ndimage/interpolation.py:478: UserWarning: The behaviour of affine_transform with a one-dimensional array supplied for the matrix parameter has changed in scipy 0.18.0.\n",
      "  \"The behaviour of affine_transform with a one-dimensional \"\n",
      "\n",
      "  image preprocessing using 32 cores..  : : 7it [00:54,  9.04s/it]\u001b[A\n",
      "  image preprocessing using 32 cores..  : : 8it [00:55,  6.43s/it]\u001b[A"
     ]
    },
    {
     "name": "stdout",
     "output_type": "stream",
     "text": [
      "3 / 8\n"
     ]
    },
    {
     "name": "stderr",
     "output_type": "stream",
     "text": [
      "\n",
      "  image preprocessing using 32 cores..  : : 9it [01:12,  9.63s/it]\u001b[A"
     ]
    },
    {
     "name": "stdout",
     "output_type": "stream",
     "text": [
      "4 / 8\n"
     ]
    },
    {
     "name": "stderr",
     "output_type": "stream",
     "text": [
      "/home/mybirth0407/anaconda3/envs/mvpa/lib/python3.7/site-packages/scipy/ndimage/interpolation.py:478: UserWarning: The behaviour of affine_transform with a one-dimensional array supplied for the matrix parameter has changed in scipy 0.18.0.\n",
      "  \"The behaviour of affine_transform with a one-dimensional \"\n",
      "\n",
      "  image preprocessing using 32 cores..  : : 11it [01:28,  9.23s/it]\u001b[A\n",
      "  image preprocessing using 32 cores..  : : 12it [01:29,  6.55s/it]\u001b[A"
     ]
    },
    {
     "name": "stdout",
     "output_type": "stream",
     "text": [
      "5 / 8\n"
     ]
    },
    {
     "name": "stderr",
     "output_type": "stream",
     "text": [
      "\n",
      "  image preprocessing using 32 cores..  : : 13it [01:45,  9.63s/it]\u001b[A\n",
      "  image preprocessing using 32 cores..  : : 14it [01:46,  6.79s/it]\u001b[A"
     ]
    },
    {
     "name": "stdout",
     "output_type": "stream",
     "text": [
      "6 / 8\n"
     ]
    },
    {
     "name": "stderr",
     "output_type": "stream",
     "text": [
      "/home/mybirth0407/anaconda3/envs/mvpa/lib/python3.7/site-packages/scipy/ndimage/interpolation.py:478: UserWarning: The behaviour of affine_transform with a one-dimensional array supplied for the matrix parameter has changed in scipy 0.18.0.\n",
      "  \"The behaviour of affine_transform with a one-dimensional \"\n",
      "\n",
      "  image preprocessing using 32 cores..  : : 15it [02:02,  9.68s/it]\u001b[A\n",
      "  image preprocessing using 32 cores..  : : 16it [02:02,  6.82s/it]\u001b[A"
     ]
    },
    {
     "name": "stdout",
     "output_type": "stream",
     "text": [
      "7 / 8\n"
     ]
    },
    {
     "name": "stderr",
     "output_type": "stream",
     "text": [
      "\n",
      "  image preprocessing using 32 cores..  : : 17it [02:19,  9.80s/it]\u001b[A\n",
      "  image preprocessing using 32 cores..  : : 18it [02:19,  6.91s/it]\u001b[A\n",
      "        bids preprocessing done!        : : 19it [02:19,  6.91s/it]\u001b[AINFO:root:result\n",
      "masking data shape: (46, 55, 46)\n",
      "number of voxels: (6810,)\n",
      "INFO:root:time elapsed: 154.8165214061737 seconds\n",
      "        bids preprocessing done!        : : 19it [02:20,  7.40s/it]\n"
     ]
    }
   ],
   "source": [
    "X, masked_data, layout = bids_preprocess(root, smoothing_fwhm=None, zoom=(2, 2, 2), ncore=32)"
   ]
  },
  {
   "cell_type": "code",
   "execution_count": null,
   "metadata": {},
   "outputs": [],
   "source": [
    "# X.shape"
   ]
  },
  {
   "cell_type": "code",
   "execution_count": null,
   "metadata": {},
   "outputs": [],
   "source": [
    "funcs = [example_adjust_event_columns, example_calculate_modulation] # todo: Modifying to receive user's utility function"
   ]
  },
  {
   "cell_type": "code",
   "execution_count": null,
   "metadata": {},
   "outputs": [],
   "source": [
    "a, b, y = preprocess_events(root, dm_model='ra_prospect', funcs=funcs, ncore=4)"
   ]
  },
  {
   "cell_type": "markdown",
   "metadata": {},
   "source": [
    "## model"
   ]
  },
  {
   "cell_type": "code",
   "execution_count": null,
   "metadata": {},
   "outputs": [],
   "source": [
    "from model_based_mvpa.models.regressor import *\n",
    "from model_based_mvpa.utils.coef2map import *\n",
    "import time"
   ]
  },
  {
   "cell_type": "code",
   "execution_count": null,
   "metadata": {},
   "outputs": [],
   "source": [
    "X, y = prepare_data(X=root + 'derivatives/fmriprep/data/X.npy',\n",
    "                    y=root + 'derivatives/fmriprep/data/y.npy')\n",
    "masked_data = nib.load(root + 'derivatives/fmriprep/data/masked_data.nii.gz')"
   ]
  },
  {
   "cell_type": "code",
   "execution_count": null,
   "metadata": {},
<<<<<<< HEAD
   "outputs": [],
=======
   "outputs": [
    {
     "name": "stdout",
     "output_type": "stream",
     "text": [
      "Tue Nov 10 10:50:02 2020\n"
     ]
    }
   ],
>>>>>>> 8a0062822b60a4e31e6e77a0b750ab8bba52de44
   "source": [
    "print(time.strftime('%c', time.localtime(time.time())))"
   ]
  },
  {
   "cell_type": "code",
   "execution_count": null,
   "metadata": {},
   "outputs": [],
<<<<<<< HEAD
=======
   "source": []
  },
  {
   "cell_type": "code",
   "execution_count": 7,
   "metadata": {},
   "outputs": [],
   "source": [
    "coefs = mlp_regression(X, y,\n",
    "                       layer_dims=[1024, 1024],\n",
    "                       activation_func='linear',\n",
    "                       dropout_rate=0.5,\n",
    "                       epochs=100,\n",
    "                       patience=10,\n",
    "                       batch_size=64,\n",
    "                       N=30,\n",
    "                       verbose=1)\n",
    "\n",
    "task_name = 'tom2007_mlp'\n",
    "\n",
    "result = get_map(coefs, masked_data, task_name, map_type='z', save_path=None, smoothing_sigma=1)\n",
    "\n",
    "print(time.strftime('%c', time.localtime(time.time())))"
   ]
  },
  {
   "cell_type": "code",
   "execution_count": 6,
   "metadata": {},
   "outputs": [
    {
     "name": "stderr",
     "output_type": "stream",
     "text": [
      "INFO:root:start running\n"
     ]
    },
    {
     "ename": "NameError",
     "evalue": "name 'my_dict' is not defined",
     "output_type": "error",
     "traceback": [
      "\u001b[0;31m---------------------------------------------------------------------------\u001b[0m",
      "\u001b[0;31mNameError\u001b[0m                                 Traceback (most recent call last)",
      "\u001b[0;32m<ipython-input-6-9ab1d0c9f962>\u001b[0m in \u001b[0;36m<module>\u001b[0;34m\u001b[0m\n\u001b[1;32m      7\u001b[0m                        \u001b[0mbatch_size\u001b[0m\u001b[0;34m=\u001b[0m\u001b[0;36m64\u001b[0m\u001b[0;34m,\u001b[0m\u001b[0;34m\u001b[0m\u001b[0;34m\u001b[0m\u001b[0m\n\u001b[1;32m      8\u001b[0m                        \u001b[0mN\u001b[0m\u001b[0;34m=\u001b[0m\u001b[0;36m3\u001b[0m\u001b[0;34m,\u001b[0m\u001b[0;34m\u001b[0m\u001b[0;34m\u001b[0m\u001b[0m\n\u001b[0;32m----> 9\u001b[0;31m                        verbose=1)\n\u001b[0m\u001b[1;32m     10\u001b[0m \u001b[0;34m\u001b[0m\u001b[0m\n\u001b[1;32m     11\u001b[0m \u001b[0mtask_name\u001b[0m \u001b[0;34m=\u001b[0m \u001b[0;34m'tom2007_mlp_v2'\u001b[0m\u001b[0;34m\u001b[0m\u001b[0;34m\u001b[0m\u001b[0m\n",
      "\u001b[0;32m~/anaconda3/envs/model_based_fmri/lib/python3.7/site-packages/model_based_mvpa-0.0.1-py3.7.egg/model_based_mvpa/models/regressor.py\u001b[0m in \u001b[0;36mmlp_regression_v2\u001b[0;34m(X, y, save_path, layer_dims, activation_func, dropout_rate, epochs, patience, batch_size, N, verbose)\u001b[0m\n\u001b[1;32m    145\u001b[0m             \u001b[0;32mif\u001b[0m \u001b[0mact_map\u001b[0m \u001b[0;32mis\u001b[0m \u001b[0;32mnot\u001b[0m \u001b[0;32mNone\u001b[0m\u001b[0;34m:\u001b[0m\u001b[0;34m\u001b[0m\u001b[0;34m\u001b[0m\u001b[0m\n\u001b[1;32m    146\u001b[0m                 \u001b[0mmse_to_actmap\u001b[0m\u001b[0;34m[\u001b[0m\u001b[0mmse\u001b[0m\u001b[0;34m]\u001b[0m \u001b[0;34m=\u001b[0m \u001b[0mact_map\u001b[0m\u001b[0;34m\u001b[0m\u001b[0;34m\u001b[0m\u001b[0m\n\u001b[0;32m--> 147\u001b[0;31m                 \u001b[0;32mdel\u001b[0m \u001b[0mmy_dict\u001b[0m\u001b[0;34m[\u001b[0m\u001b[0mval_threshold\u001b[0m\u001b[0;34m]\u001b[0m\u001b[0;34m\u001b[0m\u001b[0;34m\u001b[0m\u001b[0m\n\u001b[0m\u001b[1;32m    148\u001b[0m \u001b[0;34m\u001b[0m\u001b[0m\n\u001b[1;32m    149\u001b[0m             \u001b[0;31m#bin_dict[bin_rolling_i] = act_map\u001b[0m\u001b[0;34m\u001b[0m\u001b[0;34m\u001b[0m\u001b[0;34m\u001b[0m\u001b[0m\n",
      "\u001b[0;31mNameError\u001b[0m: name 'my_dict' is not defined"
     ]
    }
   ],
>>>>>>> 8a0062822b60a4e31e6e77a0b750ab8bba52de44
   "source": [
    "coefs = mlp_regression_v2(X, y,\n",
    "                       layer_dims=[1024, 1024],\n",
    "                       activation_func='linear',\n",
    "                       dropout_rate=0.5,\n",
    "                       epochs=100,\n",
    "                       patience=10,\n",
    "                       batch_size=64,\n",
    "                       N=3,\n",
    "                       verbose=1)\n",
    "\n",
    "task_name = 'tom2007_mlp_v2'\n",
    "\n",
    "result = get_map(coefs, masked_data, task_name, map_type='z', save_path=None, smoothing_sigma=1)\n",
    "\n",
    "print(time.strftime('%c', time.localtime(time.time())))"
   ]
  },
  {
   "cell_type": "code",
   "execution_count": 11,
   "metadata": {},
   "outputs": [
    {
     "name": "stderr",
     "output_type": "stream",
     "text": [
      "INFO:root:start running\n",
      "INFO:root:[1/30] - mse: 0.0452\n",
      "INFO:root:[2/30] - mse: 0.0472\n",
      "INFO:root:[3/30] - mse: 0.0489\n",
      "INFO:root:[4/30] - mse: 0.0469\n",
      "INFO:root:[5/30] - mse: 0.0442\n",
      "INFO:root:[6/30] - mse: 0.0488\n",
      "INFO:root:[7/30] - mse: 0.0449\n",
      "INFO:root:[8/30] - mse: 0.0475\n",
      "INFO:root:[9/30] - mse: 0.0468\n",
      "INFO:root:[10/30] - mse: 0.0480\n",
      "INFO:root:[11/30] - mse: 0.0504\n",
      "INFO:root:[12/30] - mse: 0.0513\n",
      "INFO:root:[13/30] - mse: 0.0475\n",
      "INFO:root:[14/30] - mse: 0.0468\n",
      "INFO:root:[15/30] - mse: 0.0459\n",
      "INFO:root:[16/30] - mse: 0.0482\n",
      "INFO:root:[17/30] - mse: 0.0487\n",
      "INFO:root:[18/30] - mse: 0.0461\n",
      "INFO:root:[19/30] - mse: 0.0452\n",
      "INFO:root:[20/30] - mse: 0.0466\n",
      "INFO:root:[21/30] - mse: 0.0473\n",
      "INFO:root:[22/30] - mse: 0.0455\n",
      "INFO:root:[23/30] - mse: 0.0489\n",
      "INFO:root:[24/30] - mse: 0.0468\n",
      "INFO:root:[25/30] - mse: 0.0471\n",
      "INFO:root:[26/30] - mse: 0.0493\n",
      "INFO:root:[27/30] - mse: 0.0466\n",
      "INFO:root:[28/30] - mse: 0.0471\n",
      "INFO:root:[29/30] - mse: 0.0482\n",
      "INFO:root:[30/30] - mse: 0.0454\n"
     ]
    },
    {
     "name": "stdout",
     "output_type": "stream",
     "text": [
      "Wed Nov  4 18:46:39 2020\n"
     ]
    }
   ],
   "source": [
    "coefs = penalized_linear_regression(X, y,\n",
    "                             alpha=0.001,\n",
    "                             lambda_par=2.0,\n",
    "                             epochs=100,\n",
    "                             patience=30,\n",
    "                             batch_size=256,\n",
    "                             N=30,\n",
    "                             verbose=1)\n",
    "\n",
    "task_name = 'tom2007_penalized_linear'\n",
    "\n",
    "result = get_map(coefs, masked_data, task_name, map_type='z', save_path=None, smoothing_sigma=1)\n",
    "\n",
    "print(time.strftime('%c', time.localtime(time.time())))"
   ]
  },
  {
   "cell_type": "code",
   "execution_count": null,
   "metadata": {},
   "outputs": [],
   "source": [
    "coefs = penalized_linear_regression(X, y,\n",
    "                             alpha=0.001,\n",
    "                             lambda_par=2.0,\n",
    "                             epochs=100,\n",
    "                             patience=30,\n",
    "                             batch_size=256,\n",
    "                             N=30,\n",
    "                             verbose=1)\n",
    "\n",
    "task_name = 'tom2007_penalized_linear'\n",
    "\n",
    "result = get_map(coefs, masked_data, task_name, map_type='z', save_path=None, smoothing_sigma=1)\n",
    "\n",
    "print(time.strftime('%c', time.localtime(time.time())))"
   ]
  },
  {
   "cell_type": "code",
   "execution_count": 5,
   "metadata": {
    "collapsed": true,
    "jupyter": {
     "outputs_hidden": true
    }
   },
   "outputs": [
    {
     "name": "stderr",
     "output_type": "stream",
     "text": [
      "INFO:root:start running\n",
      "/home/cheoljun/anaconda3/envs/model_based_fmri/lib/python3.7/site-packages/sklearn/utils/validation.py:72: DataConversionWarning: A column-vector y was passed when a 1d array was expected. Please change the shape of y to (n_samples, ), for example using ravel().\n",
      "  return f(**kwargs)\n"
     ]
    },
    {
     "ename": "TypeError",
     "evalue": "unsupported format string passed to numpy.ndarray.__format__",
     "output_type": "error",
     "traceback": [
      "\u001b[0;31m---------------------------------------------------------------------------\u001b[0m",
      "\u001b[0;31mTypeError\u001b[0m                                 Traceback (most recent call last)",
      "\u001b[0;32m<ipython-input-5-1130f5e03e06>\u001b[0m in \u001b[0;36m<module>\u001b[0;34m\u001b[0m\n\u001b[1;32m      3\u001b[0m              \u001b[0mn_jobs\u001b[0m\u001b[0;34m=\u001b[0m\u001b[0;36m16\u001b[0m\u001b[0;34m,\u001b[0m\u001b[0;34m\u001b[0m\u001b[0;34m\u001b[0m\u001b[0m\n\u001b[1;32m      4\u001b[0m              \u001b[0mN\u001b[0m\u001b[0;34m=\u001b[0m\u001b[0;36m3\u001b[0m\u001b[0;34m,\u001b[0m\u001b[0;34m\u001b[0m\u001b[0;34m\u001b[0m\u001b[0m\n\u001b[0;32m----> 5\u001b[0;31m              verbose=3)\n\u001b[0m\u001b[1;32m      6\u001b[0m \u001b[0;34m\u001b[0m\u001b[0m\n\u001b[1;32m      7\u001b[0m \u001b[0mtask_name\u001b[0m \u001b[0;34m=\u001b[0m \u001b[0;34m'tom2007_elasticnet'\u001b[0m\u001b[0;34m\u001b[0m\u001b[0;34m\u001b[0m\u001b[0m\n",
      "\u001b[0;32m~/anaconda3/envs/model_based_fmri/lib/python3.7/site-packages/model_based_mvpa-0.0.1-py3.7.egg/model_based_mvpa/models/regressor.py\u001b[0m in \u001b[0;36melasticnet\u001b[0;34m(X, y, alpha, n_jobs, N, verbose)\u001b[0m\n\u001b[1;32m    211\u001b[0m \u001b[0;34m\u001b[0m\u001b[0m\n\u001b[1;32m    212\u001b[0m         \u001b[0;32mif\u001b[0m \u001b[0mverbose\u001b[0m \u001b[0;34m>\u001b[0m \u001b[0;36m0\u001b[0m\u001b[0;34m:\u001b[0m\u001b[0;34m\u001b[0m\u001b[0;34m\u001b[0m\u001b[0m\n\u001b[0;32m--> 213\u001b[0;31m             \u001b[0mlogging\u001b[0m\u001b[0;34m.\u001b[0m\u001b[0minfo\u001b[0m\u001b[0;34m(\u001b[0m\u001b[0;34mf'[{i+1}/{N}] - lambda_best: {model.lambda_best_:.03f}/ mse: {error:.04f}'\u001b[0m\u001b[0;34m)\u001b[0m\u001b[0;34m\u001b[0m\u001b[0;34m\u001b[0m\u001b[0m\n\u001b[0m\u001b[1;32m    214\u001b[0m \u001b[0;34m\u001b[0m\u001b[0m\n\u001b[1;32m    215\u001b[0m \u001b[0;34m\u001b[0m\u001b[0m\n",
      "\u001b[0;31mTypeError\u001b[0m: unsupported format string passed to numpy.ndarray.__format__"
     ]
    }
   ],
   "source": [
    "coefs = elasticnet(X, y,max_use_sample_N=10000,\n",
    "             alpha=0.001,\n",
    "             n_jobs=16,\n",
    "             N=3,\n",
    "             verbose=3)\n",
    "\n",
    "task_name = 'tom2007_elasticnet'\n",
    "\n",
    "result = get_map(coefs, masked_data, task_name, map_type='z', save_path=None, smoothing_sigma=1)\n",
    "\n",
    "print(time.strftime('%c', time.localtime(time.time())))"
   ]
  },
  {
   "cell_type": "code",
   "execution_count": null,
   "metadata": {},
   "outputs": [],
   "source": []
  }
 ],
 "metadata": {
  "kernelspec": {
   "display_name": "Python 3.7 (MVPA)",
   "language": "python",
   "name": "mvpa"
  },
  "language_info": {
   "codemirror_mode": {
    "name": "ipython",
    "version": 3
   },
   "file_extension": ".py",
   "mimetype": "text/x-python",
   "name": "python",
   "nbconvert_exporter": "python",
   "pygments_lexer": "ipython3",
   "version": "3.7.7"
  }
 },
 "nbformat": 4,
 "nbformat_minor": 4
}
