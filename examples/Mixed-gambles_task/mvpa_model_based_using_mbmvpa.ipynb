{
 "cells": [
  {
   "cell_type": "code",
   "execution_count": 1,
   "metadata": {},
   "outputs": [],
   "source": [
    "import model_based_mvpa as mbmvpa\n",
    "from model_based_mvpa.preprocessing.bids import *\n",
    "from model_based_mvpa.preprocessing.events import *\n",
    "from model_based_mvpa.utils.functions import *"
   ]
  },
  {
   "cell_type": "code",
   "execution_count": 2,
   "metadata": {},
   "outputs": [],
   "source": [
    "root = '/data2/project_model_based_fmri/ds000005/'"
   ]
  },
  {
   "cell_type": "code",
   "execution_count": 3,
   "metadata": {},
   "outputs": [
    {
     "name": "stderr",
     "output_type": "stream",
     "text": [
      "         loading bids dataset..         : : 0it [00:00, ?it/s]\n",
      "         loading bids dataset..         : : 0it [00:14, ?it/s]\n",
      "\n",
      "         make custom masking..          : : 1it [00:00, 658.03it/s]\u001b[A\n",
      "         make custom masking..          : : 2it [00:00,  3.01it/s] \u001b[A\n",
      "  image preprocessing using 32 cores..  : : 2it [00:00,  3.01it/s]\u001b[A"
     ]
    },
    {
     "name": "stdout",
     "output_type": "stream",
     "text": [
      "2 8\n",
      "0 / 8\n"
     ]
    },
    {
     "name": "stderr",
     "output_type": "stream",
     "text": [
      "\n",
      "  image preprocessing using 32 cores..  : : 3it [00:20,  6.31s/it]\u001b[A\n",
      "  image preprocessing using 32 cores..  : : 4it [00:21,  4.67s/it]\u001b[A"
     ]
    },
    {
     "name": "stdout",
     "output_type": "stream",
     "text": [
      "1 / 8\n"
     ]
    },
    {
     "name": "stderr",
     "output_type": "stream",
     "text": [
      "/home/mybirth0407/anaconda3/envs/mvpa/lib/python3.7/site-packages/scipy/ndimage/interpolation.py:478: UserWarning: The behaviour of affine_transform with a one-dimensional array supplied for the matrix parameter has changed in scipy 0.18.0.\n",
      "  \"The behaviour of affine_transform with a one-dimensional \"\n",
      "/home/mybirth0407/anaconda3/envs/mvpa/lib/python3.7/site-packages/scipy/ndimage/interpolation.py:478: UserWarning: The behaviour of affine_transform with a one-dimensional array supplied for the matrix parameter has changed in scipy 0.18.0.\n",
      "  \"The behaviour of affine_transform with a one-dimensional \"\n",
      "\n",
      "  image preprocessing using 32 cores..  : : 5it [00:37,  8.11s/it]\u001b[A\n",
      "  image preprocessing using 32 cores..  : : 6it [00:38,  5.74s/it]\u001b[A"
     ]
    },
    {
     "name": "stdout",
     "output_type": "stream",
     "text": [
      "2 / 8\n"
     ]
    },
    {
     "name": "stderr",
     "output_type": "stream",
     "text": [
      "/home/mybirth0407/anaconda3/envs/mvpa/lib/python3.7/site-packages/scipy/ndimage/interpolation.py:478: UserWarning: The behaviour of affine_transform with a one-dimensional array supplied for the matrix parameter has changed in scipy 0.18.0.\n",
      "  \"The behaviour of affine_transform with a one-dimensional \"\n",
      "\n",
      "  image preprocessing using 32 cores..  : : 7it [00:54,  9.04s/it]\u001b[A\n",
      "  image preprocessing using 32 cores..  : : 8it [00:55,  6.43s/it]\u001b[A"
     ]
    },
    {
     "name": "stdout",
     "output_type": "stream",
     "text": [
      "3 / 8\n"
     ]
    },
    {
     "name": "stderr",
     "output_type": "stream",
     "text": [
      "\n",
      "  image preprocessing using 32 cores..  : : 9it [01:12,  9.63s/it]\u001b[A"
     ]
    },
    {
     "name": "stdout",
     "output_type": "stream",
     "text": [
      "4 / 8\n"
     ]
    },
    {
     "name": "stderr",
     "output_type": "stream",
     "text": [
      "/home/mybirth0407/anaconda3/envs/mvpa/lib/python3.7/site-packages/scipy/ndimage/interpolation.py:478: UserWarning: The behaviour of affine_transform with a one-dimensional array supplied for the matrix parameter has changed in scipy 0.18.0.\n",
      "  \"The behaviour of affine_transform with a one-dimensional \"\n",
      "\n",
      "  image preprocessing using 32 cores..  : : 11it [01:28,  9.23s/it]\u001b[A\n",
      "  image preprocessing using 32 cores..  : : 12it [01:29,  6.55s/it]\u001b[A"
     ]
    },
    {
     "name": "stdout",
     "output_type": "stream",
     "text": [
      "5 / 8\n"
     ]
    },
    {
     "name": "stderr",
     "output_type": "stream",
     "text": [
      "\n",
      "  image preprocessing using 32 cores..  : : 13it [01:45,  9.63s/it]\u001b[A\n",
      "  image preprocessing using 32 cores..  : : 14it [01:46,  6.79s/it]\u001b[A"
     ]
    },
    {
     "name": "stdout",
     "output_type": "stream",
     "text": [
      "6 / 8\n"
     ]
    },
    {
     "name": "stderr",
     "output_type": "stream",
     "text": [
      "/home/mybirth0407/anaconda3/envs/mvpa/lib/python3.7/site-packages/scipy/ndimage/interpolation.py:478: UserWarning: The behaviour of affine_transform with a one-dimensional array supplied for the matrix parameter has changed in scipy 0.18.0.\n",
      "  \"The behaviour of affine_transform with a one-dimensional \"\n",
      "\n",
      "  image preprocessing using 32 cores..  : : 15it [02:02,  9.68s/it]\u001b[A\n",
      "  image preprocessing using 32 cores..  : : 16it [02:02,  6.82s/it]\u001b[A"
     ]
    },
    {
     "name": "stdout",
     "output_type": "stream",
     "text": [
      "7 / 8\n"
     ]
    },
    {
     "name": "stderr",
     "output_type": "stream",
     "text": [
      "\n",
      "  image preprocessing using 32 cores..  : : 17it [02:19,  9.80s/it]\u001b[A\n",
      "  image preprocessing using 32 cores..  : : 18it [02:19,  6.91s/it]\u001b[A\n",
      "        bids preprocessing done!        : : 19it [02:19,  6.91s/it]\u001b[AINFO:root:result\n",
      "masking data shape: (46, 55, 46)\n",
      "number of voxels: (6810,)\n",
      "INFO:root:time elapsed: 154.8165214061737 seconds\n",
      "        bids preprocessing done!        : : 19it [02:20,  7.40s/it]\n"
     ]
    }
   ],
   "source": [
    "X, masked_data, layout = bids_preprocess(root, smoothing_fwhm=None, zoom=(2, 2, 2), ncore=32)"
   ]
  },
  {
   "cell_type": "code",
   "execution_count": null,
   "metadata": {},
   "outputs": [],
   "source": [
    "# X.shape"
   ]
  },
  {
   "cell_type": "code",
   "execution_count": null,
   "metadata": {},
   "outputs": [],
   "source": [
    "funcs = [example_adjust_event_columns, example_calculate_modulation] # todo: Modifying to receive user's utility function"
   ]
  },
  {
   "cell_type": "code",
   "execution_count": null,
   "metadata": {},
   "outputs": [],
   "source": [
    "a, b, y = preprocess_events(root, dm_model='ra_prospect', funcs=funcs, ncore=4)"
   ]
  },
  {
   "cell_type": "markdown",
   "metadata": {},
   "source": [
    "## model"
   ]
  },
  {
   "cell_type": "code",
   "execution_count": null,
   "metadata": {},
   "outputs": [],
   "source": [
    "from model_based_mvpa.models.regressor import *\n",
    "from model_based_mvpa.utils.coef2map import *\n",
    "import time"
   ]
  },
  {
   "cell_type": "code",
   "execution_count": null,
   "metadata": {},
   "outputs": [],
   "source": [
    "X, y = prepare_data(X=root + 'derivatives/fmriprep/data/X.npy',\n",
    "                    y=root + 'derivatives/fmriprep/data/y.npy')\n",
    "masked_data = nib.load(root + 'derivatives/fmriprep/data/masked_data.nii.gz')"
   ]
  },
  {
   "cell_type": "code",
   "execution_count": null,
   "metadata": {},
   "outputs": [],
   "source": [
    "print(time.strftime('%c', time.localtime(time.time())))"
   ]
  },
  {
   "cell_type": "code",
   "execution_count": null,
   "metadata": {},
   "outputs": [],
   "source": [
    "coefs = mlp_regression(X, y,\n",
    "                       layer_dims=[1024, 1024],\n",
    "                       activation_func='linear',\n",
    "                       dropout_rate=0.5,\n",
    "                       epochs=100,\n",
    "                       patience=10,\n",
    "                       batch_size=64,\n",
    "                       N=15,\n",
    "                       verbose=1)"
   ]
  },
  {
   "cell_type": "code",
   "execution_count": null,
   "metadata": {},
   "outputs": [],
   "source": [
    "task_name = 'tom2007_mlp'"
   ]
  },
  {
   "cell_type": "code",
   "execution_count": null,
   "metadata": {},
   "outputs": [],
   "source": [
    "result = get_map(coefs, masked_data, task_name, map_type='z', save_path=None, smoothing_sigma=1)"
   ]
  },
  {
   "cell_type": "code",
   "execution_count": null,
   "metadata": {},
   "outputs": [],
   "source": [
    "print(time.strftime('%c', time.localtime(time.time())))"
   ]
  },
  {
   "cell_type": "code",
   "execution_count": null,
   "metadata": {},
   "outputs": [],
   "source": [
    "coefs = penalized_linear_regression(X, y,\n",
    "                         alpha=0.001, \n",
    "                         lambda_par=0.8,\n",
    "                         epochs=100,\n",
    "                         patience=30,\n",
    "                         batch_size=256,\n",
    "                         N=15,\n",
    "                         verbose=1)"
   ]
  },
  {
   "cell_type": "code",
   "execution_count": null,
   "metadata": {},
   "outputs": [],
   "source": [
    "task_name = 'tom2007_penlin'"
   ]
  },
  {
   "cell_type": "code",
   "execution_count": null,
   "metadata": {},
   "outputs": [],
   "source": [
    "result = get_map(coefs, masked_data, task_name, map_type='z', save_path=None, smoothing_sigma=1)"
   ]
  },
  {
   "cell_type": "code",
   "execution_count": null,
   "metadata": {},
   "outputs": [],
   "source": [
    "print(time.strftime('%c', time.localtime(time.time())))"
   ]
  },
  {
   "cell_type": "code",
   "execution_count": null,
   "metadata": {},
   "outputs": [],
   "source": [
    "coefs = elasticnet(X, y,\n",
    "             alpha=0.001,\n",
    "             n_jobs=16,\n",
    "             N=3,\n",
    "             verbose=1)"
   ]
  },
  {
   "cell_type": "code",
   "execution_count": null,
   "metadata": {},
   "outputs": [],
   "source": [
    "task_name = 'tom2007_elasticnet'"
   ]
  },
  {
   "cell_type": "code",
   "execution_count": null,
   "metadata": {},
   "outputs": [],
   "source": [
    "result = get_map(coefs, masked_data, task_name, map_type='z', save_path=None, smoothing_sigma=1)"
   ]
  },
  {
   "cell_type": "code",
   "execution_count": null,
   "metadata": {},
   "outputs": [],
   "source": [
    "print(time.strftime('%c', time.localtime(time.time())))"
   ]
  },
  {
   "cell_type": "code",
   "execution_count": null,
   "metadata": {},
   "outputs": [],
   "source": []
  }
 ],
 "metadata": {
  "kernelspec": {
   "display_name": "Python 3.7 (MVPA)",
   "language": "python",
   "name": "mvpa"
  },
  "language_info": {
   "codemirror_mode": {
    "name": "ipython",
    "version": 3
   },
   "file_extension": ".py",
   "mimetype": "text/x-python",
   "name": "python",
   "nbconvert_exporter": "python",
   "pygments_lexer": "ipython3",
   "version": "3.7.7"
  }
 },
 "nbformat": 4,
 "nbformat_minor": 4
}
