{
 "cells": [
  {
   "cell_type": "code",
   "execution_count": 1,
   "metadata": {},
   "outputs": [],
   "source": [
    "import model_based_mvpa as mbmvpa\n",
    "from model_based_mvpa.preprocessing.bids import *\n",
    "from model_based_mvpa.preprocessing.events import *\n",
    "from model_based_mvpa.utils.functions import *"
   ]
  },
  {
   "cell_type": "code",
   "execution_count": 2,
   "metadata": {},
   "outputs": [],
   "source": [
    "root = '/data2/project_model_based_fmri/ds000005/'"
   ]
  },
  {
   "cell_type": "code",
   "execution_count": null,
   "metadata": {
    "collapsed": true,
    "jupyter": {
     "outputs_hidden": true
    }
   },
   "outputs": [
    {
     "name": "stderr",
     "output_type": "stream",
     "text": [
      "  image preprocessing using 88 cores..  :  50%|█████     | 2/4 [00:30<00:42, 21.25s/it]Process ForkProcess-80:\n",
      "Process ForkProcess-81:\n",
      "Process ForkProcess-87:\n",
      "Process ForkProcess-86:\n",
      "Process ForkProcess-49:\n",
      "Process ForkProcess-85:\n",
      "Process ForkProcess-82:\n",
      "Process ForkProcess-58:\n",
      "Process ForkProcess-78:\n",
      "Process ForkProcess-76:\n",
      "Process ForkProcess-61:\n",
      "Process ForkProcess-63:\n",
      "Process ForkProcess-77:\n",
      "Process ForkProcess-50:\n",
      "Process ForkProcess-66:\n",
      "Process ForkProcess-83:\n",
      "Process ForkProcess-84:\n",
      "Process ForkProcess-59:\n",
      "Process ForkProcess-88:\n",
      "Process ForkProcess-68:\n",
      "Process ForkProcess-64:\n",
      "Process ForkProcess-75:\n",
      "Process ForkProcess-79:\n",
      "Process ForkProcess-74:\n",
      "Process ForkProcess-69:\n",
      "Process ForkProcess-73:\n",
      "Process ForkProcess-67:\n",
      "Process ForkProcess-72:\n",
      "Process ForkProcess-71:\n",
      "Process ForkProcess-70:\n",
      "Process ForkProcess-62:\n",
      "Traceback (most recent call last):\n",
      "Process ForkProcess-51:\n",
      "Process ForkProcess-65:\n",
      "Process ForkProcess-60:\n",
      "Traceback (most recent call last):\n",
      "Traceback (most recent call last):\n",
      "Traceback (most recent call last):\n",
      "Traceback (most recent call last):\n",
      "Traceback (most recent call last):\n",
      "Traceback (most recent call last):\n",
      "Traceback (most recent call last):\n",
      "Traceback (most recent call last):\n",
      "Traceback (most recent call last):\n",
      "Traceback (most recent call last):\n",
      "Traceback (most recent call last):\n",
      "Process ForkProcess-57:\n",
      "Traceback (most recent call last):\n",
      "Traceback (most recent call last):\n",
      "Traceback (most recent call last):\n",
      "Traceback (most recent call last):\n",
      "Traceback (most recent call last):\n",
      "Traceback (most recent call last):\n",
      "Traceback (most recent call last):\n",
      "Traceback (most recent call last):\n",
      "Traceback (most recent call last):\n",
      "Traceback (most recent call last):\n",
      "Traceback (most recent call last):\n",
      "Traceback (most recent call last):\n",
      "Traceback (most recent call last):\n",
      "Traceback (most recent call last):\n",
      "  File \"/home/cheoljun/anaconda3/envs/model_based_fmri/lib/python3.7/multiprocessing/process.py\", line 297, in _bootstrap\n",
      "    self.run()\n",
      "Traceback (most recent call last):\n",
      "Traceback (most recent call last):\n",
      "Traceback (most recent call last):\n",
      "Traceback (most recent call last):\n",
      "  File \"/home/cheoljun/anaconda3/envs/model_based_fmri/lib/python3.7/multiprocessing/process.py\", line 297, in _bootstrap\n",
      "    self.run()\n",
      "  File \"/home/cheoljun/anaconda3/envs/model_based_fmri/lib/python3.7/multiprocessing/process.py\", line 297, in _bootstrap\n",
      "    self.run()\n",
      "Traceback (most recent call last):\n",
      "  File \"/home/cheoljun/anaconda3/envs/model_based_fmri/lib/python3.7/multiprocessing/process.py\", line 297, in _bootstrap\n",
      "    self.run()\n",
      "  File \"/home/cheoljun/anaconda3/envs/model_based_fmri/lib/python3.7/multiprocessing/process.py\", line 297, in _bootstrap\n",
      "    self.run()\n",
      "Traceback (most recent call last):\n",
      "  File \"/home/cheoljun/anaconda3/envs/model_based_fmri/lib/python3.7/multiprocessing/process.py\", line 297, in _bootstrap\n",
      "    self.run()\n",
      "  File \"/home/cheoljun/anaconda3/envs/model_based_fmri/lib/python3.7/multiprocessing/process.py\", line 297, in _bootstrap\n",
      "    self.run()\n",
      "Process ForkProcess-53:\n",
      "  File \"/home/cheoljun/anaconda3/envs/model_based_fmri/lib/python3.7/multiprocessing/process.py\", line 297, in _bootstrap\n",
      "    self.run()\n",
      "  File \"/home/cheoljun/anaconda3/envs/model_based_fmri/lib/python3.7/multiprocessing/process.py\", line 297, in _bootstrap\n",
      "    self.run()\n",
      "  File \"/home/cheoljun/anaconda3/envs/model_based_fmri/lib/python3.7/multiprocessing/process.py\", line 297, in _bootstrap\n",
      "    self.run()\n",
      "  File \"/home/cheoljun/anaconda3/envs/model_based_fmri/lib/python3.7/multiprocessing/process.py\", line 297, in _bootstrap\n",
      "    self.run()\n"
     ]
    }
   ],
   "source": [
    "X, masked_data, layout = bids_preprocess(root, single_file=True, smoothing_fwhm=None, zoom=(2, 2, 2), ncore=os.cpu_count())"
   ]
  },
  {
   "cell_type": "code",
   "execution_count": null,
   "metadata": {},
   "outputs": [],
   "source": [
    "funcs = [adjust_event_columns, calculate_modulation] # todo: Modifying to receive user's utility function"
   ]
  },
  {
   "cell_type": "code",
   "execution_count": null,
   "metadata": {},
   "outputs": [],
   "source": [
    "a, b, y = preprocess_events(root, dm_model='ra_prospect', funcs=funcs, ncore=4)"
   ]
  },
  {
   "cell_type": "markdown",
   "metadata": {},
   "source": [
    "## model"
   ]
  },
  {
   "cell_type": "code",
   "execution_count": 3,
   "metadata": {},
   "outputs": [],
   "source": [
    "from model_based_mvpa.models.regressor import *\n",
    "from model_based_mvpa.utils.coef2map import *\n",
    "import time"
   ]
  },
  {
   "cell_type": "code",
   "execution_count": 4,
   "metadata": {},
   "outputs": [],
   "source": [
    "X, y = prepare_data(X=root + 'derivatives/fmriprep/data/X.npy',\n",
    "                    y=root + 'derivatives/fmriprep/data/y.npy')\n",
    "masked_data = nib.load(root + 'derivatives/fmriprep/data/masked_data.nii.gz')"
   ]
  },
  {
   "cell_type": "code",
   "execution_count": 5,
   "metadata": {},
   "outputs": [
    {
     "name": "stdout",
     "output_type": "stream",
     "text": [
      "Wed Nov  4 11:31:45 2020\n"
     ]
    }
   ],
   "source": [
    "print(time.strftime('%c', time.localtime(time.time())))"
   ]
  },
  {
   "cell_type": "code",
   "execution_count": 6,
   "metadata": {},
   "outputs": [
    {
     "name": "stderr",
     "output_type": "stream",
     "text": [
      "INFO:root:start running\n",
      "INFO:root:[1/15] - mse: 0.0306\n",
      "INFO:root:[2/15] - mse: 0.0324\n",
      "INFO:root:[3/15] - mse: 0.0325\n",
      "INFO:root:[4/15] - mse: 0.0330\n",
      "INFO:root:[5/15] - mse: 0.0308\n",
      "INFO:root:[6/15] - mse: 0.0320\n",
      "INFO:root:[7/15] - mse: 0.0305\n",
      "INFO:root:[8/15] - mse: 0.0309\n",
      "INFO:root:[9/15] - mse: 0.0305\n",
      "INFO:root:[10/15] - mse: 0.0317\n",
      "INFO:root:[11/15] - mse: 0.0325\n",
      "INFO:root:[12/15] - mse: 0.0323\n",
      "INFO:root:[13/15] - mse: 0.0320\n",
      "INFO:root:[14/15] - mse: 0.0306\n",
      "INFO:root:[15/15] - mse: 0.0319\n"
     ]
    }
   ],
   "source": [
    "coefs = mlp_regression(X, y,\n",
    "                       layer_dims=[1024, 1024],\n",
    "                       activation_func='linear',\n",
    "                       dropout_rate=0.5,\n",
    "                       epochs=100,\n",
    "                       patience=10,\n",
    "                       batch_size=64,\n",
    "                       N=15,\n",
    "                       verbose=1)"
   ]
  },
  {
   "cell_type": "code",
   "execution_count": 7,
   "metadata": {},
   "outputs": [],
   "source": [
    "task_name = 'tom2007_mlp'"
   ]
  },
  {
   "cell_type": "code",
   "execution_count": 8,
   "metadata": {},
   "outputs": [],
   "source": [
    "result = get_map(coefs, masked_data, task_name, map_type='z', save_path=None, smoothing_sigma=1)"
   ]
  },
  {
   "cell_type": "code",
   "execution_count": 9,
   "metadata": {},
   "outputs": [
    {
     "name": "stdout",
     "output_type": "stream",
     "text": [
      "Wed Nov  4 11:45:11 2020\n"
     ]
    }
   ],
   "source": [
    "print(time.strftime('%c', time.localtime(time.time())))"
   ]
  },
  {
   "cell_type": "code",
   "execution_count": 10,
   "metadata": {},
   "outputs": [
    {
     "name": "stderr",
     "output_type": "stream",
     "text": [
      "INFO:root:start running\n",
      "INFO:root:[1/15] - mse: 0.0504\n",
      "INFO:root:[2/15] - mse: 0.0542\n",
      "INFO:root:[3/15] - mse: 0.0534\n",
      "INFO:root:[4/15] - mse: 0.0498\n",
      "INFO:root:[5/15] - mse: 0.0501\n",
      "INFO:root:[6/15] - mse: 0.0544\n",
      "INFO:root:[7/15] - mse: 0.0505\n",
      "INFO:root:[8/15] - mse: 0.0505\n",
      "INFO:root:[9/15] - mse: 0.0541\n",
      "INFO:root:[10/15] - mse: 0.0518\n",
      "INFO:root:[11/15] - mse: 0.0528\n",
      "INFO:root:[12/15] - mse: 0.0566\n",
      "INFO:root:[13/15] - mse: 0.0521\n",
      "INFO:root:[14/15] - mse: 0.0518\n",
      "INFO:root:[15/15] - mse: 0.0494\n"
     ]
    }
   ],
   "source": [
    "coefs = penalized_linear_regression(X, y,\n",
    "                         alpha=0.001, \n",
    "                         lambda_par=0.8,\n",
    "                         epochs=100,\n",
    "                         patience=30,\n",
    "                         batch_size=256,\n",
    "                         N=15,\n",
    "                         verbose=1)"
   ]
  },
  {
   "cell_type": "code",
   "execution_count": 11,
   "metadata": {},
   "outputs": [],
   "source": [
    "task_name = 'tom2007_penlin'"
   ]
  },
  {
   "cell_type": "code",
   "execution_count": 12,
   "metadata": {},
   "outputs": [],
   "source": [
    "result = get_map(coefs, masked_data, task_name, map_type='z', save_path=None, smoothing_sigma=1)"
   ]
  },
  {
   "cell_type": "code",
   "execution_count": 13,
   "metadata": {},
   "outputs": [
    {
     "name": "stdout",
     "output_type": "stream",
     "text": [
      "Wed Nov  4 11:53:11 2020\n"
     ]
    }
   ],
   "source": [
    "print(time.strftime('%c', time.localtime(time.time())))"
   ]
  },
  {
   "cell_type": "code",
   "execution_count": 14,
   "metadata": {},
   "outputs": [
    {
     "name": "stderr",
     "output_type": "stream",
     "text": [
      "INFO:root:start running\n",
      "/home/cheoljun/anaconda3/envs/model_based_fmri/lib/python3.7/site-packages/sklearn/utils/validation.py:72: DataConversionWarning: A column-vector y was passed when a 1d array was expected. Please change the shape of y to (n_samples, ), for example using ravel().\n",
      "  return f(**kwargs)\n",
      "INFO:root:[1/3] - tuned_lambda: 1.964\n",
      "/home/cheoljun/anaconda3/envs/model_based_fmri/lib/python3.7/site-packages/sklearn/utils/validation.py:72: DataConversionWarning: A column-vector y was passed when a 1d array was expected. Please change the shape of y to (n_samples, ), for example using ravel().\n",
      "  return f(**kwargs)\n",
      "INFO:root:[2/3] - tuned_lambda: 2.155\n",
      "/home/cheoljun/anaconda3/envs/model_based_fmri/lib/python3.7/site-packages/sklearn/utils/validation.py:72: DataConversionWarning: A column-vector y was passed when a 1d array was expected. Please change the shape of y to (n_samples, ), for example using ravel().\n",
      "  return f(**kwargs)\n",
      "INFO:root:[3/3] - tuned_lambda: 2.365\n"
     ]
    },
    {
     "ename": "AttributeError",
     "evalue": "'list' object has no attribute 'ravel'",
     "output_type": "error",
     "traceback": [
      "\u001b[0;31m---------------------------------------------------------------------------\u001b[0m",
      "\u001b[0;31mAttributeError\u001b[0m                            Traceback (most recent call last)",
      "\u001b[0;32m<ipython-input-14-a3066a92c29d>\u001b[0m in \u001b[0;36m<module>\u001b[0;34m\u001b[0m\n\u001b[1;32m      3\u001b[0m              \u001b[0mn_jobs\u001b[0m\u001b[0;34m=\u001b[0m\u001b[0;36m16\u001b[0m\u001b[0;34m,\u001b[0m\u001b[0;34m\u001b[0m\u001b[0;34m\u001b[0m\u001b[0m\n\u001b[1;32m      4\u001b[0m              \u001b[0mN\u001b[0m\u001b[0;34m=\u001b[0m\u001b[0;36m3\u001b[0m\u001b[0;34m,\u001b[0m\u001b[0;34m\u001b[0m\u001b[0;34m\u001b[0m\u001b[0m\n\u001b[0;32m----> 5\u001b[0;31m              verbose=1)\n\u001b[0m",
      "\u001b[0;32m~/anaconda3/envs/model_based_fmri/lib/python3.7/site-packages/model_based_mvpa-0.0.1-py3.7.egg/model_based_mvpa/models/regressor.py\u001b[0m in \u001b[0;36melasticnet\u001b[0;34m(X, y, alpha, n_jobs, N, verbose)\u001b[0m\n\u001b[1;32m    211\u001b[0m \u001b[0;34m\u001b[0m\u001b[0m\n\u001b[1;32m    212\u001b[0m \u001b[0;34m\u001b[0m\u001b[0m\n\u001b[0;32m--> 213\u001b[0;31m     \u001b[0mcoefs\u001b[0m \u001b[0;34m=\u001b[0m \u001b[0mnp\u001b[0m\u001b[0;34m.\u001b[0m\u001b[0marray\u001b[0m\u001b[0;34m(\u001b[0m\u001b[0mcoefs\u001b[0m\u001b[0;34m.\u001b[0m\u001b[0mravel\u001b[0m\u001b[0;34m(\u001b[0m\u001b[0;34m)\u001b[0m\u001b[0;34m)\u001b[0m\u001b[0;34m\u001b[0m\u001b[0;34m\u001b[0m\u001b[0m\n\u001b[0m\u001b[1;32m    214\u001b[0m \u001b[0;34m\u001b[0m\u001b[0m\n\u001b[1;32m    215\u001b[0m     \u001b[0;31m# coefs : N x voxel #\u001b[0m\u001b[0;34m\u001b[0m\u001b[0;34m\u001b[0m\u001b[0;34m\u001b[0m\u001b[0m\n",
      "\u001b[0;31mAttributeError\u001b[0m: 'list' object has no attribute 'ravel'"
     ]
    }
   ],
   "source": [
    "coefs = elasticnet(X, y,\n",
    "             alpha=0.001,\n",
    "             n_jobs=16,\n",
    "             N=3,\n",
    "             verbose=1)"
   ]
  },
  {
   "cell_type": "code",
   "execution_count": null,
   "metadata": {},
   "outputs": [],
   "source": [
    "task_name = 'tom2007_elasticnet'"
   ]
  },
  {
   "cell_type": "code",
   "execution_count": null,
   "metadata": {},
   "outputs": [],
   "source": [
    "result = get_map(coefs, masked_data, task_name, map_type='z', save_path=None, smoothing_sigma=1)"
   ]
  },
  {
   "cell_type": "code",
   "execution_count": null,
   "metadata": {},
   "outputs": [],
   "source": [
    "print(time.strftime('%c', time.localtime(time.time())))"
   ]
  },
  {
   "cell_type": "code",
   "execution_count": null,
   "metadata": {},
   "outputs": [],
   "source": []
  }
 ],
 "metadata": {
  "kernelspec": {
   "display_name": "Python 3.7 (model_based_fmri)",
   "language": "python",
   "name": "model_based_fmri"
  },
  "language_info": {
   "codemirror_mode": {
    "name": "ipython",
    "version": 3
   },
   "file_extension": ".py",
   "mimetype": "text/x-python",
   "name": "python",
   "nbconvert_exporter": "python",
   "pygments_lexer": "ipython3",
   "version": "3.7.7"
  }
 },
 "nbformat": 4,
 "nbformat_minor": 4
}
