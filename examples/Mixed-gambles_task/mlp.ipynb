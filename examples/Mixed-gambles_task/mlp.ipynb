{
 "cells": [
  {
   "cell_type": "code",
   "execution_count": 1,
   "metadata": {},
   "outputs": [],
   "source": [
    "# -*- coding: utf-8 -*- \n",
    "\n",
    "import numpy as np\n",
    "import pandas as pd\n",
    "from tqdm import tqdm\n",
    "\n",
    "import tensorflow as tf\n",
    "from tensorflow import keras as K\n",
    "from tensorflow.keras import Sequential, layers, losses, optimizers, datasets\n",
    "from tensorflow.keras.layers import Dense, BatchNormalization, LeakyReLU, Dropout\n",
    "from tensorflow.keras.utils import Sequence\n",
    "from tensorflow.keras.callbacks import ModelCheckpoint, EarlyStopping\n",
    "\n",
    "from pathlib import Path\n",
    "from sklearn.model_selection import train_test_split\n",
    "import matplotlib.pyplot as plt"
   ]
  },
  {
   "cell_type": "code",
   "execution_count": 2,
   "metadata": {},
   "outputs": [],
   "source": [
    "# data generator class\n",
    "class DataGenerator(Sequence):\n",
    "    def __init__(self, ids, niis_dir, modulation_path, batch_size=16, shuffle=True):\n",
    "        self.id_names = ids\n",
    "        self.indexes = np.arange(len(self.id_names))\n",
    "        self.niis_dir = Path(niis_dir)\n",
    "        self.target = np.load(modulation_path, allow_pickle=True)\n",
    "        self.batch_size = batch_size\n",
    "        self.shuffle = shuffle\n",
    "        self.on_epoch_end()\n",
    "\n",
    "    # for printing the statistics of the function\n",
    "    def on_epoch_end(self):\n",
    "        'Updates indexes after each epoch'\n",
    "        self.indexes = np.arange(len(self.id_names))\n",
    "        if self.shuffle == True:\n",
    "            np.random.shuffle(self.indexes)\n",
    "\n",
    "    def __data_generation__(self, id_name): # 1 부터 시작\n",
    "        'Generates data containing batch_size samples'\n",
    "        # Initialization\n",
    "        subject_id, r0 = divmod(id_name, 720)\n",
    "        run, t = divmod(r0, 240)\n",
    "        nii_path = self.niis_dir / f'sub-{subject_id+1:02d}/run-{run+1}/{t}.pkl' # 이미지 1개 경로\n",
    "        nii = np.load(nii_path, allow_pickle=True).flatten()\n",
    "        target = self.target[subject_id, run, t]\n",
    "        \n",
    "        return nii, target\n",
    "\n",
    "    def __len__(self):\n",
    "        \"Denotes the number of batches per epoch\"\n",
    "        # self.id_names: 존재하는 전체 데이터 개수\n",
    "        # self.batch_size: 배치사이즈를 의미합니다.\n",
    "        return int(np.floor(len(self.id_names) / self.batch_size))\n",
    "\n",
    "    def __getitem__(self, index):  # index : batch no.\n",
    "        # Generate indexes of the batch\n",
    "        indexes = self.indexes[index * self.batch_size:(index + 1) * self.batch_size]\n",
    "        batch_ids = [self.id_names[k] for k in indexes]\n",
    "\n",
    "        niis = []\n",
    "        targets = []\n",
    "        \n",
    "        for id_name in batch_ids:\n",
    "            nii, target = self.__data_generation__(id_name)\n",
    "            niis.append(nii)\n",
    "            targets.append(target)\n",
    "\n",
    "        niis = np.array(niis)\n",
    "        targets = np.array(targets)\n",
    "\n",
    "        return niis, targets  # return batch"
   ]
  },
  {
   "cell_type": "code",
   "execution_count": 3,
   "metadata": {},
   "outputs": [],
   "source": [
    "# data generator class\n",
    "class DataGenerator2(Sequence):\n",
    "    def __init__(self, ids, niis_dir, modulation_path, batch_size=16, shuffle=True):\n",
    "        self.id_names = ids\n",
    "        self.indexes = np.arange(len(self.id_names))\n",
    "        self.niis_dir = Path(niis_dir)\n",
    "        self.target = np.load(modulation_path, allow_pickle=True)\n",
    "        self.batch_size = batch_size\n",
    "        self.shuffle = shuffle\n",
    "        self.on_epoch_end()\n",
    "\n",
    "    # for printing the statistics of the function\n",
    "    def on_epoch_end(self):\n",
    "        'Updates indexes after each epoch'\n",
    "        self.indexes = np.arange(len(self.id_names))\n",
    "        if self.shuffle == True:\n",
    "            np.random.shuffle(self.indexes)\n",
    "\n",
    "    def __data_generation__(self, id_name): # 1 부터 시작\n",
    "        'Generates data containing batch_size samples'\n",
    "        # Initialization\n",
    "        subject_id, r0 = divmod(id_name, 720)\n",
    "        run, t = divmod(r0, 240)\n",
    "        nii_path = self.niis_dir / f'sub-{subject_id+1:02d}/run-{run+1}/{t}.pkl' # 이미지 1개 경로\n",
    "        nii = np.load(nii_path, allow_pickle=True).flatten()\n",
    "        target = self.target[subject_id, run, t]\n",
    "        \n",
    "        return nii, target\n",
    "\n",
    "    def __len__(self):\n",
    "        \"Denotes the number of batches per epoch\"\n",
    "        # self.id_names: 존재하는 전체 데이터 개수\n",
    "        # self.batch_size: 배치사이즈를 의미합니다.\n",
    "        return int(np.floor(len(self.id_names) / self.batch_size))\n",
    "\n",
    "    def __getitem__(self, index):  # index : batch no.\n",
    "        # Generate indexes of the batch\n",
    "        indexes = self.indexes[index * self.batch_size:(index + 1) * self.batch_size]\n",
    "        batch_ids = [self.id_names[k] for k in indexes]\n",
    "\n",
    "        niis = []\n",
    "        targets = []\n",
    "        \n",
    "        for id_name in batch_ids:\n",
    "            nii, target = self.__data_generation__(id_name)\n",
    "            niis.append(nii)\n",
    "            targets.append(target)\n",
    "\n",
    "        niis = np.array(niis)\n",
    "        targets = np.array(targets)\n",
    "\n",
    "        return niis, targets  # return batch"
   ]
  },
  {
   "cell_type": "code",
   "execution_count": 4,
   "metadata": {},
   "outputs": [],
   "source": [
    "def do_balance(modulation):\n",
    "    removed_candidates = []\n",
    "    grouped = [0] * 11\n",
    "    \n",
    "    for i in range(modulation.shape[0]):\n",
    "        for j in range(modulation.shape[1]):\n",
    "            for k in range(modulation.shape[2]):\n",
    "                if modulation[i, j, k] >= 1:\n",
    "                    grouped[-1] += 1\n",
    "                \n",
    "                test = int(str(modulation[i, j, k][0])[2])\n",
    "                \n",
    "                if grouped[test] < 1250:\n",
    "                    grouped[test] += 1\n",
    "                else:\n",
    "                    removed_candidates.append(((720 * i) + (240 * j) + k))\n",
    "    return removed_candidates"
   ]
  },
  {
   "cell_type": "code",
   "execution_count": 5,
   "metadata": {},
   "outputs": [
    {
     "name": "stdout",
     "output_type": "stream",
     "text": [
      "7608\n"
     ]
    }
   ],
   "source": [
    "niis_path = '/data2/project_modelbasedMVPA/prepprep'\n",
    "modulation_path = './modulation.pkl'\n",
    "\n",
    "ids = range(16 * 3 * 240)\n",
    "modulation = np.load(modulation_path, allow_pickle=True)\n",
    "removed_candidates = do_balance(modulation)\n",
    "\n",
    "ids = list(set(ids) - set(removed_candidates))\n",
    "print(len(ids))\n",
    "train_ids, valid_ids = train_test_split(ids, test_size=0.2, random_state=42)\n",
    "\n",
    "train_generator = DataGenerator(train_ids, niis_path, modulation_path)\n",
    "valid_generator = DataGenerator(valid_ids, niis_path, modulation_path)"
   ]
  },
  {
   "cell_type": "code",
   "execution_count": 8,
   "metadata": {},
   "outputs": [
    {
     "name": "stdout",
     "output_type": "stream",
     "text": [
      "total training batches:  380\n",
      "total validaton batches:  95\n"
     ]
    }
   ],
   "source": [
    "batch_size = 256\n",
    "epochs = 30\n",
    "\n",
    "print(\"total training batches: \", len(train_generator))\n",
    "print(\"total validaton batches: \", len(valid_generator))\n",
    "train_steps = len(train_ids) // batch_size\n",
    "valid_steps = len(valid_ids) // batch_size\n",
    "\n",
    "optimizer_fn = optimizers.Adam(lr=0.003, decay=1e-5)\n",
    "loss_fn = losses.MeanSquaredError()\n",
    "\n",
    "filepath = 'ml_models/mlp_ep{epoch:02d}_vloss-{val_loss:.4f}.h5'\n",
    "checkpoint = ModelCheckpoint(filepath, monitor='val_loss', verbose=1, save_best_only=True)\n",
    "# callbacks = [checkpoint]\n",
    "callbacks = []"
   ]
  },
  {
   "cell_type": "code",
   "execution_count": 9,
   "metadata": {},
   "outputs": [
    {
     "name": "stdout",
     "output_type": "stream",
     "text": [
      "WARNING:tensorflow:There are non-GPU devices in `tf.distribute.Strategy`, not using nccl allreduce.\n",
      "INFO:tensorflow:Using MirroredStrategy with devices ('/job:localhost/replica:0/task:0/device:CPU:0',)\n",
      "WARNING:tensorflow:From <ipython-input-9-c54ec02d5485>:17: Model.fit_generator (from tensorflow.python.keras.engine.training) is deprecated and will be removed in a future version.\n",
      "Instructions for updating:\n",
      "Please use Model.fit, which supports generators.\n",
      "Epoch 1/30\n",
      "WARNING:tensorflow:From /home/mybirth0407/anaconda3/envs/mva/lib/python3.7/site-packages/tensorflow/python/data/ops/multi_device_iterator_ops.py:601: get_next_as_optional (from tensorflow.python.data.ops.iterator_ops) is deprecated and will be removed in a future version.\n",
      "Instructions for updating:\n",
      "Use `tf.data.Iterator.get_next_as_optional()` instead.\n",
      "23/23 [==============================] - 104s 5s/step - loss: 2.2513 - val_loss: 7.2325\n",
      "Epoch 2/30\n",
      "23/23 [==============================] - 96s 4s/step - loss: 0.2412 - val_loss: 0.3057\n",
      "Epoch 3/30\n",
      "23/23 [==============================] - 89s 4s/step - loss: 0.2721 - val_loss: 0.2474\n",
      "Epoch 4/30\n",
      "23/23 [==============================] - 90s 4s/step - loss: 0.2552 - val_loss: 0.2792\n",
      "Epoch 5/30\n",
      "23/23 [==============================] - 89s 4s/step - loss: 0.2410 - val_loss: 0.2541\n",
      "Epoch 6/30\n",
      "23/23 [==============================] - 88s 4s/step - loss: 0.2188 - val_loss: 0.2373\n",
      "Epoch 7/30\n",
      "23/23 [==============================] - 90s 4s/step - loss: 0.2057 - val_loss: 0.2109\n",
      "Epoch 8/30\n",
      "23/23 [==============================] - 87s 4s/step - loss: 0.2369 - val_loss: 0.2531\n",
      "Epoch 9/30\n",
      "23/23 [==============================] - 87s 4s/step - loss: 0.2029 - val_loss: 0.2390\n",
      "Epoch 10/30\n",
      "23/23 [==============================] - 86s 4s/step - loss: 0.1962 - val_loss: 0.2000\n",
      "Epoch 11/30\n",
      "23/23 [==============================] - 86s 4s/step - loss: 0.2037 - val_loss: 0.2055\n",
      "Epoch 12/30\n",
      "23/23 [==============================] - 88s 4s/step - loss: 0.1774 - val_loss: 0.1121\n",
      "Epoch 14/30\n",
      "23/23 [==============================] - 88s 4s/step - loss: 0.1616 - val_loss: 0.1416\n",
      "Epoch 15/30\n",
      "23/23 [==============================] - 87s 4s/step - loss: 0.1589 - val_loss: 0.1607\n",
      "Epoch 16/30\n",
      "23/23 [==============================] - 88s 4s/step - loss: 0.1490 - val_loss: 0.1735\n",
      "Epoch 17/30\n",
      "23/23 [==============================] - 90s 4s/step - loss: 0.1422 - val_loss: 0.1271\n",
      "Epoch 18/30\n",
      "23/23 [==============================] - 88s 4s/step - loss: 0.1337 - val_loss: 0.1136\n",
      "Epoch 19/30\n",
      "23/23 [==============================] - 87s 4s/step - loss: 0.1141 - val_loss: 0.1235\n",
      "Epoch 20/30\n",
      "23/23 [==============================] - 88s 4s/step - loss: 0.1197 - val_loss: 0.0779\n",
      "Epoch 21/30\n",
      "23/23 [==============================] - 89s 4s/step - loss: 0.1352 - val_loss: 0.0957\n",
      "Epoch 22/30\n",
      "23/23 [==============================] - 90s 4s/step - loss: 0.1323 - val_loss: 0.1193\n",
      "Epoch 23/30\n",
      "23/23 [==============================] - 89s 4s/step - loss: 0.0898 - val_loss: 0.1285\n",
      "Epoch 24/30\n",
      "23/23 [==============================] - 91s 4s/step - loss: 0.1318 - val_loss: 0.0658\n",
      "Epoch 25/30\n",
      "23/23 [==============================] - 89s 4s/step - loss: 0.1132 - val_loss: 0.0930\n",
      "Epoch 26/30\n",
      "23/23 [==============================] - 89s 4s/step - loss: 0.1015 - val_loss: 0.1278\n",
      "Epoch 27/30\n",
      "23/23 [==============================] - 90s 4s/step - loss: 0.1171 - val_loss: 0.0814\n",
      "Epoch 28/30\n",
      "23/23 [==============================] - 89s 4s/step - loss: 0.0925 - val_loss: 0.1043\n",
      "Epoch 29/30\n",
      "23/23 [==============================] - 91s 4s/step - loss: 0.1197 - val_loss: 0.1156\n",
      "Epoch 30/30\n",
      "23/23 [==============================] - 93s 4s/step - loss: 0.1402 - val_loss: 0.1232\n"
     ]
    },
    {
     "data": {
      "text/plain": [
       "<tensorflow.python.keras.callbacks.History at 0x7f11500c4450>"
      ]
     },
     "execution_count": 9,
     "metadata": {},
     "output_type": "execute_result"
    }
   ],
   "source": [
    "mirrored_strategy = tf.distribute.MirroredStrategy() # for multi-gpus\n",
    "\n",
    "with mirrored_strategy.scope():\n",
    "    model = Sequential()\n",
    "    model.add(Dense(1024, activation='relu', input_shape=(902629,)))\n",
    "    model.add(BatchNormalization())\n",
    "    model.add(Dense(512, activation='relu'))\n",
    "    model.add(BatchNormalization())\n",
    "    model.add(Dense(512, activation='relu'))\n",
    "    model.add(BatchNormalization())\n",
    "    model.add(Dense(1, activation='relu'))\n",
    "    model.compile(loss=loss_fn, optimizer=optimizer_fn)\n",
    "\n",
    "# fit model\n",
    "model.fit_generator(generator=train_generator, validation_data=valid_generator,\n",
    "                    steps_per_epoch=train_steps, validation_steps=valid_steps, \n",
    "                    workers=16, epochs=epochs, callbacks=callbacks)"
   ]
  },
  {
   "cell_type": "code",
   "execution_count": 24,
   "metadata": {},
   "outputs": [
    {
     "data": {
      "text/plain": [
       "<tensorflow.python.keras.engine.sequential.Sequential at 0x7f62f8049810>"
      ]
     },
     "execution_count": 24,
     "metadata": {},
     "output_type": "execute_result"
    },
    {
     "name": "stdout",
     "output_type": "stream",
     "text": [
      "The history saving thread hit an unexpected error (OperationalError('database or disk is full')).History will not be written to the database.\n"
     ]
    }
   ],
   "source": [
    "model"
   ]
  },
  {
   "cell_type": "code",
   "execution_count": null,
   "metadata": {},
   "outputs": [],
   "source": []
  },
  {
   "cell_type": "code",
   "execution_count": null,
   "metadata": {},
   "outputs": [],
   "source": [
    "# model.save('mlp_model2')"
   ]
  },
  {
   "cell_type": "code",
   "execution_count": 6,
   "metadata": {},
   "outputs": [],
   "source": [
    "weights_list = model.get_weights()"
   ]
  },
  {
   "cell_type": "code",
   "execution_count": 7,
   "metadata": {},
   "outputs": [
    {
     "name": "stdout",
     "output_type": "stream",
     "text": [
      "26\n",
      "902629\n"
     ]
    }
   ],
   "source": [
    "print(len(weights_list))\n",
    "print(len(weights_list[0]))"
   ]
  },
  {
   "cell_type": "code",
   "execution_count": 8,
   "metadata": {},
   "outputs": [],
   "source": [
    "import pickle\n",
    "with open('weight_first_layer2.pkl', 'wb') as f:\n",
    "    pickle.dump(weights_list[0], f, pickle.HIGHEST_PROTOCOL)"
   ]
  },
  {
   "cell_type": "code",
   "execution_count": 9,
   "metadata": {},
   "outputs": [],
   "source": [
    "target = weights_list[0]"
   ]
  },
  {
   "cell_type": "code",
   "execution_count": 10,
   "metadata": {},
   "outputs": [
    {
     "ename": "ValueError",
     "evalue": "cannot reshape array of size 924292096 into shape (91,109,91,1)",
     "output_type": "error",
     "traceback": [
      "\u001b[0;31m---------------------------------------------------------------------------\u001b[0m",
      "\u001b[0;31mValueError\u001b[0m                                Traceback (most recent call last)",
      "\u001b[0;32m<ipython-input-10-57ffce4ffda6>\u001b[0m in \u001b[0;36m<module>\u001b[0;34m\u001b[0m\n\u001b[0;32m----> 1\u001b[0;31m \u001b[0mtarget\u001b[0m \u001b[0;34m=\u001b[0m \u001b[0mtarget\u001b[0m\u001b[0;34m.\u001b[0m\u001b[0mreshape\u001b[0m\u001b[0;34m(\u001b[0m\u001b[0;36m91\u001b[0m\u001b[0;34m,\u001b[0m\u001b[0;36m109\u001b[0m\u001b[0;34m,\u001b[0m\u001b[0;36m91\u001b[0m\u001b[0;34m,\u001b[0m\u001b[0;36m1\u001b[0m\u001b[0;34m)\u001b[0m\u001b[0;34m\u001b[0m\u001b[0;34m\u001b[0m\u001b[0m\n\u001b[0m\u001b[1;32m      2\u001b[0m \u001b[0mprint\u001b[0m\u001b[0;34m(\u001b[0m\u001b[0mtarget\u001b[0m\u001b[0;34m.\u001b[0m\u001b[0mshape\u001b[0m\u001b[0;34m)\u001b[0m\u001b[0;34m\u001b[0m\u001b[0;34m\u001b[0m\u001b[0m\n",
      "\u001b[0;31mValueError\u001b[0m: cannot reshape array of size 924292096 into shape (91,109,91,1)"
     ]
    }
   ],
   "source": [
    "target = target.reshape(91,109,91,1)\n",
    "print(target.shape)"
   ]
  },
  {
   "cell_type": "code",
   "execution_count": 12,
   "metadata": {},
   "outputs": [],
   "source": [
    "valid_generator = DataGenerator(valid_ids, niis_path, targets_path, shuffle = False,batch_size=240)"
   ]
  },
  {
   "cell_type": "code",
   "execution_count": 13,
   "metadata": {},
   "outputs": [],
   "source": [
    "train_generator = DataGenerator(train_ids, niis_path, targets_path,shuffle = False,batch_size=240)"
   ]
  },
  {
   "cell_type": "code",
   "execution_count": 8,
   "metadata": {},
   "outputs": [],
   "source": []
  },
  {
   "cell_type": "code",
   "execution_count": 10,
   "metadata": {},
   "outputs": [
    {
     "data": {
      "text/plain": [
       "[<matplotlib.lines.Line2D at 0x7f110058ec50>]"
      ]
     },
     "execution_count": 10,
     "metadata": {},
     "output_type": "execute_result"
    },
    {
     "data": {
      "image/png": "[encoded data removed]",
      "text/plain": [
       "<Figure size 864x216 with 1 Axes>"
      ]
     },
     "metadata": {
      "needs_background": "light"
     },
     "output_type": "display_data"
    }
   ],
   "source": [
    "x = valid_generator[1][0]\n",
    "y = valid_generator[1][1]\n",
    "\n",
    "predicts = model.predict(x)\n",
    "plt.figure(figsize=(12, 3))\n",
    "plt.plot(y)\n",
    "plt.plot(predicts)"
   ]
  },
  {
   "cell_type": "code",
   "execution_count": 12,
   "metadata": {},
   "outputs": [
    {
     "data": {
      "text/plain": [
       "[<matplotlib.lines.Line2D at 0x7f11003adb50>]"
      ]
     },
     "execution_count": 12,
     "metadata": {},
     "output_type": "execute_result"
    },
    {
     "data": {
      "image/png": "[encoded data removed]",
      "text/plain": [
       "<Figure size 864x216 with 1 Axes>"
      ]
     },
     "metadata": {
      "needs_background": "light"
     },
     "output_type": "display_data"
    }
   ],
   "source": [
    "x = train_generator[1][0]\n",
    "y = train_generator[1][1]\n",
    "\n",
    "predicts = model.predict(x)\n",
    "plt.figure(figsize=(12, 3))\n",
    "plt.plot(y)\n",
    "plt.plot(predicts)"
   ]
  },
  {
   "cell_type": "code",
   "execution_count": 19,
   "metadata": {},
   "outputs": [
    {
     "data": {
      "text/plain": [
       "(array([  48.,  336., 1008., 1264., 3360., 2784., 1504.,  704.,  368.,\n",
       "         144.]),\n",
       " array([0. , 0.1, 0.2, 0.3, 0.4, 0.5, 0.6, 0.7, 0.8, 0.9, 1. ]),\n",
       " <BarContainer object of 10 artists>)"
      ]
     },
     "execution_count": 19,
     "metadata": {},
     "output_type": "execute_result"
    },
    {
     "data": {
      "image/png": "[encoded data removed]",
      "text/plain": [
       "<Figure size 432x288 with 1 Axes>"
      ]
     },
     "metadata": {
      "needs_background": "light"
     },
     "output_type": "display_data"
    }
   ],
   "source": [
    "plt.hist(a.flatten())"
   ]
  },
  {
   "cell_type": "code",
   "execution_count": null,
   "metadata": {},
   "outputs": [],
   "source": []
  }
 ],
 "metadata": {
  "kernelspec": {
   "display_name": "Python 3.7 (MVPA)",
   "language": "python",
   "name": "mvpa"
  },
  "language_info": {
   "codemirror_mode": {
    "name": "ipython",
    "version": 3
   },
   "file_extension": ".py",
   "mimetype": "text/x-python",
   "name": "python",
   "nbconvert_exporter": "python",
   "pygments_lexer": "ipython3",
   "version": "3.7.7"
  }
 },
 "nbformat": 4,
 "nbformat_minor": 4
}
