{
 "cells": [
  {
   "cell_type": "code",
   "execution_count": 1,
   "metadata": {},
   "outputs": [],
   "source": [
    "# -*- coding: utf-8 -*- \n",
    "\n",
    "import numpy as np\n",
    "import pandas as pd\n",
    "from tqdm import tqdm\n",
    "\n",
    "import tensorflow as tf\n",
    "from tensorflow import keras as K\n",
    "from tensorflow.keras import Sequential, layers, losses, optimizers, datasets\n",
    "from tensorflow.keras.layers import Dense, BatchNormalization\n",
    "from tensorflow.keras.utils import Sequence\n",
    "\n",
    "from pathlib import Path\n",
    "from sklearn.model_selection import train_test_split"
   ]
  },
  {
   "cell_type": "code",
   "execution_count": 2,
   "metadata": {},
   "outputs": [],
   "source": [
    "# data generator class\n",
    "class DataGenerator(Sequence):\n",
    "    def __init__(self, ids, niis_dir, target_path, batch_size=16, shuffle=True):\n",
    "        self.id_names = ids\n",
    "        self.indexes = np.arange(len(self.id_names))\n",
    "        self.niis_dir = Path(niis_dir)\n",
    "        self.target = np.load(target_path, allow_pickle=True)\n",
    "        self.batch_size = batch_size\n",
    "        self.shuffle = shuffle\n",
    "        self.on_epoch_end()\n",
    "\n",
    "    # for printing the statistics of the function\n",
    "    def on_epoch_end(self):\n",
    "        'Updates indexes after each epoch'\n",
    "        self.indexes = np.arange(len(self.id_names))\n",
    "        if self.shuffle == True:\n",
    "            np.random.shuffle(self.indexes)\n",
    "\n",
    "    def __data_generation__(self, id_name): # 1 부터 시작\n",
    "        'Generates data containing batch_size samples'\n",
    "        # Initialization\n",
    "        subject_id, r0 = divmod(id_name, 720)\n",
    "        run, t = divmod(r0, 240)\n",
    "        nii_path = self.niis_dir / f'sub-{subject_id+1:02d}/run-{run+1}/{t}.pkl' # 이미지 1개 경로\n",
    "        nii = np.load(nii_path, allow_pickle=True).flatten()\n",
    "        target = self.target[subject_id, run, t]\n",
    "        \n",
    "        return nii, target\n",
    "\n",
    "    def __len__(self):\n",
    "        \"Denotes the number of batches per epoch\"\n",
    "        # self.id_names: 존재하는 전체 데이터 개수\n",
    "        # self.batch_size: 배치사이즈를 의미합니다.\n",
    "        return int(np.floor(len(self.id_names) / self.batch_size))\n",
    "\n",
    "    def __getitem__(self, index):  # index : batch no.\n",
    "        # Generate indexes of the batch\n",
    "        indexes = self.indexes[index * self.batch_size:(index + 1) * self.batch_size]\n",
    "        batch_ids = [self.id_names[k] for k in indexes]\n",
    "\n",
    "        niis = []\n",
    "        targets = []\n",
    "        \n",
    "        for id_name in batch_ids:\n",
    "            nii, target = self.__data_generation__(id_name)\n",
    "            niis.append(nii)\n",
    "            targets.append(target)\n",
    "\n",
    "        niis = np.array(niis)\n",
    "        targets = np.array(targets)\n",
    "\n",
    "        return niis, targets  # return batch"
   ]
  },
  {
   "cell_type": "code",
   "execution_count": 3,
   "metadata": {},
   "outputs": [],
   "source": [
    "niis_path = '/data2/project_modelbasedMVPA/prepprep'\n",
    "targets_path = './modulation.pkl'\n",
    "\n",
    "ids = range(16 * 3 * 240 - 1)\n",
    "train_ids, valid_ids = train_test_split(ids, test_size=0.2, random_state=42)\n",
    "\n",
    "train_generator = DataGenerator(train_ids, niis_path, targets_path)\n",
    "valid_generator = DataGenerator(valid_ids, niis_path, targets_path)"
   ]
  },
  {
   "cell_type": "code",
   "execution_count": 4,
   "metadata": {},
   "outputs": [
    {
     "name": "stdout",
     "output_type": "stream",
     "text": [
      "total training batches:  575\n",
      "total validaton batches:  144\n",
      "WARNING:tensorflow:There are non-GPU devices in `tf.distribute.Strategy`, not using nccl allreduce.\n",
      "INFO:tensorflow:Using MirroredStrategy with devices ('/job:localhost/replica:0/task:0/device:CPU:0',)\n",
      "WARNING:tensorflow:From <ipython-input-4-4094d5174eb6>:40: Model.fit_generator (from tensorflow.python.keras.engine.training) is deprecated and will be removed in a future version.\n",
      "Instructions for updating:\n",
      "Please use Model.fit, which supports generators.\n",
      "Epoch 1/10\n",
      "WARNING:tensorflow:From /home/mybirth0407/anaconda3/envs/mva/lib/python3.7/site-packages/tensorflow/python/data/ops/multi_device_iterator_ops.py:601: get_next_as_optional (from tensorflow.python.data.ops.iterator_ops) is deprecated and will be removed in a future version.\n",
      "Instructions for updating:\n",
      "Use `tf.data.Iterator.get_next_as_optional()` instead.\n",
      "35/35 [==============================] - 180s 5s/step - loss: 0.1451 - val_loss: 0.1463\n",
      "Epoch 2/10\n",
      "35/35 [==============================] - 158s 5s/step - loss: 0.0754 - val_loss: 0.0804\n",
      "Epoch 3/10\n",
      "35/35 [==============================] - 150s 4s/step - loss: 0.0415 - val_loss: 0.0588\n",
      "Epoch 4/10\n",
      "35/35 [==============================] - 146s 4s/step - loss: 0.0374 - val_loss: 0.0441\n",
      "Epoch 5/10\n",
      "35/35 [==============================] - 151s 4s/step - loss: 0.0305 - val_loss: 0.0384\n",
      "Epoch 6/10\n",
      "35/35 [==============================] - 150s 4s/step - loss: 0.0284 - val_loss: 0.0308\n",
      "Epoch 7/10\n",
      "35/35 [==============================] - 145s 4s/step - loss: 0.0319 - val_loss: 0.0496\n",
      "Epoch 8/10\n",
      "35/35 [==============================] - 150s 4s/step - loss: 0.0345 - val_loss: 0.0316\n",
      "Epoch 9/10\n",
      "35/35 [==============================] - 144s 4s/step - loss: 0.0271 - val_loss: 0.0315\n",
      "Epoch 10/10\n",
      "35/35 [==============================] - 147s 4s/step - loss: 0.0298 - val_loss: 0.0321\n"
     ]
    },
    {
     "data": {
      "text/plain": [
       "<tensorflow.python.keras.callbacks.History at 0x7f77900bf390>"
      ]
     },
     "execution_count": 4,
     "metadata": {},
     "output_type": "execute_result"
    }
   ],
   "source": [
    "batch_size = 256\n",
    "epochs = 10\n",
    "\n",
    "print(\"total training batches: \", len(train_generator))\n",
    "print(\"total validaton batches: \", len(valid_generator))\n",
    "train_steps = len(train_ids) // batch_size\n",
    "valid_steps = len(valid_ids) // batch_size\n",
    "\n",
    "optimizer = optimizers.Adam(lr=0.003, decay=1e-5)\n",
    "loss = losses.MeanSquaredError()\n",
    "\n",
    "mirrored_strategy = tf.distribute.MirroredStrategy() # for multi-gpus\n",
    "\n",
    "with mirrored_strategy.scope():\n",
    "    model = Sequential()\n",
    "    model.add(Dense(1024, activation='relu', input_shape=(902629,)))\n",
    "    model.add(BatchNormalization())\n",
    "    model.add(Dense(512, activation='relu'))\n",
    "    model.add(BatchNormalization())\n",
    "    model.add(Dense(512, activation='relu'))\n",
    "    model.add(BatchNormalization())\n",
    "    model.add(Dense(512, activation='relu'))\n",
    "    model.add(BatchNormalization())\n",
    "    model.add(Dense(1, activation='sigmoid'))\n",
    "    model.compile(loss='mse', optimizer='adam')\n",
    "\n",
    "# fit model\n",
    "model.fit_generator(generator=train_generator, validation_data=valid_generator,\n",
    "                    steps_per_epoch=train_steps, validation_steps=valid_steps,\n",
    "                    epochs=epochs)"
   ]
  },
  {
   "cell_type": "code",
   "execution_count": 5,
   "metadata": {},
   "outputs": [
    {
     "name": "stdout",
     "output_type": "stream",
     "text": [
      "WARNING:tensorflow:From /home/mybirth0407/anaconda3/envs/mva/lib/python3.7/site-packages/tensorflow/python/training/tracking/tracking.py:111: Model.state_updates (from tensorflow.python.keras.engine.training) is deprecated and will be removed in a future version.\n",
      "Instructions for updating:\n",
      "This property should not be used in TensorFlow 2.0, as updates are applied automatically.\n",
      "WARNING:tensorflow:From /home/mybirth0407/anaconda3/envs/mva/lib/python3.7/site-packages/tensorflow/python/training/tracking/tracking.py:111: Layer.updates (from tensorflow.python.keras.engine.base_layer) is deprecated and will be removed in a future version.\n",
      "Instructions for updating:\n",
      "This property should not be used in TensorFlow 2.0, as updates are applied automatically.\n",
      "INFO:tensorflow:Assets written to: mlp_model/assets\n"
     ]
    }
   ],
   "source": [
    "model.save('mlp_model')"
   ]
  },
  {
   "cell_type": "code",
   "execution_count": 7,
   "metadata": {},
   "outputs": [
    {
     "name": "stdout",
     "output_type": "stream",
     "text": [
      "26\n"
     ]
    }
   ],
   "source": [
    "weights_list = model.get_weights()"
   ]
  },
  {
   "cell_type": "code",
   "execution_count": 8,
   "metadata": {},
   "outputs": [
    {
     "name": "stdout",
     "output_type": "stream",
     "text": [
      "26\n",
      "902629\n"
     ]
    }
   ],
   "source": [
    "print(len(weights_list))\n",
    "print(len(weights_list[0]))"
   ]
  },
  {
   "cell_type": "code",
   "execution_count": 13,
   "metadata": {},
   "outputs": [],
   "source": [
    "import pickle\n",
    "with open('weight_first_layer.pkl', 'wb') as f:\n",
    "    pickle.dump(weights_list[0], f, pickle.HIGHEST_PROTOCOL)"
   ]
  },
  {
   "cell_type": "code",
   "execution_count": null,
   "metadata": {},
   "outputs": [],
   "source": [
    "target = weights_list[0]"
   ]
  }
 ],
 "metadata": {
  "kernelspec": {
   "display_name": "Python 3.7 (MVA)",
   "language": "python",
   "name": "mva"
  },
  "language_info": {
   "codemirror_mode": {
    "name": "ipython",
    "version": 3
   },
   "file_extension": ".py",
   "mimetype": "text/x-python",
   "name": "python",
   "nbconvert_exporter": "python",
   "pygments_lexer": "ipython3",
   "version": "3.7.7"
  }
 },
 "nbformat": 4,
 "nbformat_minor": 4
}
