{
 "cells": [
  {
   "cell_type": "code",
   "execution_count": 1,
   "metadata": {},
   "outputs": [],
   "source": [
    "## -*- coding: utf-8 -*- \n",
    "\n",
    "import numpy as np\n",
    "import pandas as pd\n",
    "\n",
    "from pathlib import Path\n",
    "\n",
    "from hbayesdm.models import ra_prospect\n",
    "\n",
    "import nibabel as nib\n",
    "\n",
    "from bids import BIDSLayout\n",
    "from tqdm import tqdm\n",
    "\n",
    "from sklearn.linear_model import ElasticNet, LinearRegression\n",
    "\n",
    "from scipy.stats import zscore\n",
    "\n",
    "import matplotlib.pyplot as plt\n",
    "\n",
    "import nilearn as nil\n",
    "from nilearn.image import resample_to_img, load_img, smooth_img\n",
    "from nilearn.datasets import load_mni152_template, load_mni152_brain_mask\n",
    "from nilearn.input_data import NiftiMasker\n",
    "from nilearn.plotting import plot_stat_map, show\n",
    "\n",
    "from nipy.modalities.fmri import hemodynamic_models\n",
    "from nipy.modalities.fmri.hemodynamic_models import compute_regressor\n",
    "\n",
    "import pickle"
   ]
  },
  {
   "cell_type": "code",
   "execution_count": 2,
   "metadata": {},
   "outputs": [],
   "source": [
    "template = load_mni152_template()\n",
    "mask = load_mni152_brain_mask()"
   ]
  },
  {
   "cell_type": "code",
   "execution_count": 3,
   "metadata": {},
   "outputs": [],
   "source": [
    "# information for path, hyperparams..\n",
    "DATA_DIR = '/home/mybirth0407/datasets/ds000005' # custom directory"
   ]
  },
  {
   "cell_type": "code",
   "execution_count": 4,
   "metadata": {},
   "outputs": [
    {
     "name": "stderr",
     "output_type": "stream",
     "text": [
      "/home/mybirth0407/anaconda3/envs/mva/lib/python3.7/site-packages/bids/layout/models.py:102: FutureWarning: The 'extension' entity currently excludes the leading dot ('.'). As of version 0.14.0, it will include the leading dot. To suppress this warning and include the leading dot, use `bids.config.set_option('extension_initial_dot', True)`.\n",
      "  FutureWarning)\n"
     ]
    }
   ],
   "source": [
    "layout = BIDSLayout(DATA_DIR, derivatives=True)\n",
    "\n",
    "# if data_dir not include derivatives files\n",
    "# layout.add_derivatives(DERIVATIVES_PATH)"
   ]
  },
  {
   "cell_type": "code",
   "execution_count": 5,
   "metadata": {},
   "outputs": [],
   "source": [
    "image_sample = layout.derivatives['fMRIPrep'].get(\n",
    "        subject=layout.get(target='subject', return_type='id')[0],\n",
    "        return_type='file',\n",
    "        suffix='bold',\n",
    "        extension='nii.gz')[0]\n",
    "\n",
    "event_sample = layout.get(return_type='file', suffix='events', extension='tsv')[0]\n",
    "\n",
    "TR = layout.get_tr()"
   ]
  },
  {
   "cell_type": "code",
   "execution_count": 6,
   "metadata": {},
   "outputs": [
    {
     "name": "stdout",
     "output_type": "stream",
     "text": [
      "(240, 228453)\n"
     ]
    }
   ],
   "source": [
    "masker = NiftiMasker(mask_img=mask, standardize=True)\n",
    "fmri_masked = masker.fit_transform(image_sample)\n",
    "print(fmri_masked.shape)"
   ]
  },
  {
   "cell_type": "code",
   "execution_count": 7,
   "metadata": {},
   "outputs": [
    {
     "data": {
      "text/html": [
       "<div>\n",
       "<style scoped>\n",
       "    .dataframe tbody tr th:only-of-type {\n",
       "        vertical-align: middle;\n",
       "    }\n",
       "\n",
       "    .dataframe tbody tr th {\n",
       "        vertical-align: top;\n",
       "    }\n",
       "\n",
       "    .dataframe thead th {\n",
       "        text-align: right;\n",
       "    }\n",
       "</style>\n",
       "<table border=\"1\" class=\"dataframe\">\n",
       "  <thead>\n",
       "    <tr style=\"text-align: right;\">\n",
       "      <th></th>\n",
       "      <th>onset</th>\n",
       "      <th>duration</th>\n",
       "      <th>parametric loss</th>\n",
       "      <th>distance from indifference</th>\n",
       "      <th>parametric gain</th>\n",
       "      <th>gain</th>\n",
       "      <th>loss</th>\n",
       "      <th>PTval</th>\n",
       "      <th>respnum</th>\n",
       "      <th>respcat</th>\n",
       "      <th>response_time</th>\n",
       "      <th>cert</th>\n",
       "      <th>gamble</th>\n",
       "      <th>subjID</th>\n",
       "      <th>run</th>\n",
       "    </tr>\n",
       "  </thead>\n",
       "  <tbody>\n",
       "    <tr>\n",
       "      <th>0</th>\n",
       "      <td>0</td>\n",
       "      <td>3</td>\n",
       "      <td>0.1273</td>\n",
       "      <td>-0.0814</td>\n",
       "      <td>-0.139</td>\n",
       "      <td>20</td>\n",
       "      <td>15</td>\n",
       "      <td>5.15</td>\n",
       "      <td>0</td>\n",
       "      <td>0</td>\n",
       "      <td>0.000</td>\n",
       "      <td>0</td>\n",
       "      <td>0</td>\n",
       "      <td>01</td>\n",
       "      <td>1</td>\n",
       "    </tr>\n",
       "    <tr>\n",
       "      <th>1</th>\n",
       "      <td>4</td>\n",
       "      <td>3</td>\n",
       "      <td>-0.0227</td>\n",
       "      <td>-0.4147</td>\n",
       "      <td>-0.189</td>\n",
       "      <td>18</td>\n",
       "      <td>12</td>\n",
       "      <td>6.12</td>\n",
       "      <td>2</td>\n",
       "      <td>1</td>\n",
       "      <td>1.793</td>\n",
       "      <td>0</td>\n",
       "      <td>1</td>\n",
       "      <td>01</td>\n",
       "      <td>1</td>\n",
       "    </tr>\n",
       "    <tr>\n",
       "      <th>2</th>\n",
       "      <td>8</td>\n",
       "      <td>3</td>\n",
       "      <td>0.1273</td>\n",
       "      <td>0.2519</td>\n",
       "      <td>-0.389</td>\n",
       "      <td>10</td>\n",
       "      <td>15</td>\n",
       "      <td>-4.85</td>\n",
       "      <td>3</td>\n",
       "      <td>0</td>\n",
       "      <td>1.637</td>\n",
       "      <td>0</td>\n",
       "      <td>0</td>\n",
       "      <td>01</td>\n",
       "      <td>1</td>\n",
       "    </tr>\n",
       "    <tr>\n",
       "      <th>3</th>\n",
       "      <td>18</td>\n",
       "      <td>3</td>\n",
       "      <td>0.1773</td>\n",
       "      <td>-0.0814</td>\n",
       "      <td>0.211</td>\n",
       "      <td>34</td>\n",
       "      <td>16</td>\n",
       "      <td>18.16</td>\n",
       "      <td>1</td>\n",
       "      <td>1</td>\n",
       "      <td>1.316</td>\n",
       "      <td>0</td>\n",
       "      <td>1</td>\n",
       "      <td>01</td>\n",
       "      <td>1</td>\n",
       "    </tr>\n",
       "    <tr>\n",
       "      <th>4</th>\n",
       "      <td>24</td>\n",
       "      <td>3</td>\n",
       "      <td>-0.3727</td>\n",
       "      <td>-0.0814</td>\n",
       "      <td>-0.189</td>\n",
       "      <td>18</td>\n",
       "      <td>5</td>\n",
       "      <td>13.05</td>\n",
       "      <td>1</td>\n",
       "      <td>1</td>\n",
       "      <td>1.670</td>\n",
       "      <td>0</td>\n",
       "      <td>1</td>\n",
       "      <td>01</td>\n",
       "      <td>1</td>\n",
       "    </tr>\n",
       "  </tbody>\n",
       "</table>\n",
       "</div>"
      ],
      "text/plain": [
       "   onset  duration  parametric loss  distance from indifference  \\\n",
       "0      0         3           0.1273                     -0.0814   \n",
       "1      4         3          -0.0227                     -0.4147   \n",
       "2      8         3           0.1273                      0.2519   \n",
       "3     18         3           0.1773                     -0.0814   \n",
       "4     24         3          -0.3727                     -0.0814   \n",
       "\n",
       "   parametric gain  gain  loss  PTval  respnum  respcat  response_time  cert  \\\n",
       "0           -0.139    20    15   5.15        0        0          0.000     0   \n",
       "1           -0.189    18    12   6.12        2        1          1.793     0   \n",
       "2           -0.389    10    15  -4.85        3        0          1.637     0   \n",
       "3            0.211    34    16  18.16        1        1          1.316     0   \n",
       "4           -0.189    18     5  13.05        1        1          1.670     0   \n",
       "\n",
       "   gamble subjID  run  \n",
       "0       0     01    1  \n",
       "1       1     01    1  \n",
       "2       0     01    1  \n",
       "3       1     01    1  \n",
       "4       1     01    1  "
      ]
     },
     "execution_count": 7,
     "metadata": {},
     "output_type": "execute_result"
    }
   ],
   "source": [
    "df_events = pd.read_table(event_sample)\n",
    "df_events['respcat'] = df_events['respcat'].apply(lambda x: 1 if x == 1 else 0)\n",
    "df_events['onset'] = df_events['onset'].astype(np.int)\n",
    "df_events['cert'] = 0 # certain..?\n",
    "df_events['gamble'] = df_events['respcat']\n",
    "df_events['subjID'] = '01'\n",
    "df_events['run'] = 1\n",
    "\n",
    "columns = df_events.columns.copy() # for safety\n",
    "df_events.head()"
   ]
  },
  {
   "cell_type": "code",
   "execution_count": 8,
   "metadata": {},
   "outputs": [],
   "source": [
    "# model = ra_prospect(data=df_events, ncore=4)\n",
    "# print(model.all_ind_pars)\n",
    "# params = model.all_ind_pars\n",
    "# params.to_csv('models/ra_prospect_params_sample.tsv', sep='\\t', index=False)"
   ]
  },
  {
   "cell_type": "code",
   "execution_count": 9,
   "metadata": {},
   "outputs": [],
   "source": [
    "params = pd.read_table('models/ra_prospect_params_sample.tsv')\n",
    "params['subjID'] = params.index + 1\n",
    "params['subjID'] = params['subjID'].apply(lambda x: f'{x:02d}')"
   ]
  },
  {
   "cell_type": "code",
   "execution_count": 10,
   "metadata": {},
   "outputs": [
    {
     "data": {
      "text/html": [
       "<div>\n",
       "<style scoped>\n",
       "    .dataframe tbody tr th:only-of-type {\n",
       "        vertical-align: middle;\n",
       "    }\n",
       "\n",
       "    .dataframe tbody tr th {\n",
       "        vertical-align: top;\n",
       "    }\n",
       "\n",
       "    .dataframe thead th {\n",
       "        text-align: right;\n",
       "    }\n",
       "</style>\n",
       "<table border=\"1\" class=\"dataframe\">\n",
       "  <thead>\n",
       "    <tr style=\"text-align: right;\">\n",
       "      <th></th>\n",
       "      <th>rho</th>\n",
       "      <th>lambda</th>\n",
       "      <th>tau</th>\n",
       "      <th>subjID</th>\n",
       "    </tr>\n",
       "  </thead>\n",
       "  <tbody>\n",
       "    <tr>\n",
       "      <th>0</th>\n",
       "      <td>1.109507</td>\n",
       "      <td>1.228393</td>\n",
       "      <td>4.907429</td>\n",
       "      <td>01</td>\n",
       "    </tr>\n",
       "  </tbody>\n",
       "</table>\n",
       "</div>"
      ],
      "text/plain": [
       "        rho    lambda       tau subjID\n",
       "0  1.109507  1.228393  4.907429     01"
      ]
     },
     "execution_count": 10,
     "metadata": {},
     "output_type": "execute_result"
    }
   ],
   "source": [
    "params.head()"
   ]
  },
  {
   "cell_type": "code",
   "execution_count": 11,
   "metadata": {},
   "outputs": [
    {
     "name": "stderr",
     "output_type": "stream",
     "text": [
      "INFO:numexpr.utils:Note: detected 88 virtual cores but NumExpr set to maximum of 64, check \"NUMEXPR_MAX_THREADS\" environment variable.\n",
      "INFO:numexpr.utils:Note: NumExpr detected 88 cores but \"NUMEXPR_MAX_THREADS\" not set, so enforcing safe limit of 8.\n",
      "INFO:numexpr.utils:NumExpr defaulting to 8 threads.\n"
     ]
    }
   ],
   "source": [
    "try: \n",
    "    df_X = pd.merge(df_events, params, how='left', on=['subjID'])\n",
    "except:\n",
    "    df_events.columns = columns\n",
    "    df_X = pd.merge(df_events, params, how='left', on=['subjID'])\n",
    "\n",
    "# calculate for utility risky\n",
    "df_X['U_risky'] = (df_X['gain'] ** df_X['rho']) - (df_X['lambda'] * (df_X['loss'] ** df_X['rho']))"
   ]
  },
  {
   "cell_type": "code",
   "execution_count": 12,
   "metadata": {},
   "outputs": [
    {
     "name": "stderr",
     "output_type": "stream",
     "text": [
      "/home/mybirth0407/anaconda3/envs/mva/lib/python3.7/site-packages/ipykernel_launcher.py:3: DeprecationWarning: object of type <class 'float'> cannot be safely interpreted as an integer.\n",
      "  This is separate from the ipykernel package so we can avoid doing imports until\n"
     ]
    }
   ],
   "source": [
    "time_indices = np.linspace(0,\n",
    "                           TR * fmri_masked.shape[0],\n",
    "                           TR * TR * fmri_masked.shape[0])"
   ]
  },
  {
   "cell_type": "code",
   "execution_count": 13,
   "metadata": {},
   "outputs": [
    {
     "data": {
      "text/html": [
       "<div>\n",
       "<style scoped>\n",
       "    .dataframe tbody tr th:only-of-type {\n",
       "        vertical-align: middle;\n",
       "    }\n",
       "\n",
       "    .dataframe tbody tr th {\n",
       "        vertical-align: top;\n",
       "    }\n",
       "\n",
       "    .dataframe thead th {\n",
       "        text-align: right;\n",
       "    }\n",
       "</style>\n",
       "<table border=\"1\" class=\"dataframe\">\n",
       "  <thead>\n",
       "    <tr style=\"text-align: right;\">\n",
       "      <th></th>\n",
       "      <th>onset</th>\n",
       "      <th>duration</th>\n",
       "      <th>parametric loss</th>\n",
       "      <th>distance from indifference</th>\n",
       "      <th>parametric gain</th>\n",
       "      <th>gain</th>\n",
       "      <th>loss</th>\n",
       "      <th>PTval</th>\n",
       "      <th>respnum</th>\n",
       "      <th>respcat</th>\n",
       "      <th>response_time</th>\n",
       "      <th>cert</th>\n",
       "      <th>gamble</th>\n",
       "      <th>subjID</th>\n",
       "      <th>run</th>\n",
       "      <th>rho</th>\n",
       "      <th>lambda</th>\n",
       "      <th>tau</th>\n",
       "      <th>U_risky</th>\n",
       "    </tr>\n",
       "  </thead>\n",
       "  <tbody>\n",
       "    <tr>\n",
       "      <th>0</th>\n",
       "      <td>0</td>\n",
       "      <td>3</td>\n",
       "      <td>0.1273</td>\n",
       "      <td>-0.0814</td>\n",
       "      <td>-0.139</td>\n",
       "      <td>20</td>\n",
       "      <td>15</td>\n",
       "      <td>5.15</td>\n",
       "      <td>0</td>\n",
       "      <td>0</td>\n",
       "      <td>0.000</td>\n",
       "      <td>0</td>\n",
       "      <td>0</td>\n",
       "      <td>01</td>\n",
       "      <td>1</td>\n",
       "      <td>1.109507</td>\n",
       "      <td>1.228393</td>\n",
       "      <td>4.907429</td>\n",
       "      <td>2.978577</td>\n",
       "    </tr>\n",
       "    <tr>\n",
       "      <th>1</th>\n",
       "      <td>4</td>\n",
       "      <td>3</td>\n",
       "      <td>-0.0227</td>\n",
       "      <td>-0.4147</td>\n",
       "      <td>-0.189</td>\n",
       "      <td>18</td>\n",
       "      <td>12</td>\n",
       "      <td>6.12</td>\n",
       "      <td>2</td>\n",
       "      <td>1</td>\n",
       "      <td>1.793</td>\n",
       "      <td>0</td>\n",
       "      <td>1</td>\n",
       "      <td>01</td>\n",
       "      <td>1</td>\n",
       "      <td>1.109507</td>\n",
       "      <td>1.228393</td>\n",
       "      <td>4.907429</td>\n",
       "      <td>5.351410</td>\n",
       "    </tr>\n",
       "    <tr>\n",
       "      <th>2</th>\n",
       "      <td>8</td>\n",
       "      <td>3</td>\n",
       "      <td>0.1273</td>\n",
       "      <td>0.2519</td>\n",
       "      <td>-0.389</td>\n",
       "      <td>10</td>\n",
       "      <td>15</td>\n",
       "      <td>-4.85</td>\n",
       "      <td>3</td>\n",
       "      <td>0</td>\n",
       "      <td>1.637</td>\n",
       "      <td>0</td>\n",
       "      <td>0</td>\n",
       "      <td>01</td>\n",
       "      <td>1</td>\n",
       "      <td>1.109507</td>\n",
       "      <td>1.228393</td>\n",
       "      <td>4.907429</td>\n",
       "      <td>-11.918829</td>\n",
       "    </tr>\n",
       "    <tr>\n",
       "      <th>3</th>\n",
       "      <td>18</td>\n",
       "      <td>3</td>\n",
       "      <td>0.1773</td>\n",
       "      <td>-0.0814</td>\n",
       "      <td>0.211</td>\n",
       "      <td>34</td>\n",
       "      <td>16</td>\n",
       "      <td>18.16</td>\n",
       "      <td>1</td>\n",
       "      <td>1</td>\n",
       "      <td>1.316</td>\n",
       "      <td>0</td>\n",
       "      <td>1</td>\n",
       "      <td>01</td>\n",
       "      <td>1</td>\n",
       "      <td>1.109507</td>\n",
       "      <td>1.228393</td>\n",
       "      <td>4.907429</td>\n",
       "      <td>23.398312</td>\n",
       "    </tr>\n",
       "    <tr>\n",
       "      <th>4</th>\n",
       "      <td>24</td>\n",
       "      <td>3</td>\n",
       "      <td>-0.3727</td>\n",
       "      <td>-0.0814</td>\n",
       "      <td>-0.189</td>\n",
       "      <td>18</td>\n",
       "      <td>5</td>\n",
       "      <td>13.05</td>\n",
       "      <td>1</td>\n",
       "      <td>1</td>\n",
       "      <td>1.670</td>\n",
       "      <td>0</td>\n",
       "      <td>1</td>\n",
       "      <td>01</td>\n",
       "      <td>1</td>\n",
       "      <td>1.109507</td>\n",
       "      <td>1.228393</td>\n",
       "      <td>4.907429</td>\n",
       "      <td>17.376403</td>\n",
       "    </tr>\n",
       "  </tbody>\n",
       "</table>\n",
       "</div>"
      ],
      "text/plain": [
       "   onset  duration  parametric loss  distance from indifference  \\\n",
       "0      0         3           0.1273                     -0.0814   \n",
       "1      4         3          -0.0227                     -0.4147   \n",
       "2      8         3           0.1273                      0.2519   \n",
       "3     18         3           0.1773                     -0.0814   \n",
       "4     24         3          -0.3727                     -0.0814   \n",
       "\n",
       "   parametric gain  gain  loss  PTval  respnum  respcat  response_time  cert  \\\n",
       "0           -0.139    20    15   5.15        0        0          0.000     0   \n",
       "1           -0.189    18    12   6.12        2        1          1.793     0   \n",
       "2           -0.389    10    15  -4.85        3        0          1.637     0   \n",
       "3            0.211    34    16  18.16        1        1          1.316     0   \n",
       "4           -0.189    18     5  13.05        1        1          1.670     0   \n",
       "\n",
       "   gamble subjID  run       rho    lambda       tau    U_risky  \n",
       "0       0     01    1  1.109507  1.228393  4.907429   2.978577  \n",
       "1       1     01    1  1.109507  1.228393  4.907429   5.351410  \n",
       "2       0     01    1  1.109507  1.228393  4.907429 -11.918829  \n",
       "3       1     01    1  1.109507  1.228393  4.907429  23.398312  \n",
       "4       1     01    1  1.109507  1.228393  4.907429  17.376403  "
      ]
     },
     "execution_count": 13,
     "metadata": {},
     "output_type": "execute_result"
    }
   ],
   "source": [
    "df_sample = df_X[(df_X['subjID'] == '01') & (df_X['run'] == 1)]\n",
    "df_sample.head()"
   ]
  },
  {
   "cell_type": "code",
   "execution_count": 14,
   "metadata": {},
   "outputs": [],
   "source": [
    "exp_condition = np.array((df_sample['onset'], df_sample['duration'], df_sample['U_risky']))"
   ]
  },
  {
   "cell_type": "code",
   "execution_count": 15,
   "metadata": {},
   "outputs": [
    {
     "data": {
      "text/plain": [
       "<StemContainer object of 3 artists>"
      ]
     },
     "execution_count": 15,
     "metadata": {},
     "output_type": "execute_result"
    },
    {
     "data": {
      "image/png": "[encoded data removed]",
      "text/plain": [
       "<Figure size 1440x288 with 1 Axes>"
      ]
     },
     "metadata": {
      "needs_background": "light"
     },
     "output_type": "display_data"
    }
   ],
   "source": [
    "plt.figure(figsize=(20, 4))\n",
    "plt.stem(df_sample['onset'], df_sample['U_risky'], markerfmt=' ')"
   ]
  },
  {
   "cell_type": "code",
   "execution_count": 16,
   "metadata": {},
   "outputs": [],
   "source": [
    "# obtain the signal of interest by convolution\n",
    "signals, _ = compute_regressor(exp_condition, 'canonical', time_indices, con_id='main')"
   ]
  },
  {
   "cell_type": "code",
   "execution_count": 17,
   "metadata": {},
   "outputs": [
    {
     "name": "stdout",
     "output_type": "stream",
     "text": [
      "(960, 1)\n"
     ]
    },
    {
     "data": {
      "text/plain": [
       "[<matplotlib.lines.Line2D at 0x7f0bdd0f3cd0>]"
      ]
     },
     "execution_count": 17,
     "metadata": {},
     "output_type": "execute_result"
    },
    {
     "data": {
      "image/png": "[encoded data removed]",
      "text/plain": [
       "<Figure size 1440x288 with 1 Axes>"
      ]
     },
     "metadata": {
      "needs_background": "light"
     },
     "output_type": "display_data"
    }
   ],
   "source": [
    "plt.figure(figsize=(20, 4))\n",
    "print(signals.shape)\n",
    "plt.plot(signals)"
   ]
  },
  {
   "cell_type": "code",
   "execution_count": 18,
   "metadata": {},
   "outputs": [],
   "source": [
    "X = signals[[int(TR * TR * x) for x in range(fmri_masked.shape[0])]]"
   ]
  },
  {
   "cell_type": "code",
   "execution_count": 19,
   "metadata": {},
   "outputs": [
    {
     "name": "stderr",
     "output_type": "stream",
     "text": [
      "100%|██████████| 228453/228453 [00:56<00:00, 4075.82it/s]\n"
     ]
    }
   ],
   "source": [
    "reg = LinearRegression()\n",
    "coef_ = []\n",
    "for Y in tqdm(fmri_masked.reshape(-1, 240)):\n",
    "    reg.fit(X.reshape(-1, 1), Y)\n",
    "    coef_.append(float(reg.coef_))"
   ]
  },
  {
   "cell_type": "code",
   "execution_count": 20,
   "metadata": {},
   "outputs": [
    {
     "data": {
      "text/plain": [
       "(1, 228453)"
      ]
     },
     "execution_count": 20,
     "metadata": {},
     "output_type": "execute_result"
    }
   ],
   "source": [
    "coef_ = np.expand_dims(coef_, axis=0)\n",
    "coef_.shape"
   ]
  },
  {
   "cell_type": "code",
   "execution_count": 21,
   "metadata": {},
   "outputs": [
    {
     "name": "stdout",
     "output_type": "stream",
     "text": [
      "-0.04438767265822131 0.04870221181119052 1.1719360360322634e-05\n"
     ]
    }
   ],
   "source": [
    "print(min(coef_[0]), max(coef_[0]), np.mean(coef_[0]))"
   ]
  },
  {
   "cell_type": "code",
   "execution_count": 22,
   "metadata": {},
   "outputs": [
    {
     "name": "stdout",
     "output_type": "stream",
     "text": [
      "<class 'nibabel.nifti1.Nifti1Image'>\n",
      "data shape (91, 109, 91, 1)\n",
      "affine: \n",
      "[[  -2.    0.    0.   90.]\n",
      " [   0.    2.    0. -126.]\n",
      " [   0.    0.    2.  -72.]\n",
      " [   0.    0.    0.    1.]]\n",
      "metadata:\n",
      "<class 'nibabel.nifti1.Nifti1Header'> object, endian='<'\n",
      "sizeof_hdr      : 348\n",
      "data_type       : b''\n",
      "db_name         : b''\n",
      "extents         : 0\n",
      "session_error   : 0\n",
      "regular         : b''\n",
      "dim_info        : 0\n",
      "dim             : [  4  91 109  91   1   1   1   1]\n",
      "intent_p1       : 0.0\n",
      "intent_p2       : 0.0\n",
      "intent_p3       : 0.0\n",
      "intent_code     : none\n",
      "datatype        : float64\n",
      "bitpix          : 64\n",
      "slice_start     : 0\n",
      "pixdim          : [-1.  2.  2.  2.  1.  1.  1.  1.]\n",
      "vox_offset      : 0.0\n",
      "scl_slope       : nan\n",
      "scl_inter       : nan\n",
      "slice_end       : 0\n",
      "slice_code      : unknown\n",
      "xyzt_units      : 0\n",
      "cal_max         : 0.0\n",
      "cal_min         : 0.0\n",
      "slice_duration  : 0.0\n",
      "toffset         : 0.0\n",
      "glmax           : 0\n",
      "glmin           : 0\n",
      "descrip         : b''\n",
      "aux_file        : b''\n",
      "qform_code      : unknown\n",
      "sform_code      : aligned\n",
      "quatern_b       : 0.0\n",
      "quatern_c       : 1.0\n",
      "quatern_d       : 0.0\n",
      "qoffset_x       : 90.0\n",
      "qoffset_y       : -126.0\n",
      "qoffset_z       : -72.0\n",
      "srow_x          : [-2.  0.  0. 90.]\n",
      "srow_y          : [   0.    2.    0. -126.]\n",
      "srow_z          : [  0.   0.   2. -72.]\n",
      "intent_name     : b''\n",
      "magic           : b'n+1'\n"
     ]
    }
   ],
   "source": [
    "pos_coef = coef_.copy()\n",
    "coef_img = masker.inverse_transform(pos_coef)\n",
    "print(coef_img)"
   ]
  },
  {
   "cell_type": "code",
   "execution_count": 23,
   "metadata": {},
   "outputs": [
    {
     "data": {
      "image/png": "[encoded data removed]",
      "text/plain": [
       "<Figure size 525.6x187.2 with 5 Axes>"
      ]
     },
     "metadata": {},
     "output_type": "display_data"
    }
   ],
   "source": [
    "plot_stat_map(coef_img, bg_img=template,\n",
    "              threshold=0.020,\n",
    "#               cut_coords=(-23, 34, -3),\n",
    "              title=\"regressor weights\")\n",
    "\n",
    "show()"
   ]
  },
  {
   "cell_type": "code",
   "execution_count": null,
   "metadata": {},
   "outputs": [],
   "source": []
  }
 ],
 "metadata": {
  "kernelspec": {
   "display_name": "Python 3.7 (MVA)",
   "language": "python",
   "name": "mva"
  },
  "language_info": {
   "codemirror_mode": {
    "name": "ipython",
    "version": 3
   },
   "file_extension": ".py",
   "mimetype": "text/x-python",
   "name": "python",
   "nbconvert_exporter": "python",
   "pygments_lexer": "ipython3",
   "version": "3.7.7"
  }
 },
 "nbformat": 4,
 "nbformat_minor": 4
}
