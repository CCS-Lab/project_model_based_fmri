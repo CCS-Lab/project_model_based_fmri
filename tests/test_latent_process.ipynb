{
 "cells": [
  {
   "cell_type": "code",
   "execution_count": null,
   "metadata": {},
   "outputs": [],
   "source": [
    "from bids import BIDSLayout"
   ]
  },
  {
   "cell_type": "code",
   "execution_count": 2,
   "metadata": {},
   "outputs": [],
   "source": [
    "root = '/data2/project_modelbasedMVPA/bornstein2017'"
   ]
  },
  {
   "cell_type": "code",
   "execution_count": 3,
   "metadata": {},
   "outputs": [
    {
     "name": "stderr",
     "output_type": "stream",
     "text": [
      "/home/cheoljun/.cache/pypoetry/virtualenvs/model-based-fmri-A7ELC43w-py3.7/lib/python3.7/site-packages/bids/layout/models.py:152: FutureWarning: The 'extension' entity currently excludes the leading dot ('.'). As of version 0.14.0, it will include the leading dot. To suppress this warning and include the leading dot, use `bids.config.set_option('extension_initial_dot', True)`.\n",
      "  FutureWarning)\n"
     ]
    }
   ],
   "source": [
    "layout = BIDSLayout(root,derivatives=True)"
   ]
  },
  {
   "cell_type": "code",
   "execution_count": null,
   "metadata": {},
   "outputs": [],
   "source": []
  },
  {
   "cell_type": "code",
   "execution_count": 7,
   "metadata": {},
   "outputs": [
    {
     "data": {
      "text/plain": [
       "[<BIDSImageFile filename='/data2/project_modelbasedMVPA/bornstein2017/derivatives/fmriprep/sub-01/func/sub-01_task-learn_space-MNI152NLin2009cAsym_desc-preproc_bold.nii.gz'>,\n",
       " <BIDSImageFile filename='/data2/project_modelbasedMVPA/bornstein2017/derivatives/fmriprep/sub-02/func/sub-02_task-learn_space-MNI152NLin2009cAsym_desc-preproc_bold.nii.gz'>,\n",
       " <BIDSImageFile filename='/data2/project_modelbasedMVPA/bornstein2017/derivatives/fmriprep/sub-03/func/sub-03_task-learn_space-MNI152NLin2009cAsym_desc-preproc_bold.nii.gz'>,\n",
       " <BIDSImageFile filename='/data2/project_modelbasedMVPA/bornstein2017/derivatives/fmriprep/sub-04/func/sub-04_task-learn_space-MNI152NLin2009cAsym_desc-preproc_bold.nii.gz'>,\n",
       " <BIDSImageFile filename='/data2/project_modelbasedMVPA/bornstein2017/derivatives/fmriprep/sub-05/func/sub-05_task-learn_space-MNI152NLin2009cAsym_desc-preproc_bold.nii.gz'>,\n",
       " <BIDSImageFile filename='/data2/project_modelbasedMVPA/bornstein2017/derivatives/fmriprep/sub-06/func/sub-06_task-learn_space-MNI152NLin2009cAsym_desc-preproc_bold.nii.gz'>,\n",
       " <BIDSImageFile filename='/data2/project_modelbasedMVPA/bornstein2017/derivatives/fmriprep/sub-07/func/sub-07_task-learn_space-MNI152NLin2009cAsym_desc-preproc_bold.nii.gz'>,\n",
       " <BIDSImageFile filename='/data2/project_modelbasedMVPA/bornstein2017/derivatives/fmriprep/sub-08/func/sub-08_task-learn_space-MNI152NLin2009cAsym_desc-preproc_bold.nii.gz'>,\n",
       " <BIDSImageFile filename='/data2/project_modelbasedMVPA/bornstein2017/derivatives/fmriprep/sub-09/func/sub-09_task-learn_space-MNI152NLin2009cAsym_desc-preproc_bold.nii.gz'>,\n",
       " <BIDSImageFile filename='/data2/project_modelbasedMVPA/bornstein2017/derivatives/fmriprep/sub-10/func/sub-10_task-learn_space-MNI152NLin2009cAsym_desc-preproc_bold.nii.gz'>,\n",
       " <BIDSImageFile filename='/data2/project_modelbasedMVPA/bornstein2017/derivatives/fmriprep/sub-11/func/sub-11_task-learn_space-MNI152NLin2009cAsym_desc-preproc_bold.nii.gz'>,\n",
       " <BIDSImageFile filename='/data2/project_modelbasedMVPA/bornstein2017/derivatives/fmriprep/sub-12/func/sub-12_task-learn_space-MNI152NLin2009cAsym_desc-preproc_bold.nii.gz'>,\n",
       " <BIDSImageFile filename='/data2/project_modelbasedMVPA/bornstein2017/derivatives/fmriprep/sub-13/func/sub-13_task-learn_space-MNI152NLin2009cAsym_desc-preproc_bold.nii.gz'>,\n",
       " <BIDSImageFile filename='/data2/project_modelbasedMVPA/bornstein2017/derivatives/fmriprep/sub-14/func/sub-14_task-learn_space-MNI152NLin2009cAsym_desc-preproc_bold.nii.gz'>,\n",
       " <BIDSImageFile filename='/data2/project_modelbasedMVPA/bornstein2017/derivatives/fmriprep/sub-15/func/sub-15_task-learn_space-MNI152NLin2009cAsym_desc-preproc_bold.nii.gz'>,\n",
       " <BIDSImageFile filename='/data2/project_modelbasedMVPA/bornstein2017/derivatives/fmriprep/sub-16/func/sub-16_task-learn_space-MNI152NLin2009cAsym_desc-preproc_bold.nii.gz'>,\n",
       " <BIDSImageFile filename='/data2/project_modelbasedMVPA/bornstein2017/derivatives/fmriprep/sub-17/func/sub-17_task-learn_space-MNI152NLin2009cAsym_desc-preproc_bold.nii.gz'>,\n",
       " <BIDSImageFile filename='/data2/project_modelbasedMVPA/bornstein2017/derivatives/fmriprep/sub-18/func/sub-18_task-learn_space-MNI152NLin2009cAsym_desc-preproc_bold.nii.gz'>,\n",
       " <BIDSImageFile filename='/data2/project_modelbasedMVPA/bornstein2017/derivatives/fmriprep/sub-19/func/sub-19_task-learn_space-MNI152NLin2009cAsym_desc-preproc_bold.nii.gz'>,\n",
       " <BIDSImageFile filename='/data2/project_modelbasedMVPA/bornstein2017/derivatives/fmriprep/sub-20/func/sub-20_task-learn_space-MNI152NLin2009cAsym_desc-preproc_bold.nii.gz'>,\n",
       " <BIDSImageFile filename='/data2/project_modelbasedMVPA/bornstein2017/derivatives/fmriprep/sub-21/func/sub-21_task-learn_space-MNI152NLin2009cAsym_desc-preproc_bold.nii.gz'>,\n",
       " <BIDSImageFile filename='/data2/project_modelbasedMVPA/bornstein2017/derivatives/fmriprep/sub-22/func/sub-22_task-learn_space-MNI152NLin2009cAsym_desc-preproc_bold.nii.gz'>,\n",
       " <BIDSImageFile filename='/data2/project_modelbasedMVPA/bornstein2017/derivatives/fmriprep/sub-23/func/sub-23_task-learn_space-MNI152NLin2009cAsym_desc-preproc_bold.nii.gz'>,\n",
       " <BIDSImageFile filename='/data2/project_modelbasedMVPA/bornstein2017/derivatives/fmriprep/sub-24/func/sub-24_task-learn_space-MNI152NLin2009cAsym_desc-preproc_bold.nii.gz'>,\n",
       " <BIDSImageFile filename='/data2/project_modelbasedMVPA/bornstein2017/derivatives/fmriprep/sub-25/func/sub-25_task-learn_space-MNI152NLin2009cAsym_desc-preproc_bold.nii.gz'>,\n",
       " <BIDSImageFile filename='/data2/project_modelbasedMVPA/bornstein2017/derivatives/fmriprep/sub-26/func/sub-26_task-learn_space-MNI152NLin2009cAsym_desc-preproc_bold.nii.gz'>,\n",
       " <BIDSImageFile filename='/data2/project_modelbasedMVPA/bornstein2017/derivatives/fmriprep/sub-27/func/sub-27_task-learn_space-MNI152NLin2009cAsym_desc-preproc_bold.nii.gz'>,\n",
       " <BIDSImageFile filename='/data2/project_modelbasedMVPA/bornstein2017/derivatives/fmriprep/sub-28/func/sub-28_task-learn_space-MNI152NLin2009cAsym_desc-preproc_bold.nii.gz'>,\n",
       " <BIDSImageFile filename='/data2/project_modelbasedMVPA/bornstein2017/derivatives/fmriprep/sub-29/func/sub-29_task-learn_space-MNI152NLin2009cAsym_desc-preproc_bold.nii.gz'>,\n",
       " <BIDSImageFile filename='/data2/project_modelbasedMVPA/bornstein2017/derivatives/fmriprep/sub-30/func/sub-30_task-learn_space-MNI152NLin2009cAsym_desc-preproc_bold.nii.gz'>,\n",
       " <BIDSImageFile filename='/data2/project_modelbasedMVPA/bornstein2017/derivatives/fmriprep/sub-31/func/sub-31_task-learn_space-MNI152NLin2009cAsym_desc-preproc_bold.nii.gz'>,\n",
       " <BIDSImageFile filename='/data2/project_modelbasedMVPA/bornstein2017/derivatives/fmriprep/sub-32/func/sub-32_task-learn_space-MNI152NLin2009cAsym_desc-preproc_bold.nii.gz'>]"
      ]
     },
     "execution_count": 7,
     "metadata": {},
     "output_type": "execute_result"
    }
   ],
   "source": [
    "layout.derivatives['fMRIPrep'].get(suffix='bold',\n",
    "                                        space='MNI152NLin2009cAsym',\n",
    "                                        task='learn',\n",
    "                                        extension=\"nii.gz\",\n",
    "                                  session=None)"
   ]
  },
  {
   "cell_type": "code",
   "execution_count": 2,
   "metadata": {},
   "outputs": [],
   "source": [
    "import pandas as pd"
   ]
  },
  {
   "cell_type": "code",
   "execution_count": 3,
   "metadata": {},
   "outputs": [],
   "source": [
    "from mbmvpa.preprocessing.computational_modeling import banditNarm_4par as modelling_module"
   ]
  },
  {
   "cell_type": "code",
   "execution_count": 4,
   "metadata": {},
   "outputs": [],
   "source": [
    "from mbmvpa.utils.bids_utils import BIDSConEventsOnly"
   ]
  },
  {
   "cell_type": "code",
   "execution_count": 5,
   "metadata": {},
   "outputs": [
    {
     "name": "stderr",
     "output_type": "stream",
     "text": [
      "/home/cheoljun/.cache/pypoetry/virtualenvs/model-based-fmri-A7ELC43w-py3.7/lib/python3.7/site-packages/nilearn/glm/__init__.py:56: FutureWarning: The nilearn.glm module is experimental. It may change in any future release of Nilearn.\n",
      "  'It may change in any future release of Nilearn.', FutureWarning)\n"
     ]
    }
   ],
   "source": [
    "from mbmvpa.preprocessing.events import LatentProcessGenerator"
   ]
  },
  {
   "cell_type": "code",
   "execution_count": null,
   "metadata": {},
   "outputs": [],
   "source": []
  },
  {
   "cell_type": "code",
   "execution_count": null,
   "metadata": {},
   "outputs": [],
   "source": []
  },
  {
   "cell_type": "code",
   "execution_count": 35,
   "metadata": {},
   "outputs": [
    {
     "name": "stdout",
     "output_type": "stream",
     "text": [
      "bornstein2017\t   fmriprep.sh\t\t    PRL\t\t    temp_2\n",
      "ds000005\t   piva_dd\t\t    sample\t    tom\n",
      "ds001499-download  piva_dd_mbmvpa\t    schonberg_bart\n",
      "fmriprep-all\t   piva_dd_mbmvpa_zoomed_2  temp\n"
     ]
    }
   ],
   "source": [
    "!ls /data2/project_modelbasedMVPA/"
   ]
  },
  {
   "cell_type": "code",
   "execution_count": 7,
   "metadata": {},
   "outputs": [],
   "source": [
    "root = '/data2/project_modelbasedMVPA/ds001607-download'"
   ]
  },
  {
   "cell_type": "code",
   "execution_count": 8,
   "metadata": {},
   "outputs": [],
   "source": [
    "task_name = 'learn'"
   ]
  },
  {
   "cell_type": "code",
   "execution_count": 9,
   "metadata": {},
   "outputs": [
    {
     "name": "stderr",
     "output_type": "stream",
     "text": [
      "/home/cheoljun/.cache/pypoetry/virtualenvs/model-based-fmri-A7ELC43w-py3.7/lib/python3.7/site-packages/bids/layout/models.py:152: FutureWarning: The 'extension' entity currently excludes the leading dot ('.'). As of version 0.14.0, it will include the leading dot. To suppress this warning and include the leading dot, use `bids.config.set_option('extension_initial_dot', True)`.\n",
      "  FutureWarning)\n"
     ]
    }
   ],
   "source": [
    "layout = BIDSLayout(root)"
   ]
  },
  {
   "cell_type": "code",
   "execution_count": 10,
   "metadata": {},
   "outputs": [],
   "source": [
    "ex_events_file= layout.get(task='learn',suffix='events')[0]"
   ]
  },
  {
   "cell_type": "code",
   "execution_count": 11,
   "metadata": {},
   "outputs": [
    {
     "data": {
      "text/plain": [
       "<BIDSDataFile filename='/data2/project_modelbasedMVPA/ds001607-download/sub-01/func/sub-01_task-learn_events.tsv'>"
      ]
     },
     "execution_count": 11,
     "metadata": {},
     "output_type": "execute_result"
    }
   ],
   "source": [
    "ex_events_file"
   ]
  },
  {
   "cell_type": "code",
   "execution_count": 12,
   "metadata": {},
   "outputs": [],
   "source": [
    "df_events = pd.read_table(ex_events_file)"
   ]
  },
  {
   "cell_type": "code",
   "execution_count": 13,
   "metadata": {},
   "outputs": [
    {
     "data": {
      "text/html": [
       "<div>\n",
       "<style scoped>\n",
       "    .dataframe tbody tr th:only-of-type {\n",
       "        vertical-align: middle;\n",
       "    }\n",
       "\n",
       "    .dataframe tbody tr th {\n",
       "        vertical-align: top;\n",
       "    }\n",
       "\n",
       "    .dataframe thead th {\n",
       "        text-align: right;\n",
       "    }\n",
       "</style>\n",
       "<table border=\"1\" class=\"dataframe\">\n",
       "  <thead>\n",
       "    <tr style=\"text-align: right;\">\n",
       "      <th></th>\n",
       "      <th>onset</th>\n",
       "      <th>duration</th>\n",
       "      <th>type</th>\n",
       "      <th>choice</th>\n",
       "      <th>rwdval</th>\n",
       "      <th>RT</th>\n",
       "    </tr>\n",
       "  </thead>\n",
       "  <tbody>\n",
       "    <tr>\n",
       "      <th>0</th>\n",
       "      <td>2063751.003</td>\n",
       "      <td>3</td>\n",
       "      <td>bandit</td>\n",
       "      <td>1</td>\n",
       "      <td>0</td>\n",
       "      <td>1.2439</td>\n",
       "    </tr>\n",
       "    <tr>\n",
       "      <th>1</th>\n",
       "      <td>2063757.986</td>\n",
       "      <td>3</td>\n",
       "      <td>bandit</td>\n",
       "      <td>2</td>\n",
       "      <td>10</td>\n",
       "      <td>0.7019</td>\n",
       "    </tr>\n",
       "    <tr>\n",
       "      <th>2</th>\n",
       "      <td>2063764.969</td>\n",
       "      <td>3</td>\n",
       "      <td>bandit</td>\n",
       "      <td>3</td>\n",
       "      <td>0</td>\n",
       "      <td>0.9651</td>\n",
       "    </tr>\n",
       "    <tr>\n",
       "      <th>3</th>\n",
       "      <td>2063771.952</td>\n",
       "      <td>3</td>\n",
       "      <td>bandit</td>\n",
       "      <td>3</td>\n",
       "      <td>10</td>\n",
       "      <td>1.0103</td>\n",
       "    </tr>\n",
       "    <tr>\n",
       "      <th>4</th>\n",
       "      <td>2063778.936</td>\n",
       "      <td>3</td>\n",
       "      <td>bandit</td>\n",
       "      <td>2</td>\n",
       "      <td>0</td>\n",
       "      <td>0.4705</td>\n",
       "    </tr>\n",
       "  </tbody>\n",
       "</table>\n",
       "</div>"
      ],
      "text/plain": [
       "         onset  duration    type  choice  rwdval      RT\n",
       "0  2063751.003         3  bandit       1       0  1.2439\n",
       "1  2063757.986         3  bandit       2      10  0.7019\n",
       "2  2063764.969         3  bandit       3       0  0.9651\n",
       "3  2063771.952         3  bandit       3      10  1.0103\n",
       "4  2063778.936         3  bandit       2       0  0.4705"
      ]
     },
     "execution_count": 13,
     "metadata": {},
     "output_type": "execute_result"
    }
   ],
   "source": [
    "df_events.head()"
   ]
  },
  {
   "cell_type": "code",
   "execution_count": 14,
   "metadata": {},
   "outputs": [
    {
     "name": "stderr",
     "output_type": "stream",
     "text": [
      "/home/cheoljun/.cache/pypoetry/virtualenvs/model-based-fmri-A7ELC43w-py3.7/lib/python3.7/site-packages/ipykernel_launcher.py:1: SettingWithCopyWarning: \n",
      "A value is trying to be set on a copy of a slice from a DataFrame.\n",
      "Try using .loc[row_indexer,col_indexer] = value instead\n",
      "\n",
      "See the caveats in the documentation: https://pandas.pydata.org/pandas-docs/stable/user_guide/indexing.html#returning-a-view-versus-a-copy\n",
      "  \"\"\"Entry point for launching an IPython kernel.\n"
     ]
    }
   ],
   "source": [
    "df_events[df_events['rwdval'] > 0]['rwdval'] = 1"
   ]
  },
  {
   "cell_type": "code",
   "execution_count": 15,
   "metadata": {},
   "outputs": [],
   "source": [
    "def adjust_function_dfwise(df_events):\n",
    "    df_events['onset'] = df_events['onset']-df_events['onset'].min() #+df_events['RT']+2\n",
    "    df_events['time_feedback'] = df_events['onset'] + df_events['RT']+2\n",
    "    gain = []\n",
    "    loss = []\n",
    "    for _, row in df_events.iterrows():\n",
    "        if row['rwdval'] > 0:\n",
    "            gain.append(1)\n",
    "            loss.append(0)\n",
    "        else:\n",
    "            gain.append(0)\n",
    "            loss.append(-1)\n",
    "    df_events['gain'] = gain\n",
    "    df_events['loss'] = loss\n",
    "    return df_events"
   ]
  },
  {
   "cell_type": "code",
   "execution_count": 27,
   "metadata": {},
   "outputs": [],
   "source": [
    "def filter_function(row):\n",
    "    return row['choice']in [1,2,3]"
   ]
  },
  {
   "cell_type": "code",
   "execution_count": 16,
   "metadata": {},
   "outputs": [],
   "source": [
    "process_name = 'QRchosen'"
   ]
  },
  {
   "cell_type": "code",
   "execution_count": 17,
   "metadata": {},
   "outputs": [],
   "source": [
    "latent_function_dfwise = modelling_module.ComputationalModel(process_name)"
   ]
  },
  {
   "cell_type": "code",
   "execution_count": 18,
   "metadata": {},
   "outputs": [
    {
     "name": "stderr",
     "output_type": "stream",
     "text": [
      "/home/cheoljun/.cache/pypoetry/virtualenvs/model-based-fmri-A7ELC43w-py3.7/lib/python3.7/site-packages/bids/layout/models.py:152: FutureWarning: The 'extension' entity currently excludes the leading dot ('.'). As of version 0.14.0, it will include the leading dot. To suppress this warning and include the leading dot, use `bids.config.set_option('extension_initial_dot', True)`.\n",
      "  FutureWarning)\n"
     ]
    },
    {
     "name": "stdout",
     "output_type": "stream",
     "text": [
      "INFO: start loading BIDSLayout\n",
      "INFO: MB-MVPA is loaded\n",
      "INFO: target subjects-all\n",
      "INFO: 32 file(s) in Original\n"
     ]
    }
   ],
   "source": [
    "bids_controller = BIDSConEventsOnly(bids_layout=root,\n",
    "                                            subjects='all',\n",
    "                                            task_name=task_name)"
   ]
  },
  {
   "cell_type": "code",
   "execution_count": 28,
   "metadata": {},
   "outputs": [],
   "source": [
    "y_generator = LatentProcessGenerator(bids_layout=root,\n",
    "                                     bids_controller=bids_controller,\n",
    "                                    adjust_function_dfwise=adjust_function_dfwise,\n",
    "                                     filter_function=filter_function,\n",
    "                                    dm_model = 'banditNarm_4par',\n",
    "                                    task_name = task_name,\n",
    "                                    process_name = process_name,\n",
    "                                    use_1sec_duration=True,\n",
    "                                    ignore_fmriprep=True)"
   ]
  },
  {
   "cell_type": "code",
   "execution_count": 29,
   "metadata": {},
   "outputs": [],
   "source": [
    "df_events_list, event_infos_list = y_generator._init_df_events_from_bids()"
   ]
  },
  {
   "cell_type": "code",
   "execution_count": 30,
   "metadata": {},
   "outputs": [],
   "source": [
    "df_events_list = [y_generator.filter_function_dfwise(\n",
    "                                        y_generator.adjust_function_dfwise(df_events)) for df_events in df_events_list]"
   ]
  },
  {
   "cell_type": "code",
   "execution_count": 31,
   "metadata": {},
   "outputs": [
    {
     "data": {
      "text/plain": [
       "array([1, 2, 3], dtype=object)"
      ]
     },
     "execution_count": 31,
     "metadata": {},
     "output_type": "execute_result"
    }
   ],
   "source": [
    "df_events_list[0]['choice'].unique()"
   ]
  },
  {
   "cell_type": "code",
   "execution_count": 32,
   "metadata": {},
   "outputs": [],
   "source": [
    "df_events = pd.concat(df_events_list)"
   ]
  },
  {
   "cell_type": "code",
   "execution_count": 33,
   "metadata": {},
   "outputs": [
    {
     "data": {
      "text/plain": [
       "array([1, 2, 3], dtype=object)"
      ]
     },
     "execution_count": 33,
     "metadata": {},
     "output_type": "execute_result"
    }
   ],
   "source": [
    "df_events['choice'].unique()"
   ]
  },
  {
   "cell_type": "code",
   "execution_count": 34,
   "metadata": {},
   "outputs": [
    {
     "name": "stdout",
     "output_type": "stream",
     "text": [
      "INFO: running computational model [hBayesDM-banditNarm_4par]\n",
      "Using cached StanModel: cached-banditNarm_4par-pystan_2.19.1.1.pkl\n"
     ]
    },
    {
     "name": "stderr",
     "output_type": "stream",
     "text": [
      "WARNING:pystan:Automatic Differentiation Variational Inference (ADVI) is an EXPERIMENTAL ALGORITHM.\n",
      "WARNING:pystan:ADVI samples may be found on the filesystem in the file `/tmp/tmpnifzl8bi/output.csv`\n"
     ]
    },
    {
     "name": "stdout",
     "output_type": "stream",
     "text": [
      "\n",
      "Model  = banditNarm_4par\n",
      "Data   = <pandas.DataFrame object>\n",
      "\n",
      "Details:\n",
      " # of chains                    = 4\n",
      " # of cores used                = 4\n",
      " # of MCMC samples (per chain)  = 4000\n",
      " # of burn-in samples           = 1000\n",
      " # of subjects                  = 32\n",
      " # of (max) trials per subject  = 180\n",
      "\n",
      "Using cached StanModel: cached-banditNarm_4par-pystan_2.19.1.1.pkl\n",
      "Index(['onset', 'duration', 'type', 'choice', 'rwdval', 'rt', 'trial',\n",
      "       'subjid', 'run', 'session', 'timefeedback', 'gain', 'loss'],\n",
      "      dtype='object')\n",
      "['onset', 'duration', 'type', 'choice', 'rwdval', 'RT', 'trial', 'subjID', 'run', 'session', 'time_feedback', 'gain', 'loss']\n",
      "************************************\n",
      "**** Model fitting is complete! ****\n",
      "************************************\n"
     ]
    }
   ],
   "source": [
    "y_generator.set_computational_model()"
   ]
  },
  {
   "cell_type": "code",
   "execution_count": null,
   "metadata": {},
   "outputs": [],
   "source": []
  }
 ],
 "metadata": {
  "kernelspec": {
   "display_name": "model-based-fmri-A7ELC43w-py3.7",
   "language": "python",
   "name": "model-based-fmri-a7elc43w-py3.7"
  },
  "language_info": {
   "codemirror_mode": {
    "name": "ipython",
    "version": 3
   },
   "file_extension": ".py",
   "mimetype": "text/x-python",
   "name": "python",
   "nbconvert_exporter": "python",
   "pygments_lexer": "ipython3",
   "version": "3.7.4"
  }
 },
 "nbformat": 4,
 "nbformat_minor": 4
}
