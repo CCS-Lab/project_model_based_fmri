{
 "cells": [
  {
   "cell_type": "markdown",
   "metadata": {},
   "source": [
    "# Tutorial"
   ]
  },
  {
   "cell_type": "markdown",
   "metadata": {},
   "source": [
    "This is a tutorial for MB-MVPA using task-fMRI data of Mixed-gamble task by Tom et al., 2007. \n",
    "\n"
   ]
  },
  {
   "cell_type": "markdown",
   "metadata": {},
   "source": [
    "### Import the MB-MVPA libarary."
   ]
  },
  {
   "cell_type": "markdown",
   "metadata": {},
   "source": [
    "Other libraries(nilean, keras, etc..) dosen't need to be imported.<br>\n",
    "Because mb-mvpa has wrapping the libararies.<br>\n",
    "You don't necessarily have to know fMRI libraries like nilearn and machine learning libraries like tensorflow.<br>\n",
    "<b>MB-MVPA is all you need.</b>"
   ]
  },
  {
   "cell_type": "markdown",
   "metadata": {},
   "source": [
    "Most of mb-mvpa are wrapping nilearn, tensorflow, Keras and etc., so warning can occur from that libraries.<br>\n",
    "This page does not print warning because most of them are can be ignored.<br>\n",
    "You don't need to remove the warning when you are actually using it."
   ]
  },
  {
   "cell_type": "code",
   "execution_count": 1,
   "metadata": {},
   "outputs": [],
   "source": [
    "from time import perf_counter"
   ]
  },
  {
   "cell_type": "code",
   "execution_count": 2,
   "metadata": {},
   "outputs": [
    {
     "name": "stderr",
     "output_type": "stream",
     "text": [
      "/home/cheoljun/.cache/pypoetry/virtualenvs/model-based-fmri-A7ELC43w-py3.7/lib/python3.7/site-packages/nilearn/glm/__init__.py:56: FutureWarning: The nilearn.glm module is experimental. It may change in any future release of Nilearn.\n",
      "  'It may change in any future release of Nilearn.', FutureWarning)\n"
     ]
    }
   ],
   "source": [
    "from mbmvpa.preprocessing.preprocess import DataPreprocessor"
   ]
  },
  {
   "cell_type": "markdown",
   "metadata": {},
   "source": [
    "TODO: add original data download link\n",
    "\n",
    "Data download from AWS S3, ~ <b>1GB</b> (would be under the \"Mixed-gamble_task/example_data/\").<br>\n",
    "\n",
    "We provide a small subset (2 subjects) of original Tom's dataset (16 subjects). The fMRI images in the example is preprocessed by conventional fMRI preprocessing pipeline by using \n",
    "[*fmriprep*](https://fmriprep.org/en/stable/) v.20.1.0. Please refer to the [original](https://openneuro.org/datasets/ds000005/versions/00001) for more information."
   ]
  },
  {
   "cell_type": "code",
   "execution_count": 2,
   "metadata": {},
   "outputs": [],
   "source": [
    "#root = load_example_data(\"tom\")\n",
    "root = \"/data2/project_modelbasedMVPA/ds000005\""
   ]
  },
  {
   "cell_type": "markdown",
   "metadata": {},
   "source": [
    "### Preprocessing fMRI images and behavioral data"
   ]
  },
  {
   "cell_type": "markdown",
   "metadata": {},
   "source": [
    "MB-MVPA requires primariliy preprocessed task-fMRI experiments data fromatted in conventional [BIDS format](https://bids-specification.readthedocs.io/en/stable/) \n",
    "\n",
    "It expects the following organized files. All the naming conventions used here conform with outputs from *fmriprep* v.20.1.0. by Poldrack lab.\n",
    "\n",
    "The fMRI images are usually located here<br>\n",
    "<i>{BIDS_ROOT}/derivatives/fmriprep/subject/session/run/func/*nii.gz</i><br>\n",
    "And the behavior data are located here<br>\n",
    "<i>{BIDS_ROOT}/subject/session/run/func/*.tsv</i>"
   ]
  },
  {
   "cell_type": "code",
   "execution_count": 4,
   "metadata": {},
   "outputs": [
    {
     "name": "stdout",
     "output_type": "stream",
     "text": [
      "elapsed time: 0.49 minutes\n"
     ]
    }
   ],
   "source": [
    "s = perf_counter()\n",
    "\n",
    "dm_model = 'ra_prospect'\n",
    "\n",
    "def example_adjust(row):\n",
    "    ## rename data in a row to the name which can match hbayesdm.ra_prospect requirements ##\n",
    "    row[\"gamble\"] = 1 if row[\"respcat\"] == 1 else 0\n",
    "    row[\"cert\"] = 0\n",
    "    return row\n",
    "\n",
    "def example_filter(row):\n",
    "    # include all trial data\n",
    "    return True\n",
    "\n",
    "def example_latent(row, param_dict):\n",
    "    ## calculate subjectives utility for choosing Gamble over Safe option\n",
    "    ## prospect theory with loss aversion and risk aversion is adopted\n",
    "    modulation = (row[\"gain\"] ** param_dict[\"rho\"]) - (param_dict[\"lambda\"] * (row[\"loss\"] ** param_dict[\"rho\"]))\n",
    "    row[\"modulation\"] = modulation\n",
    "    return row\n",
    "\n",
    "\n",
    "preprocessor = DataPreprocessor(bids_layout=root,\n",
    "                               adjust_function=example_adjust,\n",
    "                               filter_function=example_filter,\n",
    "                               latent_function=example_latent,\n",
    "                               dm_model=dm_model,\n",
    "                               high_pass=None,\n",
    "                               detrend=False,\n",
    "                               smoothing_fwhm=6,\n",
    "                               confunds=[],\n",
    "                               zoom=(2,2,2))\n",
    "print(f\"elapsed time: {(perf_counter()-s) / 60:.2f} minutes\")"
   ]
  },
  {
   "cell_type": "code",
   "execution_count": 5,
   "metadata": {},
   "outputs": [
    {
     "name": "stdout",
     "output_type": "stream",
     "text": [
      "[  fMRIPrep  ] BIDS Layout: .../ds000005/derivatives/fmriprep | Subjects: 16 | Sessions: 0 | Runs: 48\n",
      "[  MB-MVPA   ] BIDS Layout: ...PA/ds000005/derivatives/mbmvpa | Subjects: 16 | Sessions: 0 | Runs: 48\n"
     ]
    }
   ],
   "source": [
    "preprocessor.summary()"
   ]
  },
  {
   "cell_type": "code",
   "execution_count": 6,
   "metadata": {},
   "outputs": [
    {
     "name": "stderr",
     "output_type": "stream",
     "text": [
      "12it [03:01, 15.16s/it]"
     ]
    },
    {
     "name": "stdout",
     "output_type": "stream",
     "text": [
      "elapsed time: 3.15 minutes\n"
     ]
    },
    {
     "name": "stderr",
     "output_type": "stream",
     "text": [
      "\n"
     ]
    }
   ],
   "source": [
    "s = perf_counter()\n",
    "\n",
    "#preprocessor.preprocess(overwrite=True,core=16)\n",
    "#preprocessor.preprocess(overwrite=False,core=16)\n",
    "#feature_name = 'voxelfeaturemasked'\n",
    "preprocessor.X_generator.run(overwrite=True)\n",
    "print(f\"elapsed time: {(perf_counter()-s) / 60:.2f} minutes\")"
   ]
  },
  {
   "cell_type": "code",
   "execution_count": 7,
   "metadata": {},
   "outputs": [
    {
     "name": "stdout",
     "output_type": "stream",
     "text": [
      "[  fMRIPrep  ] BIDS Layout: .../ds000005/derivatives/fmriprep | Subjects: 16 | Sessions: 0 | Runs: 48\n",
      "[  MB-MVPA   ] BIDS Layout: ...PA/ds000005/derivatives/mbmvpa | Subjects: 16 | Sessions: 0 | Runs: 48\n"
     ]
    }
   ],
   "source": [
    "preprocessor.summary()"
   ]
  },
  {
   "cell_type": "markdown",
   "metadata": {},
   "source": [
    "### Load data and shape check"
   ]
  },
  {
   "cell_type": "code",
   "execution_count": 2,
   "metadata": {},
   "outputs": [],
   "source": [
    "from mbmvpa.data.loader import BIDSDataLoader"
   ]
  },
  {
   "cell_type": "code",
   "execution_count": 3,
   "metadata": {},
   "outputs": [],
   "source": [
    "root = \"/data2/project_modelbasedMVPA/ds000005\""
   ]
  },
  {
   "cell_type": "code",
   "execution_count": 4,
   "metadata": {},
   "outputs": [
    {
     "name": "stderr",
     "output_type": "stream",
     "text": [
      "/home/cheoljun/.cache/pypoetry/virtualenvs/model-based-fmri-A7ELC43w-py3.7/lib/python3.7/site-packages/bids/layout/models.py:152: FutureWarning: The 'extension' entity currently excludes the leading dot ('.'). As of version 0.14.0, it will include the leading dot. To suppress this warning and include the leading dot, use `bids.config.set_option('extension_initial_dot', True)`.\n",
      "  FutureWarning)\n"
     ]
    },
    {
     "name": "stdout",
     "output_type": "stream",
     "text": [
      "elapsed time: 0.18 minutes\n"
     ]
    }
   ],
   "source": [
    "s = perf_counter()\n",
    "\n",
    "#loader = BIDSDataLoader(layout=root,feature_name=feature_name)\n",
    "loader = BIDSDataLoader(layout=root)\n",
    "X,y = loader.get_data(subject_wise=False)\n",
    "\n",
    "print(f\"elapsed time: {(perf_counter()-s) / 60:.2f} minutes\")"
   ]
  },
  {
   "cell_type": "code",
   "execution_count": 5,
   "metadata": {},
   "outputs": [
    {
     "name": "stdout",
     "output_type": "stream",
     "text": [
      "X (11520, 2236)\n",
      "y (11520, 1)\n"
     ]
    }
   ],
   "source": [
    "print(\"X\", X.shape)\n",
    "print(\"y\", y.shape)"
   ]
  },
  {
   "cell_type": "code",
   "execution_count": 6,
   "metadata": {},
   "outputs": [],
   "source": [
    "voxel_mask = loader.get_voxel_mask()"
   ]
  },
  {
   "cell_type": "markdown",
   "metadata": {},
   "source": [
    "### Fitting MVPA models & Results"
   ]
  },
  {
   "cell_type": "code",
   "execution_count": 7,
   "metadata": {},
   "outputs": [],
   "source": [
    "from mbmvpa.models.mvpa_mlp import MLP"
   ]
  },
  {
   "cell_type": "code",
   "execution_count": 8,
   "metadata": {},
   "outputs": [],
   "source": [
    "MVPA_model = MLP(X=X,\n",
    "                y=y,\n",
    "                save=False,\n",
    "                layer_dims=[1024,1024],\n",
    "                activation='relu',\n",
    "                n_patience=20,\n",
    "                n_repeat=10,\n",
    "                voxel_mask = voxel_mask)\n",
    "\n"
   ]
  },
  {
   "cell_type": "code",
   "execution_count": 11,
   "metadata": {},
   "outputs": [
    {
     "name": "stdout",
     "output_type": "stream",
     "text": [
      "[001] - score: 0.2673 p: 0.0000\n",
      "[002] - score: 0.2260 p: 0.0000\n",
      "[003] - score: 0.2510 p: 0.0000\n",
      "[004] - score: 0.3007 p: 0.0000\n",
      "[005] - score: 0.1951 p: 0.0000\n",
      "[006] - score: 0.2453 p: 0.0000\n",
      "[007] - score: 0.2135 p: 0.0000\n",
      "[008] - score: 0.2164 p: 0.0000\n",
      "[009] - score: 0.2031 p: 0.0000\n",
      "[010] - score: 0.2235 p: 0.0000\n",
      "elapsed time: 12.79 minutes\n"
     ]
    }
   ],
   "source": [
    "s = perf_counter()\n",
    "\n",
    "coeffs = MVPA_model.run()\n",
    "\n",
    "print(f\"elapsed time: {(perf_counter()-s) / 60:.2f} minutes\")"
   ]
  },
  {
   "cell_type": "code",
   "execution_count": 9,
   "metadata": {},
   "outputs": [],
   "source": [
    "#loader = BIDSDataLoader(layout=root)\n",
    "X_dict,y_dict = loader.get_data(subject_wise=True)"
   ]
  },
  {
   "cell_type": "code",
   "execution_count": 10,
   "metadata": {},
   "outputs": [
    {
     "name": "stdout",
     "output_type": "stream",
     "text": [
      "[000] - score: 0.2955 p: 0.0000\n",
      "[001] - score: 0.2670 p: 0.0000\n",
      "[002] - score: 0.2682 p: 0.0000\n",
      "[003] - score: 0.2598 p: 0.0000\n",
      "[004] - score: 0.3059 p: 0.0000\n"
     ]
    },
    {
     "data": {
      "image/png": "[encoded data removed]",
      "text/plain": [
       "<Figure size 432x288 with 1 Axes>"
      ]
     },
     "metadata": {
      "needs_background": "light"
     },
     "output_type": "display_data"
    },
    {
     "data": {
      "image/png": "[encoded data removed]",
      "text/plain": [
       "<Figure size 432x288 with 1 Axes>"
      ]
     },
     "metadata": {
      "needs_background": "light"
     },
     "output_type": "display_data"
    }
   ],
   "source": [
    "metrics_train, metrics_test = MVPA_model.run_crossvalidation(X_dict,\n",
    "                                                     y_dict,\n",
    "                                                     method='5-fold')"
   ]
  },
  {
   "cell_type": "code",
   "execution_count": 11,
   "metadata": {},
   "outputs": [
    {
     "name": "stdout",
     "output_type": "stream",
     "text": [
      "[000] - score: 0.2422 p: 0.0000\n",
      "[001] - score: 0.2574 p: 0.0000\n",
      "[002] - score: 0.2432 p: 0.0000\n",
      "[003] - score: 0.2579 p: 0.0000\n",
      "[004] - score: 0.2379 p: 0.0000\n",
      "[005] - score: 0.3012 p: 0.0000\n",
      "[006] - score: 0.2284 p: 0.0000\n",
      "[007] - score: 0.2298 p: 0.0000\n",
      "[008] - score: 0.2275 p: 0.0000\n",
      "[009] - score: 0.2601 p: 0.0000\n",
      "[010] - score: 0.1973 p: 0.0000\n",
      "[011] - score: 0.2497 p: 0.0000\n",
      "[012] - score: 0.2759 p: 0.0000\n",
      "[013] - score: 0.2806 p: 0.0000\n",
      "[014] - score: 0.2443 p: 0.0000\n",
      "[015] - score: 0.2431 p: 0.0000\n"
     ]
    },
    {
     "data": {
      "image/png": "[encoded data removed]",
      "text/plain": [
       "<Figure size 432x288 with 1 Axes>"
      ]
     },
     "metadata": {
      "needs_background": "light"
     },
     "output_type": "display_data"
    },
    {
     "data": {
      "image/png": "[encoded data removed]",
      "text/plain": [
       "<Figure size 432x288 with 1 Axes>"
      ]
     },
     "metadata": {
      "needs_background": "light"
     },
     "output_type": "display_data"
    }
   ],
   "source": [
    "metrics_train, metrics_test = MVPA_model.run_crossvalidation(X_dict,\n",
    "                                                             y_dict,\n",
    "                                                             method='loso')"
   ]
  },
  {
   "cell_type": "code",
   "execution_count": 16,
   "metadata": {},
   "outputs": [],
   "source": [
    "import matplotlib.pyplot as plt"
   ]
  },
  {
   "cell_type": "code",
   "execution_count": 20,
   "metadata": {},
   "outputs": [
    {
     "data": {
      "image/png": "[encoded data removed]",
      "text/plain": [
       "<Figure size 144x288 with 1 Axes>"
      ]
     },
     "metadata": {
      "needs_background": "light"
     },
     "output_type": "display_data"
    }
   ],
   "source": [
    "plt.figure(figsize=(2,4))\n",
    "plt.boxplot([MVPA_model._scores], labels=['val'], widths=0.6)\n",
    "plt.ylabel('pearsonr')\n",
    "plt.show()"
   ]
  },
  {
   "cell_type": "code",
   "execution_count": 13,
   "metadata": {},
   "outputs": [
    {
     "data": {
      "text/plain": [
       "array([0.267348  , 0.22604434, 0.2510146 , 0.3006729 , 0.19510661,\n",
       "       0.24528714, 0.21351196, 0.21640993, 0.20305595, 0.22349575])"
      ]
     },
     "execution_count": 13,
     "metadata": {},
     "output_type": "execute_result"
    }
   ],
   "source": [
    "MVPA_model._scores"
   ]
  },
  {
   "cell_type": "code",
   "execution_count": null,
   "metadata": {},
   "outputs": [
    {
     "name": "stdout",
     "output_type": "stream",
     "text": [
      "[001] - score: 0.1284 p: 0.0000\n",
      "[002] - score: 0.0825 p: 0.0002\n",
      "[003] - score: 0.0648 p: 0.0038\n",
      "[004] - score: 0.0831 p: 0.0002\n",
      "[005] - score: 0.0973 p: 0.0000\n",
      "[006] - score: 0.0618 p: 0.0057\n",
      "[007] - score: 0.1088 p: 0.0000\n",
      "[008] - score: 0.0875 p: 0.0001\n",
      "[009] - score: 0.0322 p: 0.1498\n"
     ]
    }
   ],
   "source": [
    "MVPA_model = MLP(X=X,\n",
    "                y=y,\n",
    "                layer_dims=[1024,1024],\n",
    "                dropout_rate=0.5,\n",
    "                activation='relu',\n",
    "                n_patience=15,\n",
    "                n_repeat=10,\n",
    "                voxel_mask = voxel_mask)\n",
    "\n",
    "coeffs = MVPA_model.run()\n"
   ]
  },
  {
   "cell_type": "code",
   "execution_count": null,
   "metadata": {},
   "outputs": [],
   "source": []
  },
  {
   "cell_type": "code",
   "execution_count": 20,
   "metadata": {},
   "outputs": [
    {
     "data": {
      "text/plain": [
       "(3, 240, 119)"
      ]
     },
     "execution_count": 20,
     "metadata": {},
     "output_type": "execute_result"
    }
   ],
   "source": [
    "loader.X['01'].shape"
   ]
  },
  {
   "cell_type": "code",
   "execution_count": 39,
   "metadata": {
    "collapsed": true,
    "jupyter": {
     "outputs_hidden": true
    }
   },
   "outputs": [
    {
     "data": {
      "text/plain": [
       "array([[[-4.32794235e-01],\n",
       "        [-3.89169994e-01],\n",
       "        [-3.00324509e-01],\n",
       "        [-2.28450031e-01],\n",
       "        [-1.77000037e-01],\n",
       "        [-3.00687854e-01],\n",
       "        [-5.68269364e-01],\n",
       "        [-6.84215141e-01],\n",
       "        [-6.15771625e-01],\n",
       "        [-4.97551177e-01],\n",
       "        [-2.77357446e-01],\n",
       "        [ 3.98899884e-02],\n",
       "        [ 8.49647919e-02],\n",
       "        [ 3.30830936e-02],\n",
       "        [ 1.56096039e-01],\n",
       "        [ 2.04289661e-01],\n",
       "        [ 1.60034527e-01],\n",
       "        [-5.45465648e-02],\n",
       "        [-3.43113959e-01],\n",
       "        [-5.24413467e-01],\n",
       "        [-4.56810465e-01],\n",
       "        [-1.84086829e-01],\n",
       "        [ 4.79595553e-02],\n",
       "        [ 2.19509513e-01],\n",
       "        [ 2.73854517e-01],\n",
       "        [ 3.08613512e-01],\n",
       "        [ 1.21010373e-01],\n",
       "        [ 3.19815963e-02],\n",
       "        [ 3.06189159e-01],\n",
       "        [ 3.47393857e-01],\n",
       "        [ 9.41800572e-02],\n",
       "        [-2.36720648e-01],\n",
       "        [-3.42086153e-01],\n",
       "        [-1.45484064e-01],\n",
       "        [-1.00827883e-01],\n",
       "        [-2.79198534e-01],\n",
       "        [-4.61477344e-01],\n",
       "        [-5.47357338e-01],\n",
       "        [-5.92294674e-01],\n",
       "        [-6.41355243e-01],\n",
       "        [-5.47938965e-01],\n",
       "        [-3.25752359e-01],\n",
       "        [-3.04906459e-01],\n",
       "        [-5.13120147e-01],\n",
       "        [-5.43686167e-01],\n",
       "        [-3.04482668e-01],\n",
       "        [ 1.67822320e-01],\n",
       "        [ 8.08922237e-01],\n",
       "        [ 9.40339203e-01],\n",
       "        [ 6.44595475e-01],\n",
       "        [ 1.57801243e-01],\n",
       "        [-2.58436746e-01],\n",
       "        [-2.63485083e-01],\n",
       "        [ 1.36189177e-01],\n",
       "        [ 2.96699375e-01],\n",
       "        [ 1.54470854e-01],\n",
       "        [-1.47512451e-01],\n",
       "        [-4.35255372e-01],\n",
       "        [-5.74408639e-01],\n",
       "        [-4.18787942e-01],\n",
       "        [-3.03243819e-02],\n",
       "        [ 7.47456641e-02],\n",
       "        [-1.29280847e-01],\n",
       "        [-3.54674604e-01],\n",
       "        [-1.78553299e-01],\n",
       "        [ 4.24207325e-01],\n",
       "        [ 8.32276424e-01],\n",
       "        [ 1.00000000e+00],\n",
       "        [ 5.75705404e-01],\n",
       "        [-2.08567947e-01],\n",
       "        [-7.09554236e-01],\n",
       "        [-6.15158935e-01],\n",
       "        [-1.19045169e-01],\n",
       "        [ 6.29989872e-02],\n",
       "        [-1.41727627e-01],\n",
       "        [-3.40039419e-01],\n",
       "        [-3.58898814e-01],\n",
       "        [-3.65369876e-01],\n",
       "        [-4.24317121e-01],\n",
       "        [-5.21167266e-01],\n",
       "        [-6.22337794e-01],\n",
       "        [-4.89250832e-01],\n",
       "        [-1.32817859e-01],\n",
       "        [ 2.09459065e-02],\n",
       "        [-6.84753681e-02],\n",
       "        [-2.44116063e-01],\n",
       "        [-1.81028867e-01],\n",
       "        [ 1.88951916e-01],\n",
       "        [ 3.35470532e-01],\n",
       "        [ 2.19759272e-01],\n",
       "        [-5.60100044e-02],\n",
       "        [-3.19791652e-01],\n",
       "        [-2.78986375e-01],\n",
       "        [ 7.26902128e-02],\n",
       "        [ 1.33273905e-01],\n",
       "        [-1.44149413e-01],\n",
       "        [-4.19353696e-01],\n",
       "        [-4.04894444e-01],\n",
       "        [-1.20451579e-01],\n",
       "        [-4.25093158e-02],\n",
       "        [-2.23179896e-01],\n",
       "        [-4.14401574e-01],\n",
       "        [-3.75703792e-01],\n",
       "        [-1.15451393e-01],\n",
       "        [-4.43899332e-02],\n",
       "        [-3.50142966e-02],\n",
       "        [ 1.50516581e-01],\n",
       "        [ 3.02484036e-01],\n",
       "        [ 4.09685003e-01],\n",
       "        [ 2.05611922e-01],\n",
       "        [-1.94736882e-01],\n",
       "        [-3.05838785e-01],\n",
       "        [-2.23064662e-02],\n",
       "        [ 2.67078828e-01],\n",
       "        [ 4.79076771e-01],\n",
       "        [ 2.93818084e-01],\n",
       "        [-1.57250158e-01],\n",
       "        [-5.00513218e-01],\n",
       "        [-5.17363537e-01],\n",
       "        [-2.61491567e-01],\n",
       "        [ 5.69226599e-02],\n",
       "        [ 3.84355301e-01],\n",
       "        [ 3.01276590e-01],\n",
       "        [-9.75153391e-02],\n",
       "        [-3.24591520e-01],\n",
       "        [-2.33832110e-01],\n",
       "        [-1.03320031e-01],\n",
       "        [-2.11635996e-02],\n",
       "        [-1.15758363e-01],\n",
       "        [-1.96191179e-01],\n",
       "        [-8.40648483e-02],\n",
       "        [ 1.34860847e-02],\n",
       "        [ 6.00839088e-02],\n",
       "        [-6.60173522e-02],\n",
       "        [-8.82811450e-02],\n",
       "        [ 1.78693166e-01],\n",
       "        [ 1.88949472e-01],\n",
       "        [ 1.22381089e-01],\n",
       "        [ 3.19474068e-01],\n",
       "        [ 2.44686286e-01],\n",
       "        [-1.30026036e-01],\n",
       "        [-2.72718454e-01],\n",
       "        [-3.41896283e-02],\n",
       "        [ 4.09714712e-02],\n",
       "        [-1.38427032e-01],\n",
       "        [-3.68035742e-01],\n",
       "        [-5.18356886e-01],\n",
       "        [-5.63988203e-01],\n",
       "        [-5.38364077e-01],\n",
       "        [-3.70095091e-01],\n",
       "        [-8.08082019e-02],\n",
       "        [-2.69225303e-02],\n",
       "        [-2.09340751e-01],\n",
       "        [-4.01328932e-01],\n",
       "        [-4.99576917e-01],\n",
       "        [-5.01184956e-01],\n",
       "        [-1.82664736e-01],\n",
       "        [ 4.31233704e-01],\n",
       "        [ 5.38139719e-01],\n",
       "        [ 3.45467090e-01],\n",
       "        [ 3.84342935e-01],\n",
       "        [ 4.45948522e-01],\n",
       "        [ 5.04786564e-01],\n",
       "        [ 3.50773745e-01],\n",
       "        [ 9.23251851e-02],\n",
       "        [-1.99197147e-01],\n",
       "        [-1.29696254e-01],\n",
       "        [ 4.11007936e-01],\n",
       "        [ 4.97928758e-01],\n",
       "        [ 1.84815411e-01],\n",
       "        [ 7.70046991e-03],\n",
       "        [-1.77786484e-01],\n",
       "        [-4.33898805e-01],\n",
       "        [-6.30924595e-01],\n",
       "        [-7.08869227e-01],\n",
       "        [-7.06843464e-01],\n",
       "        [-5.17520021e-01],\n",
       "        [-1.81480111e-01],\n",
       "        [-7.26699863e-02],\n",
       "        [-2.09299460e-01],\n",
       "        [-3.63280452e-01],\n",
       "        [-1.57183632e-01],\n",
       "        [ 4.28091257e-01],\n",
       "        [ 7.80581047e-01],\n",
       "        [ 8.73930819e-01],\n",
       "        [ 5.64242686e-01],\n",
       "        [ 7.74775815e-02],\n",
       "        [-3.34329085e-01],\n",
       "        [-4.72308659e-01],\n",
       "        [-3.23270645e-01],\n",
       "        [-2.22209484e-01],\n",
       "        [-2.44363901e-01],\n",
       "        [-3.37683557e-01],\n",
       "        [-4.31868144e-01],\n",
       "        [-5.52674321e-01],\n",
       "        [-7.03903386e-01],\n",
       "        [-7.14096424e-01],\n",
       "        [-5.96321503e-01],\n",
       "        [-4.77394103e-01],\n",
       "        [-4.11733414e-01],\n",
       "        [-3.55213556e-01],\n",
       "        [-2.83280309e-01],\n",
       "        [-3.14936889e-01],\n",
       "        [-4.44592835e-01],\n",
       "        [-5.14959197e-01],\n",
       "        [-4.16854633e-01],\n",
       "        [-1.91573723e-01],\n",
       "        [ 1.37542551e-01],\n",
       "        [ 5.75373023e-01],\n",
       "        [ 6.53599591e-01],\n",
       "        [ 4.56271487e-01],\n",
       "        [ 3.22947089e-01],\n",
       "        [ 4.41924560e-01],\n",
       "        [ 2.72514958e-01],\n",
       "        [-1.87340684e-01],\n",
       "        [-4.64908642e-01],\n",
       "        [-4.24541982e-01],\n",
       "        [-3.75734538e-01],\n",
       "        [-4.23803676e-01],\n",
       "        [-4.39267175e-01],\n",
       "        [-3.72419608e-01],\n",
       "        [-3.86181999e-01],\n",
       "        [-4.95772256e-01],\n",
       "        [-3.98904897e-01],\n",
       "        [-5.05435978e-02],\n",
       "        [ 2.05237247e-01],\n",
       "        [ 3.27149564e-01],\n",
       "        [ 1.46048007e-01],\n",
       "        [-2.12285853e-01],\n",
       "        [-4.81817671e-01],\n",
       "        [-6.16137326e-01],\n",
       "        [-6.60431550e-01],\n",
       "        [-4.12218179e-01],\n",
       "        [ 1.03059514e-01],\n",
       "        [ 4.10671945e-01],\n",
       "        [ 4.91405907e-01],\n",
       "        [ 3.09356148e-01],\n",
       "        [ 4.44204283e-02],\n",
       "        [-1.45696661e-01],\n",
       "        [-1.92246894e-01]],\n",
       "\n",
       "       [[-4.24852061e-01],\n",
       "        [-2.27367467e-01],\n",
       "        [ 1.62642320e-01],\n",
       "        [ 2.51856867e-01],\n",
       "        [ 3.35575241e-02],\n",
       "        [-3.38553474e-01],\n",
       "        [-7.07420615e-01],\n",
       "        [-6.60222882e-01],\n",
       "        [-2.27721877e-01],\n",
       "        [ 2.70896137e-02],\n",
       "        [ 5.19969124e-03],\n",
       "        [-1.80058873e-01],\n",
       "        [-3.81256236e-01],\n",
       "        [-4.92638686e-01],\n",
       "        [-4.98299669e-01],\n",
       "        [-1.81689611e-01],\n",
       "        [ 4.33086310e-01],\n",
       "        [ 6.35964229e-01],\n",
       "        [ 4.33095172e-01],\n",
       "        [ 1.94739612e-01],\n",
       "        [ 1.61941204e-01],\n",
       "        [ 1.85836689e-01],\n",
       "        [ 2.63009260e-01],\n",
       "        [ 3.32921023e-01],\n",
       "        [ 4.66499146e-01],\n",
       "        [ 2.82357663e-01],\n",
       "        [-1.46073818e-01],\n",
       "        [-4.93038697e-01],\n",
       "        [-6.41588314e-01],\n",
       "        [-5.84263835e-01],\n",
       "        [-4.03123232e-01],\n",
       "        [-2.56952462e-01],\n",
       "        [-1.62675589e-01],\n",
       "        [-1.14201650e-01],\n",
       "        [-5.85994278e-02],\n",
       "        [-1.39769551e-01],\n",
       "        [-3.25191221e-01],\n",
       "        [-4.88770269e-01],\n",
       "        [-5.85512450e-01],\n",
       "        [-5.94283133e-01],\n",
       "        [-5.53340216e-01],\n",
       "        [-4.99110603e-01],\n",
       "        [-4.47806409e-01],\n",
       "        [-2.92196444e-01],\n",
       "        [-2.50456318e-02],\n",
       "        [ 2.63575268e-02],\n",
       "        [-1.33739475e-01],\n",
       "        [-3.23434033e-01],\n",
       "        [-3.20327979e-01],\n",
       "        [-9.59949139e-02],\n",
       "        [ 7.68883514e-02],\n",
       "        [ 1.72712293e-01],\n",
       "        [ 2.03782422e-01],\n",
       "        [ 2.76953072e-01],\n",
       "        [ 2.66863535e-01],\n",
       "        [ 2.45839201e-01],\n",
       "        [ 2.92869478e-01],\n",
       "        [ 4.89909343e-01],\n",
       "        [ 3.32171714e-01],\n",
       "        [-1.36160990e-01],\n",
       "        [-5.08658361e-01],\n",
       "        [-5.25022362e-01],\n",
       "        [-2.48474916e-01],\n",
       "        [-1.44073480e-01],\n",
       "        [-2.77437975e-01],\n",
       "        [-4.37506718e-01],\n",
       "        [-5.21193656e-01],\n",
       "        [-5.89934426e-01],\n",
       "        [-6.86368250e-01],\n",
       "        [-6.95337408e-01],\n",
       "        [-6.27451017e-01],\n",
       "        [-5.30053503e-01],\n",
       "        [-4.46616898e-01],\n",
       "        [-4.00053117e-01],\n",
       "        [-3.11741224e-01],\n",
       "        [-1.54408241e-01],\n",
       "        [-3.72075183e-04],\n",
       "        [ 1.66429281e-01],\n",
       "        [ 2.50727923e-01],\n",
       "        [ 3.13990407e-01],\n",
       "        [ 1.26841212e-01],\n",
       "        [-2.23920042e-01],\n",
       "        [-3.50167247e-01],\n",
       "        [-1.77331954e-01],\n",
       "        [-2.09955081e-01],\n",
       "        [-5.24896492e-01],\n",
       "        [-7.11411315e-01],\n",
       "        [-6.72447839e-01],\n",
       "        [-5.49949598e-01],\n",
       "        [-3.36393509e-01],\n",
       "        [-4.61106601e-02],\n",
       "        [ 9.25567928e-02],\n",
       "        [ 9.37628283e-02],\n",
       "        [-1.73992434e-01],\n",
       "        [-6.16071579e-01],\n",
       "        [-8.09269453e-01],\n",
       "        [-7.19216017e-01],\n",
       "        [-5.57332896e-01],\n",
       "        [-4.29860332e-01],\n",
       "        [-3.51020733e-01],\n",
       "        [-3.30377677e-01],\n",
       "        [-1.13346624e-01],\n",
       "        [ 3.62433216e-01],\n",
       "        [ 6.37341465e-01],\n",
       "        [ 7.22835715e-01],\n",
       "        [ 6.81782002e-01],\n",
       "        [ 7.20508450e-01],\n",
       "        [ 7.00591007e-01],\n",
       "        [ 7.15748789e-01],\n",
       "        [ 4.68696636e-01],\n",
       "        [ 8.01298497e-02],\n",
       "        [-9.59619179e-02],\n",
       "        [ 5.01567463e-02],\n",
       "        [ 1.57326722e-02],\n",
       "        [-1.04251148e-01],\n",
       "        [-2.28920212e-02],\n",
       "        [-7.69528135e-02],\n",
       "        [-3.09635689e-01],\n",
       "        [-5.01929242e-01],\n",
       "        [-5.02341739e-01],\n",
       "        [-3.41424189e-01],\n",
       "        [-2.78715063e-01],\n",
       "        [-3.44542501e-01],\n",
       "        [-3.06569772e-01],\n",
       "        [-1.01892326e-01],\n",
       "        [-7.41871908e-02],\n",
       "        [-2.67277993e-01],\n",
       "        [-4.82590328e-01],\n",
       "        [-5.74023525e-01],\n",
       "        [-5.44746957e-01],\n",
       "        [-2.97417092e-01],\n",
       "        [ 1.22061181e-01],\n",
       "        [ 9.67336390e-02],\n",
       "        [-3.73357748e-01],\n",
       "        [-6.90835677e-01],\n",
       "        [-6.99429821e-01],\n",
       "        [-5.82045985e-01],\n",
       "        [-4.73640506e-01],\n",
       "        [-3.15555107e-01],\n",
       "        [-9.11021169e-02],\n",
       "        [-6.73001768e-02],\n",
       "        [-2.16259739e-01],\n",
       "        [-4.96867994e-02],\n",
       "        [ 5.33620046e-01],\n",
       "        [ 8.01770835e-01],\n",
       "        [ 7.13735231e-01],\n",
       "        [ 2.80495819e-01],\n",
       "        [-2.55619369e-01],\n",
       "        [-5.85048391e-01],\n",
       "        [-6.61482990e-01],\n",
       "        [-4.93586787e-01],\n",
       "        [-1.77974147e-01],\n",
       "        [-8.58882560e-02],\n",
       "        [-1.09852944e-01],\n",
       "        [-2.57597804e-02],\n",
       "        [-7.97183624e-02],\n",
       "        [-2.84508056e-01],\n",
       "        [-4.59113299e-01],\n",
       "        [-5.28236571e-01],\n",
       "        [-4.24052164e-01],\n",
       "        [-1.89433863e-01],\n",
       "        [-1.30741452e-01],\n",
       "        [-2.21243093e-01],\n",
       "        [-2.75262288e-01],\n",
       "        [-2.19099321e-01],\n",
       "        [-5.59584026e-02],\n",
       "        [-1.22126910e-02],\n",
       "        [-6.60223545e-02],\n",
       "        [ 6.10780323e-02],\n",
       "        [ 4.51494025e-01],\n",
       "        [ 4.26091024e-01],\n",
       "        [-1.25893582e-02],\n",
       "        [-3.21361038e-01],\n",
       "        [-3.10081872e-01],\n",
       "        [-2.90131438e-01],\n",
       "        [-1.88492792e-01],\n",
       "        [ 1.07136207e-01],\n",
       "        [ 1.21255603e-01],\n",
       "        [-1.62136197e-01],\n",
       "        [-4.28110802e-01],\n",
       "        [-4.41765828e-01],\n",
       "        [-2.27676497e-01],\n",
       "        [-1.56711008e-01],\n",
       "        [-2.25968202e-01],\n",
       "        [-2.47088704e-01],\n",
       "        [-1.39550558e-01],\n",
       "        [ 9.61925109e-02],\n",
       "        [ 1.54148914e-01],\n",
       "        [ 5.08343829e-02],\n",
       "        [-1.64714694e-01],\n",
       "        [-3.09825857e-01],\n",
       "        [-2.70474508e-01],\n",
       "        [-2.63797632e-01],\n",
       "        [-1.14865565e-01],\n",
       "        [ 2.88986260e-01],\n",
       "        [ 3.27505544e-01],\n",
       "        [ 1.69815453e-01],\n",
       "        [ 2.26178735e-01],\n",
       "        [ 1.15336035e-01],\n",
       "        [-5.55112072e-02],\n",
       "        [-2.20531805e-03],\n",
       "        [ 3.82913889e-02],\n",
       "        [ 1.41749998e-02],\n",
       "        [-2.57537458e-01],\n",
       "        [-6.89326537e-01],\n",
       "        [-5.89246505e-01],\n",
       "        [ 9.57613633e-02],\n",
       "        [ 6.12731865e-01],\n",
       "        [ 8.30460266e-01],\n",
       "        [ 5.20686249e-01],\n",
       "        [-7.54017127e-02],\n",
       "        [-5.05538457e-01],\n",
       "        [-4.82653971e-01],\n",
       "        [-8.98263921e-02],\n",
       "        [ 1.41980187e-01],\n",
       "        [ 1.42916115e-01],\n",
       "        [-5.87483007e-02],\n",
       "        [-1.06858023e-01],\n",
       "        [ 1.82874380e-01],\n",
       "        [ 3.09867284e-01],\n",
       "        [ 2.17409361e-01],\n",
       "        [-3.38504168e-02],\n",
       "        [-2.90342067e-01],\n",
       "        [-4.14585607e-01],\n",
       "        [-3.92668091e-01],\n",
       "        [-3.61646380e-01],\n",
       "        [-3.44450705e-01],\n",
       "        [-8.99924725e-02],\n",
       "        [ 4.35216067e-01],\n",
       "        [ 4.81628279e-01],\n",
       "        [ 4.87618524e-02],\n",
       "        [-3.13686943e-01],\n",
       "        [-3.89794411e-01],\n",
       "        [-4.01718394e-01],\n",
       "        [-4.43316033e-01],\n",
       "        [-2.93238201e-01],\n",
       "        [ 8.03988738e-02],\n",
       "        [ 1.48080554e-01],\n",
       "        [-5.19138308e-02],\n",
       "        [-1.94732595e-01]],\n",
       "\n",
       "       [[-4.30308706e-01],\n",
       "        [-3.38533364e-01],\n",
       "        [-1.53425550e-01],\n",
       "        [-3.71430222e-02],\n",
       "        [ 1.46146284e-02],\n",
       "        [-1.92598595e-02],\n",
       "        [-6.86768409e-02],\n",
       "        [-1.98597789e-01],\n",
       "        [-3.22721094e-01],\n",
       "        [-3.27202367e-01],\n",
       "        [-2.01159682e-01],\n",
       "        [ 2.52156675e-02],\n",
       "        [ 2.25334651e-02],\n",
       "        [-1.89380523e-01],\n",
       "        [-3.88643437e-01],\n",
       "        [-2.64091988e-01],\n",
       "        [ 1.94938816e-01],\n",
       "        [ 5.17093160e-01],\n",
       "        [ 6.65720721e-01],\n",
       "        [ 3.89371025e-01],\n",
       "        [-1.26443080e-01],\n",
       "        [-3.44560155e-01],\n",
       "        [-1.58109633e-01],\n",
       "        [-1.08191070e-01],\n",
       "        [-3.02260158e-01],\n",
       "        [-4.81759363e-01],\n",
       "        [-3.43766905e-01],\n",
       "        [ 8.73027317e-02],\n",
       "        [ 1.89672225e-01],\n",
       "        [ 5.11402686e-02],\n",
       "        [ 2.88382844e-02],\n",
       "        [-7.55311010e-02],\n",
       "        [-6.79940089e-02],\n",
       "        [ 2.25265679e-01],\n",
       "        [ 2.26281684e-01],\n",
       "        [ 1.09681037e-02],\n",
       "        [-5.96845785e-02],\n",
       "        [-1.75982164e-01],\n",
       "        [-3.67168417e-01],\n",
       "        [-3.55110774e-01],\n",
       "        [-8.46403455e-02],\n",
       "        [ 1.49486233e-01],\n",
       "        [ 3.03827391e-01],\n",
       "        [ 1.45948540e-01],\n",
       "        [-2.14507710e-01],\n",
       "        [-4.86839777e-01],\n",
       "        [-5.17125323e-01],\n",
       "        [-3.58642473e-01],\n",
       "        [-2.90014422e-01],\n",
       "        [-3.52601830e-01],\n",
       "        [-3.62777206e-01],\n",
       "        [-2.59250864e-01],\n",
       "        [-2.53512076e-01],\n",
       "        [-3.71130561e-01],\n",
       "        [-5.11966682e-01],\n",
       "        [-6.18181209e-01],\n",
       "        [-4.71722043e-01],\n",
       "        [-1.00653664e-01],\n",
       "        [ 1.14552716e-02],\n",
       "        [-2.53345246e-01],\n",
       "        [-6.30398498e-01],\n",
       "        [-5.75194160e-01],\n",
       "        [-8.62019774e-02],\n",
       "        [ 1.24858963e-01],\n",
       "        [ 1.25398200e-01],\n",
       "        [ 2.48205318e-01],\n",
       "        [ 1.68252057e-01],\n",
       "        [-1.14008983e-01],\n",
       "        [-3.83501062e-01],\n",
       "        [-5.36619719e-01],\n",
       "        [-5.74258388e-01],\n",
       "        [-5.40506301e-01],\n",
       "        [-3.41968867e-01],\n",
       "        [ 1.18748035e-02],\n",
       "        [ 2.83225618e-01],\n",
       "        [ 4.76198246e-01],\n",
       "        [ 3.04455084e-01],\n",
       "        [ 1.69263443e-02],\n",
       "        [-3.58320706e-02],\n",
       "        [-9.25054643e-02],\n",
       "        [-2.03321402e-01],\n",
       "        [-9.87973238e-02],\n",
       "        [ 2.92256120e-01],\n",
       "        [ 4.86577876e-01],\n",
       "        [ 4.77613843e-01],\n",
       "        [ 3.36041067e-01],\n",
       "        [ 2.34737173e-01],\n",
       "        [-5.43069148e-03],\n",
       "        [-2.70517011e-01],\n",
       "        [-3.36344529e-01],\n",
       "        [-1.37981728e-01],\n",
       "        [ 2.65109142e-01],\n",
       "        [ 2.75182825e-01],\n",
       "        [-9.08389325e-02],\n",
       "        [-3.90088346e-01],\n",
       "        [-4.59096302e-01],\n",
       "        [-5.22833782e-01],\n",
       "        [-6.70563632e-01],\n",
       "        [-7.05100847e-01],\n",
       "        [-6.08841813e-01],\n",
       "        [-4.92427981e-01],\n",
       "        [-4.18295579e-01],\n",
       "        [-4.43849369e-01],\n",
       "        [-5.46821369e-01],\n",
       "        [-5.24627168e-01],\n",
       "        [-3.63205526e-01],\n",
       "        [-2.84642635e-01],\n",
       "        [-3.81309850e-01],\n",
       "        [-5.64332348e-01],\n",
       "        [-6.16635187e-01],\n",
       "        [-3.82502382e-01],\n",
       "        [ 3.08582953e-02],\n",
       "        [ 1.23153030e-01],\n",
       "        [-9.79905765e-02],\n",
       "        [-1.40046590e-01],\n",
       "        [ 1.54596688e-01],\n",
       "        [ 3.95156066e-01],\n",
       "        [ 5.25044443e-01],\n",
       "        [ 2.78576141e-01],\n",
       "        [-2.02123231e-01],\n",
       "        [-5.31082345e-01],\n",
       "        [-3.31356478e-01],\n",
       "        [ 3.14987379e-01],\n",
       "        [ 4.65701564e-01],\n",
       "        [ 6.08361309e-02],\n",
       "        [-3.82271550e-01],\n",
       "        [-7.22137541e-01],\n",
       "        [-9.88771269e-01],\n",
       "        [-1.00000000e+00],\n",
       "        [-8.17069381e-01],\n",
       "        [-3.78565755e-01],\n",
       "        [ 2.38804428e-01],\n",
       "        [ 5.44310121e-01],\n",
       "        [ 5.65735051e-01],\n",
       "        [ 3.92448916e-01],\n",
       "        [ 2.22385717e-01],\n",
       "        [-4.66513097e-02],\n",
       "        [-3.58159244e-01],\n",
       "        [-4.58399205e-01],\n",
       "        [-3.19075772e-01],\n",
       "        [-2.63272153e-01],\n",
       "        [-3.61178533e-01],\n",
       "        [-5.91619806e-01],\n",
       "        [-8.75872105e-01],\n",
       "        [-6.34068589e-01],\n",
       "        [ 1.15111266e-01],\n",
       "        [ 4.02517550e-01],\n",
       "        [ 1.88818127e-01],\n",
       "        [-4.21702176e-02],\n",
       "        [-2.58573399e-01],\n",
       "        [-4.55461888e-01],\n",
       "        [-4.94513742e-01],\n",
       "        [-3.61840558e-01],\n",
       "        [ 1.91233479e-02],\n",
       "        [ 6.25624295e-01],\n",
       "        [ 8.56057365e-01],\n",
       "        [ 7.54577866e-01],\n",
       "        [ 3.11269922e-01],\n",
       "        [-2.39597966e-01],\n",
       "        [-5.16552063e-01],\n",
       "        [-4.72834251e-01],\n",
       "        [-4.14026835e-01],\n",
       "        [-4.45262851e-01],\n",
       "        [-4.91492707e-01],\n",
       "        [-5.05769054e-01],\n",
       "        [-4.82356071e-01],\n",
       "        [-2.98104965e-01],\n",
       "        [ 3.84672833e-02],\n",
       "        [ 8.90012275e-02],\n",
       "        [-1.38493193e-01],\n",
       "        [-1.94693842e-01],\n",
       "        [ 5.16253014e-02],\n",
       "        [ 7.86157656e-02],\n",
       "        [-1.66939958e-01],\n",
       "        [-2.70597396e-01],\n",
       "        [-9.94646954e-02],\n",
       "        [-7.41860807e-02],\n",
       "        [-2.59960311e-01],\n",
       "        [-4.32122993e-01],\n",
       "        [-2.52518456e-01],\n",
       "        [ 2.69417264e-01],\n",
       "        [ 3.65100184e-01],\n",
       "        [-5.40053853e-02],\n",
       "        [-5.43629571e-01],\n",
       "        [-7.46709146e-01],\n",
       "        [-5.97456714e-01],\n",
       "        [-2.67286764e-01],\n",
       "        [ 1.25194395e-02],\n",
       "        [ 2.35228056e-01],\n",
       "        [ 3.49637908e-01],\n",
       "        [ 4.54473540e-01],\n",
       "        [ 2.73958172e-01],\n",
       "        [-1.04625020e-01],\n",
       "        [-4.23131212e-01],\n",
       "        [-5.83854560e-01],\n",
       "        [-6.09919776e-01],\n",
       "        [-5.69922736e-01],\n",
       "        [-5.16434072e-01],\n",
       "        [-4.42369068e-01],\n",
       "        [-3.38901621e-01],\n",
       "        [-9.34943613e-02],\n",
       "        [ 3.03938555e-01],\n",
       "        [ 3.18312247e-01],\n",
       "        [ 9.08855381e-02],\n",
       "        [ 1.32443516e-02],\n",
       "        [-7.29898356e-03],\n",
       "        [-4.90719933e-03],\n",
       "        [-1.56980249e-01],\n",
       "        [-4.20996486e-01],\n",
       "        [-5.75196200e-01],\n",
       "        [-4.35612783e-01],\n",
       "        [-7.25679703e-02],\n",
       "        [ 2.34077332e-02],\n",
       "        [-1.76179201e-01],\n",
       "        [-3.82598535e-01],\n",
       "        [-1.78489286e-01],\n",
       "        [ 4.34015331e-01],\n",
       "        [ 5.44278700e-01],\n",
       "        [ 1.50766957e-01],\n",
       "        [-2.10027914e-01],\n",
       "        [-4.01619857e-01],\n",
       "        [-4.46279835e-01],\n",
       "        [-2.81992417e-01],\n",
       "        [ 6.19429399e-02],\n",
       "        [ 1.95749708e-01],\n",
       "        [ 1.26371154e-01],\n",
       "        [ 1.44635745e-03],\n",
       "        [-3.44176972e-02],\n",
       "        [ 7.89292916e-02],\n",
       "        [ 3.55001834e-01],\n",
       "        [ 2.77841635e-01],\n",
       "        [-1.23747617e-01],\n",
       "        [-4.71371577e-01],\n",
       "        [-6.11970082e-01],\n",
       "        [-4.35459871e-01],\n",
       "        [-2.66052119e-02],\n",
       "        [ 7.79197340e-02],\n",
       "        [-1.27823694e-01],\n",
       "        [-3.34539185e-01],\n",
       "        [-4.20870453e-01]]])"
      ]
     },
     "execution_count": 39,
     "metadata": {},
     "output_type": "execute_result"
    }
   ],
   "source": [
    "loader.y['01']"
   ]
  },
  {
   "cell_type": "code",
   "execution_count": null,
   "metadata": {},
   "outputs": [],
   "source": []
  },
  {
   "cell_type": "code",
   "execution_count": 28,
   "metadata": {},
   "outputs": [
    {
     "name": "stdout",
     "output_type": "stream",
     "text": [
      "[001] - score: 0.2204 p: 0.0080\n",
      "[002] - score: 0.2488 p: 0.0026\n",
      "[003] - score: 0.1554 p: 0.0629\n",
      "[004] - score: 0.1400 p: 0.0942\n",
      "[005] - score: 0.1212 p: 0.1479\n",
      "[006] - score: 0.1497 p: 0.0734\n",
      "[007] - score: 0.2114 p: 0.0110\n",
      "[008] - score: 0.2333 p: 0.0049\n",
      "[009] - score: 0.1827 p: 0.0284\n",
      "[010] - score: 0.2459 p: 0.0030\n"
     ]
    }
   ],
   "source": [
    "MVPA_model = MLP(X=loader.X['01'].reshape(-1,119),\n",
    "                y=loader.y['01'].reshape(-1,),\n",
    "                layer_dims=[1024,1024],\n",
    "                dropout_rate=0.5,\n",
    "                activation='relu',\n",
    "                n_patience=30,\n",
    "                learning_rate=0.001,\n",
    "                n_repeat=10,\n",
    "                voxel_mask = voxel_mask)\n",
    "\n",
    "coeffs = MVPA_model.run()\n"
   ]
  },
  {
   "cell_type": "code",
   "execution_count": 31,
   "metadata": {},
   "outputs": [],
   "source": [
    "import matplotlib.pyplot as plt"
   ]
  },
  {
   "cell_type": "code",
   "execution_count": 35,
   "metadata": {},
   "outputs": [
    {
     "data": {
      "text/plain": [
       "[<matplotlib.lines.Line2D at 0x7f77ea2d3f10>]"
      ]
     },
     "execution_count": 35,
     "metadata": {},
     "output_type": "execute_result"
    },
    {
     "data": {
      "image/png": "[encoded data removed]",
      "text/plain": [
       "<Figure size 432x288 with 1 Axes>"
      ]
     },
     "metadata": {
      "needs_background": "light"
     },
     "output_type": "display_data"
    }
   ],
   "source": [
    "plt.plot(loader.y['01'][:80].reshape(-1,))"
   ]
  },
  {
   "cell_type": "code",
   "execution_count": null,
   "metadata": {},
   "outputs": [],
   "source": [
    "MVPA_model = MLP(X=X,\n",
    "                y=y,\n",
    "                layer_dims=[256,256],\n",
    "                activation='relu',\n",
    "                n_patience=10,\n",
    "                n_repeat=10,\n",
    "                voxel_mask = voxel_mask)\n",
    "\n",
    "coeffs = MVPA_model.run()\n"
   ]
  },
  {
   "cell_type": "code",
   "execution_count": null,
   "metadata": {},
   "outputs": [],
   "source": [
    "MVPA_model = MLP(X=X,\n",
    "                y=y,\n",
    "                layer_dims=[256],\n",
    "                activation='relu',\n",
    "                n_patience=10,\n",
    "                n_repeat=10,\n",
    "                voxel_mask = voxel_mask)\n",
    "\n",
    "coeffs = MVPA_model.run()\n"
   ]
  },
  {
   "cell_type": "code",
   "execution_count": null,
   "metadata": {},
   "outputs": [],
   "source": [
    "MVPA_model = MLP(X=X,\n",
    "                y=y,\n",
    "                layer_dims=[256,128,64,32],\n",
    "                dropout_rate=0.1,\n",
    "                activation='relu',\n",
    "                n_patience=10,\n",
    "                n_repeat=10,\n",
    "                voxel_mask = voxel_mask)\n",
    "\n",
    "coeffs = MVPA_model.run()\n"
   ]
  },
  {
   "cell_type": "code",
   "execution_count": null,
   "metadata": {},
   "outputs": [],
   "source": [
    "MVPA_model = MLP(X=X,\n",
    "                y=y,\n",
    "                layer_dims=[1024,1024],\n",
    "                dropout_rate=0.5,\n",
    "                activation='relu',\n",
    "                n_patience=10,\n",
    "                n_repeat=10,\n",
    "                voxel_mask = voxel_mask)\n",
    "\n",
    "coeffs = MVPA_model.run()\n"
   ]
  },
  {
   "cell_type": "code",
   "execution_count": null,
   "metadata": {},
   "outputs": [],
   "source": [
    "MVPA_model = MLP(X=X,\n",
    "                y=y,\n",
    "                layer_dims=[2048,2048],\n",
    "                dropout_rate=0.5,\n",
    "                activation='relu',\n",
    "                n_patience=10,\n",
    "                n_repeat=10,\n",
    "                voxel_mask = voxel_mask)\n",
    "\n",
    "coeffs = MVPA_model.run()\n"
   ]
  },
  {
   "cell_type": "code",
   "execution_count": null,
   "metadata": {},
   "outputs": [],
   "source": [
    "MVPA_model = MLP(X=X,\n",
    "                y=y,\n",
    "                layer_dims=[1024,1024],\n",
    "                dropout_rate=0.5,\n",
    "                activation='relu',\n",
    "                n_patience=10,\n",
    "                learning_rate=0.01,\n",
    "                n_repeat=10,\n",
    "                voxel_mask = voxel_mask)\n",
    "\n",
    "coeffs = MVPA_model.run()\n"
   ]
  },
  {
   "cell_type": "code",
   "execution_count": null,
   "metadata": {},
   "outputs": [],
   "source": [
    "MVPA_model = MLP(X=X,\n",
    "                y=y,\n",
    "                layer_dims=[1],\n",
    "                dropout_rate=0.0,\n",
    "                activation='linear',\n",
    "                n_patience=10,\n",
    "                n_repeat=10,\n",
    "                voxel_mask = voxel_mask)\n",
    "\n",
    "coeffs = MVPA_model.run()\n"
   ]
  },
  {
   "cell_type": "code",
   "execution_count": null,
   "metadata": {},
   "outputs": [],
   "source": [
    "s = perf_counter()\n",
    "\n",
    "sham_errors = MVPA_model.sham()\n",
    "\n",
    "print(f\"elapsed time: {(perf_counter()-s) / 60:.2f} minutes\")"
   ]
  },
  {
   "cell_type": "code",
   "execution_count": null,
   "metadata": {},
   "outputs": [],
   "source": [
    "img = MVPA_model.image(save_path='.', task_name='example')"
   ]
  },
  {
   "cell_type": "code",
   "execution_count": null,
   "metadata": {},
   "outputs": [],
   "source": []
  }
 ],
 "metadata": {
  "kernelspec": {
   "display_name": "model-based-fmri-A7ELC43w-py3.7",
   "language": "python",
   "name": "model-based-fmri-a7elc43w-py3.7"
  },
  "language_info": {
   "codemirror_mode": {
    "name": "ipython",
    "version": 3
   },
   "file_extension": ".py",
   "mimetype": "text/x-python",
   "name": "python",
   "nbconvert_exporter": "python",
   "pygments_lexer": "ipython3",
   "version": "3.7.4"
  }
 },
 "nbformat": 4,
 "nbformat_minor": 4
}
