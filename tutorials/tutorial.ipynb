{
 "cells": [
  {
   "cell_type": "markdown",
   "metadata": {},
   "source": [
    "# Tutorial\n",
    "\n",
    "This tutorial is for offering a guidance to use the package with a one simple callable function.<br>\n",
    "You only need to prepare a root path for task-based fMRI data. \n"
   ]
  },
  {
   "cell_type": "markdown",
   "metadata": {},
   "source": [
    "#### [Example data]\n",
    "\n",
    "The example data is a mini-size version of the dataset issued by Bornstein et al., 2017 ([paper](https://www.nature.com/articles/nn.4573#abstracthttps://www.nature.com/articles/nn.4573#abstract), [openneuro](https://openneuro.org/datasets/ds001607/versions/1.0.1)).<br>\n",
    "And the data includes 8 subjects and each of them has one run for Reinforcement Learning task with 180 trials. <br>\n",
    "You can download the zip file from the [link]()."
   ]
  },
  {
   "cell_type": "code",
   "execution_count": null,
   "metadata": {},
   "outputs": [],
   "source": [
    "from pathlib import Path\n",
    "\n",
    "bids_layout = \"mini_bornstein2017\"\n",
    "report_path = bids_layout / derivatives / mbmvpa / \"reports\"\n",
    "# Path(report_path).mkdir(exist_ok=True)\n",
    "# [??] Should we always manually make report directory? or is it automatically made?\n",
    "# [CJ] Default path is set as the current working directory (\".\"). \n",
    "#      The default path for saving reports might be under the derivatives, if we \n",
    "#      establish a proper convention for the reports."
   ]
  },
  {
   "cell_type": "markdown",
   "metadata": {},
   "source": [
    "## What you should do before running MBfMRI"
   ]
  },
  {
   "cell_type": "markdown",
   "metadata": {},
   "source": [
    "#### [1. Data - Check input data](#Data)\n",
    "#### [2. Preprocessing 1 - Calculate latent process](#LatentProcess)\n",
    "#### [3. Preprocessing 2 - Generate voxel features](#VoxelFeatures)\n",
    "#### [4. fMRI Analysis - Choose which method and which model to use for fMRI analysis and decide some details](fMRIAnalysis)\n",
    "#### [5. Run the code!](#Code)\n",
    "#### [6. Output](#Output)"
   ]
  },
  {
   "cell_type": "markdown",
   "metadata": {},
   "source": [
    "### 1. Data - Check input data <a name = \"Data\"> </a>"
   ]
  },
  {
   "cell_type": "markdown",
   "metadata": {},
   "source": [
    "#### 1-1. BIDS layout with original data\n",
    "\n",
    "The original task-based fMRI data should be in `bids_layout`.<br> \n",
    "Also, you need to place preprocessed fMRI images under the *derivatives* folder under `bids_layout`, named as `fmriprep`.<br>\n",
    "(In the original layoout of sample data, there are only events files as the preprocessed images will be used.)<br>"
   ]
  },
  {
   "cell_type": "code",
   "execution_count": null,
   "metadata": {},
   "outputs": [],
   "source": [
    "# Check bids layout in the root\n",
    "!ls mini_bornstein2017"
   ]
  },
  {
   "cell_type": "markdown",
   "metadata": {},
   "source": [
    "The behavioral data should be in `events.tsv`, following the original BIDS layout as well."
   ]
  },
  {
   "cell_type": "code",
   "execution_count": null,
   "metadata": {},
   "outputs": [],
   "source": [
    "# Check behavioral data\n",
    "import pandas as pd\n",
    "pd.read_table('mini_bornstein2017/sub-01/func/sub-01_task-multiarmedbandit_events.tsv').head()"
   ]
  },
  {
   "cell_type": "markdown",
   "metadata": {},
   "source": [
    "#### 1-2. Derivative layout from *fMRIPrep*\n",
    "\n",
    "The package assumes that preprocessing images is done by [fMRIPrep](https://fmriprep.org/en/stable/). <br>\n",
    "Please refer to [mbfmri/utils/config.py](https://github.com/CCS-Lab/project_model_based_fmri/blob/main/mbfmri/utils/config.py) for configuration of it.<br> \n",
    "\n",
    "If you preprocessed fMRI data using other tool than fMRIPrep, you should change the directory and file layout to apply MBfMRI package to your data."
   ]
  },
  {
   "cell_type": "code",
   "execution_count": null,
   "metadata": {},
   "outputs": [],
   "source": [
    "!ls mini_bornstein2017/derivatives/fmriprep"
   ]
  },
  {
   "cell_type": "code",
   "execution_count": null,
   "metadata": {},
   "outputs": [],
   "source": [
    "!ls mini_bornstein2017/derivatives/fmriprep/sub-01/func/"
   ]
  },
  {
   "cell_type": "markdown",
   "metadata": {},
   "source": [
    "#### 1-3. Mask images\n",
    "\n",
    "The mask images would be located under the folder below as default `(BIDSroot/masks/include)`.<br>\n",
    "The images here are integrated into one binary image."
   ]
  },
  {
   "cell_type": "code",
   "execution_count": null,
   "metadata": {},
   "outputs": [],
   "source": [
    "!ls mini_bornstein2017/masks/include\n",
    "# [??] what should I do if I want to use other mask images?\n",
    "# [CJ] Maybe we should discuss through Zoom about this. \n",
    "#      I am looking for appropriate and easy explanation for this function.\n",
    "#      It might be better to refer to \"_build_mask\" function codes located in\n",
    "#      mbfmri/utils/bold_utils.py. The mechanism is quite straightforward.\n",
    "# [??] And what's the purpose of this mask images?\n",
    "# [CJ] One of the major purposes is reducing the number of features (which is not applicable in CNN),\n",
    "#      and another would be to restrict regions which are supposed be included or excluded in MVPA."
   ]
  },
  {
   "cell_type": "markdown",
   "metadata": {},
   "source": [
    "### 2. Preprocessing 1 - Caculate latent process: Choose cognitive model and target latent process to analyze in hBayesDM (or prepare precaculated latent process) <a name = \"LatentProcess\"> </a>\n"
   ]
  },
  {
   "cell_type": "markdown",
   "metadata": {},
   "source": [
    "#### 2-1. hBayesDM model - Now you need to choose which cognitive model to use. Please refer to [hBayesDM](https://hbayesdm.readthedocs.io/en/v1.0.1/models.html) and check available models.<br>\n",
    "- Here, the task used in the example data could be categorized as a **multi-armed bandit task** which requires subjects to learn the probability of three cards (or bandits) by rewards or none. So **a reinforcement learning model for multi-armed bandit task with 5 parameter (including decision noise and decay rate but not choice perseveration)** ([Niv et al., 2015](https://www.jneurosci.org/content/35/21/8145)) is chosen here for the example data. The model is named as `banditNarm_lapse_decay` in the hBayesDM package. As the hBayesDM would be used, the data would be fitted by hierarchical Bayesian estimation method.\n",
    "- e.g. `dm_model = 'banditNarm_lapse_decay'`\n",
    "\n",
    "#### 2-2. Target latent process - Next, you should decide which latent process to target. Please refer to the list of [available latent process]() for other possible processes and their explanations.\n",
    "- In this example, **prediction error** of chosen options, named as `PEchosen` in hBayesDM, would be a target latent process.\n",
    "- e.g. `process_name = 'PEchosen'`\n",
    "\n",
    "#### 2-3. Check data format of behavioral data.\n",
    "- The data format in `event.tsv` should match with input format of the corresponding model. If not, and you don't want to change your original data, you can use use-defined functions to remap the data while preprocessing. Please refer to `adjust_function`, `adjust_function_dfwise`, `filter_function`, `filter_function_dfwise` in [mbfmri.preprocessing.events module](https://project-model-based-fmri.readthedocs.io/en/latest/mbfmri.preprocessing.html#module-mbfmri.preprocessing.events) ([source code](https://github.com/CCS-Lab/project_model_based_fmri/blob/main/mbfmri/preprocessing/events.py))\n",
    "\n",
    "\n",
    "\n",
    "\n",
    "Calculated latent process signals using hBayesDM will be saved in a new directory named as `mbmvpa` under `derivatives` directory. As default, `mbmvpa` will be under the same `derivative` folder as the `fmriprep`."
   ]
  },
  {
   "cell_type": "markdown",
   "metadata": {},
   "source": [
    "### 3. Preprocessing 2 - Generate voxel features <a name = \"VoxelFeatures\"> </a>"
   ]
  },
  {
   "cell_type": "markdown",
   "metadata": {},
   "source": [
    "Generated voxel feature data will be saved in new derivative layout called \"MB-MVPA.\""
   ]
  },
  {
   "cell_type": "markdown",
   "metadata": {},
   "source": [
    "### 4. fMRI Analysis - Choose which method and which model to use for fMRI analysis (GLM, MVPA-ElasticNet, MVPA-MLP, or MVPA-CNN) and decide some details <a name = \"fMRIAnalysis\"> </a>"
   ]
  },
  {
   "cell_type": "markdown",
   "metadata": {},
   "source": [
    "#### 4-1. Type of analysis - either GLM or MVPA\n",
    "- MVPA is used as default but GLM could be applied as well.\n",
    "- e.g. `analysis = 'mvpa'` or `analysis = 'glm'`\n",
    "\n",
    "#### 4-2. If you chose MVPA, you should decide which MVPA model to use and the type of cross-validation.\n",
    "- For MVPA, **ElasticNet** is used as default, but other models such as MLP and CNN are provided by MBfMRI package.\n",
    "    - For fitting ElasticNet, MBfMRI depends on [glmnet Python package](https://github.com/civisanalytics/python-glmnet). You will get plots for lambda searching and coefficients values as the convention of employing ElasticNet.\n",
    "    - e.g. `mvpa_model = 'elasticnet'`, `mvpa_model = 'mlp'`, or `mvpa_model = 'cnn'`\n",
    "\n",
    "\n",
    "- A cross-validation framework is employed in MBfMRI package to secure validity.\n",
    "    - Two options are available currently, \"N-fold\" for N-fold cross-validation and \"N-lnso\" for leave-n-subjects-out. \n",
    "    - You will get the pearson R correlation plot generated using the results of cross-validation. All the visible reports and results are integrated from the results of each fold (you can also locate row result of each fold in the report folder).\n",
    "    - e.g. `method = '5-fold'`"
   ]
  },
  {
   "cell_type": "markdown",
   "metadata": {},
   "source": [
    "### 5. Run the code! <a name = \"Code\"> </a>"
   ]
  },
  {
   "cell_type": "markdown",
   "metadata": {},
   "source": [
    "Now you are ready to run the code!\n",
    "We provide sample codes for the analyses with different types of target latent processes and for different types of fMRI analyses including GLM, MVPA-ElasticNet, MVPA-MPL, and MVPA-CNN."
   ]
  },
  {
   "cell_type": "markdown",
   "metadata": {},
   "source": [
    "### 6. Output <a name = \"Output\"> </a>"
   ]
  },
  {
   "cell_type": "markdown",
   "metadata": {},
   "source": [
    "#### Brain activation map\n",
    "\n",
    "The final output and the purpose of the MB-MVPA is a brain activation pattern map attributed to the target latent process.<br>\n",
    "This will be obtained by interpreting the MVPA model. For ElasticNet, it means reading coefficients of the linear layer.<br>\n",
    "You can find the nii image under the \"brain_map\" folder in the reports."
   ]
  },
  {
   "cell_type": "markdown",
   "metadata": {},
   "source": [
    "Now, let's get started and check the outputs!"
   ]
  },
  {
   "cell_type": "markdown",
   "metadata": {},
   "source": [
    "### 1) MVPA - Elastic NET"
   ]
  },
  {
   "cell_type": "markdown",
   "metadata": {},
   "source": [
    "#### 1-1) MVPA - Elastic Net / PE as target latent process"
   ]
  },
  {
   "cell_type": "code",
   "execution_count": null,
   "metadata": {},
   "outputs": [],
   "source": [
    "from mbfmri.core.engine import run_mbfmri\n",
    "\n",
    "_ = run_mbfmri(\n",
    "               ### To identify, load, and save data\n",
    "               bids_layout='mini_bornstein2017',    # data path - the root for entire BIDS layout \n",
    "               task_name='multiarmedbandit',        # identifier for task (BIDS)\n",
    "               subjects='all',                      # default: 'all' - load all subjects in the layout.\n",
    "                                                      # could be a list of subject IDs (string) (e.g., ['sub-01', 'sub-02'])\n",
    "               sessions = 'all',                    # default: 'all', could be a list of sessions.\n",
    "                                                      # should add example. refer to BIDSDataLoader ('01' or 'ses-01'?)\n",
    "               report_path=report_path,             # path for saving outputs (fit reports, brainmap, pearsonr, mse, raw_result)\n",
    "                                                      # [??] (why \"report path\" here? not saving path? what's the difference? where is 'save path?')\n",
    "                                                      # [CJ] (I used \"save_path\" for indicating the path where the \"mbmvpa\" derivative will be saved.\n",
    "                                                      #       It will be set as ROOT/derivatives as default, but user can designate it by \"save_path.\"\n",
    "                                                      #       Please refer to mbfmri/utils/bids_utils.py (line 314~324).)\n",
    "    \n",
    "               feature_name='zoom2rgrout',          # Name for indicating preprocessed feature (default: \"unnamed\") - to distinguish voxel feature data generated from different configurations.\n",
    "                                                      # (e.g. the preprocessed file will be saved as: \"sub-01_task-learn_desc-zoom2rgrout_voxelfeature.npy\" ) \n",
    "                                                      # Redundant preprocessing step could be skipped and avoided when the files with the same feature name already exists.\n",
    "                                                      # But it could be overridden by setting \"overwrite = True\"\n",
    "    \n",
    "\n",
    "\n",
    "    \n",
    "               ### To run computational modeling (use hBayesDM) and make latent process signal\n",
    "               dm_model= 'banditNarm_lapse_decay',  # computational model\n",
    "               process_name='PEchosen',             # identifier for target latent process\n",
    "               refit_compmodel=True,                # indicate if refitting comp. model is required\n",
    "               n_core=4,                            # number of core for multi-processing in hBayesDM    \n",
    "\n",
    "    \n",
    "               ### For fMRI analysis\n",
    "               analysis='mvpa',                     # name of analysis ('mvpa' or 'glm', default: 'mvpa')\n",
    "               mvpa_model='elasticnet',             # (ONLY for MVPA) which kind of MVPA model will be used ('elasticnet', 'mlp', or 'cnn')\n",
    "               method='5-fold',                     # (ONLY for MVPA) type of cross-validation\n",
    "               confounds=[\"trans_x\", \"trans_y\",     # list of confounds to regress out (including motion regressors)\n",
    "                          \"trans_z\", \"rot_x\",\n",
    "                          \"rot_y\", \"rot_z\"],    \n",
    "               n_thread=4,                          # number of thread for multi-threading in generating voxel features\n",
    "               \n",
    "    \n",
    "               ### others\n",
    "               overwrite=True,                      # indicate if re-generate voxel feaures and latent process and they should be overwritten. (not related to re-fitting hBayesDM)\n",
    "\n",
    "              )"
   ]
  },
  {
   "cell_type": "markdown",
   "metadata": {},
   "source": [
    "#### 1-2) MVPA - Elastic Net / Q value as target latent process"
   ]
  },
  {
   "cell_type": "code",
   "execution_count": null,
   "metadata": {},
   "outputs": [],
   "source": [
    "from mbfmri.core.engine import run_mbfmri\n",
    "\n",
    "_ = run_mbfmri(\n",
    "               # To identify, load, and save data\n",
    "               bids_layout='mini_bornstein2017',    # data path - the root for entire BIDS layout \n",
    "               task_name='multiarmedbandit',        # identifier for task (BIDS)\n",
    "               subjects='all',                      # default: 'all' - load all subjects in the layout.\n",
    "                                                      # could be a list of subject IDs (string) (e.g., ['sub-01', 'sub-02'])\n",
    "               sessions = 'all',                    # default: 'all', could be a list of sessions.\n",
    "                                                      # should add example. refer to BIDSDataLoader ('01' or 'ses-01'?)\n",
    "               report_path=report_path,             # path for saving outputs \n",
    "               feature_name='zoom2rgrout',          # Name for indicating preprocessed feature (default: \"unnamed\")\n",
    "\n",
    "    \n",
    "               # To run computational modeling (use hBayesDM) and make latent process signal\n",
    "               dm_model= 'banditNarm_lapse_decay',  # computational model\n",
    "               process_name='Qchosen',              # identifier for target latent process\n",
    "               refit_compmodel=True,                # indicate if refitting comp. model is required\n",
    "               n_core=4,                            # number of core for multi-processing in hBayesDM    \n",
    "\n",
    "    \n",
    "               # For fMRI analysis\n",
    "               analysis='mvpa',                     # name of analysis ('mvpa' or 'glm', default: 'mvpa')\n",
    "               mvpa_model='elasticnet',             # (ONLY for MVPA) which kind of MVPA model will be used ('elasticnet', 'mlp', or 'cnn')\n",
    "               method='5-fold',                     # (ONLY for MVPA) type of cross-validation\n",
    "               confounds=[\"trans_x\", \"trans_y\",     # list of confounds to regress out (including motion regressors)\n",
    "                          \"trans_z\", \"rot_x\",\n",
    "                          \"rot_y\", \"rot_z\"],    \n",
    "               n_thread=4,                          # number of thread for multi-threading in generating voxel features\n",
    "               \n",
    "    \n",
    "               # others\n",
    "               overwrite=True,                      # indicate if re-run and overwriting are required \n",
    "              )"
   ]
  },
  {
   "cell_type": "markdown",
   "metadata": {},
   "source": [
    "#### 1-3) MVPA - Elastic Net / Model selection"
   ]
  },
  {
   "cell_type": "code",
   "execution_count": null,
   "metadata": {},
   "outputs": [],
   "source": [
    "from mbfmri.core.engine import run_mbfmri\n",
    "import hbayesdm\n",
    "\n",
    "_ = run_mbfmri(\n",
    "               # To identify, load, and save data\n",
    "               bids_layout='mini_bornstein2017',    # data path - the root for entire BIDS layout \n",
    "               task_name='multiarmedbandit',        # identifier for task (BIDS)\n",
    "               subjects='all',                      # default: 'all' - load all subjects in the layout.\n",
    "                                                      # could be a list of subject IDs (string) (e.g., ['sub-01', 'sub-02'])\n",
    "               sessions = 'all',                    # default: 'all', could be a list of sessions.\n",
    "                                                      # should add example. refer to BIDSDataLoader ('01' or 'ses-01'?)\n",
    "               report_path=report_path,             # path for saving outputs \n",
    "               feature_name='zoom2rgrout',          # Name for indicating preprocessed feature (default: \"unnamed\")\n",
    "\n",
    "    \n",
    "               # To run computational modeling (use hBayesDM) and make latent process signal\n",
    "               dm_model= ['banditNarm_lapse_decay', # computational model candidates\n",
    "                          #'banditNarm_delta',\n",
    "                          'banditNarm_2par_lapse',\n",
    "                          'banditNarm_4par',\n",
    "                          'banditNarm_lapse',\n",
    "                          'banditNarm_singleA_lapse'],\n",
    "               process_name='Qchosen',              # identifier for target latent process\n",
    "               refit_compmodel=True,                # indicate if refitting comp. model is required\n",
    "               n_core=4,                            # number of core for multi-processing in hBayesDM    \n",
    "\n",
    "    \n",
    "               # For fMRI analysis\n",
    "               analysis='mvpa',                     # name of analysis ('mvpa' or 'glm', default: 'mvpa')\n",
    "               mvpa_model='elasticnet',             # (ONLY for MVPA) which kind of MVPA model will be used ('elasticnet', 'mlp', or 'cnn')\n",
    "               method='5-fold',                     # (ONLY for MVPA) type of cross-validation\n",
    "               confounds=[\"trans_x\", \"trans_y\",     # list of confounds to regress out (including motion regressors)\n",
    "                          \"trans_z\", \"rot_x\",\n",
    "                          \"rot_y\", \"rot_z\"],    \n",
    "               n_thread=4,                          # number of thread for multi-threading in generating voxel features\n",
    "               \n",
    "    \n",
    "               # others\n",
    "               overwrite=True,                      # indicate if re-run and overwriting are required \n",
    "              )"
   ]
  },
  {
   "cell_type": "markdown",
   "metadata": {},
   "source": [
    "#### 1-4) MVPA - Elastic Net /  Use precalculated latent process (Not using hBayesDM)"
   ]
  },
  {
   "cell_type": "code",
   "execution_count": null,
   "metadata": {},
   "outputs": [],
   "source": [
    "from mbfmri.core.engine import run_mbfmri\n",
    "\n",
    "_ = run_mbfmri(\n",
    "               # To identify, load, and save data\n",
    "               bids_layout='mini_bornstein2017',    # data path - the root for entire BIDS layout \n",
    "               task_name='multiarmedbandit',        # identifier for task (BIDS)\n",
    "               subjects='all',                      # default: 'all' - load all subjects in the layout.\n",
    "                                                      # could be a list of subject IDs (string) (e.g., ['sub-01', 'sub-02'])\n",
    "               sessions = 'all',                    # default: 'all', could be a list of sessions.\n",
    "                                                      # should add example. refer to BIDSDataLoader ('01' or 'ses-01'?)\n",
    "               report_path=report_path,             # path for saving outputs \n",
    "               feature_name='zoom2rgrout',          # Name for indicating preprocessed feature (default: \"unnamed\")\n",
    "\n",
    "    \n",
    "               # To run computational modeling (use hBayesDM) and make latent process signal\n",
    "               skip_compmodel=True,\n",
    "               process_name='PrecalculatedPEchosen',# identifier for target latent process\n",
    "               n_core=4,                            # number of core for multi-processing in hBayesDM    \n",
    "\n",
    "    \n",
    "               # For fMRI analysis\n",
    "               analysis='mvpa',                     # name of analysis ('mvpa' or 'glm', default: 'mvpa')\n",
    "               mvpa_model='elasticnet',             # (ONLY for MVPA) which kind of MVPA model will be used ('elasticnet', 'mlp', or 'cnn')\n",
    "               method='5-fold',                     # (ONLY for MVPA) type of cross-validation\n",
    "               confounds=[\"trans_x\", \"trans_y\",     # list of confounds to regress out (including motion regressors)\n",
    "                          \"trans_z\", \"rot_x\",\n",
    "                          \"rot_y\", \"rot_z\"],    \n",
    "               n_thread=4,                          # number of thread for multi-threading in generating voxel features\n",
    "              )\n"
   ]
  },
  {
   "cell_type": "markdown",
   "metadata": {},
   "source": [
    "### 2) MVPA - MLP"
   ]
  },
  {
   "cell_type": "code",
   "execution_count": null,
   "metadata": {},
   "outputs": [],
   "source": [
    "_ = run_mbfmri(\n",
    "               # To identify, load, and save data\n",
    "               bids_layout='mini_bornstein2017',    # data path - the root for entire BIDS layout \n",
    "               task_name='multiarmedbandit',        # identifier for task (BIDS)\n",
    "               subjects='all',                      # default: 'all' - load all subjects in the layout.\n",
    "                                                      # could be a list of subject IDs (string) (e.g., ['sub-01', 'sub-02'])\n",
    "               sessions = 'all',                    # default: 'all', could be a list of sessions.\n",
    "                                                      # should add example. refer to BIDSDataLoader ('01' or 'ses-01'?)\n",
    "               report_path=report_path,             # path for saving outputs \n",
    "               feature_name='zoom2rgrout',          # Name for indicating preprocessed feature (default: \"unnamed\")\n",
    "\n",
    "    \n",
    "               # To run computational modeling (use hBayesDM) and make latent process signal\n",
    "               dm_model= 'banditNarm_lapse_decay',  # computational model\n",
    "               process_name='Qchosen',             # identifier for target latent process\n",
    "               refit_compmodel=True,                # indicate if refitting comp. model is required\n",
    "               n_core=4,                            # number of core for multi-processing in hBayesDM    \n",
    "\n",
    "    \n",
    "               # For fMRI analysis\n",
    "               analysis='mvpa',                     # name of analysis ('mvpa' or 'glm', default: 'mvpa')\n",
    "               mvpa_model='mlp',                    # (ONLY for MVPA) which kind of MVPA model will be used ('elasticnet', 'mlp', or 'cnn')\n",
    "               method='5-fold',                     # (ONLY for MVPA) type of cross-validation\n",
    "               confounds=[\"trans_x\", \"trans_y\",     # list of confounds to regress out (including motion regressors)\n",
    "                          \"trans_z\", \"rot_x\",\n",
    "                          \"rot_y\", \"rot_z\"],    \n",
    "               n_thread=4,                          # number of thread for multi-threading in generating voxel features\n",
    "              )"
   ]
  },
  {
   "cell_type": "markdown",
   "metadata": {},
   "source": [
    "### 3) MVPA - CNN"
   ]
  },
  {
   "cell_type": "code",
   "execution_count": null,
   "metadata": {},
   "outputs": [],
   "source": [
    "_ = run_mbfmri(\n",
    "               # To identify, load, and save data\n",
    "               bids_layout='mini_bornstein2017',    # data path - the root for entire BIDS layout \n",
    "               task_name='multiarmedbandit',        # identifier for task (BIDS)\n",
    "               subjects='all',                      # default: 'all' - load all subjects in the layout.\n",
    "                                                      # could be a list of subject IDs (string) (e.g., ['sub-01', 'sub-02'])\n",
    "               sessions = 'all',                    # default: 'all', could be a list of sessions.\n",
    "                                                      # should add example. refer to BIDSDataLoader ('01' or 'ses-01'?)\n",
    "               report_path=report_path,             # path for saving outputs \n",
    "               feature_name='zoom2rgrout',          # Name for indicating preprocessed feature (default: \"unnamed\")\n",
    "\n",
    "\n",
    "    \n",
    "               # To run computational modeling (use hBayesDM) and make latent process signal\n",
    "               dm_model= 'banditNarm_lapse_decay',  # computational model\n",
    "               process_name='Qchosen',             # identifier for target latent process\n",
    "               refit_compmodel=True,                # indicate if refitting comp. model is required\n",
    "               n_core=4,                            # number of core for multi-processing in hBayesDM    \n",
    "\n",
    "    \n",
    "               # For fMRI analysis\n",
    "               analysis='mvpa',                     # name of analysis ('mvpa' or 'glm', default: 'mvpa')\n",
    "               mvpa_model='cnn',                    # (ONLY for MVPA) which kind of MVPA model will be used ('elasticnet', 'mlp', or 'cnn')\n",
    "               method='5-fold',                     # (ONLY for MVPA) type of cross-validation\n",
    "               confounds=[\"trans_x\", \"trans_y\",     # list of confounds to regress out (including motion regressors)\n",
    "                          \"trans_z\", \"rot_x\",\n",
    "                          \"rot_y\", \"rot_z\"],    \n",
    "               n_thread=4,                          # number of thread for multi-threading in generating voxel features\n",
    "              )"
   ]
  }
 ],
 "metadata": {
  "kernelspec": {
   "display_name": "Python 3",
   "language": "python",
   "name": "python3"
  },
  "language_info": {
   "codemirror_mode": {
    "name": "ipython",
    "version": 3
   },
   "file_extension": ".py",
   "mimetype": "text/x-python",
   "name": "python",
   "nbconvert_exporter": "python",
   "pygments_lexer": "ipython3",
   "version": "3.7.4"
  }
 },
 "nbformat": 4,
 "nbformat_minor": 4
}
