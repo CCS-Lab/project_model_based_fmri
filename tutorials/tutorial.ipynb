{
 "cells": [
  {
   "cell_type": "markdown",
   "metadata": {},
   "source": [
    "## Tutorial\n",
    "\n",
    "This tutorial is for offering a guidance to use the package with a one simple callable function.<br>\n",
    "You only need to prepare a root path for task-based fMRI data. \n"
   ]
  },
  {
   "cell_type": "code",
   "execution_count": null,
   "metadata": {},
   "outputs": [],
   "source": [
    "from pathlib import Path\n",
    "import pandas as pd"
   ]
  },
  {
   "cell_type": "markdown",
   "metadata": {},
   "source": [
    "#### Example data\n",
    "\n",
    "The example data is a mini-size version of the dataset issued by Bornstein et al., 2017 ([paper](https://www.nature.com/articles/nn.4573#abstracthttps://www.nature.com/articles/nn.4573#abstract),[openneuro](https://openneuro.org/datasets/ds001607/versions/1.0.1)).<br>\n",
    "And the data includes 8 subjects and each of them has one run for Reinforcement Learning task with 180 trials. <br>\n",
    "You can download the zip file from the [link]()."
   ]
  },
  {
   "cell_type": "code",
   "execution_count": null,
   "metadata": {},
   "outputs": [],
   "source": [
    "bids_layout = \"mini_bornstein2017\"\n",
    "report_path = \"results\"\n",
    "Path(report_path).mkdir(exist_ok=True)"
   ]
  },
  {
   "cell_type": "markdown",
   "metadata": {},
   "source": [
    "### Input data format"
   ]
  },
  {
   "cell_type": "markdown",
   "metadata": {},
   "source": [
    "#### BIDS layout with original data\n",
    "\n",
    "The original task-based fMRI data should be in **bids_layout**.<br> \n",
    "Also, you need to place preprocessed fMRI images under the *derivatives* folder, nameed as **fmriprep**.<br>\n",
    "In the original layoout of sample data, there are only events files as the preprocessed images will be used.<br>"
   ]
  },
  {
   "cell_type": "code",
   "execution_count": null,
   "metadata": {},
   "outputs": [],
   "source": [
    "!ls mini_bornstein2017"
   ]
  },
  {
   "cell_type": "markdown",
   "metadata": {},
   "source": [
    "The original BIDS layout is used for locating behavioral data (\"events.tsv\")"
   ]
  },
  {
   "cell_type": "code",
   "execution_count": null,
   "metadata": {},
   "outputs": [],
   "source": [
    "pd.read_table('mini_bornstein2017/sub-01/func/sub-01_task-multiarmedbandit_events.tsv').head()"
   ]
  },
  {
   "cell_type": "markdown",
   "metadata": {},
   "source": [
    "#### Derivative layout from *fMRIPrep*\n",
    "\n",
    "The package assumes that preprocessing images is done by [fMRIPrep](https://fmriprep.org/en/stable/).<br>\n",
    "Please refer to \"mbfmri/utils/config.py\" for configuration of it.<br> You might change configuration here to apply this package to data preprocessed by other tool than fMRIPrep."
   ]
  },
  {
   "cell_type": "code",
   "execution_count": null,
   "metadata": {},
   "outputs": [],
   "source": [
    "!ls mini_bornstein2017/derivatives/fmriprep"
   ]
  },
  {
   "cell_type": "code",
   "execution_count": null,
   "metadata": {},
   "outputs": [],
   "source": [
    "!ls mini_bornstein2017/derivatives/fmriprep/sub-01/func/"
   ]
  },
  {
   "cell_type": "markdown",
   "metadata": {},
   "source": [
    "#### Mask images\n",
    "\n",
    "The mask images would be located under the below folder as default.<br>\n",
    "The images here are integrated into one binary image."
   ]
  },
  {
   "cell_type": "code",
   "execution_count": null,
   "metadata": {},
   "outputs": [],
   "source": [
    "!ls mini_bornstein2017/masks/include"
   ]
  },
  {
   "cell_type": "markdown",
   "metadata": {},
   "source": [
    "### Run MB-MVPA"
   ]
  },
  {
   "cell_type": "markdown",
   "metadata": {},
   "source": [
    "The next part is finally about running the MB-MVPA package.<br>\n",
    "Before proceeding, you need to choose which computational model to use.<br>\n",
    "Please refer to [hBayesDM](https://hbayesdm.readthedocs.io/en/v1.0.1/models.html) and check available models.<br>\n",
    "Also, the data in \"events.tsv\" should match with input format of the corresponding model.<br>\n",
    "If not and you don't want to change your original data, you can use user-defined functions to remap the data while preprocessing.<br>\n",
    "Please refer to \"mbfmri.preprocessing.events.py.\"\n",
    "Generated voxel feature data and latent process signals will be saved in new derivative layout called \"MB-MVPA.\"\n",
    "As default, the MB-MVPA derivative will be under the same derivative folder as the fMRIPrep."
   ]
  },
  {
   "cell_type": "markdown",
   "metadata": {},
   "source": [
    "#### hBayesDM model\n",
    "\n",
    "The task of the example data can be categorizeed as multi-armed bandit task, learing the probability of three cards (or bandits) by rewards or none.\n",
    "The chosen computational model in the below example is a Hierarchical Bayesian Modeling of the Multi-Armed Bandit Task using 5 Parameter Model, without C (choice perseveration) but with xi (noise) and decay rate [Niv et al., 2015](https://www.jneurosci.org/content/35/21/8145).\n",
    "\n",
    "\n",
    "#### Target latent process\n",
    "\n",
    "The target latent process is the *prediction error* of chosen options, *PEchosen*, in this example. Please refer to the [available latent process list]() for other possible processes and their explanations.\n",
    "\n",
    "#### MVPA model\n",
    "\n",
    "For the Multi-voxel Pattern Analysis (MVPA), **ElasticNet** is used as default.<br>\n",
    "The package depends on [glmnet Python package](https://github.com/civisanalytics/python-glmnet) for fitting ElasticNet.\n",
    "You will get plots for lambda searching and coefficients values as the convention of employing ElasticNet.\n",
    "\n",
    "#### Cross-validation\n",
    "\n",
    "The *run_mbfmri* employs a cross-validation framework to secure validity.<br>\n",
    "Currently, two options are available, \"N-fold\" for N-fold cross-valiidationa and \"N-lnso\" for leave-n-subjects-out.<br>\n",
    "You can enter the method through *method* argument.<br>\n",
    "The pearsonr correlation plot will be generated using the results from cross-validation.<br>\n",
    "All the visible reports and results are integrated from the results of each fold.<br>\n",
    "(You can also locate raw result of each fold in the report folder.)\n",
    "\n",
    "#### Brain activation map\n",
    "\n",
    "The final output and the purpose of the MB-MVPA is a brain activation pattern map attributed to the target latent process.<br>\n",
    "This will be obtained by interpreting the MVPA model. For ElasticNet, it means reading coefficients of the linear layer.<br>\n",
    "You can find the nii image under the \"brain_map\" folder in the reports."
   ]
  },
  {
   "cell_type": "code",
   "execution_count": null,
   "metadata": {},
   "outputs": [],
   "source": [
    "from mbfmri.core.engine import run_mbfmri\n",
    "\n",
    "\n",
    "_ = run_mbfmri(analysis='mvpa',                     # name of analysis\n",
    "               bids_layout='mini_bornstein2017',    # data\n",
    "               mvpa_model='elasticnet',             # MVPA model\n",
    "               dm_model= 'banditNarm_lapse_decay',  # computational model\n",
    "               feature_name='zoom2rgrout',          # indentifier for processed fMRI data\n",
    "               task_name='multiarmedbandit',       # identifier for task\n",
    "               process_name='PEchosen',             # identifier for target latent process\n",
    "               subjects='all',                      # list of subjects to include\n",
    "               method='5-fold',                     # type of cross-validation\n",
    "               report_path=report_path,             # save path for reporting results\n",
    "               confounds=[\"trans_x\", \"trans_y\",     # list of confounds to regress out\n",
    "                          \"trans_z\", \"rot_x\",\n",
    "                          \"rot_y\", \"rot_z\"],\n",
    "               n_core=4,                            # number of core for multi-processing in hBayesDM\n",
    "               n_thread=4,                          # number of thread for multi-threading in generating voxel features\n",
    "               overwrite=True,                      # indicate if re-run and overwriting are required\n",
    "               refit_compmodel=True,                # indicate if refitting comp. model is required\n",
    "              )"
   ]
  },
  {
   "cell_type": "markdown",
   "metadata": {},
   "source": [
    "#### Q value as target latent process"
   ]
  },
  {
   "cell_type": "code",
   "execution_count": null,
   "metadata": {},
   "outputs": [],
   "source": [
    "_ = run_mbfmri(analysis='mvpa',                     # name of analysis\n",
    "               bids_layout='mini_bornstein2017',    # data\n",
    "               mvpa_model='elasticnet',             # MVPA model\n",
    "               dm_model= 'banditNarm_lapse_decay',  # computational model\n",
    "               feature_name='zoom2rgrout',          # indentifier for processed fMRI data\n",
    "               task_name='multiarmedbandit',       # identifier for task\n",
    "               process_name='Qchosen',             # identifier for target latent process\n",
    "               subjects='all',                      # list of subjects to include\n",
    "               method='5-fold',                     # type of cross-validation\n",
    "               report_path=report_path,             # save path for reporting results\n",
    "               confounds=[\"trans_x\", \"trans_y\",     # list of confounds to regress out\n",
    "                          \"trans_z\", \"rot_x\",\n",
    "                          \"rot_y\", \"rot_z\"],\n",
    "               n_core=4,                            # number of core for multi-processing in hBayesDM\n",
    "               n_thread=4,                          # number of thread for multi-threading in generating voxel features\n",
    "              )"
   ]
  },
  {
   "cell_type": "markdown",
   "metadata": {},
   "source": [
    "### Use precalculated latent process"
   ]
  },
  {
   "cell_type": "code",
   "execution_count": null,
   "metadata": {},
   "outputs": [],
   "source": [
    "from mbfmri.core.engine import run_mbfmri\n",
    "\n",
    "\n",
    "_ = run_mbfmri(analysis='mvpa',                     # name of analysis\n",
    "               bids_layout='mini_bornstein2017',    # data\n",
    "               mvpa_model='elasticnet',             # MVPA model\n",
    "               skip_compmodel=True,\n",
    "               feature_name='zoom2rgrout',          # indentifier for processed fMRI data\n",
    "               task_name='multiarmedbandit',        # identifier for task\n",
    "               process_name='PrecalculatedPEchosen',# identifier for target latent process\n",
    "               subjects='all',                      # list of subjects to include\n",
    "               method='5-fold',                     # type of cross-validation\n",
    "               report_path=report_path,             # save path for reporting results\n",
    "               confounds=[\"trans_x\", \"trans_y\",     # list of confounds to regress out\n",
    "                          \"trans_z\", \"rot_x\",\n",
    "                          \"rot_y\", \"rot_z\"],\n",
    "               n_core=4,                            # number of core for multi-processing in hBayesDM\n",
    "               n_thread=4,                          # number of thread for multi-threading in generating voxel features\n",
    "              )"
   ]
  },
  {
   "cell_type": "markdown",
   "metadata": {},
   "source": [
    "### MLP"
   ]
  },
  {
   "cell_type": "code",
   "execution_count": null,
   "metadata": {},
   "outputs": [],
   "source": [
    "_ = run_mbfmri(analysis='mvpa',                     # name of analysis\n",
    "               bids_layout='mini_bornstein2017',    # data\n",
    "               mvpa_model='mlp',                    # MVPA model\n",
    "               dm_model= 'banditNarm_lapse_decay',  # computational model\n",
    "               feature_name='zoom2rgrout',          # indentifier for processed fMRI data\n",
    "               task_name='multiarmedbandit',        # identifier for task\n",
    "               process_name='Qchosen',              # identifier for target latent process\n",
    "               subjects='all',                      # list of subjects to include\n",
    "               method='5-fold',                     # type of cross-validation\n",
    "               report_path=report_path,             # save path for reporting results\n",
    "               confounds=[\"trans_x\", \"trans_y\",     # list of confounds to regress out\n",
    "                          \"trans_z\", \"rot_x\",\n",
    "                          \"rot_y\", \"rot_z\"],\n",
    "               n_core=4,                            # number of core for multi-processing in hBayesDM\n",
    "               n_thread=4,                          # number of thread for multi-threading in generating voxel features\n",
    "              )"
   ]
  },
  {
   "cell_type": "markdown",
   "metadata": {},
   "source": [
    "### CNN"
   ]
  },
  {
   "cell_type": "code",
   "execution_count": null,
   "metadata": {},
   "outputs": [],
   "source": [
    "_ = run_mbfmri(analysis='mvpa',                     # name of analysis\n",
    "               bids_layout='mini_bornstein2017',    # data\n",
    "               mvpa_model='cnn',                    # MVPA model\n",
    "               dm_model= 'banditNarm_lapse_decay',  # computational model\n",
    "               feature_name='zoom2rgrout',          # indentifier for processed fMRI data\n",
    "               task_name='multiarmedbandit',        # identifier for task\n",
    "               process_name='Qchosen',              # identifier for target latent process\n",
    "               subjects='all',                      # list of subjects to include\n",
    "               method='5-fold',                     # type of cross-validation\n",
    "               report_path=report_path,             # save path for reporting results\n",
    "               confounds=[\"trans_x\", \"trans_y\",     # list of confounds to regress out\n",
    "                          \"trans_z\", \"rot_x\",\n",
    "                          \"rot_y\", \"rot_z\"],\n",
    "               n_core=4,                            # number of core for multi-processing in hBayesDM\n",
    "               n_thread=4,                          # number of thread for multi-threading in generating voxel features\n",
    "              )"
   ]
  },
  {
   "cell_type": "markdown",
   "metadata": {},
   "source": [
    "### Model selection"
   ]
  },
  {
   "cell_type": "code",
   "execution_count": null,
   "metadata": {},
   "outputs": [],
   "source": [
    "from mbfmri.core.engine import run_mbfmri\n",
    "\n",
    "\n",
    "_ = run_mbfmri(analysis='mvpa',                     # name of analysis\n",
    "               bids_layout='mini_bornstein2017',    # data\n",
    "               mvpa_model='elasticnet',             # MVPA model\n",
    "               dm_model= ['banditNarm_lapse_decay', # computational model candidates\n",
    "                          'banditNarm_delta',\n",
    "                          'banditNarm_2par_lapse',\n",
    "                          'banditNarm_4par',\n",
    "                          'banditNarm_lapse',\n",
    "                          'banditNarm_singleA_laps'],\n",
    "               feature_name='zoom2rgrout',          # indentifier for processed fMRI data\n",
    "               task_name='multiarmedbandit',        # identifier for task\n",
    "               process_name='PEchosen',             # identifier for target latent process\n",
    "               subjects='all',                      # list of subjects to include\n",
    "               method='5-fold',                     # type of cross-validation\n",
    "               report_path=report_path,             # save path for reporting results\n",
    "               confounds=[\"trans_x\", \"trans_y\",     # list of confounds to regress out\n",
    "                          \"trans_z\", \"rot_x\",\n",
    "                          \"rot_y\", \"rot_z\"],\n",
    "               n_core=4,                            # number of core for multi-processing in hBayesDM\n",
    "               n_thread=4,                          # number of thread for multi-threading in generating voxel features\n",
    "               srefit_compmodel=True,               # indicate if reffiting comp. model is required\n",
    "              )"
   ]
  }
 ],
 "metadata": {
  "kernelspec": {
   "display_name": "model-based-fmri-A7ELC43w-py3.7",
   "language": "python",
   "name": "model-based-fmri-a7elc43w-py3.7"
  },
  "language_info": {
   "codemirror_mode": {
    "name": "ipython",
    "version": 3
   },
   "file_extension": ".py",
   "mimetype": "text/x-python",
   "name": "python",
   "nbconvert_exporter": "python",
   "pygments_lexer": "ipython3",
   "version": "3.7.4"
  }
 },
 "nbformat": 4,
 "nbformat_minor": 4
}
