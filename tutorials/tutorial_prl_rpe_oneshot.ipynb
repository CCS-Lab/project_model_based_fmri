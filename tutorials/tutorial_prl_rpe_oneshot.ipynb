{
 "cells": [
  {
   "cell_type": "code",
   "execution_count": null,
   "metadata": {},
   "outputs": [
    {
     "name": "stderr",
     "output_type": "stream",
     "text": [
      "/home/cheoljun/.cache/pypoetry/virtualenvs/model-based-fmri-A7ELC43w-py3.7/lib/python3.7/site-packages/nilearn/glm/__init__.py:56: FutureWarning: The nilearn.glm module is experimental. It may change in any future release of Nilearn.\n",
      "  'It may change in any future release of Nilearn.', FutureWarning)\n"
     ]
    },
    {
     "name": "stdout",
     "output_type": "stream",
     "text": [
      "INFO: start loading BIDSLayout\n",
      "INFO: fMRIPrep is loaded\n",
      "INFO: MB-MVPA is loaded\n"
     ]
    },
    {
     "name": "stderr",
     "output_type": "stream",
     "text": [
      "0it [00:00, ?it/s]"
     ]
    },
    {
     "name": "stdout",
     "output_type": "stream",
     "text": [
      "INFO: 8 file(s) in fMRIPrep.\n",
      "INFO: individual parameters are loaded\n",
      "INFO: existing voxel mask is loaded.: 4793/116380\n",
      "INFO: start processing 0 fMRI. (nii_img/thread)*(n_thread)=0*4. 8 image(s) is(are) skipped.\n",
      "INFO: fMRI processing is done.\n"
     ]
    },
    {
     "name": "stderr",
     "output_type": "stream",
     "text": [
      "\n",
      "8it [00:00, 4980.62it/s]"
     ]
    },
    {
     "name": "stdout",
     "output_type": "stream",
     "text": [
      "INFO: indivudal parameters table\n",
      "   subjID   eta_pos   eta_neg      beta\n",
      "0       1  0.923765  0.434162  2.114777\n",
      "1       3  0.924573  0.329489  3.693917\n",
      "2       4  0.926176  0.393191  3.279939\n",
      "3       5  0.925192  0.367122  3.986912\n",
      "INFO: start processing 8 events.[task-prl, process-PEchosen]\n",
      "INFO: events processing is done.\n"
     ]
    },
    {
     "name": "stderr",
     "output_type": "stream",
     "text": [
      "\n",
      "subject_04:  40%|████      | 2/5 [00:00<00:00, 17.98it/s]"
     ]
    },
    {
     "name": "stdout",
     "output_type": "stream",
     "text": [
      "INFO: retrieving from BIDS Layout: ...ta/ccsl_prl/derivatives/mbmvpa | Subjects: 5 | Sessions: 5 | Runs: 10\n",
      "      task-prl, process-PEchosen, featurre-unnamed\n",
      "INFO: start loading data\n"
     ]
    },
    {
     "name": "stderr",
     "output_type": "stream",
     "text": [
      "cv_repeat:   0%|          | 0/1 [00:00<?, ?it/s]         \n",
      "fold:   0%|          | 0/5 [00:00<?, ?it/s]\u001b[A\n",
      "fold_1:   0%|          | 0/5 [00:00<?, ?it/s]\u001b[A"
     ]
    },
    {
     "name": "stdout",
     "output_type": "stream",
     "text": [
      "INFO: loaded data info. total-8\n",
      "      subject_01: X(640, 4793), y(640, 1)\n",
      "      subject_03: X(640, 4793), y(640, 1)\n",
      "      subject_04: X(640, 4793), y(640, 1)\n",
      "      subject_05: X(640, 4793), y(640, 1)\n",
      "INFO: loaded voxel mask(46, 55, 46)\n",
      "INFO: loading data done\n",
      "INFO: start running the experiment. ElasticNet(alpha:0.001)\n"
     ]
    },
    {
     "name": "stderr",
     "output_type": "stream",
     "text": [
      "\n",
      "fold_1:  20%|██        | 1/5 [00:12<00:49, 12.31s/it]\u001b[A\n",
      "fold_2:  20%|██        | 1/5 [00:12<00:49, 12.31s/it]\u001b[A\n",
      "fold_2:  40%|████      | 2/5 [00:25<00:37, 12.60s/it]\u001b[A\n",
      "fold_3:  40%|████      | 2/5 [00:25<00:37, 12.60s/it]\u001b[A\n",
      "fold_3:  60%|██████    | 3/5 [00:37<00:24, 12.48s/it]\u001b[A\n",
      "fold_4:  60%|██████    | 3/5 [00:37<00:24, 12.48s/it]\u001b[A"
     ]
    }
   ],
   "source": [
    "from mbmvpa.core.engine import MBMVPA\n",
    "\n",
    "model = MBMVPA(root='tutorial_data/ccsl_prl',\n",
    "           dm_model='prl_fictitious_rp_woa',\n",
    "           task='prl',\n",
    "           process='PEchosen')\n",
    "\n",
    "_ = model.run()"
   ]
  },
  {
   "cell_type": "code",
   "execution_count": null,
   "metadata": {},
   "outputs": [],
   "source": [
    "#model.y_generator.bids_controller.meta_infos['event_path'][0] #_init_df_events_from_bids()"
   ]
  },
  {
   "cell_type": "code",
   "execution_count": null,
   "metadata": {},
   "outputs": [],
   "source": []
  }
 ],
 "metadata": {
  "kernelspec": {
   "display_name": "model-based-fmri-A7ELC43w-py3.7",
   "language": "python",
   "name": "model-based-fmri-a7elc43w-py3.7"
  },
  "language_info": {
   "codemirror_mode": {
    "name": "ipython",
    "version": 3
   },
   "file_extension": ".py",
   "mimetype": "text/x-python",
   "name": "python",
   "nbconvert_exporter": "python",
   "pygments_lexer": "ipython3",
   "version": "3.7.4"
  }
 },
 "nbformat": 4,
 "nbformat_minor": 4
}
