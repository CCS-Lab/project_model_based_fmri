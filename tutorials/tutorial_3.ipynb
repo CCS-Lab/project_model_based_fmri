{
 "cells": [
  {
   "cell_type": "code",
   "execution_count": 1,
   "metadata": {},
   "outputs": [],
   "source": [
    "from mbmvpa.data.loader import BIDSDataLoader"
   ]
  },
  {
   "cell_type": "code",
   "execution_count": 2,
   "metadata": {},
   "outputs": [],
   "source": [
    "root = \"/data2/project_modelbasedMVPA/PRL\"\n",
    "task_name = \"prl\"\n",
    "process_name = \"absrpe\"\n",
    "\n",
    "subjects = ['01','02','03','04','05','06',\n",
    "            '07','08','09','10', '11', '12',\n",
    "            ]"
   ]
  },
  {
   "cell_type": "code",
   "execution_count": 3,
   "metadata": {},
   "outputs": [
    {
     "name": "stderr",
     "output_type": "stream",
     "text": [
      "/home/cheoljun/.cache/pypoetry/virtualenvs/model-based-fmri-A7ELC43w-py3.7/lib/python3.7/site-packages/bids/layout/models.py:152: FutureWarning: The 'extension' entity currently excludes the leading dot ('.'). As of version 0.14.0, it will include the leading dot. To suppress this warning and include the leading dot, use `bids.config.set_option('extension_initial_dot', True)`.\n",
      "  FutureWarning)\n",
      "subject_01:   0%|          | 0/12 [00:00<?, ?it/s]"
     ]
    },
    {
     "name": "stdout",
     "output_type": "stream",
     "text": [
      "INFO: retrieving from BIDS Layout: ...sedMVPA/PRL/derivatives/mbmvpa | Subjects: 47 | Sessions: 47 | Runs: 93\n",
      "      task-None, process-absrpe\n",
      "INFO: start loading data\n"
     ]
    },
    {
     "name": "stderr",
     "output_type": "stream",
     "text": [
      "                                                           \r"
     ]
    },
    {
     "name": "stdout",
     "output_type": "stream",
     "text": [
      "INFO: loaded data info. total-20\n",
      "      subject_01: X(636, 22192), y(636, 1)\n",
      "      subject_03: X(636, 22192), y(636, 1)\n",
      "      subject_04: X(636, 22192), y(636, 1)\n",
      "      subject_05: X(636, 22192), y(636, 1)\n",
      "      subject_07: X(636, 22192), y(636, 1)\n",
      "      subject_08: X(636, 22192), y(636, 1)\n",
      "      subject_09: X(636, 22192), y(636, 1)\n",
      "      subject_10: X(636, 22192), y(636, 1)\n",
      "      subject_11: X(636, 22192), y(636, 1)\n",
      "      subject_12: X(636, 22192), y(636, 1)\n",
      "INFO: loaded voxel mask(46, 55, 46)\n",
      "INFO: loading data done\n"
     ]
    }
   ],
   "source": [
    "loader = BIDSDataLoader(layout=root, \n",
    "                        process_name=process_name, \n",
    "                        subjects=subjects,\n",
    "                        normalizer=\"minmax\")\n",
    "\n",
    "X_dict,y_dict = loader.get_data(subject_wise=True)\n",
    "voxel_mask = loader.get_voxel_mask()"
   ]
  },
  {
   "cell_type": "code",
   "execution_count": null,
   "metadata": {},
   "outputs": [],
   "source": [
    "from mbmvpa.models.mvpa_general import MVPA_CV\n",
    "from mbmvpa.models.elasticnet import MVPA_ElasticNet\n",
    "from mbmvpa.utils.report import build_elasticnet_report_functions\n",
    "\n",
    "report_path = \"ccsl_prl_tutorial\"\n",
    "Path(report_path).mkdir(exist_ok=True)"
   ]
  },
  {
   "cell_type": "code",
   "execution_count": null,
   "metadata": {},
   "outputs": [],
   "source": [
    "model = MVPA_ElasticNet(alpha=0.01,\n",
    "                         n_samples=100000,\n",
    "                         shuffle=True,\n",
    "                         max_lambda=50,\n",
    "                         min_lambda_ratio=1e-4,\n",
    "                         lambda_search_num=100,\n",
    "                         n_jobs=16,\n",
    "                         n_splits=5)\n"
   ]
  },
  {
   "cell_type": "code",
   "execution_count": null,
   "metadata": {},
   "outputs": [],
   "source": [
    "report_function_dict = build_elasticnet_report_functions(voxel_mask,\n",
    "                                                         confidence_interval=.99,\n",
    "                                                         n_coef_plot=150,\n",
    "                                                         task_name=task_name+\"-\"+process_name,\n",
    "                                                         map_type='z',\n",
    "                                                         sigma=1\n",
    "                                                         )"
   ]
  },
  {
   "cell_type": "code",
   "execution_count": null,
   "metadata": {},
   "outputs": [],
   "source": [
    "model_cv = MVPA_CV(X_dict,\n",
    "                    y_dict,\n",
    "                    model,\n",
    "                    model_param_dict={},\n",
    "                    method='5-fold',\n",
    "                    n_cv_repeat=5,\n",
    "                    cv_save=True,\n",
    "                    cv_save_path=report_path,\n",
    "                    task_name=task_name,\n",
    "                    report_function_dict=report_function_dict)\n"
   ]
  },
  {
   "cell_type": "code",
   "execution_count": null,
   "metadata": {},
   "outputs": [],
   "source": [
    "model_cv.run()"
   ]
  }
 ],
 "metadata": {
  "kernelspec": {
   "display_name": "model-based-fmri-A7ELC43w-py3.7",
   "language": "python",
   "name": "model-based-fmri-a7elc43w-py3.7"
  },
  "language_info": {
   "codemirror_mode": {
    "name": "ipython",
    "version": 3
   },
   "file_extension": ".py",
   "mimetype": "text/x-python",
   "name": "python",
   "nbconvert_exporter": "python",
   "pygments_lexer": "ipython3",
   "version": "3.7.4"
  }
 },
 "nbformat": 4,
 "nbformat_minor": 4
}
