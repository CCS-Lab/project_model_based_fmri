{
 "cells": [
  {
   "cell_type": "markdown",
   "metadata": {},
   "source": [
    "# Tutorial"
   ]
  },
  {
   "cell_type": "markdown",
   "metadata": {},
   "source": [
    "This is a tutorial for MB-MVPA using task-fMRI data of Mixed-gamble task by Tom et al., 2007. \n",
    "\n"
   ]
  },
  {
   "cell_type": "markdown",
   "metadata": {},
   "source": [
    "### Import the MB-MVPA libarary."
   ]
  },
  {
   "cell_type": "markdown",
   "metadata": {},
   "source": [
    "Other libraries(nilean, keras, etc..) dosen't need to be imported.<br>\n",
    "Because mb-mvpa has wrapping the libararies.<br>\n",
    "You don't necessarily have to know fMRI libraries like nilearn and machine learning libraries like tensorflow.<br>\n",
    "<b>MB-MVPA is all you need.</b>"
   ]
  },
  {
   "cell_type": "markdown",
   "metadata": {},
   "source": [
    "Most of mb-mvpa are wrapping nilearn, tensorflow, Keras and etc., so warning can occur from that libraries.<br>\n",
    "This page does not print warning because most of them are can be ignored.<br>\n",
    "You don't need to remove the warning when you are actually using it."
   ]
  },
  {
   "cell_type": "code",
   "execution_count": 1,
   "metadata": {},
   "outputs": [],
   "source": [
    "from time import perf_counter"
   ]
  },
  {
   "cell_type": "code",
   "execution_count": 2,
   "metadata": {},
   "outputs": [
    {
     "name": "stderr",
     "output_type": "stream",
     "text": [
      "/home/cheoljun/.cache/pypoetry/virtualenvs/model-based-fmri-A7ELC43w-py3.7/lib/python3.7/site-packages/nilearn/glm/__init__.py:56: FutureWarning: The nilearn.glm module is experimental. It may change in any future release of Nilearn.\n",
      "  'It may change in any future release of Nilearn.', FutureWarning)\n"
     ]
    }
   ],
   "source": [
    "from mbmvpa.preprocessing.preprocess import DataPreprocessor"
   ]
  },
  {
   "cell_type": "markdown",
   "metadata": {},
   "source": [
    "TODO: add original data download link\n",
    "\n",
    "Data download from AWS S3, ~ <b>1GB</b> (would be under the \"Mixed-gamble_task/example_data/\").<br>\n",
    "\n",
    "We provide a small subset (2 subjects) of original Tom's dataset (16 subjects). The fMRI images in the example is preprocessed by conventional fMRI preprocessing pipeline by using \n",
    "[*fmriprep*](https://fmriprep.org/en/stable/) v.20.1.0. Please refer to the [original](https://openneuro.org/datasets/ds000005/versions/00001) for more information."
   ]
  },
  {
   "cell_type": "code",
   "execution_count": 3,
   "metadata": {},
   "outputs": [],
   "source": [
    "#root = load_example_data(\"tom\")\n",
    "root = \"/data2/project_model_based_fmri/piva_dd\"\n",
    "save_path = \"/data2/project_modelbasedMVPA/piva_dd\"\n",
    "mask_path = \"/data2/project_modelbasedMVPA/ds000005/derivatives/fmriprep/masks\""
   ]
  },
  {
   "cell_type": "markdown",
   "metadata": {},
   "source": [
    "### Preprocessing fMRI images and behavioral data"
   ]
  },
  {
   "cell_type": "markdown",
   "metadata": {},
   "source": [
    "MB-MVPA requires primariliy preprocessed task-fMRI experiments data fromatted in conventional [BIDS format](https://bids-specification.readthedocs.io/en/stable/) \n",
    "\n",
    "It expects the following organized files. All the naming conventions used here conform with outputs from *fmriprep* v.20.1.0. by Poldrack lab.\n",
    "\n",
    "The fMRI images are usually located here<br>\n",
    "<i>{BIDS_ROOT}/derivatives/fmriprep/subject/session/run/func/*nii.gz</i><br>\n",
    "And the behavior data are located here<br>\n",
    "<i>{BIDS_ROOT}/subject/session/run/func/*.tsv</i>"
   ]
  },
  {
   "cell_type": "code",
   "execution_count": null,
   "metadata": {},
   "outputs": [],
   "source": []
  },
  {
   "cell_type": "code",
   "execution_count": 4,
   "metadata": {},
   "outputs": [
    {
     "name": "stdout",
     "output_type": "stream",
     "text": [
      "INFO: start loading BIDSLayout\n",
      "INFO: fMRIPrep is loaded\n",
      "INFO: task name is not designated. find most common task name\n",
      "INFO: task_name is SIC\n",
      "INFO: MB-MVPA is added as a new derivative\n",
      "INFO: MB-MVPA is loaded\n",
      "elapsed time: 0.43 minutes\n"
     ]
    }
   ],
   "source": [
    "s = perf_counter()\n",
    "\n",
    "dm_model = \"dd_hyperbolic\"\n",
    "\n",
    "def example_adjust(row):\n",
    "    ## rename data in a row to the name which can match hbayesdm.dd_hyperbolic requirements ##\n",
    "    if row[\"delay_left\"] >= row[\"delay_right\"]:\n",
    "        row[\"delay_later\"] = row[\"delay_left\"]\n",
    "        row[\"delay_sooner\"] = row[\"delay_right\"]\n",
    "        row[\"amount_later\"] = row[\"money_left\"]\n",
    "        row[\"amount_sooner\"] = row[\"money_right\"]\n",
    "        row[\"choice\"] = 1 if row[\"choice\"] == 1 else 0\n",
    "    else:\n",
    "        row[\"delay_later\"] = row[\"delay_right\"]\n",
    "        row[\"delay_sooner\"] = row[\"delay_left\"]\n",
    "        row[\"amount_later\"] = row[\"money_right\"]\n",
    "        row[\"amount_sooner\"] = row[\"money_left\"]\n",
    "        row[\"choice\"] = 1 if row[\"choice\"] == 2 else 0\n",
    "    return row\n",
    "\n",
    "def example_filter(row):\n",
    "    # in the paper, the condition for trial varies in a single run,\n",
    "    # agent == 0 for making a choice for him or herself\n",
    "    # agent == 1 for making a choice for other\n",
    "    # to consider only non-social choice behavior, select only the cases with agent == 0\n",
    "    return row[\"agent\"] == 0\n",
    "\n",
    "\n",
    "def example_latent(row, param_dict):\n",
    "    # calculate subjective utility for choosing later option over sooner option\n",
    "    # hyperbolic discount function is adopted\n",
    "    ev_later = row[\"amount_later\"] / (1 + param_dict[\"k\"] * row[\"delay_later\"])\n",
    "    ev_sooner  = row[\"amount_sooner\"] / (1 + param_dict[\"k\"] * row[\"delay_sooner\"])\n",
    "    modulation = ev_later - ev_sooner\n",
    "    row[\"modulation\"] = modulation\n",
    "    return row\n",
    "\n",
    "\n",
    "\n",
    "preprocessor = DataPreprocessor(bids_layout=root,\n",
    "                               save_path=save_path,\n",
    "                               mask_path=mask_path,\n",
    "                               adjust_function=example_adjust,\n",
    "                               filter_function=example_filter,\n",
    "                               latent_function=example_latent,\n",
    "                               dm_model=dm_model,\n",
    "                               mask_threshold=2.58,\n",
    "                               standardize=True,\n",
    "                               confounds=[],\n",
    "                               high_pass=1/128,\n",
    "                               detrend=False,\n",
    "                               smoothing_fwhm=6, \n",
    "                               zoom=(1,1,1),\n",
    "                               n_core=16)\n",
    "\n",
    "print(f\"elapsed time: {(perf_counter()-s) / 60:.2f} minutes\")"
   ]
  },
  {
   "cell_type": "code",
   "execution_count": null,
   "metadata": {},
   "outputs": [
    {
     "name": "stdout",
     "output_type": "stream",
     "text": [
      "gain_association-test_z_FDR_0.01.nii: 1595/902629\n",
      "gain_association-test_z_FDR_0.01.nii: 1595/902629\n",
      "gain_association-test_z_FDR_0.01.nii: 7378/902629\n",
      "gain_association-test_z_FDR_0.01.nii: 783/902629\n",
      "gain_association-test_z_FDR_0.01.nii: 9764/902629\n",
      "gain_association-test_z_FDR_0.01.nii: 12969/902629\n",
      "integrated mask: 22192/902629\n"
     ]
    },
    {
     "name": "stderr",
     "output_type": "stream",
     "text": [
      "0it [00:00, ?it/s]"
     ]
    }
   ],
   "source": [
    "s = perf_counter()\n",
    "\n",
    "preprocessor.preprocess(overwrite=True,n_core=16)\n",
    "#preprocessor.preprocess(overwrite=False,n_core=16)\n",
    "#preprocessor.X_generator.run(overwrite=True)\n",
    "print(f\"elapsed time: {(perf_counter()-s) / 60:.2f} minutes\")"
   ]
  },
  {
   "cell_type": "code",
   "execution_count": null,
   "metadata": {},
   "outputs": [],
   "source": [
    "preprocessor.summary()"
   ]
  },
  {
   "cell_type": "markdown",
   "metadata": {},
   "source": [
    "### Load data and shape check"
   ]
  },
  {
   "cell_type": "code",
   "execution_count": null,
   "metadata": {},
   "outputs": [],
   "source": [
    "from mbmvpa.data.loader import BIDSDataLoader"
   ]
  },
  {
   "cell_type": "code",
   "execution_count": null,
   "metadata": {},
   "outputs": [],
   "source": [
    "from bids import BIDSLayout"
   ]
  },
  {
   "cell_type": "code",
   "execution_count": null,
   "metadata": {},
   "outputs": [],
   "source": [
    "s = perf_counter()\n",
    "\n",
    "loader = BIDSDataLoader(layout=save_path)\n",
    "X,y = loader.get_data(subject_wise=False)\n",
    "\n",
    "print(f\"elapsed time: {(perf_counter()-s) / 60:.2f} minutes\")"
   ]
  },
  {
   "cell_type": "code",
   "execution_count": null,
   "metadata": {},
   "outputs": [],
   "source": [
    "loader.layout.derivatives"
   ]
  },
  {
   "cell_type": "code",
   "execution_count": null,
   "metadata": {},
   "outputs": [],
   "source": [
    "print(\"X\", X.shape)\n",
    "print(\"y\", y.shape)"
   ]
  },
  {
   "cell_type": "code",
   "execution_count": null,
   "metadata": {},
   "outputs": [],
   "source": [
    "voxel_mask = loader.get_voxel_mask()"
   ]
  },
  {
   "cell_type": "markdown",
   "metadata": {},
   "source": [
    "### Fitting MVPA models & Results"
   ]
  },
  {
   "cell_type": "code",
   "execution_count": null,
   "metadata": {},
   "outputs": [],
   "source": [
    "from mbmvpa.models.mvpa_elasticnet import elasticnet"
   ]
  },
  {
   "cell_type": "code",
   "execution_count": null,
   "metadata": {},
   "outputs": [],
   "source": [
    "s = perf_counter()\n",
    "report = elasticnet(X=X,\n",
    "                  y=y,\n",
    "                  voxel_mask=voxel_mask,\n",
    "                  save_path='.',\n",
    "                  sigma=0,\n",
    "                  n_repeat=2,\n",
    "                  alpha=0.0001,\n",
    "                  max_lambda=100)\n",
    "\n",
    "print(f\"elapsed time: {(perf_counter()-s) / 60:.2f} minutes\")"
   ]
  },
  {
   "cell_type": "code",
   "execution_count": null,
   "metadata": {},
   "outputs": [],
   "source": []
  },
  {
   "cell_type": "code",
   "execution_count": null,
   "metadata": {},
   "outputs": [],
   "source": [
    "from mbmvpa.models.mvpa_elasticnet import elasticnet_crossvalidation"
   ]
  },
  {
   "cell_type": "code",
   "execution_count": null,
   "metadata": {},
   "outputs": [],
   "source": [
    "#loader = BIDSDataLoader(layout=root)\n",
    "X_dict,y_dict = loader.get_data(subject_wise=True)"
   ]
  },
  {
   "cell_type": "code",
   "execution_count": null,
   "metadata": {},
   "outputs": [],
   "source": [
    "import matplotlib.pyplot as plt"
   ]
  },
  {
   "cell_type": "code",
   "execution_count": null,
   "metadata": {},
   "outputs": [],
   "source": [
    "metrics_train.shape"
   ]
  },
  {
   "cell_type": "code",
   "execution_count": null,
   "metadata": {},
   "outputs": [],
   "source": [
    "plt.figure(figsize=(4, 8))\n",
    "plt.boxplot([metrics_train[:,0], metrics_test[:,0]], labels=['train','test'], widths=0.6)\n",
    "plt.ylim(-.1,1.0)"
   ]
  },
  {
   "cell_type": "code",
   "execution_count": null,
   "metadata": {},
   "outputs": [],
   "source": [
    "metrics_train, metrics_test, reports = elasticnet_crossvalidation(X_dict,\n",
    "                                                                       y_dict,\n",
    "                                                                     method='5-fold',\n",
    "                                                                     n_cv_repeat=1,\n",
    "                                                                     n_repeat=1)"
   ]
  },
  {
   "cell_type": "code",
   "execution_count": null,
   "metadata": {},
   "outputs": [],
   "source": []
  },
  {
   "cell_type": "code",
   "execution_count": null,
   "metadata": {},
   "outputs": [],
   "source": [
    "metrics_train, metrics_test, coefs_train = elasticnet_crossvalidation(X_dict,\n",
    "                                                                       y_dict,\n",
    "                                                                     method='loso')"
   ]
  },
  {
   "cell_type": "code",
   "execution_count": null,
   "metadata": {},
   "outputs": [],
   "source": [
    "metrics_test"
   ]
  },
  {
   "cell_type": "code",
   "execution_count": null,
   "metadata": {},
   "outputs": [],
   "source": [
    "metrics_test[:,0]"
   ]
  },
  {
   "cell_type": "code",
   "execution_count": null,
   "metadata": {},
   "outputs": [],
   "source": [
    "metrics_test[:,0][metrics_test[:,1] <0.01]"
   ]
  },
  {
   "cell_type": "code",
   "execution_count": null,
   "metadata": {},
   "outputs": [],
   "source": []
  }
 ],
 "metadata": {
  "kernelspec": {
   "display_name": "model-based-fmri-A7ELC43w-py3.7",
   "language": "python",
   "name": "model-based-fmri-a7elc43w-py3.7"
  },
  "language_info": {
   "codemirror_mode": {
    "name": "ipython",
    "version": 3
   },
   "file_extension": ".py",
   "mimetype": "text/x-python",
   "name": "python",
   "nbconvert_exporter": "python",
   "pygments_lexer": "ipython3",
   "version": "3.7.4"
  }
 },
 "nbformat": 4,
 "nbformat_minor": 4
}
