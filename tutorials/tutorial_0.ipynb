{
 "cells": [
  {
   "cell_type": "code",
   "execution_count": 1,
   "metadata": {},
   "outputs": [],
   "source": [
    "from mbmvpa.preprocessing.bold import VoxelFeatureGenerator"
   ]
  },
  {
   "cell_type": "code",
   "execution_count": 2,
   "metadata": {},
   "outputs": [],
   "source": [
    "root = \"/data2/project_model_based_fmri/piva_dd\"\n",
    "save_path = \"/data2/project_modelbasedMVPA/piva_dd_mbmvpa_zoomed_2\"\n",
    "mask_path = \"/data2/project_modelbasedMVPA/ds000005/derivatives/fmriprep/masks\""
   ]
  },
  {
   "cell_type": "code",
   "execution_count": 3,
   "metadata": {
    "collapsed": true,
    "jupyter": {
     "outputs_hidden": true
    }
   },
   "outputs": [
    {
     "name": "stdout",
     "output_type": "stream",
     "text": [
      "INFO: start loading BIDSLayout\n",
      "INFO: fMRIPrep is loaded\n",
      "INFO: task name is not designated. find most common task name\n",
      "INFO: selected task_name is SIC\n",
      "INFO: MB-MVPA is loaded\n",
      "INFO: 158 file(s) in fMRIPrep.\n"
     ]
    }
   ],
   "source": [
    "X_generator = VoxelFeatureGenerator(bids_layout=root,\n",
    "                                   bids_controller=None,\n",
    "                                   save_path=save_path,\n",
    "                                   task_name=None,\n",
    "                                   fmriprep_name='fMRIPrep',\n",
    "                                   mask_path=mask_path,\n",
    "                                   bold_suffix='bold',\n",
    "                                   confound_suffix='regressors',\n",
    "                                   mask_threshold=2.58,\n",
    "                                   zoom=(2, 2, 2),\n",
    "                                   smoothing_fwhm=None,\n",
    "                                   standardize=True,\n",
    "                                   confounds=[],\n",
    "                                   high_pass=1/128,\n",
    "                                   detrend=False,\n",
    "                                   n_thread=4,\n",
    "                                   ignore_original=True)"
   ]
  },
  {
   "cell_type": "code",
   "execution_count": 4,
   "metadata": {},
   "outputs": [
    {
     "name": "stdout",
     "output_type": "stream",
     "text": [
      "INFO: start loading & intergrating ROI masks\n",
      "      gain_association-test_z_FDR_0.01.nii: 1595/902629\n",
      "      gain_association-test_z_FDR_0.01.nii: 1595/902629\n",
      "      gain_uniformity-test_z_FDR_0.01.nii: 7378/902629\n",
      "      loss_association-test_z_FDR_0.01.nii: 783/902629\n",
      "      loss_uniformity-test_z_FDR_0.01.nii: 9764/902629\n"
     ]
    },
    {
     "name": "stderr",
     "output_type": "stream",
     "text": [
      "[1/40]:   0%|          | 0/40 [00:00<?, ?it/s]"
     ]
    },
    {
     "name": "stdout",
     "output_type": "stream",
     "text": [
      "      reward_association-test_z_FDR_0.01.nii: 12969/902629\n",
      "      integrated mask: 22192/902629\n",
      "      zoomed (2, 2, 2): 2236/116380\n",
      "INFO: start processing 158 fMRI. (nii_img/thread)*(n thread)=4*40. 0 image(s) is(are) skipped.\n"
     ]
    },
    {
     "name": "stderr",
     "output_type": "stream",
     "text": [
      "[40/40]: 100%|██████████| 40/40 [1:01:17<00:00, 91.93s/it]"
     ]
    },
    {
     "name": "stdout",
     "output_type": "stream",
     "text": [
      "INFO: fMRI processing is done.\n"
     ]
    },
    {
     "name": "stderr",
     "output_type": "stream",
     "text": [
      "\n"
     ]
    }
   ],
   "source": [
    "X_generator.run(overwrite=True)"
   ]
  },
  {
   "cell_type": "code",
   "execution_count": null,
   "metadata": {},
   "outputs": [],
   "source": []
  }
 ],
 "metadata": {
  "kernelspec": {
   "display_name": "model-based-fmri-A7ELC43w-py3.7",
   "language": "python",
   "name": "model-based-fmri-a7elc43w-py3.7"
  },
  "language_info": {
   "codemirror_mode": {
    "name": "ipython",
    "version": 3
   },
   "file_extension": ".py",
   "mimetype": "text/x-python",
   "name": "python",
   "nbconvert_exporter": "python",
   "pygments_lexer": "ipython3",
   "version": "3.7.4"
  }
 },
 "nbformat": 4,
 "nbformat_minor": 4
}
