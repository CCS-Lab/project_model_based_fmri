{
 "cells": [
  {
   "cell_type": "code",
   "execution_count": 1,
   "metadata": {},
   "outputs": [
    {
     "name": "stderr",
     "output_type": "stream",
     "text": [
      "/home/cheoljun/.cache/pypoetry/virtualenvs/model-based-fmri-A7ELC43w-py3.7/lib/python3.7/site-packages/nilearn/glm/__init__.py:56: FutureWarning: The nilearn.glm module is experimental. It may change in any future release of Nilearn.\n",
      "  'It may change in any future release of Nilearn.', FutureWarning)\n"
     ]
    }
   ],
   "source": [
    "from mbmvpa.preprocessing.events import LatentProcessGenerator"
   ]
  },
  {
   "cell_type": "code",
   "execution_count": 2,
   "metadata": {},
   "outputs": [],
   "source": [
    "root = \"/data2/project_model_based_fmri/piva_dd\"\n",
    "save_path = \"/data2/project_modelbasedMVPA/piva_dd_mbmvpa_zoomed_2\"\n",
    "mask_path = \"/data2/project_modelbasedMVPA/ds000005/derivatives/fmriprep/masks\""
   ]
  },
  {
   "cell_type": "code",
   "execution_count": 3,
   "metadata": {},
   "outputs": [],
   "source": [
    "dm_model = \"dd_hyperbolic\"\n",
    "\n",
    "def example_adjust(row):\n",
    "    ## rename data in a row to the name which can match hbayesdm.dd_hyperbolic requirements ##\n",
    "    if row[\"delay_left\"] >= row[\"delay_right\"]:\n",
    "        row[\"delay_later\"] = row[\"delay_left\"]\n",
    "        row[\"delay_sooner\"] = row[\"delay_right\"]\n",
    "        row[\"amount_later\"] = row[\"money_left\"]\n",
    "        row[\"amount_sooner\"] = row[\"money_right\"]\n",
    "        row[\"choice\"] = 1 if row[\"choice\"] == 1 else 0\n",
    "    else:\n",
    "        row[\"delay_later\"] = row[\"delay_right\"]\n",
    "        row[\"delay_sooner\"] = row[\"delay_left\"]\n",
    "        row[\"amount_later\"] = row[\"money_right\"]\n",
    "        row[\"amount_sooner\"] = row[\"money_left\"]\n",
    "        row[\"choice\"] = 1 if row[\"choice\"] == 2 else 0\n",
    "    return row\n",
    "\n",
    "def example_filter(row):\n",
    "    # in the paper, the condition for trial varies in a single run,\n",
    "    # agent == 0 for making a choice for him or herself\n",
    "    # agent == 1 for making a choice for other\n",
    "    # to consider only non-social choice behavior, select only the cases with agent == 0\n",
    "    return row[\"agent\"] == 0\n",
    "\n",
    "\n",
    "def example_latent(row, param_dict):\n",
    "    # calculate subjective utility for choosing later option over sooner option\n",
    "    # hyperbolic discount function is adopted\n",
    "    ev_later = row[\"amount_later\"] / (1 + param_dict[\"k\"] * row[\"delay_later\"])\n",
    "    ev_sooner  = row[\"amount_sooner\"] / (1 + param_dict[\"k\"] * row[\"delay_sooner\"])\n",
    "    modulation = ev_later - ev_sooner\n",
    "    row[\"modulation\"] = modulation\n",
    "    return row\n"
   ]
  },
  {
   "cell_type": "code",
   "execution_count": 5,
   "metadata": {},
   "outputs": [
    {
     "name": "stdout",
     "output_type": "stream",
     "text": [
      "INFO: start loading BIDSLayout\n"
     ]
    },
    {
     "name": "stderr",
     "output_type": "stream",
     "text": [
      "/home/cheoljun/.cache/pypoetry/virtualenvs/model-based-fmri-A7ELC43w-py3.7/lib/python3.7/site-packages/bids/layout/models.py:152: FutureWarning: The 'extension' entity currently excludes the leading dot ('.'). As of version 0.14.0, it will include the leading dot. To suppress this warning and include the leading dot, use `bids.config.set_option('extension_initial_dot', True)`.\n",
      "  FutureWarning)\n"
     ]
    },
    {
     "name": "stdout",
     "output_type": "stream",
     "text": [
      "INFO: fMRIPrep is loaded\n",
      "INFO: task name is not designated. find most common task name\n",
      "INFO: selected task_name is SIC\n",
      "INFO: MB-MVPA is loaded\n",
      "INFO: 158 file(s) in Original & fMRIPrep.\n",
      "INFO: individual parameters are loaded\n"
     ]
    }
   ],
   "source": [
    "y_generator = LatentProcessGenerator(bids_layout=root,\n",
    "                                     bids_controller=None,\n",
    "                                     save_path=save_path,\n",
    "                                     task_name=None,\n",
    "                                     process_name=\"subjectiveutility\",\n",
    "                                     adjust_function=example_adjust,\n",
    "                                     filter_function=example_filter,\n",
    "                                     latent_function=example_latent,\n",
    "                                     modulation_dfwise=None,\n",
    "                                     dm_model=dm_model,\n",
    "                                     filter_for_modeling=None,\n",
    "                                     individual_params=None,\n",
    "                                     hrf_model=\"glover\",\n",
    "                                     use_duration=False,\n",
    "                                     n_core=4,\n",
    "                                     ignore_original=False)\n"
   ]
  },
  {
   "cell_type": "code",
   "execution_count": 6,
   "metadata": {},
   "outputs": [
    {
     "name": "stderr",
     "output_type": "stream",
     "text": [
      "1it [00:00,  5.43it/s]"
     ]
    },
    {
     "name": "stdout",
     "output_type": "stream",
     "text": [
      "INFO: indivudal parameters table\n",
      "    subjID         k      beta\n",
      "0        1  0.007130  1.075816\n",
      "1        2  0.035188  0.098425\n",
      "2        3  0.004005  0.715110\n",
      "3        4  0.009414  1.270404\n",
      "4        5  0.002058  1.316499\n",
      "5        6  0.000778  0.765669\n",
      "6        7  0.004329  0.978210\n",
      "7        8  0.006049  0.819824\n",
      "8        9  0.051175  0.975056\n",
      "9       10  0.002009  0.997599\n",
      "10      11  0.002397  1.754058\n",
      "11      12  0.001642  1.471127\n",
      "12      13  0.033747  0.111113\n",
      "13      14  0.000290  0.602368\n",
      "14      15  0.000929  0.941105\n",
      "15      16  0.000826  1.816373\n",
      "16      17  0.000217  1.224327\n",
      "17      18  0.008286  0.623351\n",
      "18      19  0.004227  1.406870\n",
      "19      20  0.015498  1.205835\n",
      "INFO: start processing 158 events.[task SIC, process subjectiveutility]\n"
     ]
    },
    {
     "name": "stderr",
     "output_type": "stream",
     "text": [
      "158it [00:08, 18.00it/s]"
     ]
    },
    {
     "name": "stdout",
     "output_type": "stream",
     "text": [
      "INFO: events processing is done.\n"
     ]
    },
    {
     "name": "stderr",
     "output_type": "stream",
     "text": [
      "\n"
     ]
    }
   ],
   "source": [
    "y_generator.run(overwrite=True)"
   ]
  },
  {
   "cell_type": "code",
   "execution_count": null,
   "metadata": {},
   "outputs": [],
   "source": []
  }
 ],
 "metadata": {
  "kernelspec": {
   "display_name": "model-based-fmri-A7ELC43w-py3.7",
   "language": "python",
   "name": "model-based-fmri-a7elc43w-py3.7"
  },
  "language_info": {
   "codemirror_mode": {
    "name": "ipython",
    "version": 3
   },
   "file_extension": ".py",
   "mimetype": "text/x-python",
   "name": "python",
   "nbconvert_exporter": "python",
   "pygments_lexer": "ipython3",
   "version": "3.7.4"
  }
 },
 "nbformat": 4,
 "nbformat_minor": 4
}
