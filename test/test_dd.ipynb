{
 "cells": [
  {
   "cell_type": "code",
   "execution_count": null,
   "metadata": {},
   "outputs": [],
   "source": [
    "from model_based_mvpa.models.regressor import *\n",
    "from model_based_mvpa.utils.coef2map import *\n",
    "import time\n",
    "\n",
    "prep_path = Path('/data2/project_modelbasedMVPA/temp')\n",
    "data_path_list = [prep_path / f'X_{i:02d}.npy' for i in range(1,21)]\n",
    "\n",
    "X = np.concatenate([np.load(data_path) for data_path in data_path_list],0)\n",
    "\n",
    "y = np.load('/data2/project_model_based_fmri/y_dd.npy',allow_pickle=True)\n",
    "\n",
    "y = np.concatenate(y,0)\n",
    "\n",
    "X = X.reshape(-1,X.shape[-1])\n",
    "y = y.flatten()\n",
    "\n",
    "masked_data = nib.load(prep_path / 'masked_data.nii.gz')\n",
    "\n",
    "print(time.strftime('%c', time.localtime(time.time())))\n",
    "\n",
    "coefs = mlp_regression(X, y,\n",
    "                       layer_dims=[1024, 1024],\n",
    "                       activation_func='linear',\n",
    "                       dropout_rate=0.5,\n",
    "                       epochs=100,\n",
    "                       patience=10,\n",
    "                       batch_size=64,\n",
    "                       N=10,\n",
    "                       verbose=1)\n",
    "\n",
    "task_name = 'piva2019_mlp_10'\n",
    "result = get_map(coefs, masked_data, task_name, map_type='z', save_path='.', smoothing_sigma=1)\n",
    "print(time.strftime('%c', time.localtime(time.time())))\n",
    "\n",
    "coefs = elasticnet(X, y, \n",
    "             alpha=0.001,\n",
    "             n_jobs=16,\n",
    "             N=1,\n",
    "             verbose=1)\n",
    "\n",
    "task_name = 'piva2019_elasticnet_10'\n",
    "result = get_map(coefs, masked_data, task_name, map_type='z', save_path='.', smoothing_sigma=1)\n",
    "print(time.strftime('%c', time.localtime(time.time())))"
   ]
  }
 ],
 "metadata": {
  "kernelspec": {
   "display_name": "Python 3.7 (model_based_fmri)",
   "language": "python",
   "name": "model_based_fmri"
  },
  "language_info": {
   "codemirror_mode": {
    "name": "ipython",
    "version": 3
   },
   "file_extension": ".py",
   "mimetype": "text/x-python",
   "name": "python",
   "nbconvert_exporter": "python",
   "pygments_lexer": "ipython3",
   "version": "3.7.7"
  }
 },
 "nbformat": 4,
 "nbformat_minor": 4
}
