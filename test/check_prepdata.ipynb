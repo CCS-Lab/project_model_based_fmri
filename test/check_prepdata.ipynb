{
 "cells": [
  {
   "cell_type": "code",
   "execution_count": 1,
   "metadata": {},
   "outputs": [],
   "source": [
    "import numpy as np"
   ]
  },
  {
   "cell_type": "code",
   "execution_count": 5,
   "metadata": {},
   "outputs": [],
   "source": [
    "from pathlib import Path"
   ]
  },
  {
   "cell_type": "code",
   "execution_count": 6,
   "metadata": {},
   "outputs": [],
   "source": [
    "prep_path = Path('/data2/project_modelbasedMVPA/temp')"
   ]
  },
  {
   "cell_type": "code",
   "execution_count": 12,
   "metadata": {},
   "outputs": [],
   "source": [
    "data_path_list = [prep_path / f'X_{i:02d}.npy' for i in range(1,21)]"
   ]
  },
  {
   "cell_type": "code",
   "execution_count": 16,
   "metadata": {},
   "outputs": [
    {
     "name": "stdout",
     "output_type": "stream",
     "text": [
      "X_01 :  (8, 219, 32513)\n",
      "X_02 :  (8, 219, 32513)\n",
      "X_03 :  (8, 219, 32513)\n",
      "X_04 :  (8, 219, 32513)\n",
      "X_05 :  (8, 219, 32513)\n",
      "X_06 :  (8, 219, 32513)\n",
      "X_07 :  (6, 219, 32513)\n",
      "X_08 :  (8, 219, 32513)\n",
      "X_09 :  (8, 219, 32513)\n",
      "X_10 :  (8, 219, 32513)\n",
      "X_11 :  (8, 219, 32513)\n",
      "X_12 :  (8, 219, 32513)\n",
      "X_13 :  (8, 219, 32513)\n",
      "X_14 :  (8, 219, 32513)\n",
      "X_15 :  (8, 219, 32513)\n",
      "X_16 :  (8, 219, 32513)\n",
      "X_17 :  (8, 219, 32513)\n",
      "X_18 :  (8, 219, 32513)\n",
      "X_19 :  (8, 219, 32513)\n",
      "X_20 :  (8, 219, 32513)\n"
     ]
    }
   ],
   "source": [
    "for i, data_path in enumerate(data_path_list):\n",
    "    print(f'X_{i+1:02d} : ', np.load(data_path).shape)"
   ]
  },
  {
   "cell_type": "code",
   "execution_count": 7,
   "metadata": {},
   "outputs": [
    {
     "name": "stdout",
     "output_type": "stream",
     "text": [
      "masked_data.nii.gz  X_03.npy  X_07.npy\tX_11.npy  X_15.npy  X_19.npy\n",
      "meta_info.json\t    X_04.npy  X_08.npy\tX_12.npy  X_16.npy  X_20.npy\n",
      "X_01.npy\t    X_05.npy  X_09.npy\tX_13.npy  X_17.npy\n",
      "X_02.npy\t    X_06.npy  X_10.npy\tX_14.npy  X_18.npy\n"
     ]
    }
   ],
   "source": [
    "!ls /data2/project_modelbasedMVPA/temp"
   ]
  },
  {
   "cell_type": "code",
   "execution_count": 9,
   "metadata": {},
   "outputs": [
    {
     "data": {
      "text/plain": [
       "'03'"
      ]
     },
     "execution_count": 9,
     "metadata": {},
     "output_type": "execute_result"
    }
   ],
   "source": [
    "f'{3:02d}'"
   ]
  },
  {
   "cell_type": "code",
   "execution_count": 21,
   "metadata": {},
   "outputs": [
    {
     "name": "stdout",
     "output_type": "stream",
     "text": [
      "sub-07_ses-01_task-SIC_bold.json\n",
      "sub-07_ses-01_task-SIC_run-01_bold.nii.gz\n",
      "sub-07_ses-01_task-SIC_run-01_events.tsv\n",
      "sub-07_ses-01_task-SIC_run-02_bold.nii.gz\n",
      "sub-07_ses-01_task-SIC_run-02_events.tsv\n",
      "sub-07_ses-01_task-SIC_run-03_bold.nii.gz\n",
      "sub-07_ses-01_task-SIC_run-03_events.tsv\n",
      "sub-07_ses-01_task-SIC_run-04_bold.nii.gz\n",
      "sub-07_ses-01_task-SIC_run-04_events.tsv\n",
      "sub-07_ses-01_task-SIC_run-05_bold.nii.gz\n",
      "sub-07_ses-01_task-SIC_run-05_events.tsv\n",
      "sub-07_ses-01_task-SIC_run-06_bold.nii.gz\n",
      "sub-07_ses-01_task-SIC_run-06_events.tsv\n"
     ]
    }
   ],
   "source": [
    "!ls /data2/project_model_based_fmri/piva_dd/sub-07/ses-01/func"
   ]
  },
  {
   "cell_type": "code",
   "execution_count": null,
   "metadata": {},
   "outputs": [],
   "source": [
    "!ls /data2/project_model_based_fmri/piva_dd/sub-07/ses-01/func"
   ]
  }
 ],
 "metadata": {
  "kernelspec": {
   "display_name": "Python 3.7 (model_based_fmri)",
   "language": "python",
   "name": "model_based_fmri"
  },
  "language_info": {
   "codemirror_mode": {
    "name": "ipython",
    "version": 3
   },
   "file_extension": ".py",
   "mimetype": "text/x-python",
   "name": "python",
   "nbconvert_exporter": "python",
   "pygments_lexer": "ipython3",
   "version": "3.7.7"
  }
 },
 "nbformat": 4,
 "nbformat_minor": 4
}
