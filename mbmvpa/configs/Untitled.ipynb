{
 "cells": [
  {
   "cell_type": "code",
   "execution_count": 1,
   "metadata": {},
   "outputs": [],
   "source": [
    "import yaml"
   ]
  },
  {
   "cell_type": "code",
   "execution_count": 18,
   "metadata": {},
   "outputs": [
    {
     "name": "stderr",
     "output_type": "stream",
     "text": [
      "/home/cheoljun/.cache/pypoetry/virtualenvs/model-based-fmri-A7ELC43w-py3.7/lib/python3.7/site-packages/ipykernel_launcher.py:1: YAMLLoadWarning: calling yaml.load() without Loader=... is deprecated, as the default Loader is unsafe. Please read https://msg.pyyaml.org/load for full details.\n",
      "  \"\"\"Entry point for launching an IPython kernel.\n"
     ]
    }
   ],
   "source": [
    "zz = yaml.load(open('default.yaml'))"
   ]
  },
  {
   "cell_type": "code",
   "execution_count": 19,
   "metadata": {},
   "outputs": [
    {
     "data": {
      "text/plain": [
       "{'VOXELFEATURE': {'fmriprep_name': 'fMRIPrep',\n",
       "  'bold_suffix': 'bold',\n",
       "  'confound_suffix': 'regressors',\n",
       "  'mask_threshold': 2.58,\n",
       "  'zoom': [2, 2, 2],\n",
       "  'confounds': None,\n",
       "  'smoothing_fwhm': None,\n",
       "  'standardize': True,\n",
       "  'high_pass': 0.0078,\n",
       "  'detrend': False,\n",
       "  'n_thread': 4},\n",
       " 'LATENTPROCESS': {'hrf_model': 'glover',\n",
       "  'use_duration': False,\n",
       "  'n_core': 4,\n",
       "  'onset_name': 'onset',\n",
       "  'duration_name': 'duration',\n",
       "  'end_name': None,\n",
       "  'use_1sec_duration': True},\n",
       " 'LOADER': {'reconstruct': False,\n",
       "  'normalizer': 'none',\n",
       "  'scale': [-1, 1],\n",
       "  'verbose': 1},\n",
       " 'MVPACV': {'elasticnet': {'alpha': 0.001,\n",
       "   'n_samples': 30000,\n",
       "   'shuffle': True,\n",
       "   'max_lambda': 10,\n",
       "   'min_lambda_ratio': '1e-4',\n",
       "   'lambda_search_num': 100,\n",
       "   'n_jobs': 16,\n",
       "   'n_splits': 5},\n",
       "  'mlp': {'layer_dims': [1024, 1024],\n",
       "   'activation': 'linear',\n",
       "   'activation_output': 'linear',\n",
       "   'dropout_rate': 0.5,\n",
       "   'val_ratio': 0.2,\n",
       "   'optimizer': 'adam',\n",
       "   'learning_rate': 0.001,\n",
       "   'loss': 'mse',\n",
       "   'n_epoch': 50,\n",
       "   'n_patience': 10,\n",
       "   'n_batch': 64,\n",
       "   'n_sample': 30000,\n",
       "   'use_bias': True,\n",
       "   'use_bipolar_balancing': False},\n",
       "  'cnn': {'layer_dims': [8, 16, 32],\n",
       "   'kernel_size': [3, 3, 3],\n",
       "   'logit_layer': 256,\n",
       "   'activation': 'relu',\n",
       "   'activation_output': 'linear',\n",
       "   'dropout_rate': 0.2,\n",
       "   'val_ratio': 0.2,\n",
       "   'optimizer': 'adam',\n",
       "   'loss': 'mse',\n",
       "   'learning_rate': 0.001,\n",
       "   'n_epoch': 50,\n",
       "   'n_patience': 10,\n",
       "   'n_batch': 64,\n",
       "   'n_sample': 30000,\n",
       "   'batch_norm': True,\n",
       "   'use_bipolar_balancing': False}},\n",
       " 'MVPAREPORT': {'elasticnet': {'confidence_interval': 0.99,\n",
       "   'n_coef_plot': 150,\n",
       "   'map_type': 'z',\n",
       "   'sigma': 1},\n",
       "  'mlp': {'map_type': 'z', 'sigma': 1},\n",
       "  'cnn': {'map_type': 'z', 'sigma': 1}}}"
      ]
     },
     "execution_count": 19,
     "metadata": {},
     "output_type": "execute_result"
    }
   ],
   "source": [
    "zz"
   ]
  },
  {
   "cell_type": "code",
   "execution_count": null,
   "metadata": {},
   "outputs": [],
   "source": []
  }
 ],
 "metadata": {
  "kernelspec": {
   "display_name": "model-based-fmri-A7ELC43w-py3.7",
   "language": "python",
   "name": "model-based-fmri-a7elc43w-py3.7"
  },
  "language_info": {
   "codemirror_mode": {
    "name": "ipython",
    "version": 3
   },
   "file_extension": ".py",
   "mimetype": "text/x-python",
   "name": "python",
   "nbconvert_exporter": "python",
   "pygments_lexer": "ipython3",
   "version": "3.7.4"
  }
 },
 "nbformat": 4,
 "nbformat_minor": 4
}
